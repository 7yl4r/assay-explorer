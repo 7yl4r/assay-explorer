{
 "metadata": {
  "name": "",
  "signature": "sha256:2ae0477fe71c07fcadfd6f4198f03773c0718fea47ef7c6089906e39b2460a48"
 },
 "nbformat": 3,
 "nbformat_minor": 0,
 "worksheets": [
  {
   "cells": [
    {
     "cell_type": "markdown",
     "metadata": {},
     "source": [
      "http://nbviewer.ipython.org/github/twistedhardware/mltutorial/blob/master/notebooks/IPython-Tutorial/6%20-%20IPython%20Widgets.ipynb"
     ]
    },
    {
     "cell_type": "code",
     "collapsed": false,
     "input": [
      "import matplotlib.pyplot as plt\n",
      "import numpy as np\n",
      "%matplotlib inline"
     ],
     "language": "python",
     "metadata": {},
     "outputs": [],
     "prompt_number": 2
    },
    {
     "cell_type": "code",
     "collapsed": false,
     "input": [
      "from IPython.html import widgets\n",
      "from IPython.html.widgets import interact, interactive\n",
      "from IPython.display import display"
     ],
     "language": "python",
     "metadata": {},
     "outputs": [],
     "prompt_number": 4
    },
    {
     "cell_type": "code",
     "collapsed": false,
     "input": [
      "tab1_children = [widgets.ButtonWidget(description=\"ButtonWidget\"),\n",
      "                 widgets.CheckboxWidget(description=\"CheckboxWidget\"),\n",
      "                 widgets.DropdownWidget(values=[1, 2], description=\"DropdownWidget\"),\n",
      "                 widgets.RadioButtonsWidget(values=[1, 2], description=\"RadioButtonsWidget\"),\n",
      "                 widgets.SelectWidget(values=[1, 2], description=\"SelectWidget\"),\n",
      "                 widgets.TextWidget(description=\"TextWidget\"),\n",
      "                 widgets.TextareaWidget(description=\"TextareaWidget\"),\n",
      "                 widgets.ToggleButtonWidget(description=\"ToggleButtonWidget\"),\n",
      "                 widgets.ToggleButtonsWidget(values=[\"Value 1\", \"Value2\"], description=\"ToggleButtonsWidget\"),\n",
      "                 ]\n",
      "\n",
      "tab2_children = [widgets.BoundedFloatTextWidget(description=\"BoundedFloatTextWidget\"),\n",
      "                 widgets.BoundedIntTextWidget(description=\"BoundedIntTextWidget\"),\n",
      "                 widgets.FloatSliderWidget(description=\"FloatSliderWidget\"),\n",
      "                 widgets.FloatTextWidget(description=\"FloatTextWidget\"),\n",
      "                 widgets.IntSliderWidget(description=\"IntSliderWidget\"),\n",
      "                 widgets.IntTextWidget(description=\"IntTextWidget\"),\n",
      "                 ]\n",
      "\n",
      "tab1 = widgets.ContainerWidget(children=tab1_children)\n",
      "tab2 = widgets.ContainerWidget(children=tab2_children)\n",
      "\n",
      "\n",
      "i = widgets.AccordionWidget(children=[tab1, tab2])\n",
      "\n",
      "i.set_title(0,\"Basic Widgets\")\n",
      "i.set_title(1,\"Numbers Input\")\n",
      "\n",
      "display(i)"
     ],
     "language": "python",
     "metadata": {},
     "outputs": [],
     "prompt_number": 5
    },
    {
     "cell_type": "code",
     "collapsed": false,
     "input": [
      "i.children[0].children[2]"
     ],
     "language": "python",
     "metadata": {},
     "outputs": [],
     "prompt_number": 17
    },
    {
     "cell_type": "code",
     "collapsed": false,
     "input": [
      "display(i.children[0].children[2].value)"
     ],
     "language": "python",
     "metadata": {},
     "outputs": [
      {
       "metadata": {},
       "output_type": "display_data",
       "text": [
        "2"
       ]
      }
     ],
     "prompt_number": 19
    },
    {
     "cell_type": "code",
     "collapsed": false,
     "input": [
      "def f(x): \n",
      "    print x\n",
      "def g(x): \n",
      "    print x    \n",
      "w = interactive(f, x=(1.0,2.0,0.1))\n",
      "y = interactive(g, x=(1.0,3.0,0.1))"
     ],
     "language": "python",
     "metadata": {},
     "outputs": [],
     "prompt_number": 34
    },
    {
     "cell_type": "code",
     "collapsed": false,
     "input": [
      "w"
     ],
     "language": "python",
     "metadata": {},
     "outputs": [
      {
       "output_type": "stream",
       "stream": "stdout",
       "text": [
        "1.4\n"
       ]
      }
     ],
     "prompt_number": 35
    },
    {
     "cell_type": "code",
     "collapsed": false,
     "input": [
      "widgets.ContainerWidget(children=[w,y])"
     ],
     "language": "python",
     "metadata": {},
     "outputs": [
      {
       "output_type": "stream",
       "stream": "stdout",
       "text": [
        "1.4\n"
       ]
      }
     ],
     "prompt_number": 36
    },
    {
     "cell_type": "code",
     "collapsed": false,
     "input": [],
     "language": "python",
     "metadata": {},
     "outputs": []
    }
   ],
   "metadata": {}
  }
 ]
}