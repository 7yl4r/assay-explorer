{
 "cells": [
  {
   "cell_type": "code",
   "execution_count": 2,
   "metadata": {
    "collapsed": false
   },
   "outputs": [],
   "source": [
    "import sh\n",
    "from toolz import thread_first, compose\n",
    "from operator import getitem"
   ]
  },
  {
   "cell_type": "code",
   "execution_count": 3,
   "metadata": {
    "collapsed": true
   },
   "outputs": [],
   "source": [
    "server = sh.ssh.bake('-i','../my-pair.pem','ubuntu@52.8.164.123')"
   ]
  },
  {
   "cell_type": "code",
   "execution_count": 4,
   "metadata": {
    "collapsed": true
   },
   "outputs": [],
   "source": [
    "def first(x):\n",
    "    return x[0]"
   ]
  },
  {
   "cell_type": "code",
   "execution_count": 13,
   "metadata": {
    "collapsed": false
   },
   "outputs": [],
   "source": [
    "def get_matching_processes(pattern,m=sh):\n",
    "    all_processes = m.ps('-A')\n",
    "    target_processes = m.grep(all_processes,pattern, _ok_code = [0,1]).split('\\n')[:-1]\n",
    "    target_pids = map(compose(int,first,str.split,str),target_processes)\n",
    "    return target_pids"
   ]
  },
  {
   "cell_type": "code",
   "execution_count": 14,
   "metadata": {
    "collapsed": false
   },
   "outputs": [],
   "source": [
    "def kill_pids(pids,m=sh):\n",
    "    for pid in pids:\n",
    "        m.kill(pid)"
   ]
  },
  {
   "cell_type": "code",
   "execution_count": 15,
   "metadata": {
    "collapsed": true
   },
   "outputs": [],
   "source": [
    "def kill_matching_processes(pattern,m=sh):\n",
    "    pids = get_matching_processes(pattern,m)\n",
    "    kill_pids(pids,m=sh)"
   ]
  },
  {
   "cell_type": "code",
   "execution_count": 16,
   "metadata": {
    "collapsed": true
   },
   "outputs": [],
   "source": [
    "#kill_matching_processes(\"ipython\",server)"
   ]
  },
  {
   "cell_type": "code",
   "execution_count": 17,
   "metadata": {
    "collapsed": false
   },
   "outputs": [
    {
     "data": {
      "text/plain": [
       "# On branch master\n",
       "# Changes not staged for commit:\n",
       "#   (use \"git add <file>...\" to update what will be committed)\n",
       "#   (use \"git checkout -- <file>...\" to discard changes in working directory)\n",
       "#\n",
       "#\t\u001b[31mmodified:   test/.ipynb_checkpoints/Main-checkpoint.ipynb\u001b[m\n",
       "#\t\u001b[31mmodified:   test/Main.ipynb\u001b[m\n",
       "#\n",
       "# Untracked files:\n",
       "#   (use \"git add <file>...\" to include in what will be committed)\n",
       "#\n",
       "#\t\u001b[31mtest/.ipynb_checkpoints/Deploy-Copy1-checkpoint.ipynb\u001b[m\n",
       "#\t\u001b[31mtest/.ipynb_checkpoints/Deploy-checkpoint.ipynb\u001b[m\n",
       "#\t\u001b[31mtest/Deploy-Copy1.ipynb\u001b[m\n",
       "#\t\u001b[31mtest/Deploy.ipynb\u001b[m\n",
       "no changes added to commit (use \"git add\" and/or \"git commit -a\")"
      ]
     },
     "execution_count": 17,
     "metadata": {},
     "output_type": "execute_result"
    }
   ],
   "source": [
    "m = sh\n",
    "path = \"/home/carlos/projects/sens/data analysis\"\n",
    "m.cd(path)\n",
    "git fetch --all\n",
    "git reset --hard origin/master\n",
    "#m.git('fetch','--all')\n",
    "#m.git('reset','.')"
   ]
  },
  {
   "cell_type": "code",
   "execution_count": null,
   "metadata": {
    "collapsed": true
   },
   "outputs": [],
   "source": []
  }
 ],
 "metadata": {
  "kernelspec": {
   "display_name": "Python 2",
   "language": "python",
   "name": "python2"
  },
  "language_info": {
   "codemirror_mode": {
    "name": "ipython",
    "version": 2
   },
   "file_extension": ".py",
   "mimetype": "text/x-python",
   "name": "python",
   "nbconvert_exporter": "python",
   "pygments_lexer": "ipython2",
   "version": "2.7.9"
  }
 },
 "nbformat": 4,
 "nbformat_minor": 0
}
