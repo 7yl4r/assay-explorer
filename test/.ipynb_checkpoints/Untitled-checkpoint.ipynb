{
 "cells": [
  {
   "cell_type": "code",
   "execution_count": 1,
   "metadata": {
    "collapsed": true
   },
   "outputs": [],
   "source": [
    "import pandas as pd\n",
    "import numpy as np"
   ]
  },
  {
   "cell_type": "code",
   "execution_count": 90,
   "metadata": {
    "collapsed": true
   },
   "outputs": [],
   "source": [
    "r = lambda n: np.random.random(n)\n",
    "n = 10000\n",
    "x = pd.DataFrame(dict(a = np.floor(r(n) * 10),\n",
    "                      b = r(n),\n",
    "                      c = r(n)))"
   ]
  },
  {
   "cell_type": "code",
   "execution_count": 26,
   "metadata": {
    "collapsed": false
   },
   "outputs": [],
   "source": [
    "gs = x.groupby('a')"
   ]
  },
  {
   "cell_type": "code",
   "execution_count": 27,
   "metadata": {
    "collapsed": false
   },
   "outputs": [
    {
     "name": "stdout",
     "output_type": "stream",
     "text": [
      "0.0 1043\n",
      "1.0 1029\n",
      "2.0 996\n",
      "3.0 1024\n",
      "4.0 1002\n",
      "5.0 1009\n",
      "6.0 1037\n",
      "7.0 954\n",
      "8.0 958\n",
      "9.0 948\n"
     ]
    }
   ],
   "source": [
    "for gname,g in gs: \n",
    "    print gname,len(g)"
   ]
  },
  {
   "cell_type": "code",
   "execution_count": null,
   "metadata": {
    "collapsed": true
   },
   "outputs": [],
   "source": []
  },
  {
   "cell_type": "code",
   "execution_count": 56,
   "metadata": {
    "collapsed": false
   },
   "outputs": [
    {
     "data": {
      "text/plain": [
       "array([ 1.00399203,  0.15359861,  0.14532435])"
      ]
     },
     "execution_count": 56,
     "metadata": {},
     "output_type": "execute_result"
    }
   ],
   "source": [
    "import scipy.stats as stats\n",
    "stats.sem(x.head().values, axis=0,ddof=0)"
   ]
  },
  {
   "cell_type": "code",
   "execution_count": 60,
   "metadata": {
    "collapsed": true
   },
   "outputs": [],
   "source": [
    "from toolz import thread_first,curry"
   ]
  },
  {
   "cell_type": "code",
   "execution_count": 61,
   "metadata": {
    "collapsed": true
   },
   "outputs": [],
   "source": [
    "def curry_funcs(funcs):\n",
    "  for func in funcs:\n",
    "    try: \n",
    "      exec('global {}; {} = curry({})'.format(*[func]*3))\n",
    "    except:\n",
    "      exec('{} = curry({})'.format(*[func]*2))\n"
   ]
  },
  {
   "cell_type": "code",
   "execution_count": 64,
   "metadata": {
    "collapsed": false
   },
   "outputs": [
    {
     "data": {
      "text/plain": [
       "3"
      ]
     },
     "execution_count": 64,
     "metadata": {},
     "output_type": "execute_result"
    }
   ],
   "source": [
    "np.size([1,2,3])"
   ]
  },
  {
   "cell_type": "code",
   "execution_count": 65,
   "metadata": {
    "collapsed": true
   },
   "outputs": [],
   "source": [
    "curry_funcs(['stats.sem',\n",
    "             'np.std',\n",
    "             'np.mean',\n",
    "             'np.min',\n",
    "             'np.max',\n",
    "             'np.size'])"
   ]
  },
  {
   "cell_type": "code",
   "execution_count": 87,
   "metadata": {
    "collapsed": true
   },
   "outputs": [],
   "source": [
    "x = np.random.random([3,3])"
   ]
  },
  {
   "cell_type": "code",
   "execution_count": 88,
   "metadata": {
    "collapsed": false
   },
   "outputs": [
    {
     "data": {
      "text/plain": [
       "array([['a', '0.0272103200056', '0.138869669707', '0.386977526402'],\n",
       "       ['b', '0.936051925366', '0.0983959763068', '0.787599547742'],\n",
       "       ['c', '0.907877425308', '0.655666626284', '0.764212345064']], \n",
       "      dtype='|S32')"
      ]
     },
     "execution_count": 88,
     "metadata": {},
     "output_type": "execute_result"
    }
   ],
   "source": [
    "y = np.array([['a','b','c']]).T\n",
    "np.concatenate([y,x],axis=1)"
   ]
  },
  {
   "cell_type": "code",
   "execution_count": 105,
   "metadata": {
    "collapsed": false
   },
   "outputs": [],
   "source": [
    "funcs = [stats.sem(ddof=0),\n",
    "         np.std,\n",
    "         np.mean,\n",
    "         np.min,\n",
    "         np.max,\n",
    "         np.size]\n",
    "\n",
    "# type 1D-Array = [Num]\n",
    "# type 2D-Arry = [[Num]]\n",
    "# DataFrame -> [(2D-Array -> 1D-Array)] -> Names -> DataFrame\n",
    "def summarize(dataframe, funcs, names):\n",
    "    data = dataframe.values\n",
    "    return np.vstack(tuple([f(data,axis=0) for f in funcs]))\n",
    "                        "
   ]
  },
  {
   "cell_type": "code",
   "execution_count": null,
   "metadata": {
    "collapsed": true
   },
   "outputs": [],
   "source": []
  },
  {
   "cell_type": "code",
   "execution_count": 106,
   "metadata": {
    "collapsed": false
   },
   "outputs": [
    {
     "ename": "ValueError",
     "evalue": "all the input array dimensions except for the concatenation axis must match exactly",
     "output_type": "error",
     "traceback": [
      "\u001b[1;31m---------------------------------------------------------------------------\u001b[0m",
      "\u001b[1;31mValueError\u001b[0m                                Traceback (most recent call last)",
      "\u001b[1;32m<ipython-input-106-dae56b9d5c90>\u001b[0m in \u001b[0;36m<module>\u001b[1;34m()\u001b[0m\n\u001b[1;32m----> 1\u001b[1;33m \u001b[0msummarize\u001b[0m\u001b[1;33m(\u001b[0m\u001b[0mx\u001b[0m\u001b[1;33m,\u001b[0m\u001b[0mfuncs\u001b[0m\u001b[1;33m,\u001b[0m\u001b[1;33m[\u001b[0m\u001b[1;34m's'\u001b[0m\u001b[1;33m]\u001b[0m\u001b[1;33m)\u001b[0m\u001b[1;33m\u001b[0m\u001b[0m\n\u001b[0m",
      "\u001b[1;32m<ipython-input-105-37cd56509c01>\u001b[0m in \u001b[0;36msummarize\u001b[1;34m(dataframe, funcs, names)\u001b[0m\n\u001b[0;32m     11\u001b[0m \u001b[1;32mdef\u001b[0m \u001b[0msummarize\u001b[0m\u001b[1;33m(\u001b[0m\u001b[0mdataframe\u001b[0m\u001b[1;33m,\u001b[0m \u001b[0mfuncs\u001b[0m\u001b[1;33m,\u001b[0m \u001b[0mnames\u001b[0m\u001b[1;33m)\u001b[0m\u001b[1;33m:\u001b[0m\u001b[1;33m\u001b[0m\u001b[0m\n\u001b[0;32m     12\u001b[0m     \u001b[0mdata\u001b[0m \u001b[1;33m=\u001b[0m \u001b[0mdataframe\u001b[0m\u001b[1;33m.\u001b[0m\u001b[0mvalues\u001b[0m\u001b[1;33m\u001b[0m\u001b[0m\n\u001b[1;32m---> 13\u001b[1;33m     \u001b[1;32mreturn\u001b[0m \u001b[0mnp\u001b[0m\u001b[1;33m.\u001b[0m\u001b[0mvstack\u001b[0m\u001b[1;33m(\u001b[0m\u001b[0mtuple\u001b[0m\u001b[1;33m(\u001b[0m\u001b[1;33m[\u001b[0m\u001b[0mf\u001b[0m\u001b[1;33m(\u001b[0m\u001b[0mdata\u001b[0m\u001b[1;33m,\u001b[0m\u001b[0maxis\u001b[0m\u001b[1;33m=\u001b[0m\u001b[1;36m0\u001b[0m\u001b[1;33m)\u001b[0m \u001b[1;32mfor\u001b[0m \u001b[0mf\u001b[0m \u001b[1;32min\u001b[0m \u001b[0mfuncs\u001b[0m\u001b[1;33m]\u001b[0m\u001b[1;33m)\u001b[0m\u001b[1;33m)\u001b[0m\u001b[1;33m\u001b[0m\u001b[0m\n\u001b[0m\u001b[0;32m     14\u001b[0m \u001b[1;33m\u001b[0m\u001b[0m\n",
      "\u001b[1;32m/home/carlos/anaconda/lib/python2.7/site-packages/numpy/core/shape_base.pyc\u001b[0m in \u001b[0;36mvstack\u001b[1;34m(tup)\u001b[0m\n\u001b[0;32m    226\u001b[0m \u001b[1;33m\u001b[0m\u001b[0m\n\u001b[0;32m    227\u001b[0m     \"\"\"\n\u001b[1;32m--> 228\u001b[1;33m     \u001b[1;32mreturn\u001b[0m \u001b[0m_nx\u001b[0m\u001b[1;33m.\u001b[0m\u001b[0mconcatenate\u001b[0m\u001b[1;33m(\u001b[0m\u001b[1;33m[\u001b[0m\u001b[0matleast_2d\u001b[0m\u001b[1;33m(\u001b[0m\u001b[0m_m\u001b[0m\u001b[1;33m)\u001b[0m \u001b[1;32mfor\u001b[0m \u001b[0m_m\u001b[0m \u001b[1;32min\u001b[0m \u001b[0mtup\u001b[0m\u001b[1;33m]\u001b[0m\u001b[1;33m,\u001b[0m \u001b[1;36m0\u001b[0m\u001b[1;33m)\u001b[0m\u001b[1;33m\u001b[0m\u001b[0m\n\u001b[0m\u001b[0;32m    229\u001b[0m \u001b[1;33m\u001b[0m\u001b[0m\n\u001b[0;32m    230\u001b[0m \u001b[1;32mdef\u001b[0m \u001b[0mhstack\u001b[0m\u001b[1;33m(\u001b[0m\u001b[0mtup\u001b[0m\u001b[1;33m)\u001b[0m\u001b[1;33m:\u001b[0m\u001b[1;33m\u001b[0m\u001b[0m\n",
      "\u001b[1;31mValueError\u001b[0m: all the input array dimensions except for the concatenation axis must match exactly"
     ]
    }
   ],
   "source": [
    "summarize(x,funcs,['s'])"
   ]
  },
  {
   "cell_type": "code",
   "execution_count": null,
   "metadata": {
    "collapsed": true
   },
   "outputs": [],
   "source": [
    "def group_apply(group):\n",
    "    "
   ]
  },
  {
   "cell_type": "code",
   "execution_count": 36,
   "metadata": {
    "collapsed": false
   },
   "outputs": [
    {
     "ename": "IndexError",
     "evalue": "tuple index out of range",
     "output_type": "error",
     "traceback": [
      "\u001b[1;31m---------------------------------------------------------------------------\u001b[0m",
      "\u001b[1;31mIndexError\u001b[0m                                Traceback (most recent call last)",
      "\u001b[1;32m<ipython-input-36-a924c68c8096>\u001b[0m in \u001b[0;36m<module>\u001b[1;34m()\u001b[0m\n\u001b[1;32m----> 1\u001b[1;33m \u001b[0mmap\u001b[0m\u001b[1;33m(\u001b[0m\u001b[1;32mlambda\u001b[0m \u001b[0mx\u001b[0m\u001b[1;33m:\u001b[0m \u001b[0mx\u001b[0m\u001b[1;33m[\u001b[0m\u001b[1;36m2\u001b[0m\u001b[1;33m]\u001b[0m\u001b[1;33m,\u001b[0m\u001b[0mgs\u001b[0m\u001b[1;33m)\u001b[0m\u001b[1;33m\u001b[0m\u001b[0m\n\u001b[0m",
      "\u001b[1;32m<ipython-input-36-a924c68c8096>\u001b[0m in \u001b[0;36m<lambda>\u001b[1;34m(x)\u001b[0m\n\u001b[1;32m----> 1\u001b[1;33m \u001b[0mmap\u001b[0m\u001b[1;33m(\u001b[0m\u001b[1;32mlambda\u001b[0m \u001b[0mx\u001b[0m\u001b[1;33m:\u001b[0m \u001b[0mx\u001b[0m\u001b[1;33m[\u001b[0m\u001b[1;36m2\u001b[0m\u001b[1;33m]\u001b[0m\u001b[1;33m,\u001b[0m\u001b[0mgs\u001b[0m\u001b[1;33m)\u001b[0m\u001b[1;33m\u001b[0m\u001b[0m\n\u001b[0m",
      "\u001b[1;31mIndexError\u001b[0m: tuple index out of range"
     ]
    }
   ],
   "source": [
    "map(lambda x: x[1],gs)"
   ]
  },
  {
   "cell_type": "code",
   "execution_count": 31,
   "metadata": {
    "collapsed": true
   },
   "outputs": [],
   "source": [
    "def add_constant_col(dataframe,name = \"\",val = \"\"):\n",
    "    new_dataframe = dataframe.copy()\n",
    "    new_dataframe[name] = val\n",
    "    return new_dataframe"
   ]
  },
  {
   "cell_type": "code",
   "execution_count": 32,
   "metadata": {
    "collapsed": false
   },
   "outputs": [
    {
     "data": {
      "text/html": [
       "<div style=\"max-height:1000px;max-width:1500px;overflow:auto;\">\n",
       "<table border=\"1\" class=\"dataframe\">\n",
       "  <thead>\n",
       "    <tr style=\"text-align: right;\">\n",
       "      <th></th>\n",
       "      <th>a</th>\n",
       "      <th>b</th>\n",
       "      <th>c</th>\n",
       "      <th>bob</th>\n",
       "    </tr>\n",
       "  </thead>\n",
       "  <tbody>\n",
       "    <tr>\n",
       "      <th>0   </th>\n",
       "      <td> 0</td>\n",
       "      <td> 0.780028</td>\n",
       "      <td> 0.331236</td>\n",
       "      <td> santa</td>\n",
       "    </tr>\n",
       "    <tr>\n",
       "      <th>1   </th>\n",
       "      <td> 4</td>\n",
       "      <td> 0.001477</td>\n",
       "      <td> 0.177038</td>\n",
       "      <td> santa</td>\n",
       "    </tr>\n",
       "    <tr>\n",
       "      <th>2   </th>\n",
       "      <td> 7</td>\n",
       "      <td> 0.553691</td>\n",
       "      <td> 0.929238</td>\n",
       "      <td> santa</td>\n",
       "    </tr>\n",
       "    <tr>\n",
       "      <th>3   </th>\n",
       "      <td> 3</td>\n",
       "      <td> 0.284791</td>\n",
       "      <td> 0.451306</td>\n",
       "      <td> santa</td>\n",
       "    </tr>\n",
       "    <tr>\n",
       "      <th>4   </th>\n",
       "      <td> 3</td>\n",
       "      <td> 0.963765</td>\n",
       "      <td> 0.986582</td>\n",
       "      <td> santa</td>\n",
       "    </tr>\n",
       "    <tr>\n",
       "      <th>5   </th>\n",
       "      <td> 7</td>\n",
       "      <td> 0.624703</td>\n",
       "      <td> 0.737163</td>\n",
       "      <td> santa</td>\n",
       "    </tr>\n",
       "    <tr>\n",
       "      <th>6   </th>\n",
       "      <td> 3</td>\n",
       "      <td> 0.028202</td>\n",
       "      <td> 0.478833</td>\n",
       "      <td> santa</td>\n",
       "    </tr>\n",
       "    <tr>\n",
       "      <th>7   </th>\n",
       "      <td> 4</td>\n",
       "      <td> 0.669904</td>\n",
       "      <td> 0.314751</td>\n",
       "      <td> santa</td>\n",
       "    </tr>\n",
       "    <tr>\n",
       "      <th>8   </th>\n",
       "      <td> 7</td>\n",
       "      <td> 0.058020</td>\n",
       "      <td> 0.904912</td>\n",
       "      <td> santa</td>\n",
       "    </tr>\n",
       "    <tr>\n",
       "      <th>9   </th>\n",
       "      <td> 3</td>\n",
       "      <td> 0.681391</td>\n",
       "      <td> 0.656802</td>\n",
       "      <td> santa</td>\n",
       "    </tr>\n",
       "    <tr>\n",
       "      <th>10  </th>\n",
       "      <td> 6</td>\n",
       "      <td> 0.472693</td>\n",
       "      <td> 0.120065</td>\n",
       "      <td> santa</td>\n",
       "    </tr>\n",
       "    <tr>\n",
       "      <th>11  </th>\n",
       "      <td> 3</td>\n",
       "      <td> 0.025320</td>\n",
       "      <td> 0.337509</td>\n",
       "      <td> santa</td>\n",
       "    </tr>\n",
       "    <tr>\n",
       "      <th>12  </th>\n",
       "      <td> 4</td>\n",
       "      <td> 0.724976</td>\n",
       "      <td> 0.263331</td>\n",
       "      <td> santa</td>\n",
       "    </tr>\n",
       "    <tr>\n",
       "      <th>13  </th>\n",
       "      <td> 4</td>\n",
       "      <td> 0.103849</td>\n",
       "      <td> 0.692495</td>\n",
       "      <td> santa</td>\n",
       "    </tr>\n",
       "    <tr>\n",
       "      <th>14  </th>\n",
       "      <td> 2</td>\n",
       "      <td> 0.464571</td>\n",
       "      <td> 0.082461</td>\n",
       "      <td> santa</td>\n",
       "    </tr>\n",
       "    <tr>\n",
       "      <th>15  </th>\n",
       "      <td> 2</td>\n",
       "      <td> 0.167278</td>\n",
       "      <td> 0.878907</td>\n",
       "      <td> santa</td>\n",
       "    </tr>\n",
       "    <tr>\n",
       "      <th>16  </th>\n",
       "      <td> 6</td>\n",
       "      <td> 0.473172</td>\n",
       "      <td> 0.968103</td>\n",
       "      <td> santa</td>\n",
       "    </tr>\n",
       "    <tr>\n",
       "      <th>17  </th>\n",
       "      <td> 7</td>\n",
       "      <td> 0.557169</td>\n",
       "      <td> 0.127387</td>\n",
       "      <td> santa</td>\n",
       "    </tr>\n",
       "    <tr>\n",
       "      <th>18  </th>\n",
       "      <td> 8</td>\n",
       "      <td> 0.179263</td>\n",
       "      <td> 0.875374</td>\n",
       "      <td> santa</td>\n",
       "    </tr>\n",
       "    <tr>\n",
       "      <th>19  </th>\n",
       "      <td> 8</td>\n",
       "      <td> 0.457730</td>\n",
       "      <td> 0.970266</td>\n",
       "      <td> santa</td>\n",
       "    </tr>\n",
       "    <tr>\n",
       "      <th>20  </th>\n",
       "      <td> 9</td>\n",
       "      <td> 0.743159</td>\n",
       "      <td> 0.722860</td>\n",
       "      <td> santa</td>\n",
       "    </tr>\n",
       "    <tr>\n",
       "      <th>21  </th>\n",
       "      <td> 0</td>\n",
       "      <td> 0.988223</td>\n",
       "      <td> 0.186183</td>\n",
       "      <td> santa</td>\n",
       "    </tr>\n",
       "    <tr>\n",
       "      <th>22  </th>\n",
       "      <td> 1</td>\n",
       "      <td> 0.478593</td>\n",
       "      <td> 0.634497</td>\n",
       "      <td> santa</td>\n",
       "    </tr>\n",
       "    <tr>\n",
       "      <th>23  </th>\n",
       "      <td> 5</td>\n",
       "      <td> 0.510009</td>\n",
       "      <td> 0.705482</td>\n",
       "      <td> santa</td>\n",
       "    </tr>\n",
       "    <tr>\n",
       "      <th>24  </th>\n",
       "      <td> 4</td>\n",
       "      <td> 0.056430</td>\n",
       "      <td> 0.410821</td>\n",
       "      <td> santa</td>\n",
       "    </tr>\n",
       "    <tr>\n",
       "      <th>25  </th>\n",
       "      <td> 9</td>\n",
       "      <td> 0.589843</td>\n",
       "      <td> 0.922942</td>\n",
       "      <td> santa</td>\n",
       "    </tr>\n",
       "    <tr>\n",
       "      <th>26  </th>\n",
       "      <td> 9</td>\n",
       "      <td> 0.557656</td>\n",
       "      <td> 0.169421</td>\n",
       "      <td> santa</td>\n",
       "    </tr>\n",
       "    <tr>\n",
       "      <th>27  </th>\n",
       "      <td> 4</td>\n",
       "      <td> 0.389214</td>\n",
       "      <td> 0.610949</td>\n",
       "      <td> santa</td>\n",
       "    </tr>\n",
       "    <tr>\n",
       "      <th>28  </th>\n",
       "      <td> 4</td>\n",
       "      <td> 0.836634</td>\n",
       "      <td> 0.304412</td>\n",
       "      <td> santa</td>\n",
       "    </tr>\n",
       "    <tr>\n",
       "      <th>29  </th>\n",
       "      <td> 6</td>\n",
       "      <td> 0.846483</td>\n",
       "      <td> 0.549242</td>\n",
       "      <td> santa</td>\n",
       "    </tr>\n",
       "    <tr>\n",
       "      <th>...</th>\n",
       "      <td>...</td>\n",
       "      <td>...</td>\n",
       "      <td>...</td>\n",
       "      <td>...</td>\n",
       "    </tr>\n",
       "    <tr>\n",
       "      <th>9970</th>\n",
       "      <td> 4</td>\n",
       "      <td> 0.705189</td>\n",
       "      <td> 0.135340</td>\n",
       "      <td> santa</td>\n",
       "    </tr>\n",
       "    <tr>\n",
       "      <th>9971</th>\n",
       "      <td> 6</td>\n",
       "      <td> 0.674038</td>\n",
       "      <td> 0.872456</td>\n",
       "      <td> santa</td>\n",
       "    </tr>\n",
       "    <tr>\n",
       "      <th>9972</th>\n",
       "      <td> 6</td>\n",
       "      <td> 0.233867</td>\n",
       "      <td> 0.589366</td>\n",
       "      <td> santa</td>\n",
       "    </tr>\n",
       "    <tr>\n",
       "      <th>9973</th>\n",
       "      <td> 8</td>\n",
       "      <td> 0.113284</td>\n",
       "      <td> 0.118583</td>\n",
       "      <td> santa</td>\n",
       "    </tr>\n",
       "    <tr>\n",
       "      <th>9974</th>\n",
       "      <td> 2</td>\n",
       "      <td> 0.222940</td>\n",
       "      <td> 0.979511</td>\n",
       "      <td> santa</td>\n",
       "    </tr>\n",
       "    <tr>\n",
       "      <th>9975</th>\n",
       "      <td> 6</td>\n",
       "      <td> 0.337327</td>\n",
       "      <td> 0.948983</td>\n",
       "      <td> santa</td>\n",
       "    </tr>\n",
       "    <tr>\n",
       "      <th>9976</th>\n",
       "      <td> 5</td>\n",
       "      <td> 0.059576</td>\n",
       "      <td> 0.585028</td>\n",
       "      <td> santa</td>\n",
       "    </tr>\n",
       "    <tr>\n",
       "      <th>9977</th>\n",
       "      <td> 4</td>\n",
       "      <td> 0.822464</td>\n",
       "      <td> 0.847843</td>\n",
       "      <td> santa</td>\n",
       "    </tr>\n",
       "    <tr>\n",
       "      <th>9978</th>\n",
       "      <td> 0</td>\n",
       "      <td> 0.094796</td>\n",
       "      <td> 0.564448</td>\n",
       "      <td> santa</td>\n",
       "    </tr>\n",
       "    <tr>\n",
       "      <th>9979</th>\n",
       "      <td> 3</td>\n",
       "      <td> 0.372257</td>\n",
       "      <td> 0.420496</td>\n",
       "      <td> santa</td>\n",
       "    </tr>\n",
       "    <tr>\n",
       "      <th>9980</th>\n",
       "      <td> 3</td>\n",
       "      <td> 0.393502</td>\n",
       "      <td> 0.460309</td>\n",
       "      <td> santa</td>\n",
       "    </tr>\n",
       "    <tr>\n",
       "      <th>9981</th>\n",
       "      <td> 0</td>\n",
       "      <td> 0.429954</td>\n",
       "      <td> 0.895295</td>\n",
       "      <td> santa</td>\n",
       "    </tr>\n",
       "    <tr>\n",
       "      <th>9982</th>\n",
       "      <td> 1</td>\n",
       "      <td> 0.798561</td>\n",
       "      <td> 0.022870</td>\n",
       "      <td> santa</td>\n",
       "    </tr>\n",
       "    <tr>\n",
       "      <th>9983</th>\n",
       "      <td> 8</td>\n",
       "      <td> 0.463420</td>\n",
       "      <td> 0.655744</td>\n",
       "      <td> santa</td>\n",
       "    </tr>\n",
       "    <tr>\n",
       "      <th>9984</th>\n",
       "      <td> 7</td>\n",
       "      <td> 0.204841</td>\n",
       "      <td> 0.663939</td>\n",
       "      <td> santa</td>\n",
       "    </tr>\n",
       "    <tr>\n",
       "      <th>9985</th>\n",
       "      <td> 4</td>\n",
       "      <td> 0.742207</td>\n",
       "      <td> 0.437772</td>\n",
       "      <td> santa</td>\n",
       "    </tr>\n",
       "    <tr>\n",
       "      <th>9986</th>\n",
       "      <td> 3</td>\n",
       "      <td> 0.121835</td>\n",
       "      <td> 0.700058</td>\n",
       "      <td> santa</td>\n",
       "    </tr>\n",
       "    <tr>\n",
       "      <th>9987</th>\n",
       "      <td> 8</td>\n",
       "      <td> 0.111194</td>\n",
       "      <td> 0.443552</td>\n",
       "      <td> santa</td>\n",
       "    </tr>\n",
       "    <tr>\n",
       "      <th>9988</th>\n",
       "      <td> 6</td>\n",
       "      <td> 0.795797</td>\n",
       "      <td> 0.105005</td>\n",
       "      <td> santa</td>\n",
       "    </tr>\n",
       "    <tr>\n",
       "      <th>9989</th>\n",
       "      <td> 6</td>\n",
       "      <td> 0.181615</td>\n",
       "      <td> 0.045577</td>\n",
       "      <td> santa</td>\n",
       "    </tr>\n",
       "    <tr>\n",
       "      <th>9990</th>\n",
       "      <td> 5</td>\n",
       "      <td> 0.377055</td>\n",
       "      <td> 0.090476</td>\n",
       "      <td> santa</td>\n",
       "    </tr>\n",
       "    <tr>\n",
       "      <th>9991</th>\n",
       "      <td> 3</td>\n",
       "      <td> 0.022235</td>\n",
       "      <td> 0.227733</td>\n",
       "      <td> santa</td>\n",
       "    </tr>\n",
       "    <tr>\n",
       "      <th>9992</th>\n",
       "      <td> 8</td>\n",
       "      <td> 0.663408</td>\n",
       "      <td> 0.159869</td>\n",
       "      <td> santa</td>\n",
       "    </tr>\n",
       "    <tr>\n",
       "      <th>9993</th>\n",
       "      <td> 5</td>\n",
       "      <td> 0.866957</td>\n",
       "      <td> 0.016931</td>\n",
       "      <td> santa</td>\n",
       "    </tr>\n",
       "    <tr>\n",
       "      <th>9994</th>\n",
       "      <td> 8</td>\n",
       "      <td> 0.195410</td>\n",
       "      <td> 0.303533</td>\n",
       "      <td> santa</td>\n",
       "    </tr>\n",
       "    <tr>\n",
       "      <th>9995</th>\n",
       "      <td> 9</td>\n",
       "      <td> 0.764715</td>\n",
       "      <td> 0.350944</td>\n",
       "      <td> santa</td>\n",
       "    </tr>\n",
       "    <tr>\n",
       "      <th>9996</th>\n",
       "      <td> 9</td>\n",
       "      <td> 0.571417</td>\n",
       "      <td> 0.429882</td>\n",
       "      <td> santa</td>\n",
       "    </tr>\n",
       "    <tr>\n",
       "      <th>9997</th>\n",
       "      <td> 8</td>\n",
       "      <td> 0.080063</td>\n",
       "      <td> 0.363533</td>\n",
       "      <td> santa</td>\n",
       "    </tr>\n",
       "    <tr>\n",
       "      <th>9998</th>\n",
       "      <td> 2</td>\n",
       "      <td> 0.458752</td>\n",
       "      <td> 0.504281</td>\n",
       "      <td> santa</td>\n",
       "    </tr>\n",
       "    <tr>\n",
       "      <th>9999</th>\n",
       "      <td> 7</td>\n",
       "      <td> 0.982566</td>\n",
       "      <td> 0.741969</td>\n",
       "      <td> santa</td>\n",
       "    </tr>\n",
       "  </tbody>\n",
       "</table>\n",
       "<p>10000 rows × 4 columns</p>\n",
       "</div>"
      ],
      "text/plain": [
       "      a         b         c    bob\n",
       "0     0  0.780028  0.331236  santa\n",
       "1     4  0.001477  0.177038  santa\n",
       "2     7  0.553691  0.929238  santa\n",
       "3     3  0.284791  0.451306  santa\n",
       "4     3  0.963765  0.986582  santa\n",
       "5     7  0.624703  0.737163  santa\n",
       "6     3  0.028202  0.478833  santa\n",
       "7     4  0.669904  0.314751  santa\n",
       "8     7  0.058020  0.904912  santa\n",
       "9     3  0.681391  0.656802  santa\n",
       "10    6  0.472693  0.120065  santa\n",
       "11    3  0.025320  0.337509  santa\n",
       "12    4  0.724976  0.263331  santa\n",
       "13    4  0.103849  0.692495  santa\n",
       "14    2  0.464571  0.082461  santa\n",
       "15    2  0.167278  0.878907  santa\n",
       "16    6  0.473172  0.968103  santa\n",
       "17    7  0.557169  0.127387  santa\n",
       "18    8  0.179263  0.875374  santa\n",
       "19    8  0.457730  0.970266  santa\n",
       "20    9  0.743159  0.722860  santa\n",
       "21    0  0.988223  0.186183  santa\n",
       "22    1  0.478593  0.634497  santa\n",
       "23    5  0.510009  0.705482  santa\n",
       "24    4  0.056430  0.410821  santa\n",
       "25    9  0.589843  0.922942  santa\n",
       "26    9  0.557656  0.169421  santa\n",
       "27    4  0.389214  0.610949  santa\n",
       "28    4  0.836634  0.304412  santa\n",
       "29    6  0.846483  0.549242  santa\n",
       "...  ..       ...       ...    ...\n",
       "9970  4  0.705189  0.135340  santa\n",
       "9971  6  0.674038  0.872456  santa\n",
       "9972  6  0.233867  0.589366  santa\n",
       "9973  8  0.113284  0.118583  santa\n",
       "9974  2  0.222940  0.979511  santa\n",
       "9975  6  0.337327  0.948983  santa\n",
       "9976  5  0.059576  0.585028  santa\n",
       "9977  4  0.822464  0.847843  santa\n",
       "9978  0  0.094796  0.564448  santa\n",
       "9979  3  0.372257  0.420496  santa\n",
       "9980  3  0.393502  0.460309  santa\n",
       "9981  0  0.429954  0.895295  santa\n",
       "9982  1  0.798561  0.022870  santa\n",
       "9983  8  0.463420  0.655744  santa\n",
       "9984  7  0.204841  0.663939  santa\n",
       "9985  4  0.742207  0.437772  santa\n",
       "9986  3  0.121835  0.700058  santa\n",
       "9987  8  0.111194  0.443552  santa\n",
       "9988  6  0.795797  0.105005  santa\n",
       "9989  6  0.181615  0.045577  santa\n",
       "9990  5  0.377055  0.090476  santa\n",
       "9991  3  0.022235  0.227733  santa\n",
       "9992  8  0.663408  0.159869  santa\n",
       "9993  5  0.866957  0.016931  santa\n",
       "9994  8  0.195410  0.303533  santa\n",
       "9995  9  0.764715  0.350944  santa\n",
       "9996  9  0.571417  0.429882  santa\n",
       "9997  8  0.080063  0.363533  santa\n",
       "9998  2  0.458752  0.504281  santa\n",
       "9999  7  0.982566  0.741969  santa\n",
       "\n",
       "[10000 rows x 4 columns]"
      ]
     },
     "execution_count": 32,
     "metadata": {},
     "output_type": "execute_result"
    }
   ],
   "source": [
    "add_constant_col(x,'bob','santa')"
   ]
  },
  {
   "cell_type": "code",
   "execution_count": null,
   "metadata": {
    "collapsed": true
   },
   "outputs": [],
   "source": []
  }
 ],
 "metadata": {
  "kernelspec": {
   "display_name": "Python 2",
   "language": "python",
   "name": "python2"
  },
  "language_info": {
   "codemirror_mode": {
    "name": "ipython",
    "version": 2
   },
   "file_extension": ".py",
   "mimetype": "text/x-python",
   "name": "python",
   "nbconvert_exporter": "python",
   "pygments_lexer": "ipython2",
   "version": "2.7.9"
  }
 },
 "nbformat": 4,
 "nbformat_minor": 0
}
