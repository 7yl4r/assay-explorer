{
 "metadata": {
  "name": "",
  "signature": "sha256:b3efd6a931a753f2d6d731b1e805fdbf2d250bc86f64d812cfebf813b4b80431"
 },
 "nbformat": 3,
 "nbformat_minor": 0,
 "worksheets": [
  {
   "cells": [
    {
     "cell_type": "code",
     "collapsed": false,
     "input": [
      "import numpy as np\n",
      "import matplotlib.pyplot as plt\n",
      "import matplotlib.patches as plt_patches\n",
      "%matplotlib inline\n",
      "execfile('../src/moldev_utils.py')"
     ],
     "language": "python",
     "metadata": {},
     "outputs": [],
     "prompt_number": 1
    },
    {
     "cell_type": "code",
     "collapsed": false,
     "input": [
      "# reverse: [a] -> [a]\n",
      "def reverse(x):\n",
      "    return list(reversed(x))"
     ],
     "language": "python",
     "metadata": {},
     "outputs": [],
     "prompt_number": 2
    },
    {
     "cell_type": "code",
     "collapsed": false,
     "input": [
      "# Intensity: Float in range [0,1]\n",
      "# Color: [Float,Float,Float]\n",
      "# get_color: Intensity -> Color\n",
      "def get_color(x):\n",
      "    return plt.get_cmap('RdBu')(x)[:-1]"
     ],
     "language": "python",
     "metadata": {},
     "outputs": [],
     "prompt_number": 3
    },
    {
     "cell_type": "code",
     "collapsed": false,
     "input": [
      "# get_array_patches: [[Color]] -> Float -> Float -> [Patch] \n",
      "def get_array_patches(X,width,height):\n",
      "    y_vals = np.array(reverse(np.arange(len(X)))) * height\n",
      "    patches = [get_row_patches(row,height,width,y) for row,y in zip(X,y_vals)]\n",
      "    return concatenate(patches)"
     ],
     "language": "python",
     "metadata": {},
     "outputs": [],
     "prompt_number": 4
    },
    {
     "cell_type": "code",
     "collapsed": false,
     "input": [
      "# get_row_patches: [Color] -> Float -> Float -> Float -> [Patch]\n",
      "def get_row_patches(row,width,height,y):\n",
      "    x_vals = np.arange(len(row)) * width\n",
      "    return [get_rect_patch(x,y,width,height,color) for color,x in zip(row,x_vals)]"
     ],
     "language": "python",
     "metadata": {},
     "outputs": [],
     "prompt_number": 7
    },
    {
     "cell_type": "code",
     "collapsed": false,
     "input": [
      "# get_rect_patch: Float -> Float -> Float -> Float -> Color -> Patch\n",
      "def get_rect_patch(x,y,width,height,color):\n",
      "    return plt_patches.Rectangle((x,y),width,height, fill=True,\n",
      "                                 clip_on=False, facecolor=color, edgecolor='k')"
     ],
     "language": "python",
     "metadata": {},
     "outputs": [],
     "prompt_number": 17
    },
    {
     "cell_type": "code",
     "collapsed": false,
     "input": [
      "# amap: (a -> b) -> [[a]] -> [[b]]\n",
      "def amap(f,array):\n",
      "    \"\"\" Return new array, where each element xi is replaced by f(xi). \"\"\"\n",
      "    return np.array([map(f,row) for row in array])"
     ],
     "language": "python",
     "metadata": {},
     "outputs": [],
     "prompt_number": 18
    },
    {
     "cell_type": "code",
     "collapsed": false,
     "input": [
      "# plot_patches: [Patch] -> Side Effect\n",
      "def plot_patches(patches):\n",
      "    fig = plt.figure()\n",
      "    ax = fig.add_axes([0,0,1,1])\n",
      "    for patch in patches:\n",
      "        ax.add_patch(patch)\n",
      "    ax.set_axis_off()\n",
      "    plt.show()"
     ],
     "language": "python",
     "metadata": {},
     "outputs": [],
     "prompt_number": 19
    },
    {
     "cell_type": "code",
     "collapsed": false,
     "input": [
      "color_array = amap(get_color,np.random.random([5,5]))"
     ],
     "language": "python",
     "metadata": {},
     "outputs": [],
     "prompt_number": 20
    },
    {
     "cell_type": "code",
     "collapsed": false,
     "input": [
      "patches = get_array_patches(color_array,10,10)"
     ],
     "language": "python",
     "metadata": {},
     "outputs": [],
     "prompt_number": 25
    },
    {
     "cell_type": "code",
     "collapsed": false,
     "input": [
      "plot_patches(patches)"
     ],
     "language": "python",
     "metadata": {},
     "outputs": []
    },
    {
     "cell_type": "code",
     "collapsed": false,
     "input": [],
     "language": "python",
     "metadata": {},
     "outputs": []
    }
   ],
   "metadata": {}
  }
 ]
}