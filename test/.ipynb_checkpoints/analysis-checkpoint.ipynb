{
 "cells": [
  {
   "cell_type": "code",
   "execution_count": 237,
   "metadata": {
    "collapsed": false,
    "slideshow": {
     "slide_type": "-"
    }
   },
   "outputs": [],
   "source": [
    "import pandas as pd\n",
    "from pandas import DataFrame as DF\n",
    "import numpy as np\n",
    "\n",
    "import matplotlib.pyplot as plt\n",
    "import matplotlib.gridspec as gridspec\n",
    "%matplotlib inline\n",
    "\n",
    "from scipy.cluster.hierarchy import linkage, leaves_list, dendrogram\n",
    "\n",
    "from IPython.html.widgets import interact, interactive, fixed\n",
    "from IPython.display import display\n",
    "import IPython.html.widgets as widgets\n",
    "from IPython.utils.traitlets import link as traitlink\n",
    "\n",
    "execfile('../src/moldev_utils.py')\n",
    "\n",
    "from toolz import pipe,thread_first, curry, frequencies"
   ]
  },
  {
   "cell_type": "markdown",
   "metadata": {
    "slideshow": {
     "slide_type": "-"
    }
   },
   "source": [
    "# Cell Count vs. Dose"
   ]
  },
  {
   "cell_type": "code",
   "execution_count": 146,
   "metadata": {
    "collapsed": true
   },
   "outputs": [],
   "source": [
    "def parse_condition(x):\n",
    "    words = x.split(' ')\n",
    "    if len(words) == 2: \n",
    "        return dict(Base = words[0],\n",
    "                    Dose = 0,\n",
    "                    Unit = '',\n",
    "                    Drug = words[-1])\n",
    "    elif len(words) == 3:\n",
    "        return dict(Base = words[0],\n",
    "                    Dose = float(words[1].rstrip('%')),\n",
    "                    Unit = '%',\n",
    "                    Drug = words[2])\n",
    "    elif len(words) == 4: \n",
    "        return dict(Base = words[0],\n",
    "                    Dose = float(words[1]),\n",
    "                    Unit = words[2],\n",
    "                    Drug = words[3])\n",
    "    elif len(words) == 5:\n",
    "        return dict(Base = words[0],\n",
    "                    Dose = float(words[1]),\n",
    "                    Unit = words[2],\n",
    "                    Drug = \" \".join(words[3:]))\n",
    "    else:\n",
    "        raise Exception(\"don't know how to parse condition: {}\".format(x))"
   ]
  },
  {
   "cell_type": "code",
   "execution_count": 147,
   "metadata": {
    "collapsed": true
   },
   "outputs": [],
   "source": [
    "def add_condition_cols(df):\n",
    "    new_df = df.copy()\n",
    "    for field in ['Base','Dose','Unit','Drug']:\n",
    "        new_df[field] = df['Condition'].map(lambda c: parse_condition(c)[field])\n",
    "    return move_columns(new_df,[['Base',2],['Dose',3],['Unit',4],['Drug',5]])"
   ]
  },
  {
   "cell_type": "code",
   "execution_count": 290,
   "metadata": {
    "collapsed": false
   },
   "outputs": [],
   "source": [
    "data = thread_first('../output/condition_summary.csv',\n",
    "                    pd.read_csv,\n",
    "                    lambda df: df[df['Function'] == 'mean'],\n",
    "                    add_condition_cols)\n",
    "\n",
    "error = thread_first('../output/condition_summary.csv',\n",
    "                    pd.read_csv,\n",
    "                    lambda df: df[df['Function'] == 'sem'],\n",
    "                    add_condition_cols)"
   ]
  },
  {
   "cell_type": "code",
   "execution_count": 291,
   "metadata": {
    "collapsed": false
   },
   "outputs": [],
   "source": [
    "def filter_rows(df,col,val):\n",
    "    if type(val) == list:\n",
    "        return df[df[col].isin(val)]\n",
    "    else:\n",
    "        return df[df[col] == val]"
   ]
  },
  {
   "cell_type": "code",
   "execution_count": 259,
   "metadata": {
    "collapsed": false
   },
   "outputs": [],
   "source": [
    "def get_drugs_with_multiple_doses(df):\n",
    "    return pipe(df.groupby('Drug').count()['Dose'],\n",
    "                lambda x: x[x>1].index.values,\n",
    "                list)"
   ]
  },
  {
   "cell_type": "code",
   "execution_count": 279,
   "metadata": {
    "collapsed": false
   },
   "outputs": [],
   "source": [
    "def label(x,y,t,fontsize=12):\n",
    "    plt.xlabel(x,fontsize=fontsize)\n",
    "    plt.ylabel(y,fontsize=fontsize)\n",
    "    plt.title(t,fontsize=fontsize)\n",
    "    \n",
    "def dose_plot(df,col,scale='linear'):\n",
    "    fig = plt.figure(figsize=(7,5))\n",
    "    \n",
    "    for base in df['Base'].unique():\n",
    "        for drug in get_drugs_with_multiple_doses(filter_rows(df,'Base',base)):\n",
    "            data = thread_first(df,\n",
    "                                (filter_rows,'Drug',drug),\n",
    "                                (filter_rows,'Base',base),\n",
    "                                (DF.sort, 'Dose'))\n",
    "            if scale == 'linear':\n",
    "                plt.plot(data['Dose'],data[col],'-o')\n",
    "                title = \"{} vs. Dose\".format(col)\n",
    "            else: \n",
    "                plt.semilogx(data['Dose'],data[col],'-o')\n",
    "                title = \"{} vs. Dose (Log Scale)\".format(col)\n",
    "                plt.xticks(data['Dose'].values,data['Dose'].values)\n",
    "                plt.xlim(0.06,15)\n",
    "            label('Dose ({})'.format(data.Unit.values[0]), col,title,fontsize = 15)\n",
    "\n",
    "            plt.legend(df['Base'].unique())"
   ]
  },
  {
   "cell_type": "code",
   "execution_count": 283,
   "metadata": {
    "collapsed": false
   },
   "outputs": [
    {
     "data": {
      "image/png": "[encoded data removed]",
      "text/plain": [
       "<matplotlib.figure.Figure at 0x7fe1a1899610>"
      ]
     },
     "metadata": {},
     "output_type": "display_data"
    }
   ],
   "source": [
    "interact(dose_plot, \n",
    "         scale = widgets.ToggleButtons(options=['linear','log']), \n",
    "         df = fixed(data), \n",
    "         col = widgets.Select(value = 'Cell Count',\n",
    "                              options= [col for col in data.columns.values.tolist() if col not in ['Condition','Function','Base','Dose','Unit','Drug']],\n",
    "                              height=250));"
   ]
  },
  {
   "cell_type": "code",
   "execution_count": null,
   "metadata": {
    "collapsed": true
   },
   "outputs": [],
   "source": []
  },
  {
   "cell_type": "code",
   "execution_count": null,
   "metadata": {
    "collapsed": true
   },
   "outputs": [],
   "source": []
  }
 ],
 "metadata": {
  "kernelspec": {
   "display_name": "Python 2",
   "language": "python",
   "name": "python2"
  },
  "language_info": {
   "codemirror_mode": {
    "name": "ipython",
    "version": 2
   },
   "file_extension": ".py",
   "mimetype": "text/x-python",
   "name": "python",
   "nbconvert_exporter": "python",
   "pygments_lexer": "ipython2",
   "version": "2.7.9"
  }
 },
 "nbformat": 4,
 "nbformat_minor": 0
}
