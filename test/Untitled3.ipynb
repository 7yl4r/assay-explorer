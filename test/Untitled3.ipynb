{
 "cells": [
  {
   "cell_type": "code",
   "execution_count": 7,
   "metadata": {
    "collapsed": true
   },
   "outputs": [],
   "source": [
    "import numpy as np\n",
    "import pandas as pd"
   ]
  },
  {
   "cell_type": "code",
   "execution_count": 20,
   "metadata": {
    "collapsed": true
   },
   "outputs": [],
   "source": [
    "c = pd.read_csv('../output/well_summary.csv')"
   ]
  },
  {
   "cell_type": "code",
   "execution_count": 21,
   "metadata": {
    "collapsed": false
   },
   "outputs": [
    {
     "data": {
      "text/plain": [
       "0            U2OS control\n",
       "1            U2OS control\n",
       "2            U2OS control\n",
       "3            U2OS control\n",
       "4            U2OS control\n",
       "5            U2OS control\n",
       "6         U2OS 0.22% DMSO\n",
       "7         U2OS 0.22% DMSO\n",
       "8         U2OS 0.22% DMSO\n",
       "9         U2OS 0.22% DMSO\n",
       "10        U2OS 0.22% DMSO\n",
       "11        U2OS 0.22% DMSO\n",
       "12    U2OS 11.1 uM drug A\n",
       "13    U2OS 11.1 uM drug A\n",
       "14    U2OS 11.1 uM drug A\n",
       "...\n",
       "561       143B 0.08 uM drug A\n",
       "562       143B 0.08 uM drug A\n",
       "563       143B 0.08 uM drug A\n",
       "564              143B 1 mM HU\n",
       "565              143B 1 mM HU\n",
       "566              143B 1 mM HU\n",
       "567              143B 1 mM HU\n",
       "568              143B 1 mM HU\n",
       "569              143B 1 mM HU\n",
       "570    143B 5 uM Telomestatin\n",
       "571    143B 5 uM Telomestatin\n",
       "572    143B 5 uM Telomestatin\n",
       "573    143B 5 uM Telomestatin\n",
       "574    143B 5 uM Telomestatin\n",
       "575    143B 5 uM Telomestatin\n",
       "Name: Condition, Length: 576, dtype: object"
      ]
     },
     "execution_count": 21,
     "metadata": {},
     "output_type": "execute_result"
    }
   ],
   "source": [
    "c['Condition']"
   ]
  },
  {
   "cell_type": "code",
   "execution_count": null,
   "metadata": {
    "collapsed": true
   },
   "outputs": [],
   "source": []
  }
 ],
 "metadata": {
  "kernelspec": {
   "display_name": "Python 2",
   "language": "python",
   "name": "python2"
  },
  "language_info": {
   "codemirror_mode": {
    "name": "ipython",
    "version": 2
   },
   "file_extension": ".py",
   "mimetype": "text/x-python",
   "name": "python",
   "nbconvert_exporter": "python",
   "pygments_lexer": "ipython2",
   "version": "2.7.9"
  }
 },
 "nbformat": 4,
 "nbformat_minor": 0
}
