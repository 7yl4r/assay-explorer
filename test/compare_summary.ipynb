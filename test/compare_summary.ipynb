{
 "metadata": {
  "name": "",
  "signature": "sha256:6320b49b8e586e63725d027eb2243e70f4b9d475bea56dabb69156e99262df9f"
 },
 "nbformat": 3,
 "nbformat_minor": 0,
 "worksheets": [
  {
   "cells": [
    {
     "cell_type": "code",
     "collapsed": false,
     "input": [
      "import pandas as pd\n",
      "import numpy as np\n",
      "execfile('../src/moldev_utils.py')"
     ],
     "language": "python",
     "metadata": {},
     "outputs": [],
     "prompt_number": 13
    },
    {
     "cell_type": "code",
     "collapsed": false,
     "input": [
      "py = pd.read_csv('../output/condition_summary.csv')#.rename(columns = {\"Unnamed: 1\":\"Function\"})"
     ],
     "language": "python",
     "metadata": {},
     "outputs": [],
     "prompt_number": 14
    },
    {
     "cell_type": "code",
     "collapsed": false,
     "input": [
      "def tablify(df,cols):\n",
      "    \"\"\" Return DataFrame with n + 2 columns, where n is length of cols.\n",
      "        The first n columns are those specified in cols. \n",
      "        The next column contains the remaining column names of the input DataFrame.\n",
      "        The last column containt the values from these remaining columns. \"\"\"\n",
      "    return df.set_index(cols).stack().reset_index(level = range(len(cols) + 1)).rename(columns = {\"level_2\":\"Parameter\",0:\"Value\"})"
     ],
     "language": "python",
     "metadata": {},
     "outputs": [],
     "prompt_number": 15
    },
    {
     "cell_type": "code",
     "collapsed": false,
     "input": [
      "py2 = tablify(py,['Condition','Function'])"
     ],
     "language": "python",
     "metadata": {},
     "outputs": [],
     "prompt_number": 16
    },
    {
     "cell_type": "code",
     "collapsed": false,
     "input": [
      "py2['Function'] = py2['Function'].map(lambda x: x.replace(\"mean\",\"avg\"))\n",
      "py2 = py2[py2['Function'].isin(['avg','std','count','sem'])]"
     ],
     "language": "python",
     "metadata": {},
     "outputs": [],
     "prompt_number": 17
    },
    {
     "cell_type": "code",
     "collapsed": false,
     "input": [
      "ex = pd.read_csv('./summary/excel_summary.csv')\\\n",
      "    .dropna(how='all',axis=1)\\\n",
      "    .rename(columns = {'Unnamed: 0': 'Condition', 'Unnamed: 1': 'Function'})\\\n",
      "    .rename(columns = rename_col)\n",
      "ex['Condition'] = ex['Condition'].fillna(method='ffill')\n",
      "ex['Function'] = ex['Function'].map(lambda x: x.split(' ')[-1].lower())"
     ],
     "language": "python",
     "metadata": {},
     "outputs": [],
     "prompt_number": 18
    },
    {
     "cell_type": "code",
     "collapsed": false,
     "input": [
      "ex2 = tablify(ex,['Condition','Function'])\n",
      "ex2 = ex2[ex2['Function'].isin(['avg','std','count','sem'])]"
     ],
     "language": "python",
     "metadata": {},
     "outputs": [],
     "prompt_number": 19
    },
    {
     "cell_type": "code",
     "collapsed": false,
     "input": [
      "comparison = pd.merge(py2,ex2,on=['Condition','Function','Parameter'])"
     ],
     "language": "python",
     "metadata": {},
     "outputs": [],
     "prompt_number": 20
    },
    {
     "cell_type": "code",
     "collapsed": false,
     "input": [
      "comparison['reldiff'] = comparison.apply(lambda x: np.abs((x.Value_x - x.Value_y) / float(x.Value_y)) * 100, axis = 1)"
     ],
     "language": "python",
     "metadata": {},
     "outputs": [],
     "prompt_number": 21
    },
    {
     "cell_type": "code",
     "collapsed": false,
     "input": [
      "comparison.sort('reldiff', ascending = False).head()"
     ],
     "language": "python",
     "metadata": {},
     "outputs": [
      {
       "html": [
        "<div style=\"max-height:1000px;max-width:1500px;overflow:auto;\">\n",
        "<table border=\"1\" class=\"dataframe\">\n",
        "  <thead>\n",
        "    <tr style=\"text-align: right;\">\n",
        "      <th></th>\n",
        "      <th>Condition</th>\n",
        "      <th>Function</th>\n",
        "      <th>Parameter</th>\n",
        "      <th>Value_x</th>\n",
        "      <th>Value_y</th>\n",
        "      <th>reldiff</th>\n",
        "    </tr>\n",
        "  </thead>\n",
        "  <tbody>\n",
        "    <tr>\n",
        "      <th>940 </th>\n",
        "      <td> 143B 11.1 uM drug A</td>\n",
        "      <td> std</td>\n",
        "      <td> Area_Coloc_Avg</td>\n",
        "      <td> 0.019244</td>\n",
        "      <td> 0.019252</td>\n",
        "      <td> 0.043892</td>\n",
        "    </tr>\n",
        "    <tr>\n",
        "      <th>910 </th>\n",
        "      <td> 143B 11.1 uM drug A</td>\n",
        "      <td> sem</td>\n",
        "      <td> Area_Coloc_Avg</td>\n",
        "      <td> 0.003513</td>\n",
        "      <td> 0.003515</td>\n",
        "      <td> 0.043891</td>\n",
        "    </tr>\n",
        "    <tr>\n",
        "      <th>1270</th>\n",
        "      <td> 143B 5.55 uM drug A</td>\n",
        "      <td> sem</td>\n",
        "      <td> Area_Coloc_Avg</td>\n",
        "      <td> 0.001871</td>\n",
        "      <td> 0.001871</td>\n",
        "      <td> 0.012133</td>\n",
        "    </tr>\n",
        "    <tr>\n",
        "      <th>1300</th>\n",
        "      <td> 143B 5.55 uM drug A</td>\n",
        "      <td> std</td>\n",
        "      <td> Area_Coloc_Avg</td>\n",
        "      <td> 0.024470</td>\n",
        "      <td> 0.024473</td>\n",
        "      <td> 0.012131</td>\n",
        "    </tr>\n",
        "    <tr>\n",
        "      <th>880 </th>\n",
        "      <td> 143B 11.1 uM drug A</td>\n",
        "      <td> avg</td>\n",
        "      <td> Area_Coloc_Avg</td>\n",
        "      <td> 0.089468</td>\n",
        "      <td> 0.089459</td>\n",
        "      <td> 0.009427</td>\n",
        "    </tr>\n",
        "  </tbody>\n",
        "</table>\n",
        "</div>"
       ],
       "metadata": {},
       "output_type": "pyout",
       "prompt_number": 22,
       "text": [
        "                Condition Function       Parameter   Value_x   Value_y  \\\n",
        "940   143B 11.1 uM drug A      std  Area_Coloc_Avg  0.019244  0.019252   \n",
        "910   143B 11.1 uM drug A      sem  Area_Coloc_Avg  0.003513  0.003515   \n",
        "1270  143B 5.55 uM drug A      sem  Area_Coloc_Avg  0.001871  0.001871   \n",
        "1300  143B 5.55 uM drug A      std  Area_Coloc_Avg  0.024470  0.024473   \n",
        "880   143B 11.1 uM drug A      avg  Area_Coloc_Avg  0.089468  0.089459   \n",
        "\n",
        "       reldiff  \n",
        "940   0.043892  \n",
        "910   0.043891  \n",
        "1270  0.012133  \n",
        "1300  0.012131  \n",
        "880   0.009427  "
       ]
      }
     ],
     "prompt_number": 22
    },
    {
     "cell_type": "code",
     "collapsed": false,
     "input": [
      "assert comparison.reldiff.max() < 0.1, \"Relative error between Excel and Python summaries is greater than 0.1% for some values.\""
     ],
     "language": "python",
     "metadata": {},
     "outputs": [],
     "prompt_number": 23
    },
    {
     "cell_type": "code",
     "collapsed": false,
     "input": [],
     "language": "python",
     "metadata": {},
     "outputs": []
    }
   ],
   "metadata": {}
  }
 ]
}