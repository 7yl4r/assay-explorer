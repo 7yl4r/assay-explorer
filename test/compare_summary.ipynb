{
 "cells": [
  {
   "cell_type": "code",
   "execution_count": 67,
   "metadata": {
    "collapsed": false
   },
   "outputs": [],
   "source": [
    "import pandas as pd\n",
    "import numpy as np\n",
    "execfile('../src/moldev_utils.py')"
   ]
  },
  {
   "cell_type": "code",
   "execution_count": 68,
   "metadata": {
    "collapsed": false
   },
   "outputs": [],
   "source": [
    "py = pd.read_csv('../output/condition_summary.csv')"
   ]
  },
  {
   "cell_type": "code",
   "execution_count": 69,
   "metadata": {
    "collapsed": false
   },
   "outputs": [],
   "source": [
    "def tablify(df,cols):\n",
    "    \"\"\" Return DataFrame with n + 2 columns, where n is length of cols.\n",
    "        The first n columns are those specified in cols. \n",
    "        The next column contains the remaining column names of the input DataFrame.\n",
    "        The last column containt the values from these remaining columns. \"\"\"\n",
    "    return df.set_index(cols).stack().reset_index(level = range(len(cols) + 1)).rename(columns = {\"level_2\":\"Parameter\",0:\"Value\"})"
   ]
  },
  {
   "cell_type": "code",
   "execution_count": 70,
   "metadata": {
    "collapsed": false
   },
   "outputs": [],
   "source": [
    "py2 = tablify(py,['Condition','Function'])"
   ]
  },
  {
   "cell_type": "code",
   "execution_count": 71,
   "metadata": {
    "collapsed": false
   },
   "outputs": [],
   "source": [
    "# py2['Function'] = py2['Function'].map(lambda x: x.replace(\"mean\",\"avg\"))\n",
    "py2 = py2[py2['Function'].isin(['avg','std','count','sem'])]"
   ]
  },
  {
   "cell_type": "code",
   "execution_count": 72,
   "metadata": {
    "collapsed": false
   },
   "outputs": [],
   "source": [
    "ex = pd.read_csv('./summary/excel_summary.csv')\\\n",
    "    .dropna(how='all',axis=1)\\\n",
    "    .rename(columns = {'Unnamed: 0': 'Condition', 'Unnamed: 1': 'Function'})\\\n",
    "    .rename(columns = rename_col)\n",
    "ex['Condition'] = ex['Condition'].fillna(method='ffill')\n",
    "ex['Function'] = ex['Function'].map(lambda x: x.split(' ')[-1].lower())"
   ]
  },
  {
   "cell_type": "code",
   "execution_count": 73,
   "metadata": {
    "collapsed": false
   },
   "outputs": [],
   "source": [
    "ex2 = tablify(ex,['Condition','Function'])\n",
    "ex2 = ex2[ex2['Function'].isin(['avg','std','count','sem'])]"
   ]
  },
  {
   "cell_type": "code",
   "execution_count": 74,
   "metadata": {
    "collapsed": false
   },
   "outputs": [],
   "source": [
    "comparison = pd.merge(py2,ex2,on=['Condition','Function','Parameter'])"
   ]
  },
  {
   "cell_type": "code",
   "execution_count": 75,
   "metadata": {
    "collapsed": false
   },
   "outputs": [],
   "source": [
    "comparison['reldiff'] = comparison.apply(lambda x: np.abs((x.Value_x - x.Value_y) / float(x.Value_y)) * 100, axis = 1)"
   ]
  },
  {
   "cell_type": "code",
   "execution_count": 76,
   "metadata": {
    "collapsed": false
   },
   "outputs": [
    {
     "data": {
      "text/html": [
       "<div style=\"max-height:1000px;max-width:1500px;overflow:auto;\">\n",
       "<table border=\"1\" class=\"dataframe\">\n",
       "  <thead>\n",
       "    <tr style=\"text-align: right;\">\n",
       "      <th></th>\n",
       "      <th>Condition</th>\n",
       "      <th>Function</th>\n",
       "      <th>Parameter</th>\n",
       "      <th>Value_x</th>\n",
       "      <th>Value_y</th>\n",
       "      <th>reldiff</th>\n",
       "    </tr>\n",
       "  </thead>\n",
       "  <tbody>\n",
       "    <tr>\n",
       "      <th>880 </th>\n",
       "      <td> 143B 11.1 uM drug A</td>\n",
       "      <td> std</td>\n",
       "      <td> Area_Coloc_Avg</td>\n",
       "      <td> 0.019244</td>\n",
       "      <td> 0.019252</td>\n",
       "      <td> 0.043892</td>\n",
       "    </tr>\n",
       "    <tr>\n",
       "      <th>910 </th>\n",
       "      <td> 143B 11.1 uM drug A</td>\n",
       "      <td> sem</td>\n",
       "      <td> Area_Coloc_Avg</td>\n",
       "      <td> 0.003513</td>\n",
       "      <td> 0.003515</td>\n",
       "      <td> 0.043891</td>\n",
       "    </tr>\n",
       "    <tr>\n",
       "      <th>1270</th>\n",
       "      <td> 143B 5.55 uM drug A</td>\n",
       "      <td> sem</td>\n",
       "      <td> Area_Coloc_Avg</td>\n",
       "      <td> 0.001871</td>\n",
       "      <td> 0.001871</td>\n",
       "      <td> 0.012133</td>\n",
       "    </tr>\n",
       "    <tr>\n",
       "      <th>1240</th>\n",
       "      <td> 143B 5.55 uM drug A</td>\n",
       "      <td> std</td>\n",
       "      <td> Area_Coloc_Avg</td>\n",
       "      <td> 0.024470</td>\n",
       "      <td> 0.024473</td>\n",
       "      <td> 0.012131</td>\n",
       "    </tr>\n",
       "    <tr>\n",
       "      <th>850 </th>\n",
       "      <td> 143B 11.1 uM drug A</td>\n",
       "      <td> avg</td>\n",
       "      <td> Area_Coloc_Avg</td>\n",
       "      <td> 0.089468</td>\n",
       "      <td> 0.089459</td>\n",
       "      <td> 0.009427</td>\n",
       "    </tr>\n",
       "  </tbody>\n",
       "</table>\n",
       "</div>"
      ],
      "text/plain": [
       "                Condition Function       Parameter   Value_x   Value_y  \\\n",
       "880   143B 11.1 uM drug A      std  Area_Coloc_Avg  0.019244  0.019252   \n",
       "910   143B 11.1 uM drug A      sem  Area_Coloc_Avg  0.003513  0.003515   \n",
       "1270  143B 5.55 uM drug A      sem  Area_Coloc_Avg  0.001871  0.001871   \n",
       "1240  143B 5.55 uM drug A      std  Area_Coloc_Avg  0.024470  0.024473   \n",
       "850   143B 11.1 uM drug A      avg  Area_Coloc_Avg  0.089468  0.089459   \n",
       "\n",
       "       reldiff  \n",
       "880   0.043892  \n",
       "910   0.043891  \n",
       "1270  0.012133  \n",
       "1240  0.012131  \n",
       "850   0.009427  "
      ]
     },
     "execution_count": 76,
     "metadata": {},
     "output_type": "execute_result"
    }
   ],
   "source": [
    "comparison.sort('reldiff', ascending = False).head()"
   ]
  },
  {
   "cell_type": "code",
   "execution_count": 77,
   "metadata": {
    "collapsed": false
   },
   "outputs": [],
   "source": [
    "assert comparison.reldiff.max() < 0.1, \"Relative error between Excel and Python summaries is greater than 0.1% for some values.\""
   ]
  },
  {
   "cell_type": "code",
   "execution_count": null,
   "metadata": {
    "collapsed": false
   },
   "outputs": [],
   "source": []
  }
 ],
 "metadata": {
  "kernelspec": {
   "display_name": "Python 2",
   "language": "python",
   "name": "python2"
  },
  "language_info": {
   "codemirror_mode": {
    "name": "ipython",
    "version": 2
   },
   "file_extension": ".py",
   "mimetype": "text/x-python",
   "name": "python",
   "nbconvert_exporter": "python",
   "pygments_lexer": "ipython2",
   "version": "2.7.9"
  }
 },
 "nbformat": 4,
 "nbformat_minor": 0
}
