{
 "cells": [
  {
   "cell_type": "code",
   "execution_count": 45,
   "metadata": {
    "collapsed": false
   },
   "outputs": [],
   "source": [
    "from IPython.html.widgets import interact, interactive, fixed\n",
    "from IPython.display import display\n",
    "import IPython.html.widgets as widgets\n",
    "from IPython.utils.traitlets import link as traitlink"
   ]
  },
  {
   "cell_type": "code",
   "execution_count": 56,
   "metadata": {
    "collapsed": false
   },
   "outputs": [
    {
     "data": {
      "text/html": [
       "\n",
       "\n",
       "\n",
       "<script type=\"text/Javascript\">\n",
       "    $('#menus .navbar-collapse').append($(\"<button id='fetchplot' class='btn btn-default navbar-btn' onclick='exec_code()'>Results Only</button>\"));\n",
       "    function exec_code(){      \n",
       "        $('#fetchplot').text(function(i, text){\n",
       "          return text === \"Results Only\" ? \"Show All\" : \"Results Only\";\n",
       "        })\n",
       "        $('.code_cell .input').toggle();\n",
       "        $('.code_cell .output .output_stderr').toggle();\n",
       "    }\n",
       "</script>"
      ],
      "text/plain": [
       "<IPython.core.display.HTML object>"
      ]
     },
     "metadata": {},
     "output_type": "display_data"
    }
   ],
   "source": [
    "%%HTML\n",
    "\n",
    "\n",
    "\n",
    "<script type=\"text/Javascript\">\n",
    "    $('#menus .navbar-collapse').append($(\"<button id='fetchplot' class='btn btn-default navbar-btn' onclick='exec_code()'>Results Only</button>\"));\n",
    "    function exec_code(){      \n",
    "        $('#fetchplot').text(function(i, text){\n",
    "          return text === \"Results Only\" ? \"Show All\" : \"Results Only\";\n",
    "        })\n",
    "        $('.code_cell .input').toggle();\n",
    "        $('.code_cell .output .output_stderr').toggle();\n",
    "    }\n",
    "</script>"
   ]
  },
  {
   "cell_type": "code",
   "execution_count": null,
   "metadata": {
    "collapsed": true
   },
   "outputs": [],
   "source": []
  },
  {
   "cell_type": "code",
   "execution_count": null,
   "metadata": {
    "collapsed": true
   },
   "outputs": [],
   "source": []
  }
 ],
 "metadata": {
  "kernelspec": {
   "display_name": "Python 2",
   "language": "python",
   "name": "python2"
  },
  "language_info": {
   "codemirror_mode": {
    "name": "ipython",
    "version": 2
   },
   "file_extension": ".py",
   "mimetype": "text/x-python",
   "name": "python",
   "nbconvert_exporter": "python",
   "pygments_lexer": "ipython2",
   "version": "2.7.9"
  }
 },
 "nbformat": 4,
 "nbformat_minor": 0
}
