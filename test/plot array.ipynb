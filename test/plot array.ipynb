{
 "metadata": {
  "name": "",
  "signature": "sha256:3406c548a50beb8b64aab89337953448f7cca36cefd980928d2a1e4d3c399eac"
 },
 "nbformat": 3,
 "nbformat_minor": 0,
 "worksheets": [
  {
   "cells": [
    {
     "cell_type": "code",
     "collapsed": false,
     "input": [
      "import numpy as np\n",
      "import matplotlib.pyplot as plt\n",
      "import matplotlib.patches as plt_patches\n",
      "%matplotlib inline\n",
      "execfile('../src/moldev_utils.py')\n",
      "from IPython.html.widgets import interact, interactive, fixed\n",
      "from IPython.html import widgets"
     ],
     "language": "python",
     "metadata": {},
     "outputs": [],
     "prompt_number": 125
    },
    {
     "cell_type": "code",
     "collapsed": false,
     "input": [
      "# reverse: [a] -> [a]\n",
      "def reverse(x):\n",
      "    return list(reversed(x))"
     ],
     "language": "python",
     "metadata": {},
     "outputs": [],
     "prompt_number": 82
    },
    {
     "cell_type": "code",
     "collapsed": false,
     "input": [
      "# Intensity: Float in range [0,1]\n",
      "# Color: [Float,Float,Float]\n",
      "# get_color: Intensity -> Color\n",
      "def get_color(x):\n",
      "    return plt.get_cmap('RdBu')(x)[:-1]"
     ],
     "language": "python",
     "metadata": {},
     "outputs": [],
     "prompt_number": 83
    },
    {
     "cell_type": "code",
     "collapsed": false,
     "input": [
      "# get_array_patches: [[Color]] -> Float -> Float -> [Patch] \n",
      "def get_array_patches(X,row_width,height):\n",
      "    row_height = height / float(len(X))\n",
      "    y_vals = np.array(reverse(np.arange(len(X)))) * row_height\n",
      "    patches = [get_row_patches(row,row_width,row_height,y) for row,y in zip(X,y_vals)]\n",
      "    return concatenate(patches)"
     ],
     "language": "python",
     "metadata": {},
     "outputs": [],
     "prompt_number": 153
    },
    {
     "cell_type": "code",
     "collapsed": false,
     "input": [
      "# get_row_patches: [Color] -> Float -> Float -> Float -> [Patch]\n",
      "def get_row_patches(row,width,height,y):\n",
      "    cell_width = width / float(len(row))\n",
      "    x_vals = np.arange(len(row)) * cell_width\n",
      "    return [get_rect_patch(x,y,cell_width,height,color) for color,x in zip(row,x_vals)]"
     ],
     "language": "python",
     "metadata": {},
     "outputs": [],
     "prompt_number": 151
    },
    {
     "cell_type": "code",
     "collapsed": false,
     "input": [
      "# # get_rect_patch: Float -> Float -> Float -> Float -> Color -> Patch\n",
      "# def get_rect_patch(x,y,width,height,color):\n",
      "#     return plt_patches.Rectangle((x,y),width,height, fill=True,\n",
      "#                                  clip_on=False, facecolor=color, edgecolor='w')\n",
      "\n",
      "# get_rect_patch: Float -> Float -> Float -> Float -> Color -> Patch\n",
      "def get_rect_patch(x,y,width,height,color):\n",
      "    return plt_patches.Rectangle((x,y),width,height, fill=True,\n",
      "                                 clip_on=False, color = color)"
     ],
     "language": "python",
     "metadata": {},
     "outputs": [],
     "prompt_number": 141
    },
    {
     "cell_type": "code",
     "collapsed": false,
     "input": [
      "# amap: (a -> b) -> [[a]] -> [[b]]\n",
      "def amap(f,array):\n",
      "    \"\"\" Return new array, where each element xi is replaced by f(xi). \"\"\"\n",
      "    return np.array([map(f,row) for row in array])"
     ],
     "language": "python",
     "metadata": {},
     "outputs": [],
     "prompt_number": 142
    },
    {
     "cell_type": "code",
     "collapsed": false,
     "input": [
      "# plot_patches: [Patch] -> Side Effect\n",
      "def plot_patches(patches):\n",
      "    #fig = plt.figure()\n",
      "    #ax = fig.add_axes([0,0,1,1])\n",
      "    for patch in patches:\n",
      "        plt.gca().add_patch(patch)\n",
      "        #ax.add_patch(patch)\n",
      "    plt.gca().set_axis_off()\n",
      "    plt.show()"
     ],
     "language": "python",
     "metadata": {},
     "outputs": [],
     "prompt_number": 167
    },
    {
     "cell_type": "code",
     "collapsed": false,
     "input": [
      "color_array = amap(get_color,np.random.random([8,12]))"
     ],
     "language": "python",
     "metadata": {},
     "outputs": [],
     "prompt_number": 181
    },
    {
     "cell_type": "code",
     "collapsed": false,
     "input": [
      "96 / 8.0"
     ],
     "language": "python",
     "metadata": {},
     "outputs": [
      {
       "metadata": {},
       "output_type": "pyout",
       "prompt_number": 182,
       "text": [
        "12.0"
       ]
      }
     ],
     "prompt_number": 182
    },
    {
     "cell_type": "code",
     "collapsed": false,
     "input": [
      "patches = get_array_patches(color_array,2,1)"
     ],
     "language": "python",
     "metadata": {},
     "outputs": [],
     "prompt_number": 183
    },
    {
     "cell_type": "code",
     "collapsed": false,
     "input": [
      "plot_patches(patches)"
     ],
     "language": "python",
     "metadata": {},
     "outputs": [
      {
       "metadata": {},
       "output_type": "display_data",
       "png": "[encoded data removed]",
       "text": [
        "<matplotlib.figure.Figure at 0x7fd417cab650>"
       ]
      }
     ],
     "prompt_number": 184
    },
    {
     "cell_type": "code",
     "collapsed": false,
     "input": [
      "def draw_grid(x,y):\n",
      "    patches = get_array_patches(color_array,x,y)\n",
      "    plot_patches(patches)"
     ],
     "language": "python",
     "metadata": {},
     "outputs": [],
     "prompt_number": 147
    },
    {
     "cell_type": "code",
     "collapsed": false,
     "input": [
      "interactive(draw_grid,\n",
      "         x = widgets.FloatSliderWidget(min=0,max=3,step=0.1,value=2),\n",
      "         y = widgets.FloatSliderWidget(min=0,max=2,step=0.3,value=1))"
     ],
     "language": "python",
     "metadata": {},
     "outputs": [
      {
       "metadata": {},
       "output_type": "display_data",
       "png": "[encoded data removed]",
       "text": [
        "<matplotlib.figure.Figure at 0x7fd417a38750>"
       ]
      }
     ],
     "prompt_number": 173
    },
    {
     "cell_type": "code",
     "collapsed": false,
     "input": [
      "0.02 * 30"
     ],
     "language": "python",
     "metadata": {},
     "outputs": [
      {
       "metadata": {},
       "output_type": "pyout",
       "prompt_number": 150,
       "text": [
        "0.6"
       ]
      }
     ],
     "prompt_number": 150
    },
    {
     "cell_type": "code",
     "collapsed": false,
     "input": [],
     "language": "python",
     "metadata": {},
     "outputs": [],
     "prompt_number": 148
    },
    {
     "cell_type": "code",
     "collapsed": false,
     "input": [],
     "language": "python",
     "metadata": {},
     "outputs": [],
     "prompt_number": 148
    },
    {
     "cell_type": "code",
     "collapsed": false,
     "input": [],
     "language": "python",
     "metadata": {},
     "outputs": []
    }
   ],
   "metadata": {}
  }
 ]
}