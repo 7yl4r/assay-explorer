{
 "metadata": {
  "name": "",
  "signature": "sha256:fbcc67fc2b441254bea86d62f623d1b28a72ddcf584f330b6099bf01e83e1622"
 },
 "nbformat": 3,
 "nbformat_minor": 0,
 "worksheets": [
  {
   "cells": [
    {
     "cell_type": "code",
     "collapsed": false,
     "input": [
      "def get_array_patches(x):\n",
      "    \"\"\"\" Return patch for every element in x. \"\"\"\n",
      "    n_rows = len(x)\n",
      "    n_cols = len(x[0])\n",
      "    rows = [get_row_patches]"
     ],
     "language": "python",
     "metadata": {},
     "outputs": [],
     "prompt_number": 1
    },
    {
     "cell_type": "code",
     "collapsed": false,
     "input": [
      "import numpy as np\n",
      "\n",
      "\n",
      "np.array([1,2,3])[::-1]"
     ],
     "language": "python",
     "metadata": {},
     "outputs": [
      {
       "metadata": {},
       "output_type": "pyout",
       "prompt_number": 10,
       "text": [
        "array([3, 2, 1])"
       ]
      }
     ],
     "prompt_number": 10
    },
    {
     "cell_type": "code",
     "collapsed": false,
     "input": [],
     "language": "python",
     "metadata": {},
     "outputs": []
    }
   ],
   "metadata": {}
  }
 ]
}