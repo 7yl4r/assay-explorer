{
 "cells": [
  {
   "cell_type": "code",
   "execution_count": 9,
   "metadata": {
    "collapsed": false
   },
   "outputs": [],
   "source": [
    "execfile('../src/display_utils.py')\n",
    "execfile('../src/moldev_utils.py')\n",
    "%matplotlib inline"
   ]
  },
  {
   "cell_type": "code",
   "execution_count": 10,
   "metadata": {
    "collapsed": false
   },
   "outputs": [],
   "source": [
    "summary = pd.read_csv('../output/condition_summary.csv')"
   ]
  },
  {
   "cell_type": "code",
   "execution_count": 11,
   "metadata": {
    "collapsed": true
   },
   "outputs": [],
   "source": [
    "colors = {'Blue & Red':'bwr','Blue':'Blues'}"
   ]
  },
  {
   "cell_type": "markdown",
   "metadata": {},
   "source": [
    "# Well Plate Results"
   ]
  },
  {
   "cell_type": "code",
   "execution_count": 12,
   "metadata": {
    "collapsed": false
   },
   "outputs": [
    {
     "ename": "NameError",
     "evalue": "name 'get_params' is not defined",
     "output_type": "error",
     "traceback": [
      "\u001b[1;31m---------------------------------------------------------------------------\u001b[0m",
      "\u001b[1;31mNameError\u001b[0m                                 Traceback (most recent call last)",
      "\u001b[1;32m<ipython-input-12-31e2b9316c6b>\u001b[0m in \u001b[0;36m<module>\u001b[1;34m()\u001b[0m\n\u001b[0;32m      3\u001b[0m          \u001b[0mdata\u001b[0m \u001b[1;33m=\u001b[0m \u001b[0mfixed\u001b[0m\u001b[1;33m(\u001b[0m\u001b[0mplate_data\u001b[0m\u001b[1;33m)\u001b[0m\u001b[1;33m,\u001b[0m\u001b[1;33m\u001b[0m\u001b[0m\n\u001b[0;32m      4\u001b[0m          parameter = widgets.Select(value = 'Cell Count',\n\u001b[1;32m----> 5\u001b[1;33m                                     \u001b[0moptions\u001b[0m\u001b[1;33m=\u001b[0m \u001b[0mget_params\u001b[0m\u001b[1;33m(\u001b[0m\u001b[0mplate_data\u001b[0m\u001b[1;33m)\u001b[0m\u001b[1;33m,\u001b[0m\u001b[1;33m\u001b[0m\u001b[0m\n\u001b[0m\u001b[0;32m      6\u001b[0m                                     height=250),\n\u001b[0;32m      7\u001b[0m          \u001b[0mfunction\u001b[0m \u001b[1;33m=\u001b[0m \u001b[0mplate_data\u001b[0m\u001b[1;33m[\u001b[0m\u001b[1;34m'Function'\u001b[0m\u001b[1;33m]\u001b[0m\u001b[1;33m.\u001b[0m\u001b[0munique\u001b[0m\u001b[1;33m(\u001b[0m\u001b[1;33m)\u001b[0m\u001b[1;33m.\u001b[0m\u001b[0mtolist\u001b[0m\u001b[1;33m(\u001b[0m\u001b[1;33m)\u001b[0m\u001b[1;33m,\u001b[0m\u001b[1;33m\u001b[0m\u001b[0m\n",
      "\u001b[1;31mNameError\u001b[0m: name 'get_params' is not defined"
     ]
    }
   ],
   "source": [
    "plate_data = pd.read_csv('../output/well_summary.csv')\n",
    "interact(plot_plate, \n",
    "         data = fixed(plate_data),\n",
    "         parameter = widgets.Select(value = 'Cell Count',\n",
    "                                    options= get_params(plate_data),\n",
    "                                    height=250),\n",
    "         function = plate_data['Function'].unique().tolist(),\n",
    "         color = colors);"
   ]
  },
  {
   "cell_type": "markdown",
   "metadata": {},
   "source": [
    "# How do conditions cluster together?"
   ]
  },
  {
   "cell_type": "code",
   "execution_count": null,
   "metadata": {
    "collapsed": true
   },
   "outputs": [],
   "source": [
    "data = pipe(summary,\n",
    "            get_means,\n",
    "            lambda df: df.set_index('Condition'),\n",
    "            normalize_columns)"
   ]
  },
  {
   "cell_type": "code",
   "execution_count": null,
   "metadata": {
    "collapsed": false
   },
   "outputs": [],
   "source": [
    "interact(matrix_tree, data = fixed(data), color = colors);"
   ]
  },
  {
   "cell_type": "markdown",
   "metadata": {},
   "source": [
    "# Heatmap subsets"
   ]
  },
  {
   "cell_type": "code",
   "execution_count": null,
   "metadata": {
    "collapsed": false
   },
   "outputs": [],
   "source": [
    "def wrapper(conditions,features,color):\n",
    "    df = data.loc[list(conditions)][list(features)]\n",
    "    try: \n",
    "        matrix_tree(df,color)\n",
    "    except:\n",
    "        print \"\\n\".join([\"-\"*50, \"Please select multiple features and conditions.\",\"-\"*50])\n",
    "\n",
    "subset = interactive(wrapper,\n",
    "                     conditions = widgets.SelectMultiple(options = data.index.values.tolist(),height = 300),\n",
    "                     features = widgets.SelectMultiple(options = data.columns.values.tolist(),height = 300),\n",
    "                     color = colors)\n",
    "subset"
   ]
  },
  {
   "cell_type": "markdown",
   "metadata": {},
   "source": [
    "# How do parameters vary with drug dose?"
   ]
  },
  {
   "cell_type": "code",
   "execution_count": null,
   "metadata": {
    "collapsed": false
   },
   "outputs": [],
   "source": [
    "dose_data = thread_first(summary,\n",
    "                        lambda df: df[df['Function'] == 'mean'],\n",
    "                        add_condition_cols)\n",
    "\n",
    "dose_error = thread_first(summary,\n",
    "                        lambda df: df[df['Function'] == 'sem'],\n",
    "                        add_condition_cols)"
   ]
  },
  {
   "cell_type": "code",
   "execution_count": null,
   "metadata": {
    "collapsed": false
   },
   "outputs": [],
   "source": [
    "interact(dose_plot,\n",
    "         scale = widgets.ToggleButtons(options=['linear','log']), \n",
    "         df = fixed(dose_data),\n",
    "         err = fixed(dose_error),\n",
    "         cols = widgets.SelectMultiple(value = ['Cell Count'],\n",
    "                              options= [col for col in dose_data.columns.values.tolist() if col not in ['Condition','Function','Base','Dose','Unit','Drug']],\n",
    "                              height=250));"
   ]
  },
  {
   "cell_type": "markdown",
   "metadata": {},
   "source": [
    "#How are different parameters related?"
   ]
  },
  {
   "cell_type": "code",
   "execution_count": null,
   "metadata": {
    "collapsed": false
   },
   "outputs": [],
   "source": [
    "from pandas.tools.plotting import scatter_matrix\n",
    "\n",
    "def scatter(df,cols):\n",
    "    scatter_matrix(data[list(cols)], alpha=1, figsize=(20, 20), diagonal='kde');\n",
    "    \n",
    "interact(scatter, \n",
    "         df = fixed(filter_rows(dose_data,'Base','143B')),\n",
    "         cols = widgets.SelectMultiple(value = ['Cell Count'],\n",
    "                              options= get_params(dose_data),\n",
    "                              height=250));"
   ]
  },
  {
   "cell_type": "markdown",
   "metadata": {},
   "source": [
    "# Parameter vs. Conditions"
   ]
  },
  {
   "cell_type": "code",
   "execution_count": null,
   "metadata": {
    "collapsed": true
   },
   "outputs": [],
   "source": [
    "raw_cell_data = pd.read_csv('../output/moldev_cleaned.csv')\n",
    "cell_data = add_condition_cols(raw_cell_data)"
   ]
  },
  {
   "cell_type": "code",
   "execution_count": null,
   "metadata": {
    "collapsed": true
   },
   "outputs": [],
   "source": [
    "def plot_dist(df,base,parameter, max_shown=3):\n",
    "    data = df[df['Base'] == base].sort(['Drug','Dose'])\n",
    "    plt.figure(num=None, figsize=(15, 7), dpi=80, facecolor='w', edgecolor='k')\n",
    "    sns.boxplot(data[parameter], \n",
    "                data['Condition'],\n",
    "                vert=False,\n",
    "                order=data.Condition.unique(),\n",
    "                color=map(colorize,data.Condition.unique()))\n",
    "    plt.ylabel('Condition',fontsize=20)\n",
    "    plt.xlabel(parameter,fontsize=20)\n",
    "    plt.tick_params(labelsize=20)\n",
    "    mean = data[parameter].mean()\n",
    "    plt.gca().set_xlim([0 - mean * (max_shown/10),max_shown * mean])"
   ]
  },
  {
   "cell_type": "code",
   "execution_count": null,
   "metadata": {
    "collapsed": false,
    "scrolled": false
   },
   "outputs": [],
   "source": [
    "interactive(plot_dist,\n",
    "            df = fixed(cell_data), \n",
    "            base = cell_data.Base.unique().tolist(), \n",
    "            parameter = get_params(cell_data))"
   ]
  },
  {
   "cell_type": "code",
   "execution_count": null,
   "metadata": {
    "collapsed": false
   },
   "outputs": [],
   "source": [
    "cell_data.head()\n",
    "\n",
    "def plot_kdes(df,conditions,parameters,bandwidth=0.5,shaded = True,scale='linear'):\n",
    "    n_rows = int(np.ceil(len(parameters)/3.0))\n",
    "    plt.figure(figsize=(20,4 * n_rows))\n",
    "    subs = gridspec.GridSpec(n_rows, 3) \n",
    "    plt.subplots_adjust(hspace=0.54,wspace=0.27)\n",
    "\n",
    "    for parameter,sub in zip(parameters,subs):\n",
    "        plt.subplot(sub)\n",
    "        for condition in conditions:\n",
    "            data = df[df.Condition == condition][parameter]\n",
    "            sns.distplot(data, hist=False, kde_kws={\"shade\": shaded, \"bw\": bandwidth * data.mean()},label=condition)\n",
    "            plt.legend(loc = 0)\n",
    "        if scale is not 'linear':\n",
    "            plt.xscale('log')\n",
    "        plt.ylabel('Frequency')"
   ]
  },
  {
   "cell_type": "code",
   "execution_count": null,
   "metadata": {
    "collapsed": false
   },
   "outputs": [],
   "source": [
    "interact(plot_kdes,\n",
    "         df = fixed(cell_data),\n",
    "         conditions = widgets.SelectMultiple(options = cell_data.Condition.unique().tolist(),height = 300),\n",
    "         parameters = widgets.SelectMultiple(options = get_params(cell_data),height = 300),\n",
    "         bandwidth = (0,0.1,0.02),\n",
    "         scale = widgets.ToggleButtons(options=['linear','log']));"
   ]
  },
  {
   "cell_type": "code",
   "execution_count": null,
   "metadata": {
    "collapsed": true
   },
   "outputs": [],
   "source": []
  },
  {
   "cell_type": "code",
   "execution_count": null,
   "metadata": {
    "collapsed": true
   },
   "outputs": [],
   "source": []
  }
 ],
 "metadata": {
  "kernelspec": {
   "display_name": "Python 2",
   "language": "python",
   "name": "python2"
  },
  "language_info": {
   "codemirror_mode": {
    "name": "ipython",
    "version": 2
   },
   "file_extension": ".py",
   "mimetype": "text/x-python",
   "name": "python",
   "nbconvert_exporter": "python",
   "pygments_lexer": "ipython2",
   "version": "2.7.9"
  }
 },
 "nbformat": 4,
 "nbformat_minor": 0
}
