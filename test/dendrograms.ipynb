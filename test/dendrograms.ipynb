{
 "metadata": {
  "name": "",
  "signature": "sha256:c35151b5cbff0d3768809addc9aaed8323346e87de3443e78b5ff188f927b84b"
 },
 "nbformat": 3,
 "nbformat_minor": 0,
 "worksheets": [
  {
   "cells": [
    {
     "cell_type": "code",
     "collapsed": false,
     "input": [
      "from scipy.cluster.hierarchy import dendrogram\n",
      "import matplotlib.pyplot as plt\n",
      "import numpy as np\n",
      "\n",
      "def augmented_dendrogram(*args, **kwargs):\n",
      "\n",
      "    ddata = dendrogram(*args, **kwargs)\n",
      "\n",
      "    if not kwargs.get('no_plot', False):\n",
      "        for i, d in zip(ddata['icoord'], ddata['dcoord']):\n",
      "            x = 0.5 * sum(i[1:3])\n",
      "            y = d[1]\n",
      "            plt.plot(x, y, 'ro')\n",
      "            plt.annotate(\"%.3g\" % y, (x, y), xytext=(0, -8),\n",
      "                         textcoords='offset points',\n",
      "                         va='top', ha='center')\n",
      "\n",
      "    return ddata"
     ],
     "language": "python",
     "metadata": {},
     "outputs": [],
     "prompt_number": 2
    },
    {
     "cell_type": "code",
     "collapsed": false,
     "input": [
      "d = np.random.random([1000,1000])"
     ],
     "language": "python",
     "metadata": {},
     "outputs": [],
     "prompt_number": 15
    },
    {
     "cell_type": "code",
     "collapsed": false,
     "input": [
      "augmented_dendrogram(d)"
     ],
     "language": "python",
     "metadata": {},
     "outputs": [
      {
       "metadata": {},
       "output_type": "pyout",
       "prompt_number": 9,
       "text": [
        "{'color_list': ['g'],\n",
        " 'dcoord': [[0.0, 0.52871464247118549, 0.52871464247118549, 0.0]],\n",
        " 'icoord': [[5.0, 5.0, 15.0, 15.0]],\n",
        " 'ivl': ['0', '0'],\n",
        " 'leaves': [0, 0]}"
       ]
      }
     ],
     "prompt_number": 9
    },
    {
     "cell_type": "code",
     "collapsed": false,
     "input": [
      "import astrodendro as a"
     ],
     "language": "python",
     "metadata": {},
     "outputs": [],
     "prompt_number": 16
    },
    {
     "cell_type": "code",
     "collapsed": false,
     "input": [
      "x = a.Dendrogram.compute(d)"
     ],
     "language": "python",
     "metadata": {},
     "outputs": []
    },
    {
     "cell_type": "code",
     "collapsed": false,
     "input": [
      "v = x.viewer()"
     ],
     "language": "python",
     "metadata": {},
     "outputs": []
    },
    {
     "cell_type": "code",
     "collapsed": false,
     "input": [],
     "language": "python",
     "metadata": {},
     "outputs": []
    }
   ],
   "metadata": {}
  }
 ]
}