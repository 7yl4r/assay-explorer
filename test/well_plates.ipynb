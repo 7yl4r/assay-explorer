{
 "metadata": {
  "name": "",
  "signature": "sha256:af6da9e431771f469f2b5ad5164ccadf3571ffc02b483ccd6b7cb32ac8055dd5"
 },
 "nbformat": 3,
 "nbformat_minor": 0,
 "worksheets": [
  {
   "cells": [
    {
     "cell_type": "code",
     "collapsed": false,
     "input": [
      "import matplotlib.pyplot as plt\n",
      "import matplotlib.patches as patches\n",
      "%matplotlib inline\n",
      "\n",
      "# build a rectangle in axes coords\n",
      "left, width = 0, .2\n",
      "bottom, height = 1, .15\n",
      "right = left + width\n",
      "top = bottom + height\n",
      "\n",
      "fig = plt.figure()\n",
      "ax = fig.add_axes([0,0,1,1])\n",
      "\n",
      "# axes coordinates are 0,0 is bottom left and 1,1 is upper right\n",
      "p = patches.Rectangle(\n",
      "    (left, bottom), width, height,\n",
      "    fill=False, transform=ax.transAxes, clip_on=False\n",
      "    )\n",
      "\n",
      "ax.add_patch(p)\n",
      "\n",
      "ax.text(0.5*(left+right), 0.5*(bottom+top), 'middle',\n",
      "        horizontalalignment='center',\n",
      "        verticalalignment='center',\n",
      "        fontsize=20, color='red',\n",
      "        transform=ax.transAxes)\n",
      "\n",
      "\n",
      "ax.set_axis_off()\n",
      "plt.show()"
     ],
     "language": "python",
     "metadata": {},
     "outputs": [
      {
       "metadata": {},
       "output_type": "display_data",
       "png": "[encoded data removed]",
       "text": [
        "<matplotlib.figure.Figure at 0x7f1570e5b310>"
       ]
      }
     ],
     "prompt_number": 3
    },
    {
     "cell_type": "code",
     "collapsed": false,
     "input": [
      "import matplotlib.pyplot as plt\n",
      "import matplotlib.patches as patches\n",
      "import numpy as np\n",
      "%matplotlib inline\n",
      "\n",
      "from IPython.html.widgets import interact, interactive, fixed\n",
      "from IPython.html import widgets\n",
      "\n",
      "def rect(left,bottom):\n",
      "    return patches.Rectangle((left, bottom), width, height, fill='True', transform=ax.transAxes, clip_on=False)\n",
      "\n",
      "def generate_row(n,bottom):\n",
      "    return [rect(left_i, bottom) for left_i in np.arange(n)*width]\n",
      "\n",
      "def generate_grid(rows,cols):\n",
      "    return np.array([generate_row(cols,bottom_i) for bottom_i in np.arange(rows) * height]).flatten()\n",
      "\n",
      "#ps = generate_row(10,bottom)\n",
      "#ps = generate_grid(10,10)\n",
      "#p = rect(left,bottom)\n",
      "#for p in ps: \n",
      "#    ax.add_patch(p)\n",
      "\n",
      "def get_color(x):\n",
      "    return plt.get_cmap('RdBu')(x)[:-1]\n",
      "\n",
      "def plot_stuff(n):\n",
      "    print n\n",
      "    # build a rectangle in axes coords\n",
      "    left, width = 0, .2\n",
      "    bottom, height = 1, .15\n",
      "\n",
      "    fig = plt.figure()\n",
      "    ax = fig.add_axes([0,0,1,1])    \n",
      "\n",
      "    def create_cell(x,y,text,color):\n",
      "        right = x + width\n",
      "        top = y + height\n",
      "        ax.text(0.5*(x+right), 0.5*(y+top), 'middle',\n",
      "        horizontalalignment='center',\n",
      "        verticalalignment='center',\n",
      "        fontsize=20, color='black',\n",
      "        transform=ax.transAxes)\n",
      "        return patches.Rectangle((x, y), width, height, fill=True, transform=ax.transAxes, clip_on=False, color=color, edgecolor='k')\n",
      "    \n",
      "    def get_xy(i,j):\n",
      "        return j * widgh, ((n-1) - i) * height\n",
      "    \n",
      "    \n",
      "    p = create_cell(0,0.5,\"bob\",get_color(n))\n",
      "    ax.add_patch(p)\n",
      "\n",
      "    ax.set_axis_off()\n",
      "    plt.show()\n",
      "\n",
      "    #rdgy\n",
      "    \n",
      "interact(plot_stuff, n=widgets.FloatSliderWidget(min=0,max=1,step=0.1,value=0.5));"
     ],
     "language": "python",
     "metadata": {},
     "outputs": [
      {
       "output_type": "stream",
       "stream": "stdout",
       "text": [
        "0.8\n"
       ]
      },
      {
       "metadata": {},
       "output_type": "display_data",
       "png": "[encoded data removed]",
       "text": [
        "<matplotlib.figure.Figure at 0x7f95c3d971d0>"
       ]
      }
     ],
     "prompt_number": 115
    },
    {
     "cell_type": "code",
     "collapsed": false,
     "input": [
      "def get_indices(rows,cols):\n",
      "    x = np.arange(cols)\n",
      "    y = np.arange(rows)\n",
      "    xv, yv = np.meshgrid(x, y)\n",
      "    return zip(xv.flatten(),yv.flatten())"
     ],
     "language": "python",
     "metadata": {},
     "outputs": [],
     "prompt_number": 138
    },
    {
     "cell_type": "code",
     "collapsed": false,
     "input": [
      "print get_indices(3,5)"
     ],
     "language": "python",
     "metadata": {},
     "outputs": [
      {
       "output_type": "stream",
       "stream": "stdout",
       "text": [
        "[(0, 0), (1, 0), (2, 0), (3, 0), (4, 0), (0, 1), (1, 1), (2, 1), (3, 1), (4, 1), (0, 2), (1, 2), (2, 2), (3, 2), (4, 2)]\n"
       ]
      }
     ],
     "prompt_number": 139
    },
    {
     "cell_type": "code",
     "collapsed": false,
     "input": [
      "x = np.arange(5)\n",
      "y = np.arange(3)\n",
      "xv, yv = np.meshgrid(x, y)\n",
      "zip(xv.flatten(),yv.flatten())\n",
      "print x"
     ],
     "language": "python",
     "metadata": {},
     "outputs": [
      {
       "output_type": "stream",
       "stream": "stdout",
       "text": [
        "[0 1 2 3 4]\n"
       ]
      }
     ],
     "prompt_number": 137
    },
    {
     "cell_type": "code",
     "collapsed": false,
     "input": [],
     "language": "python",
     "metadata": {},
     "outputs": []
    }
   ],
   "metadata": {}
  }
 ]
}