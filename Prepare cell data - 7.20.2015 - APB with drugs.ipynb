{
 "cells": [
  {
   "cell_type": "code",
   "execution_count": 1,
   "metadata": {
    "collapsed": true
   },
   "outputs": [],
   "source": [
    "# TODO: replace df with dataframe\n",
    "# TODO: investigate presence of multiple 'Plate ID' columns in condition_summary\n",
    "# TODO: add dataset selector (or make new notebooks for analyzing different datasets - this might be better, think about it.)"
   ]
  },
  {
   "cell_type": "code",
   "execution_count": 1,
   "metadata": {
    "collapsed": false
   },
   "outputs": [
    {
     "name": "stderr",
     "output_type": "stream",
     "text": [
      ":0: FutureWarning: IPython widgets are experimental and may change in the future.\n"
     ]
    }
   ],
   "source": [
    "execfile('./src/display_utils.py')\n",
    "execfile('./src/moldev_utils.py')\n",
    "%matplotlib inline\n",
    "from scipy.stats.kde import gaussian_kde\n",
    "import scipy.signal as signal\n",
    "from toolz import thread_last\n",
    "from scipy.stats import ks_2samp"
   ]
  },
  {
   "cell_type": "code",
   "execution_count": 3,
   "metadata": {
    "collapsed": true
   },
   "outputs": [],
   "source": [
    "cell_path = '/notebooks/moldev-data/analyzed/07-20-2015/APB-cells.csv'"
   ]
  },
  {
   "cell_type": "code",
   "execution_count": 4,
   "metadata": {
    "collapsed": false
   },
   "outputs": [],
   "source": [
    "raw_cell_data = pd.read_csv(cell_path)"
   ]
  },
  {
   "cell_type": "code",
   "execution_count": 5,
   "metadata": {
    "collapsed": false
   },
   "outputs": [],
   "source": [
    "raw_cell_data['Cell Type'] = raw_cell_data['Condition'].map(lambda string: string.split(' ')[-1])"
   ]
  },
  {
   "cell_type": "markdown",
   "metadata": {},
   "source": [
    "# Add cell phase information"
   ]
  },
  {
   "cell_type": "code",
   "execution_count": 6,
   "metadata": {
    "collapsed": true
   },
   "outputs": [],
   "source": [
    "# DataFrame -> String -> (a | [a] | Series[a]) -> DataFrame\n",
    "def add_col(dataframe,colname,values):\n",
    "    \"Add column to dataframe with given values.\"\n",
    "    dataframe[colname] = values\n",
    "    return dataframe"
   ]
  },
  {
   "cell_type": "code",
   "execution_count": 7,
   "metadata": {
    "collapsed": true
   },
   "outputs": [],
   "source": [
    "# [Float] -> Float\n",
    "def get_threshold(intensity,bw = 0.35):\n",
    "    \"\"\" Given an array of intensities, find the intensity \n",
    "        threshold separating the G1 peak from the S/G2 peak. \"\"\"\n",
    "    kde_fit = gaussian_kde(intensity,bw)\n",
    "    x = np.linspace(min(intensity),\n",
    "                    max(intensity),\n",
    "                    1000)\n",
    "    y = kde_fit(x)\n",
    "    ddx = np.diff(np.diff(y)) # second derivative of fit\n",
    "    peak = np.argmin(ddx) # most frequent intensity \n",
    "    index = min([yi for yi in signal.argrelmax(ddx)[0] if yi > peak])\n",
    "    threshold = x[index]\n",
    "    return threshold"
   ]
  },
  {
   "cell_type": "code",
   "execution_count": 8,
   "metadata": {
    "collapsed": true
   },
   "outputs": [],
   "source": [
    "def label_cell_phase(dataframe):\n",
    "    col = 'NucIntegrated Intensity_Avg'\n",
    "    threshold = get_threshold(dataframe[col])\n",
    "    dataframe['Cell Phase'] = dataframe[col].map(\n",
    "        lambda intensity: 'G1' if intensity < threshold else 'S/G2')\n",
    "    dataframe['Cell Phase Threshold'] = threshold\n",
    "    dataframe['Condition'] = dataframe['Condition'] + ' ' + dataframe['Cell Phase']\n",
    "    return dataframe"
   ]
  },
  {
   "cell_type": "code",
   "execution_count": 9,
   "metadata": {
    "collapsed": true
   },
   "outputs": [],
   "source": [
    "def label_cell_phase_2(dataframe_orig):\n",
    "    dataframe = dataframe_orig.copy()\n",
    "    col = 'NucIntegrated Intensity_Avg'\n",
    "    threshold = get_threshold(dataframe[col])\n",
    "    dataframe['Cell Phase'] = dataframe[col].map(\n",
    "        lambda intensity: 'G1' if intensity < threshold else 'S/G2')\n",
    "    dataframe['Cell Phase Threshold'] = threshold\n",
    "    dataframe['Condition'] = dataframe['Cell Type'] + ' ' + dataframe['Cell Phase']\n",
    "    return dataframe"
   ]
  },
  {
   "cell_type": "code",
   "execution_count": 10,
   "metadata": {
    "collapsed": false
   },
   "outputs": [],
   "source": [
    "phased_conditions = thread_first(\n",
    "    raw_cell_data,\n",
    "    lambda x: x.groupby('Condition'),\n",
    "    lambda xs: map(snd,xs),\n",
    "    lambda conditions: map(label_cell_phase,conditions))"
   ]
  },
  {
   "cell_type": "code",
   "execution_count": 11,
   "metadata": {
    "collapsed": false
   },
   "outputs": [],
   "source": [
    "phased_conditions_by_cell_type = thread_first(\n",
    "    raw_cell_data,\n",
    "    lambda x: x.groupby('Cell Type'),\n",
    "    lambda xs: map(snd,xs),\n",
    "    lambda conditions: map(label_cell_phase_2,conditions))"
   ]
  },
  {
   "cell_type": "code",
   "execution_count": 12,
   "metadata": {
    "collapsed": false
   },
   "outputs": [],
   "source": [
    "by_cell_type = thread_last(\n",
    "    raw_cell_data,\n",
    "    lambda x: x.groupby('Cell Type'),\n",
    "    lambda x: map(snd,x),\n",
    "    (map,lambda x: add_col(x,'Condition',x['Cell Type'])))"
   ]
  },
  {
   "cell_type": "code",
   "execution_count": 13,
   "metadata": {
    "collapsed": false
   },
   "outputs": [],
   "source": [
    "# mydf = pd.DataFrame({'a':[1,2,3],'b':[10,20,30],'c':[100,200,300]})\n",
    "\n",
    "# def f(x):\n",
    "#     print x\n",
    "#     return x['a'] * 2\n",
    "# mygroups = mydf.groupby(f,axis=0)"
   ]
  },
  {
   "cell_type": "code",
   "execution_count": 14,
   "metadata": {
    "collapsed": false
   },
   "outputs": [],
   "source": [
    "# phased_conditions_by_cell_type = thread_first(\n",
    "#     raw_cell_data,\n",
    "#     lambda x: x.groupby('Cell Type'),\n",
    "#     lambda xs: map(snd,xs),\n",
    "#     lambda conditions: map(label_cell_phase_2,conditions))"
   ]
  },
  {
   "cell_type": "code",
   "execution_count": 15,
   "metadata": {
    "collapsed": false
   },
   "outputs": [
    {
     "data": {
      "text/html": [
       "<div>\n",
       "<table border=\"1\" class=\"dataframe\">\n",
       "  <thead>\n",
       "    <tr style=\"text-align: right;\">\n",
       "      <th></th>\n",
       "      <th>Condition</th>\n",
       "      <th>Cell Phase</th>\n",
       "      <th>Cell Phase Threshold</th>\n",
       "    </tr>\n",
       "  </thead>\n",
       "  <tbody>\n",
       "    <tr>\n",
       "      <th>30458</th>\n",
       "      <td>APB 0.08 % Media Control 143b G1</td>\n",
       "      <td>G1</td>\n",
       "      <td>14873616.782783</td>\n",
       "    </tr>\n",
       "    <tr>\n",
       "      <th>30459</th>\n",
       "      <td>APB 0.08 % Media Control 143b S/G2</td>\n",
       "      <td>S/G2</td>\n",
       "      <td>14873616.782783</td>\n",
       "    </tr>\n",
       "    <tr>\n",
       "      <th>30460</th>\n",
       "      <td>APB 0.08 % Media Control 143b S/G2</td>\n",
       "      <td>S/G2</td>\n",
       "      <td>14873616.782783</td>\n",
       "    </tr>\n",
       "    <tr>\n",
       "      <th>30461</th>\n",
       "      <td>APB 0.08 % Media Control 143b G1</td>\n",
       "      <td>G1</td>\n",
       "      <td>14873616.782783</td>\n",
       "    </tr>\n",
       "    <tr>\n",
       "      <th>30462</th>\n",
       "      <td>APB 0.08 % Media Control 143b G1</td>\n",
       "      <td>G1</td>\n",
       "      <td>14873616.782783</td>\n",
       "    </tr>\n",
       "  </tbody>\n",
       "</table>\n",
       "</div>"
      ],
      "text/plain": [
       "                                Condition Cell Phase  Cell Phase Threshold\n",
       "30458    APB 0.08 % Media Control 143b G1         G1       14873616.782783\n",
       "30459  APB 0.08 % Media Control 143b S/G2       S/G2       14873616.782783\n",
       "30460  APB 0.08 % Media Control 143b S/G2       S/G2       14873616.782783\n",
       "30461    APB 0.08 % Media Control 143b G1         G1       14873616.782783\n",
       "30462    APB 0.08 % Media Control 143b G1         G1       14873616.782783"
      ]
     },
     "execution_count": 15,
     "metadata": {},
     "output_type": "execute_result"
    }
   ],
   "source": [
    "phased_conditions[0].head()[['Condition','Cell Phase','Cell Phase Threshold']]"
   ]
  },
  {
   "cell_type": "code",
   "execution_count": 16,
   "metadata": {
    "collapsed": true
   },
   "outputs": [],
   "source": [
    "thresholded_data = pd.concat(phased_conditions)\n",
    "thresholded_data_by_cell_type = pd.concat(phased_conditions_by_cell_type)\n",
    "all_by_cell_type = pd.concat(by_cell_type)"
   ]
  },
  {
   "cell_type": "code",
   "execution_count": 17,
   "metadata": {
    "collapsed": false
   },
   "outputs": [],
   "source": [
    "thresholded_data.to_csv('/notebooks/tmp/1.csv',index=False)\n",
    "thresholded_data_by_cell_type.to_csv('/notebooks/tmp/2.csv',index=False)\n",
    "all_by_cell_type.to_csv('/notebooks/tmp/3.csv',index=False)\n",
    "raw_cell_data.to_csv('/notebooks/tmp/4.csv')"
   ]
  },
  {
   "cell_type": "code",
   "execution_count": null,
   "metadata": {
    "collapsed": false
   },
   "outputs": [],
   "source": [
    "raw_cell_data = pd.concat([all_by_cell_type,thresholded_data_by_cell_type,raw_cell_data, thresholded_data])"
   ]
  },
  {
   "cell_type": "code",
   "execution_count": 2,
   "metadata": {
    "collapsed": true
   },
   "outputs": [],
   "source": [
    "df1 = pd.read_csv('/notebooks/tmp/1.csv')\n",
    "df2 = pd.read_csv('/notebooks/tmp/2.csv')\n",
    "df3 = pd.read_csv('/notebooks/tmp/3.csv')\n",
    "df4 = pd.read_csv('/notebooks/tmp/4.csv')"
   ]
  },
  {
   "cell_type": "code",
   "execution_count": 3,
   "metadata": {
    "collapsed": true
   },
   "outputs": [],
   "source": [
    "raw_cell_data = pd.concat([df1,df2,df3,df4])"
   ]
  },
  {
   "cell_type": "code",
   "execution_count": 4,
   "metadata": {
    "collapsed": true
   },
   "outputs": [],
   "source": [
    "raw_cell_data.to_csv('/notebooks/moldev-data/analyzed/07-20-2015/APB-phase_split-cells.csv',index=False)"
   ]
  },
  {
   "cell_type": "code",
   "execution_count": null,
   "metadata": {
    "collapsed": true
   },
   "outputs": [],
   "source": []
  }
 ],
 "metadata": {
  "kernelspec": {
   "display_name": "Python 2",
   "language": "python",
   "name": "python2"
  },
  "language_info": {
   "codemirror_mode": {
    "name": "ipython",
    "version": 2
   },
   "file_extension": ".py",
   "mimetype": "text/x-python",
   "name": "python",
   "nbconvert_exporter": "python",
   "pygments_lexer": "ipython2",
   "version": "2.7.6"
  }
 },
 "nbformat": 4,
 "nbformat_minor": 0
}
