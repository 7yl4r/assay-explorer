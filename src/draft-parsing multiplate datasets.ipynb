{
 "cells": [
  {
   "cell_type": "code",
   "execution_count": 1,
   "metadata": {
    "collapsed": true
   },
   "outputs": [],
   "source": [
    "import toolz"
   ]
  },
  {
   "cell_type": "code",
   "execution_count": 102,
   "metadata": {
    "collapsed": false
   },
   "outputs": [],
   "source": [
    "import pandas as pd\n",
    "from StringIO import StringIO"
   ]
  },
  {
   "cell_type": "code",
   "execution_count": 103,
   "metadata": {
    "collapsed": true
   },
   "outputs": [],
   "source": [
    "path = '/notebooks/moldev-data/original/06-19-2015/6.19.15 All ssC data - Jonah Simon.txt'"
   ]
  },
  {
   "cell_type": "code",
   "execution_count": 114,
   "metadata": {
    "collapsed": true
   },
   "outputs": [],
   "source": [
    "f = open(path).read()\n",
    "f2 = f.split('ATF')[1:]"
   ]
  },
  {
   "cell_type": "code",
   "execution_count": null,
   "metadata": {
    "collapsed": true
   },
   "outputs": [],
   "source": []
  },
  {
   "cell_type": "code",
   "execution_count": 116,
   "metadata": {
    "collapsed": false
   },
   "outputs": [],
   "source": [
    "data = pd.concat([pd.read_csv(StringIO(my_f),delimiter='\\t',skiprows=4) for my_f in f2])"
   ]
  },
  {
   "cell_type": "code",
   "execution_count": 118,
   "metadata": {
    "collapsed": false
   },
   "outputs": [
    {
     "data": {
      "text/plain": [
       "19448"
      ]
     },
     "execution_count": 118,
     "metadata": {},
     "output_type": "execute_result"
    }
   ],
   "source": [
    "len(data)"
   ]
  },
  {
   "cell_type": "code",
   "execution_count": 39,
   "metadata": {
    "collapsed": false
   },
   "outputs": [],
   "source": [
    "#data = pd.read_c`sv(path,delimiter='\\t',skiprows=5)"
   ]
  },
  {
   "cell_type": "code",
   "execution_count": 40,
   "metadata": {
    "collapsed": false
   },
   "outputs": [],
   "source": [
    "f = open(path).read()"
   ]
  },
  {
   "cell_type": "code",
   "execution_count": 41,
   "metadata": {
    "collapsed": false
   },
   "outputs": [],
   "source": [
    "lines = f.split('\\n')"
   ]
  },
  {
   "cell_type": "code",
   "execution_count": 42,
   "metadata": {
    "collapsed": false
   },
   "outputs": [],
   "source": [
    "fields = [l.split('\\t') for l in lines]"
   ]
  },
  {
   "cell_type": "code",
   "execution_count": 82,
   "metadata": {
    "collapsed": false
   },
   "outputs": [],
   "source": [
    "def parse_lines(x):\n",
    "    lines = x.split('\\r\\n')\n",
    "    return [l.split('\\t') for l in lines]"
   ]
  },
  {
   "cell_type": "code",
   "execution_count": 43,
   "metadata": {
    "collapsed": false
   },
   "outputs": [
    {
     "data": {
      "text/plain": [
       "['\"Plate ID\"', '28', '28', '28', '28', '28']"
      ]
     },
     "execution_count": 43,
     "metadata": {},
     "output_type": "execute_result"
    }
   ],
   "source": [
    "[l[3] for l in fields[4:10]]"
   ]
  },
  {
   "cell_type": "code",
   "execution_count": 44,
   "metadata": {
    "collapsed": false
   },
   "outputs": [
    {
     "data": {
      "text/plain": [
       "{'\"Plate ID\"', '24', '26', '27', '28', '31'}"
      ]
     },
     "execution_count": 44,
     "metadata": {},
     "output_type": "execute_result"
    }
   ],
   "source": [
    "#fields[4]\n",
    "# filter(lambda x: len(x) < 20 or len(x) > 46,fields)\n",
    "set(map(lambda x: x[3], filter(lambda x: len(x) > 20,fields)))"
   ]
  },
  {
   "cell_type": "code",
   "execution_count": 45,
   "metadata": {
    "collapsed": true
   },
   "outputs": [],
   "source": [
    "x = [1,2,3]"
   ]
  },
  {
   "cell_type": "code",
   "execution_count": null,
   "metadata": {
    "collapsed": true
   },
   "outputs": [],
   "source": [
    "toolz."
   ]
  },
  {
   "cell_type": "code",
   "execution_count": 75,
   "metadata": {
    "collapsed": false
   },
   "outputs": [
    {
     "data": {
      "text/plain": [
       "{1: 10, 2: 6, 45: 19449, 46: 4}"
      ]
     },
     "execution_count": 75,
     "metadata": {},
     "output_type": "execute_result"
    }
   ],
   "source": [
    "freqs = toolz.frequencies(map(len,fields))\n",
    "freqs"
   ]
  },
  {
   "cell_type": "code",
   "execution_count": 93,
   "metadata": {
    "collapsed": false
   },
   "outputs": [],
   "source": [
    "plates = map(parse_lines,f.split('ATF'))"
   ]
  },
  {
   "cell_type": "code",
   "execution_count": 86,
   "metadata": {
    "collapsed": false
   },
   "outputs": [
    {
     "data": {
      "text/plain": [
       "6"
      ]
     },
     "execution_count": 86,
     "metadata": {},
     "output_type": "execute_result"
    }
   ],
   "source": [
    "len(plates)"
   ]
  },
  {
   "cell_type": "code",
   "execution_count": 89,
   "metadata": {
    "collapsed": true
   },
   "outputs": [],
   "source": [
    "p1 = parse_lines(plates[2])"
   ]
  },
  {
   "cell_type": "code",
   "execution_count": 94,
   "metadata": {
    "collapsed": false
   },
   "outputs": [
    {
     "data": {
      "text/plain": [
       "[{1: 1},\n",
       " {1: 2, 2: 2, 45: 4743},\n",
       " {1: 2, 2: 2, 45: 2897},\n",
       " {1: 2, 2: 2, 45: 3880},\n",
       " {1: 2, 2: 2, 45: 4751},\n",
       " {1: 2, 2: 2, 45: 3182}]"
      ]
     },
     "execution_count": 94,
     "metadata": {},
     "output_type": "execute_result"
    }
   ],
   "source": [
    "[toolz.frequencies(x) for x in map(lambda x: map(len,x),plates)]"
   ]
  },
  {
   "cell_type": "code",
   "execution_count": 78,
   "metadata": {
    "collapsed": false
   },
   "outputs": [
    {
     "data": {
      "text/plain": [
       "[['ATF', '1.0\\r'],\n",
       " ['1', '45\\r'],\n",
       " ['Calculation applied: None\\r'],\n",
       " ['\"Name [Measurement Set Info]=ssC HS JS (60X) 06.18.2015\"\\r'],\n",
       " ['\"Well Name\"',\n",
       "  '\"Site ID\"',\n",
       "  '\"Cell ID\"',\n",
       "  '\"Plate ID\"',\n",
       "  '\"MEASUREMENT SET ID\"',\n",
       "  '\"Cell: ObjectID (ssC HS JS (60X) 06.18.2015)\"',\n",
       "  '\"Cell: # of FITC spots (ssC HS JS (60X) 06.18.2015)\"',\n",
       "  '\"Cell: Area_FITC (ssC HS JS (60X) 06.18.2015)\"',\n",
       "  '\"Cell: NucArea_Avg (ssC HS JS (60X) 06.18.2015)\"',\n",
       "  '\"Cell: NucIntegrated Intensity_Average (ssC HS JS (60X) 06.18.2015)\"',\n",
       "  '\"Cell: Integrated Intensity_FITC (ssC HS JS (60X) 06.18.2015)\"',\n",
       "  '\"Cell: Area_TxRed (ssC HS JS (60X) 06.18.2015)\"',\n",
       "  '\"Cell: Integrated Intensity_TxRed (ssC HS JS (60X) 06.18.2015)\"',\n",
       "  '\"Cell: # of TxRed spots (ssC HS JS (60X) 06.18.2015)\"',\n",
       "  '\"Cell: Area_APB (ssC HS JS (60X) 06.18.2015)\"',\n",
       "  '\"Cell: # of APBs (ssC HS JS (60X) 06.18.2015)\"',\n",
       "  '\"Cell: Total_Area_FITC (ssC HS JS (60X) 06.18.2015)\"',\n",
       "  '\"Cell: Total_Area_TxRed (ssC HS JS (60X) 06.18.2015)\"',\n",
       "  '\"Cell: Area_Coloc_Avg (ssC HS JS (60X) 06.18.2015)\"',\n",
       "  '\"Cell: Total_Area_Coloc (ssC HS JS (60X) 06.18.2015)\"',\n",
       "  '\"Cell: # Coloc Spots (ssC HS JS (60X) 06.18.2015)\"',\n",
       "  '\"Cell: Area_FITCinAPB_Avg (ssC HS JS (60X) 06.18.2015)\"',\n",
       "  '\"Cell: Area_FITCinAPB_Total (ssC HS JS (60X) 06.18.2015)\"',\n",
       "  '\"Cell: FITCinAPB_Int_Intensity_Avg (ssC HS JS (60X) 06.18.2015)\"',\n",
       "  '\"Cell: # FITCinAPB spots (ssC HS JS (60X) 06.18.2015)\"',\n",
       "  '\"Cell: Area_TxRedinAPB_Avg (ssC HS JS (60X) 06.18.2015)\"',\n",
       "  '\"Cell: TxRedinAPB_Int_Intensity_Avg (ssC HS JS (60X) 06.18.2015)\"',\n",
       "  '\"Cell: # TxRed in APB (ssC HS JS (60X) 06.18.2015)\"',\n",
       "  '\"Cell: Area_TxRedinAPB_Total (ssC HS JS (60X) 06.18.2015)\"',\n",
       "  '\"Cell: Total_Int_Intensity_FITC (ssC HS JS (60X) 06.18.2015)\"',\n",
       "  '\"Cell: Total_Int_Intensity_TxRed (ssC HS JS (60X) 06.18.2015)\"',\n",
       "  '\"Cell: FITCinAPB_Int_Intensity_Total (ssC HS JS (60X) 06.18.2015)\"',\n",
       "  '\"Cell: TxRinAPB_Int_Intensity_Total (ssC HS JS (60X) 06.18.2015)\"',\n",
       "  '\"Cell: FITC-TxRed_Area_Avg (ssC HS JS (60X) 06.18.2015)\"',\n",
       "  '\"Cell: FITC-TxRed_Area_Total (ssC HS JS (60X) 06.18.2015)\"',\n",
       "  '\"Cell: FITC-TxRed Spots (ssC HS JS (60X) 06.18.2015)\"',\n",
       "  '\"Laser focus score (ssC HS JS (60X) 06.18.2015)\"',\n",
       "  '\"Cell Count (ssC HS JS (60X) 06.18.2015)\"',\n",
       "  '\"# of FITC spots.Total (ssC HS JS (60X) 06.18.2015)\"',\n",
       "  '\"# of TxRed spots.Total (ssC HS JS (60X) 06.18.2015)\"',\n",
       "  '\"# of APBs.Total (ssC HS JS (60X) 06.18.2015)\"',\n",
       "  '\"# Coloc Spots.Total (ssC HS JS (60X) 06.18.2015)\"',\n",
       "  '\"# FITCinAPB spots.Total (ssC HS JS (60X) 06.18.2015)\"',\n",
       "  '\"# TxRed in APB.Total (ssC HS JS (60X) 06.18.2015)\"',\n",
       "  '\"FITC-TxRed Spots.Total (ssC HS JS (60X) 06.18.2015)\"\\r'],\n",
       " ['\"A01\"',\n",
       "  '1',\n",
       "  '\"28_45295_45295_1\"',\n",
       "  '28',\n",
       "  '130',\n",
       "  '1.0',\n",
       "  '9.0',\n",
       "  '0.314608',\n",
       "  '166.78718599999999',\n",
       "  '6676052.0',\n",
       "  '15065.444336',\n",
       "  '0.10112400000000001',\n",
       "  '1533.0',\n",
       "  '1.0',\n",
       "  '',\n",
       "  '0.0',\n",
       "  '2.8314720000000002',\n",
       "  '0.10112400000000001',\n",
       "  '',\n",
       "  '',\n",
       "  '0.0',\n",
       "  '',\n",
       "  '',\n",
       "  '',\n",
       "  '0.0',\n",
       "  '',\n",
       "  '',\n",
       "  '0.0',\n",
       "  '',\n",
       "  '135589.0',\n",
       "  '1533.0',\n",
       "  '',\n",
       "  '',\n",
       "  '',\n",
       "  '',\n",
       "  '0.0',\n",
       "  '29.0',\n",
       "  '',\n",
       "  '',\n",
       "  '',\n",
       "  '',\n",
       "  '',\n",
       "  '',\n",
       "  '',\n",
       "  '\\r']]"
      ]
     },
     "execution_count": 78,
     "metadata": {},
     "output_type": "execute_result"
    }
   ],
   "source": [
    "fields[:6]"
   ]
  },
  {
   "cell_type": "code",
   "execution_count": 74,
   "metadata": {
    "collapsed": false
   },
   "outputs": [
    {
     "data": {
      "text/plain": [
       "[['\"B04\"',\n",
       "  '16',\n",
       "  '\"28_45406_45406_9\"',\n",
       "  '28',\n",
       "  '130',\n",
       "  '9.0',\n",
       "  '8.0',\n",
       "  '0.47050799999999998',\n",
       "  '76.045249999999996',\n",
       "  '3066016.0',\n",
       "  '54827.375',\n",
       "  '0.10112400000000001',\n",
       "  '1558.0',\n",
       "  '1.0',\n",
       "  '',\n",
       "  '0.0',\n",
       "  '3.7640600000000002',\n",
       "  '0.10112400000000001',\n",
       "  '',\n",
       "  '',\n",
       "  '0.0',\n",
       "  '',\n",
       "  '',\n",
       "  '',\n",
       "  '0.0',\n",
       "  '',\n",
       "  '',\n",
       "  '0.0',\n",
       "  '',\n",
       "  '438619.0',\n",
       "  '1558.0',\n",
       "  '',\n",
       "  '',\n",
       "  '',\n",
       "  '',\n",
       "  '0.0',\n",
       "  '33.075671999999997',\n",
       "  '',\n",
       "  '',\n",
       "  '',\n",
       "  '',\n",
       "  '',\n",
       "  '',\n",
       "  '',\n",
       "  'ATF',\n",
       "  '1.0\\r'],\n",
       " ['\"B03\"',\n",
       "  '15',\n",
       "  '\"31_45774_45774_9\"',\n",
       "  '31',\n",
       "  '133',\n",
       "  '9.0',\n",
       "  '0.0',\n",
       "  '',\n",
       "  '61.348559999999999',\n",
       "  '2763321.0',\n",
       "  '',\n",
       "  '',\n",
       "  '',\n",
       "  '0.0',\n",
       "  '',\n",
       "  '0.0',\n",
       "  '',\n",
       "  '',\n",
       "  '',\n",
       "  '',\n",
       "  '0.0',\n",
       "  '',\n",
       "  '',\n",
       "  '',\n",
       "  '0.0',\n",
       "  '',\n",
       "  '',\n",
       "  '0.0',\n",
       "  '',\n",
       "  '',\n",
       "  '',\n",
       "  '',\n",
       "  '',\n",
       "  '',\n",
       "  '',\n",
       "  '0.0',\n",
       "  '29.529646',\n",
       "  '',\n",
       "  '',\n",
       "  '',\n",
       "  '',\n",
       "  '',\n",
       "  '',\n",
       "  '',\n",
       "  'ATF',\n",
       "  '1.0\\r'],\n",
       " ['\"B04\"',\n",
       "  '16',\n",
       "  '\"27_45278_45278_9\"',\n",
       "  '27',\n",
       "  '129',\n",
       "  '9.0',\n",
       "  '7.0',\n",
       "  '0.33065899999999998',\n",
       "  '112.80944100000001',\n",
       "  '32274082.0',\n",
       "  '58498.570312999997',\n",
       "  '',\n",
       "  '',\n",
       "  '0.0',\n",
       "  '',\n",
       "  '0.0',\n",
       "  '2.314616',\n",
       "  '',\n",
       "  '',\n",
       "  '',\n",
       "  '0.0',\n",
       "  '',\n",
       "  '',\n",
       "  '',\n",
       "  '0.0',\n",
       "  '',\n",
       "  '',\n",
       "  '0.0',\n",
       "  '',\n",
       "  '409490.0',\n",
       "  '',\n",
       "  '',\n",
       "  '',\n",
       "  '',\n",
       "  '',\n",
       "  '0.0',\n",
       "  '25.039967999999998',\n",
       "  '',\n",
       "  '',\n",
       "  '',\n",
       "  '',\n",
       "  '',\n",
       "  '',\n",
       "  '',\n",
       "  'ATF',\n",
       "  '1.0\\r'],\n",
       " ['\"B04\"',\n",
       "  '15',\n",
       "  '\"24_44894_44894_9\"',\n",
       "  '24',\n",
       "  '126',\n",
       "  '9.0',\n",
       "  '10.0',\n",
       "  '0.37865300000000002',\n",
       "  '153.34892300000001',\n",
       "  '8910151.0',\n",
       "  '31454.800781000002',\n",
       "  '',\n",
       "  '',\n",
       "  '0.0',\n",
       "  '',\n",
       "  '0.0',\n",
       "  '3.7865319999999998',\n",
       "  '',\n",
       "  '',\n",
       "  '',\n",
       "  '0.0',\n",
       "  '',\n",
       "  '',\n",
       "  '',\n",
       "  '0.0',\n",
       "  '',\n",
       "  '',\n",
       "  '0.0',\n",
       "  '',\n",
       "  '314548.0',\n",
       "  '',\n",
       "  '',\n",
       "  '',\n",
       "  '',\n",
       "  '',\n",
       "  '0.0',\n",
       "  '34.583233',\n",
       "  '',\n",
       "  '',\n",
       "  '',\n",
       "  '',\n",
       "  '',\n",
       "  '',\n",
       "  '',\n",
       "  'ATF',\n",
       "  '1.0\\r']]"
      ]
     },
     "execution_count": 74,
     "metadata": {},
     "output_type": "execute_result"
    }
   ],
   "source": [
    "filter(lambda x: len(x) > 45,fields)"
   ]
  },
  {
   "cell_type": "code",
   "execution_count": 55,
   "metadata": {
    "collapsed": false
   },
   "outputs": [
    {
     "data": {
      "text/plain": [
       "45"
      ]
     },
     "execution_count": 55,
     "metadata": {},
     "output_type": "execute_result"
    }
   ],
   "source": [
    "max(freqs,key=freqs.get)"
   ]
  },
  {
   "cell_type": "code",
   "execution_count": 57,
   "metadata": {
    "collapsed": false
   },
   "outputs": [
    {
     "ename": "TypeError",
     "evalue": "unhashable type: 'list'",
     "output_type": "error",
     "traceback": [
      "\u001b[1;31m---------------------------------------------------------------------------\u001b[0m",
      "\u001b[1;31mTypeError\u001b[0m                                 Traceback (most recent call last)",
      "\u001b[1;32m<ipython-input-57-1ffd9a1c8e4a>\u001b[0m in \u001b[0;36m<module>\u001b[1;34m()\u001b[0m\n\u001b[1;32m----> 1\u001b[1;33m \u001b[0mset\u001b[0m\u001b[1;33m(\u001b[0m\u001b[1;33m[\u001b[0m\u001b[1;33m[\u001b[0m\u001b[1;33m[\u001b[0m\u001b[1;36m1\u001b[0m\u001b[1;33m,\u001b[0m\u001b[1;36m2\u001b[0m\u001b[1;33m,\u001b[0m\u001b[1;36m3\u001b[0m\u001b[1;33m]\u001b[0m\u001b[1;33m,\u001b[0m\u001b[1;33m[\u001b[0m\u001b[1;36m1\u001b[0m\u001b[1;33m,\u001b[0m\u001b[1;36m2\u001b[0m\u001b[1;33m,\u001b[0m\u001b[1;36m4\u001b[0m\u001b[1;33m]\u001b[0m\u001b[1;33m]\u001b[0m\u001b[1;33m,\u001b[0m\u001b[1;33m[\u001b[0m\u001b[1;33m[\u001b[0m\u001b[1;36m1\u001b[0m\u001b[1;33m,\u001b[0m\u001b[1;36m2\u001b[0m\u001b[1;33m,\u001b[0m\u001b[1;36m3\u001b[0m\u001b[1;33m]\u001b[0m\u001b[1;33m,\u001b[0m\u001b[1;33m[\u001b[0m\u001b[1;36m1\u001b[0m\u001b[1;33m,\u001b[0m\u001b[1;36m2\u001b[0m\u001b[1;33m,\u001b[0m\u001b[1;36m4\u001b[0m\u001b[1;33m]\u001b[0m\u001b[1;33m]\u001b[0m\u001b[1;33m]\u001b[0m\u001b[1;33m)\u001b[0m\u001b[1;33m\u001b[0m\u001b[0m\n\u001b[0m",
      "\u001b[1;31mTypeError\u001b[0m: unhashable type: 'list'"
     ]
    }
   ],
   "source": [
    "set([[[1,2,3],[1,2,4]],[[1,2,3],[1,2,4]]])"
   ]
  },
  {
   "cell_type": "code",
   "execution_count": 58,
   "metadata": {
    "collapsed": true
   },
   "outputs": [],
   "source": [
    "def parse_csv(path):\n",
    "    return pipe(path,\n",
    "                lambda x: open(x).read(),\n",
    "                )"
   ]
  },
  {
   "cell_type": "code",
   "execution_count": 65,
   "metadata": {
    "collapsed": false
   },
   "outputs": [
    {
     "data": {
      "text/plain": [
       "[['ATF', '1.0\\r'],\n",
       " ['1', '45\\r'],\n",
       " ['Calculation applied: None\\r'],\n",
       " ['\"Name [Measurement Set Info]=ssC HS JS (60X) 06.18.2015\"\\r'],\n",
       " ['\"Well Name\"',\n",
       "  '\"Site ID\"',\n",
       "  '\"Cell ID\"',\n",
       "  '\"Plate ID\"',\n",
       "  '\"MEASUREMENT SET ID\"',\n",
       "  '\"Cell: ObjectID (ssC HS JS (60X) 06.18.2015)\"',\n",
       "  '\"Cell: # of FITC spots (ssC HS JS (60X) 06.18.2015)\"',\n",
       "  '\"Cell: Area_FITC (ssC HS JS (60X) 06.18.2015)\"',\n",
       "  '\"Cell: NucArea_Avg (ssC HS JS (60X) 06.18.2015)\"',\n",
       "  '\"Cell: NucIntegrated Intensity_Average (ssC HS JS (60X) 06.18.2015)\"',\n",
       "  '\"Cell: Integrated Intensity_FITC (ssC HS JS (60X) 06.18.2015)\"',\n",
       "  '\"Cell: Area_TxRed (ssC HS JS (60X) 06.18.2015)\"',\n",
       "  '\"Cell: Integrated Intensity_TxRed (ssC HS JS (60X) 06.18.2015)\"',\n",
       "  '\"Cell: # of TxRed spots (ssC HS JS (60X) 06.18.2015)\"',\n",
       "  '\"Cell: Area_APB (ssC HS JS (60X) 06.18.2015)\"',\n",
       "  '\"Cell: # of APBs (ssC HS JS (60X) 06.18.2015)\"',\n",
       "  '\"Cell: Total_Area_FITC (ssC HS JS (60X) 06.18.2015)\"',\n",
       "  '\"Cell: Total_Area_TxRed (ssC HS JS (60X) 06.18.2015)\"',\n",
       "  '\"Cell: Area_Coloc_Avg (ssC HS JS (60X) 06.18.2015)\"',\n",
       "  '\"Cell: Total_Area_Coloc (ssC HS JS (60X) 06.18.2015)\"',\n",
       "  '\"Cell: # Coloc Spots (ssC HS JS (60X) 06.18.2015)\"',\n",
       "  '\"Cell: Area_FITCinAPB_Avg (ssC HS JS (60X) 06.18.2015)\"',\n",
       "  '\"Cell: Area_FITCinAPB_Total (ssC HS JS (60X) 06.18.2015)\"',\n",
       "  '\"Cell: FITCinAPB_Int_Intensity_Avg (ssC HS JS (60X) 06.18.2015)\"',\n",
       "  '\"Cell: # FITCinAPB spots (ssC HS JS (60X) 06.18.2015)\"',\n",
       "  '\"Cell: Area_TxRedinAPB_Avg (ssC HS JS (60X) 06.18.2015)\"',\n",
       "  '\"Cell: TxRedinAPB_Int_Intensity_Avg (ssC HS JS (60X) 06.18.2015)\"',\n",
       "  '\"Cell: # TxRed in APB (ssC HS JS (60X) 06.18.2015)\"',\n",
       "  '\"Cell: Area_TxRedinAPB_Total (ssC HS JS (60X) 06.18.2015)\"',\n",
       "  '\"Cell: Total_Int_Intensity_FITC (ssC HS JS (60X) 06.18.2015)\"',\n",
       "  '\"Cell: Total_Int_Intensity_TxRed (ssC HS JS (60X) 06.18.2015)\"',\n",
       "  '\"Cell: FITCinAPB_Int_Intensity_Total (ssC HS JS (60X) 06.18.2015)\"',\n",
       "  '\"Cell: TxRinAPB_Int_Intensity_Total (ssC HS JS (60X) 06.18.2015)\"',\n",
       "  '\"Cell: FITC-TxRed_Area_Avg (ssC HS JS (60X) 06.18.2015)\"',\n",
       "  '\"Cell: FITC-TxRed_Area_Total (ssC HS JS (60X) 06.18.2015)\"',\n",
       "  '\"Cell: FITC-TxRed Spots (ssC HS JS (60X) 06.18.2015)\"',\n",
       "  '\"Laser focus score (ssC HS JS (60X) 06.18.2015)\"',\n",
       "  '\"Cell Count (ssC HS JS (60X) 06.18.2015)\"',\n",
       "  '\"# of FITC spots.Total (ssC HS JS (60X) 06.18.2015)\"',\n",
       "  '\"# of TxRed spots.Total (ssC HS JS (60X) 06.18.2015)\"',\n",
       "  '\"# of APBs.Total (ssC HS JS (60X) 06.18.2015)\"',\n",
       "  '\"# Coloc Spots.Total (ssC HS JS (60X) 06.18.2015)\"',\n",
       "  '\"# FITCinAPB spots.Total (ssC HS JS (60X) 06.18.2015)\"',\n",
       "  '\"# TxRed in APB.Total (ssC HS JS (60X) 06.18.2015)\"',\n",
       "  '\"FITC-TxRed Spots.Total (ssC HS JS (60X) 06.18.2015)\"\\r'],\n",
       " ['\"A01\"',\n",
       "  '1',\n",
       "  '\"28_45295_45295_1\"',\n",
       "  '28',\n",
       "  '130',\n",
       "  '1.0',\n",
       "  '9.0',\n",
       "  '0.314608',\n",
       "  '166.78718599999999',\n",
       "  '6676052.0',\n",
       "  '15065.444336',\n",
       "  '0.10112400000000001',\n",
       "  '1533.0',\n",
       "  '1.0',\n",
       "  '',\n",
       "  '0.0',\n",
       "  '2.8314720000000002',\n",
       "  '0.10112400000000001',\n",
       "  '',\n",
       "  '',\n",
       "  '0.0',\n",
       "  '',\n",
       "  '',\n",
       "  '',\n",
       "  '0.0',\n",
       "  '',\n",
       "  '',\n",
       "  '0.0',\n",
       "  '',\n",
       "  '135589.0',\n",
       "  '1533.0',\n",
       "  '',\n",
       "  '',\n",
       "  '',\n",
       "  '',\n",
       "  '0.0',\n",
       "  '29.0',\n",
       "  '',\n",
       "  '',\n",
       "  '',\n",
       "  '',\n",
       "  '',\n",
       "  '',\n",
       "  '',\n",
       "  '\\r'],\n",
       " ['\"A01\"',\n",
       "  '1',\n",
       "  '\"28_45295_45295_2\"',\n",
       "  '28',\n",
       "  '130',\n",
       "  '2.0',\n",
       "  '30.0',\n",
       "  '0.38090000000000002',\n",
       "  '220.989655',\n",
       "  '7825328.0',\n",
       "  '45452.234375',\n",
       "  '',\n",
       "  '',\n",
       "  '0.0',\n",
       "  '',\n",
       "  '0.0',\n",
       "  '11.427012',\n",
       "  '',\n",
       "  '',\n",
       "  '',\n",
       "  '0.0',\n",
       "  '',\n",
       "  '',\n",
       "  '',\n",
       "  '0.0',\n",
       "  '',\n",
       "  '',\n",
       "  '0.0',\n",
       "  '',\n",
       "  '1363567.0',\n",
       "  '',\n",
       "  '',\n",
       "  '',\n",
       "  '',\n",
       "  '',\n",
       "  '0.0',\n",
       "  '29.0',\n",
       "  '',\n",
       "  '',\n",
       "  '',\n",
       "  '',\n",
       "  '',\n",
       "  '',\n",
       "  '',\n",
       "  '\\r'],\n",
       " ['\"A01\"',\n",
       "  '1',\n",
       "  '\"28_45295_45295_3\"',\n",
       "  '28',\n",
       "  '130',\n",
       "  '3.0',\n",
       "  '13.0',\n",
       "  '0.29472900000000002',\n",
       "  '154.607361',\n",
       "  '6503341.0',\n",
       "  '13281.845703000001',\n",
       "  '',\n",
       "  '',\n",
       "  '0.0',\n",
       "  '',\n",
       "  '0.0',\n",
       "  '3.8314759999999999',\n",
       "  '',\n",
       "  '',\n",
       "  '',\n",
       "  '0.0',\n",
       "  '',\n",
       "  '',\n",
       "  '',\n",
       "  '0.0',\n",
       "  '',\n",
       "  '',\n",
       "  '0.0',\n",
       "  '',\n",
       "  '172664.0',\n",
       "  '',\n",
       "  '',\n",
       "  '',\n",
       "  '',\n",
       "  '',\n",
       "  '0.0',\n",
       "  '29.0',\n",
       "  '',\n",
       "  '',\n",
       "  '',\n",
       "  '',\n",
       "  '',\n",
       "  '',\n",
       "  '',\n",
       "  '\\r'],\n",
       " ['\"A01\"',\n",
       "  '1',\n",
       "  '\"28_45295_45295_4\"',\n",
       "  '28',\n",
       "  '130',\n",
       "  '4.0',\n",
       "  '13.0',\n",
       "  '0.279171',\n",
       "  '219.86604299999999',\n",
       "  '11076027.0',\n",
       "  '21914.615234000001',\n",
       "  '',\n",
       "  '',\n",
       "  '0.0',\n",
       "  '',\n",
       "  '0.0',\n",
       "  '3.6292279999999999',\n",
       "  '',\n",
       "  '',\n",
       "  '',\n",
       "  '0.0',\n",
       "  '',\n",
       "  '',\n",
       "  '',\n",
       "  '0.0',\n",
       "  '',\n",
       "  '',\n",
       "  '0.0',\n",
       "  '',\n",
       "  '284890.0',\n",
       "  '',\n",
       "  '',\n",
       "  '',\n",
       "  '',\n",
       "  '',\n",
       "  '0.0',\n",
       "  '29.0',\n",
       "  '',\n",
       "  '',\n",
       "  '',\n",
       "  '',\n",
       "  '',\n",
       "  '',\n",
       "  '',\n",
       "  '\\r'],\n",
       " ['\"A01\"',\n",
       "  '2',\n",
       "  '\"28_45296_45296_1\"',\n",
       "  '28',\n",
       "  '130',\n",
       "  '1.0',\n",
       "  '9.0',\n",
       "  '0.463173',\n",
       "  '88.404846000000006',\n",
       "  '4023999.0',\n",
       "  '35109.667969000002',\n",
       "  '',\n",
       "  '',\n",
       "  '0.0',\n",
       "  '',\n",
       "  '0.0',\n",
       "  '4.1685559999999997',\n",
       "  '',\n",
       "  '',\n",
       "  '',\n",
       "  '0.0',\n",
       "  '',\n",
       "  '',\n",
       "  '',\n",
       "  '0.0',\n",
       "  '',\n",
       "  '',\n",
       "  '0.0',\n",
       "  '',\n",
       "  '315987.0',\n",
       "  '',\n",
       "  '',\n",
       "  '',\n",
       "  '',\n",
       "  '',\n",
       "  '0.0',\n",
       "  '31.0',\n",
       "  '',\n",
       "  '',\n",
       "  '',\n",
       "  '',\n",
       "  '',\n",
       "  '',\n",
       "  '',\n",
       "  '\\r']]"
      ]
     },
     "execution_count": 65,
     "metadata": {},
     "output_type": "execute_result"
    }
   ],
   "source": [
    "fields[0:10]"
   ]
  },
  {
   "cell_type": "code",
   "execution_count": 66,
   "metadata": {
    "collapsed": false
   },
   "outputs": [
    {
     "data": {
      "text/plain": [
       "19469"
      ]
     },
     "execution_count": 66,
     "metadata": {},
     "output_type": "execute_result"
    }
   ],
   "source": [
    "len(f.split('\\r\\n'))"
   ]
  },
  {
   "cell_type": "code",
   "execution_count": 70,
   "metadata": {
    "collapsed": false
   },
   "outputs": [
    {
     "data": {
      "text/plain": [
       "19469"
      ]
     },
     "execution_count": 70,
     "metadata": {},
     "output_type": "execute_result"
    }
   ],
   "source": [
    "len(f.split('\\n'))"
   ]
  },
  {
   "cell_type": "code",
   "execution_count": 119,
   "metadata": {
    "collapsed": true
   },
   "outputs": [],
   "source": [
    "df1 = pd.DataFrame(dict(a=[1,2,3],b=[10,20,30]))"
   ]
  },
  {
   "cell_type": "code",
   "execution_count": 120,
   "metadata": {
    "collapsed": true
   },
   "outputs": [],
   "source": [
    "df2 = pd.DataFrame(dict(a=[2,3,4],c=[20,30,40]))"
   ]
  },
  {
   "cell_type": "code",
   "execution_count": null,
   "metadata": {
    "collapsed": true
   },
   "outputs": [],
   "source": [
    "df3 = pd.DataFrame(dict(a=[2,3,4],b=[20,30,40]))"
   ]
  },
  {
   "cell_type": "code",
   "execution_count": 121,
   "metadata": {
    "collapsed": false
   },
   "outputs": [
    {
     "data": {
      "text/html": [
       "<div>\n",
       "<table border=\"1\" class=\"dataframe\">\n",
       "  <thead>\n",
       "    <tr style=\"text-align: right;\">\n",
       "      <th></th>\n",
       "      <th>a</th>\n",
       "      <th>b</th>\n",
       "      <th>c</th>\n",
       "    </tr>\n",
       "  </thead>\n",
       "  <tbody>\n",
       "    <tr>\n",
       "      <th>0</th>\n",
       "      <td>1</td>\n",
       "      <td>10</td>\n",
       "      <td>NaN</td>\n",
       "    </tr>\n",
       "    <tr>\n",
       "      <th>1</th>\n",
       "      <td>2</td>\n",
       "      <td>20</td>\n",
       "      <td>NaN</td>\n",
       "    </tr>\n",
       "    <tr>\n",
       "      <th>2</th>\n",
       "      <td>3</td>\n",
       "      <td>30</td>\n",
       "      <td>NaN</td>\n",
       "    </tr>\n",
       "    <tr>\n",
       "      <th>0</th>\n",
       "      <td>2</td>\n",
       "      <td>NaN</td>\n",
       "      <td>20</td>\n",
       "    </tr>\n",
       "    <tr>\n",
       "      <th>1</th>\n",
       "      <td>3</td>\n",
       "      <td>NaN</td>\n",
       "      <td>30</td>\n",
       "    </tr>\n",
       "    <tr>\n",
       "      <th>2</th>\n",
       "      <td>4</td>\n",
       "      <td>NaN</td>\n",
       "      <td>40</td>\n",
       "    </tr>\n",
       "  </tbody>\n",
       "</table>\n",
       "</div>"
      ],
      "text/plain": [
       "   a   b   c\n",
       "0  1  10 NaN\n",
       "1  2  20 NaN\n",
       "2  3  30 NaN\n",
       "0  2 NaN  20\n",
       "1  3 NaN  30\n",
       "2  4 NaN  40"
      ]
     },
     "execution_count": 121,
     "metadata": {},
     "output_type": "execute_result"
    }
   ],
   "source": [
    "pd.concat([df1,df2])"
   ]
  },
  {
   "cell_type": "code",
   "execution_count": null,
   "metadata": {
    "collapsed": true
   },
   "outputs": [],
   "source": []
  }
 ],
 "metadata": {
  "kernelspec": {
   "display_name": "Python 2",
   "language": "python",
   "name": "python2"
  },
  "language_info": {
   "codemirror_mode": {
    "name": "ipython",
    "version": 2
   },
   "file_extension": ".py",
   "mimetype": "text/x-python",
   "name": "python",
   "nbconvert_exporter": "python",
   "pygments_lexer": "ipython2",
   "version": "2.7.6"
  }
 },
 "nbformat": 4,
 "nbformat_minor": 0
}
