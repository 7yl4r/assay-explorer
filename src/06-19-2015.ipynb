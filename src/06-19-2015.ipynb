{
 "cells": [
  {
   "cell_type": "code",
   "execution_count": 187,
   "metadata": {
    "collapsed": true
   },
   "outputs": [],
   "source": [
    "import pandas as pd\n",
    "import uuid\n",
    "import numpy as np\n",
    "from StringIO import StringIO\n",
    "from toolz import thread_first, thread_last, pipe\n",
    "from pandas import DataFrame as df"
   ]
  },
  {
   "cell_type": "code",
   "execution_count": 188,
   "metadata": {
    "collapsed": true
   },
   "outputs": [],
   "source": [
    "def mapdict(f,d):\n",
    "    return [f(k,v) for k,v in d.iteritems()]\n",
    "\n",
    "def generate_sid():\n",
    "    return str(uuid.uuid4()).split('-')[-1]\n",
    "\n",
    "def create_well_df(cell_dict):\n",
    "    return thread_last(well_dict,\n",
    "                       (mapdict,lambda k,v: {\"Cell Type\":k,\"Well Name\":v}),\n",
    "                       (map, df),\n",
    "                       pd.concat)\n",
    "\n",
    "def create_plate_df(well_df,plate_info, plate_name):\n",
    "    x = well_df.copy()\n",
    "    x['Plate Name'] = plate_name\n",
    "    x['Condition'] = plate_info + ' ' + x['Cell Type']\n",
    "    x['Plate ID'] = generate_sid()\n",
    "    return x.drop('Cell Type',axis=1)"
   ]
  },
  {
   "cell_type": "code",
   "execution_count": 189,
   "metadata": {
    "collapsed": true
   },
   "outputs": [],
   "source": [
    "conditions = [('PML ssC w RNase A',24),\n",
    "              ('PML APB w RNase A',25),\n",
    "              ('PML ssC wo RNase A',26),\n",
    "              ('PML IF only control no EtOH dehydrat',27),\n",
    "              ('PML ssC control no FISH',28),\n",
    "              ('IgG APB w LNA probe before denature',29),\n",
    "              ('IgG APB w LNA probe after denature',30),\n",
    "              ('IgG ssC w LNA probe no denature',31)]\n",
    "\n",
    "cell_dict = {\"U2OS\": ['A01','A02','B01','B02'],\n",
    "             \"143B\": ['A03','A04','B03','B04']}\n",
    "\n",
    "date = '06-19-2015'"
   ]
  },
  {
   "cell_type": "code",
   "execution_count": 184,
   "metadata": {
    "collapsed": false
   },
   "outputs": [],
   "source": [
    "well_df = create_well_df(cell_dict)\n",
    "condition_lookup = pd.concat([create_plate_df(well_df,a,b) for a,b in conditions])\n",
    "condition_lookup['Date'] = date"
   ]
  },
  {
   "cell_type": "code",
   "execution_count": 185,
   "metadata": {
    "collapsed": false
   },
   "outputs": [
    {
     "data": {
      "text/html": [
       "<div>\n",
       "<table border=\"1\" class=\"dataframe\">\n",
       "  <thead>\n",
       "    <tr style=\"text-align: right;\">\n",
       "      <th></th>\n",
       "      <th>Well Name</th>\n",
       "      <th>Plate Name</th>\n",
       "      <th>Condition</th>\n",
       "      <th>Plate ID</th>\n",
       "      <th>Date</th>\n",
       "    </tr>\n",
       "  </thead>\n",
       "  <tbody>\n",
       "    <tr>\n",
       "      <th>0</th>\n",
       "      <td>A03</td>\n",
       "      <td>24</td>\n",
       "      <td>PML ssC w RNase A 143B</td>\n",
       "      <td>2f26762ed8d5</td>\n",
       "      <td>06-19-2015</td>\n",
       "    </tr>\n",
       "    <tr>\n",
       "      <th>1</th>\n",
       "      <td>A04</td>\n",
       "      <td>24</td>\n",
       "      <td>PML ssC w RNase A 143B</td>\n",
       "      <td>2f26762ed8d5</td>\n",
       "      <td>06-19-2015</td>\n",
       "    </tr>\n",
       "    <tr>\n",
       "      <th>2</th>\n",
       "      <td>B03</td>\n",
       "      <td>24</td>\n",
       "      <td>PML ssC w RNase A 143B</td>\n",
       "      <td>2f26762ed8d5</td>\n",
       "      <td>06-19-2015</td>\n",
       "    </tr>\n",
       "    <tr>\n",
       "      <th>3</th>\n",
       "      <td>B04</td>\n",
       "      <td>24</td>\n",
       "      <td>PML ssC w RNase A 143B</td>\n",
       "      <td>2f26762ed8d5</td>\n",
       "      <td>06-19-2015</td>\n",
       "    </tr>\n",
       "    <tr>\n",
       "      <th>0</th>\n",
       "      <td>A01</td>\n",
       "      <td>24</td>\n",
       "      <td>PML ssC w RNase A U2OS</td>\n",
       "      <td>2f26762ed8d5</td>\n",
       "      <td>06-19-2015</td>\n",
       "    </tr>\n",
       "  </tbody>\n",
       "</table>\n",
       "</div>"
      ],
      "text/plain": [
       "  Well Name  Plate Name               Condition      Plate ID        Date\n",
       "0       A03          24  PML ssC w RNase A 143B  2f26762ed8d5  06-19-2015\n",
       "1       A04          24  PML ssC w RNase A 143B  2f26762ed8d5  06-19-2015\n",
       "2       B03          24  PML ssC w RNase A 143B  2f26762ed8d5  06-19-2015\n",
       "3       B04          24  PML ssC w RNase A 143B  2f26762ed8d5  06-19-2015\n",
       "0       A01          24  PML ssC w RNase A U2OS  2f26762ed8d5  06-19-2015"
      ]
     },
     "execution_count": 185,
     "metadata": {},
     "output_type": "execute_result"
    }
   ],
   "source": [
    "condition_lookup.head()"
   ]
  },
  {
   "cell_type": "code",
   "execution_count": 186,
   "metadata": {
    "collapsed": true
   },
   "outputs": [],
   "source": [
    "path = '/notebooks/moldev-data/original/06-19-2015/6.19.15 All ssC data - Jonah Simon.txt'\n",
    "f = open(path).read()\n",
    "f2 = f.split('ATF')[1:]\n",
    "data = pd.concat([pd.read_csv(StringIO(my_f),delimiter='\\t',skiprows=4) for my_f in f2])"
   ]
  },
  {
   "cell_type": "code",
   "execution_count": null,
   "metadata": {
    "collapsed": true
   },
   "outputs": [],
   "source": []
  }
 ],
 "metadata": {
  "kernelspec": {
   "display_name": "Python 2",
   "language": "python",
   "name": "python2"
  },
  "language_info": {
   "codemirror_mode": {
    "name": "ipython",
    "version": 2
   },
   "file_extension": ".py",
   "mimetype": "text/x-python",
   "name": "python",
   "nbconvert_exporter": "python",
   "pygments_lexer": "ipython2",
   "version": "2.7.6"
  }
 },
 "nbformat": 4,
 "nbformat_minor": 0
}
