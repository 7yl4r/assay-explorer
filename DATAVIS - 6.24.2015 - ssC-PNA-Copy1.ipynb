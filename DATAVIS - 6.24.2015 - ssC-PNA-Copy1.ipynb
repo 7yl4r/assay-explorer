{
 "cells": [
  {
   "cell_type": "code",
   "execution_count": null,
   "metadata": {
    "collapsed": true
   },
   "outputs": [],
   "source": [
    "# TODO: replace df with dataframe\n",
    "# TODO: investigate presence of multiple 'Plate ID' columns in condition_summary\n",
    "# TODO: add dataset selector (or make new notebooks for analyzing different datasets - this might be better, think about it.)"
   ]
  },
  {
   "cell_type": "code",
   "execution_count": null,
   "metadata": {
    "collapsed": false
   },
   "outputs": [],
   "source": [
    "execfile('./src/display_utils.py')\n",
    "execfile('./src/moldev_utils.py')\n",
    "%matplotlib inline"
   ]
  },
  {
   "cell_type": "code",
   "execution_count": null,
   "metadata": {
    "collapsed": true
   },
   "outputs": [],
   "source": [
    "# cell_path = '../moldev-data/analyzed/06-24-2015/ssC LNA.csv'\n",
    "# well_path = '../moldev-data/analyzed/06-24-2015/ssC LNA-wells.csv'\n",
    "# condition_path = '../moldev-data/analyzed/06-24-2015/ssC LNA-conditions.csv'\n",
    "\n",
    "cell_path = '../moldev-data/analyzed/06-24-2015/ssC PNA.csv'\n",
    "well_path = '../moldev-data/analyzed/06-24-2015/ssC PNA-wells.csv'\n",
    "condition_path = '../moldev-data/analyzed/06-24-2015/ssC PNA-conditions.csv'\n",
    "\n",
    "colors = {'Blue & Red':'bwr','Blue':'Blues'}"
   ]
  },
  {
   "cell_type": "code",
   "execution_count": null,
   "metadata": {
    "collapsed": false
   },
   "outputs": [],
   "source": [
    "well_data = pd.read_csv(well_path)\n",
    "\n",
    "condition_data = pd.read_csv(condition_path)\n",
    "\n",
    "raw_cell_data = pd.read_csv(cell_path)\n",
    "# cell_data = add_condition_cols(raw_cell_data)"
   ]
  },
  {
   "cell_type": "markdown",
   "metadata": {},
   "source": [
    "---\n",
    "# Well Plate Results"
   ]
  },
  {
   "cell_type": "code",
   "execution_count": null,
   "metadata": {
    "collapsed": false
   },
   "outputs": [],
   "source": [
    "interact(plot_plates, \n",
    "         dataframe = fixed(well_data),\n",
    "         parameter = widgets.Select(value = 'Cell Count',\n",
    "                                    options= get_params(well_data),\n",
    "                                    height=250),\n",
    "         function = well_data['Function'].unique().tolist(),\n",
    "         color = colors,\n",
    "         show = widgets.ToggleButtons(options=['None','Values','Conditions']));"
   ]
  },
  {
   "cell_type": "markdown",
   "metadata": {},
   "source": [
    "---\n",
    "# How do conditions cluster together?"
   ]
  },
  {
   "cell_type": "code",
   "execution_count": null,
   "metadata": {
    "collapsed": false
   },
   "outputs": [],
   "source": [
    "data = pipe(condition_data,\n",
    "            get_means,\n",
    "            lambda x: x.set_index('Condition'),\n",
    "            lambda x: pd.DataFrame.drop(x,['Cell Type','Concentration'],axis=1),\n",
    "            normalize_columns(fillna=True))\n",
    "data_without_empty_params = data.dropna(axis=1,how='all')"
   ]
  },
  {
   "cell_type": "code",
   "execution_count": null,
   "metadata": {
    "collapsed": false
   },
   "outputs": [],
   "source": [
    "params_without_data = sorted(set(data.columns).difference(data_without_empty_params.columns))"
   ]
  },
  {
   "cell_type": "code",
   "execution_count": null,
   "metadata": {
    "collapsed": false
   },
   "outputs": [],
   "source": [
    "interact(matrix_tree, data = fixed(data_without_empty_params), color = colors);"
   ]
  },
  {
   "cell_type": "markdown",
   "metadata": {},
   "source": [
    "---\n",
    "# Heatmap subsets\n",
    "The last selection box allows you to show parameters that are missing data. They shouldn't really affect clustering."
   ]
  },
  {
   "cell_type": "code",
   "execution_count": null,
   "metadata": {
    "collapsed": false
   },
   "outputs": [],
   "source": [
    "def wrapper(conditions,features,color):\n",
    "    df = data.loc[list(conditions)][list(features)]\n",
    "    try: \n",
    "        matrix_tree(df,color)\n",
    "    except:\n",
    "        print \"\\n\".join([\"-\"*50, \"Please select multiple features and conditions.\",\"-\"*50])\n",
    "\n",
    "subset = interactive(wrapper,\n",
    "                     conditions = widgets.SelectMultiple(options = data_without_empty_params.index.values.tolist(), height = 300),\n",
    "                     features = widgets.SelectMultiple(options = data_without_empty_params.columns.values.tolist(), height = 300),\n",
    "                     color = colors)\n",
    "subset"
   ]
  },
  {
   "cell_type": "code",
   "execution_count": null,
   "metadata": {
    "collapsed": false
   },
   "outputs": [],
   "source": []
  },
  {
   "cell_type": "markdown",
   "metadata": {},
   "source": [
    "---\n",
    "# How do parameters vary with drug dose?"
   ]
  },
  {
   "cell_type": "code",
   "execution_count": null,
   "metadata": {
    "collapsed": false
   },
   "outputs": [],
   "source": [
    "# dose_data = thread_first(condition_data,\n",
    "#                         lambda df: df[df['Function'] == 'avg'],\n",
    "#                         add_condition_cols)\n",
    "\n",
    "# dose_error = thread_first(condition_data,\n",
    "#                         lambda df: df[df['Function'] == 'sem'],\n",
    "#                         add_condition_cols)"
   ]
  },
  {
   "cell_type": "code",
   "execution_count": null,
   "metadata": {
    "collapsed": false
   },
   "outputs": [],
   "source": [
    "# interact(dose_plot,\n",
    "#          scale = widgets.ToggleButtons(options=['linear','log']), \n",
    "#          df = fixed(dose_data),\n",
    "#          err = fixed(dose_error),\n",
    "#          cols = widgets.SelectMultiple(value = ['Cell Count'],\n",
    "#                               options= [col for col in dose_data.columns.values.tolist() if col not in ['Condition','Function','Base','Dose','Unit','Drug']],\n",
    "#                               height=250));"
   ]
  },
  {
   "cell_type": "markdown",
   "metadata": {},
   "source": [
    "---\n",
    "#How are different parameters related?"
   ]
  },
  {
   "cell_type": "code",
   "execution_count": null,
   "metadata": {
    "collapsed": false
   },
   "outputs": [],
   "source": [
    "from pandas.tools.plotting import scatter_matrix\n",
    "\n",
    "def scatter(df,cols):\n",
    "    scatter_matrix(data[list(cols)], alpha=1, figsize=(20, 20), diagonal='kde');\n",
    "    \n",
    "interact(scatter, \n",
    "         df = fixed(data),\n",
    "         cols = widgets.SelectMultiple(value = ['Cell Count'],\n",
    "                              options= get_params(data),\n",
    "                              height=250));"
   ]
  },
  {
   "cell_type": "markdown",
   "metadata": {},
   "source": [
    "---\n",
    "# Parameter vs. Conditions"
   ]
  },
  {
   "cell_type": "code",
   "execution_count": null,
   "metadata": {
    "collapsed": false
   },
   "outputs": [],
   "source": [
    "def plot_dist(data,parameters):        \n",
    "    fig = plt.figure(num=None, figsize=(15, 7), dpi=100, facecolor='w', edgecolor='k')\n",
    "    \n",
    "    reshaped_data = pd.concat([add_col(data[['Condition',parameter]].rename(columns={parameter: 'Value'}),'Parameter',parameter) for parameter in parameters])\n",
    "    \n",
    "    sns.boxplot(x = 'Condition',\n",
    "                y = 'Value',\n",
    "                hue = 'Parameter',\n",
    "                data = reshaped_data,\n",
    "                order = sorted(data.Condition.unique().tolist(),key = sort_func))    \n",
    "    \n",
    "#     plt.ylabel(parameter,fontsize=20)\n",
    "    plt.xlabel('Condition',fontsize=20)\n",
    "    plt.title('Distribution: ' + parameter,fontsize=20)\n",
    "    plt.tick_params(labelsize=10)\n",
    "    plt.xticks(rotation=30,ha='right')\n",
    "    mean = data[parameter].mean()\n",
    "    plt.gca().set_ylim(bottom=data[parameter].mean() * -0.5)"
   ]
  },
  {
   "cell_type": "code",
   "execution_count": null,
   "metadata": {
    "collapsed": true
   },
   "outputs": [],
   "source": [
    "def dist_wrapper(parameters,conditions):\n",
    "    conditions = list(conditions)\n",
    "    if list(parameters) == ['Cell Count']:\n",
    "        dataframe = thread_first(well_data,\n",
    "                                 (filter_rows,'Function','avg'),\n",
    "                                 (filter_rows,'Condition',conditions))\n",
    "        plot_dist(dataframe,parameters)\n",
    "    else: \n",
    "        if 'Cell Count' in parameters:\n",
    "            print \"Ignoring cell count. Select it by itself if you want to see it.\"\n",
    "        dataframe = filter_rows(raw_cell_data,'Condition',conditions)\n",
    "        plot_dist(dataframe,filter(lambda x: x != 'Cell Count',parameters))"
   ]
  },
  {
   "cell_type": "code",
   "execution_count": null,
   "metadata": {
    "collapsed": true
   },
   "outputs": [],
   "source": [
    "def sort_func(x):\n",
    "    xs = x.split(' ')\n",
    "    return (xs[-1],float(xs[-3]))"
   ]
  },
  {
   "cell_type": "code",
   "execution_count": null,
   "metadata": {
    "collapsed": false
   },
   "outputs": [],
   "source": [
    "interactive(dist_wrapper,\n",
    "            parameters = widgets.SelectMultiple(options = get_params(raw_cell_data) + ['Cell Count'],height = 300),\n",
    "            conditions = widgets.SelectMultiple(options = sorted(raw_cell_data.Condition.unique().tolist(),key = sort_func),height = 300))"
   ]
  },
  {
   "cell_type": "markdown",
   "metadata": {},
   "source": [
    "---\n",
    "# Compare conditions"
   ]
  },
  {
   "cell_type": "code",
   "execution_count": null,
   "metadata": {
    "collapsed": false
   },
   "outputs": [],
   "source": [
    "def compare_condition_dists(df, conditions, parameters, bandwidth=0.1, shaded = True, clip_ends = False, scale='linear'):\n",
    "    n_rows = int(np.ceil(len(parameters)/3.0))\n",
    "    plt.figure(figsize=(20,4 * n_rows))\n",
    "    subs = gridspec.GridSpec(n_rows, 3) \n",
    "    plt.subplots_adjust(hspace=0.54,wspace=0.27)\n",
    "\n",
    "    for parameter,sub in zip(parameters,subs):\n",
    "        plt.subplot(sub)\n",
    "        param_bandwidth = bandwidth * df[df.Condition == conditions[0]][parameter].mean()\n",
    "        for condition in conditions:\n",
    "            data = df[df.Condition == condition][parameter]\n",
    "            kws = {\"shade\": shaded, \"bw\": param_bandwidth}\n",
    "            if clip_ends: \n",
    "                kws = assoc(kws,\"cut\",0)\n",
    "            sns.distplot(data, hist=False, kde_kws=kws,label=condition)\n",
    "            plt.legend(loc = 0,fontsize=8)\n",
    "        if scale == 'linear':\n",
    "            plt.xlim(left=0)\n",
    "        else:\n",
    "            plt.xscale('log')\n",
    "        plt.ylabel('Frequency')"
   ]
  },
  {
   "cell_type": "code",
   "execution_count": null,
   "metadata": {
    "collapsed": false
   },
   "outputs": [],
   "source": [
    "try:    \n",
    "    interact(compare_condition_dists,\n",
    "             df = fixed(raw_cell_data),\n",
    "             conditions = widgets.SelectMultiple(options = raw_cell_data.Condition.unique().tolist(),height = 300),\n",
    "             parameters = widgets.SelectMultiple(options = get_params(raw_cell_data),height = 300),\n",
    "             bandwidth = (0,0.2,0.01),\n",
    "             scale = widgets.ToggleButtons(options=['linear','log']));\n",
    "except ValueError: \n",
    "    raise Exception(\"Hmm. That didn't work. Maybe one of the conditions or parameters you selected doesn't have any data.\")"
   ]
  },
  {
   "cell_type": "markdown",
   "metadata": {},
   "source": [
    "---\n",
    "# Compare parameters"
   ]
  },
  {
   "cell_type": "code",
   "execution_count": null,
   "metadata": {
    "collapsed": true
   },
   "outputs": [],
   "source": [
    "def compare_parameter_dists(df, conditions, parameters, bandwidth=0.1, shaded = True, clip_ends = False, scale='linear'):\n",
    "    n_rows = int(np.ceil(len(conditions)/3.0))\n",
    "    plt.figure(figsize=(20,4 * n_rows))\n",
    "    subs = gridspec.GridSpec(n_rows, 3) \n",
    "    plt.subplots_adjust(hspace=0.54,wspace=0.27)\n",
    "\n",
    "    for condition,sub in zip(conditions,subs):\n",
    "        plt.subplot(sub)\n",
    "        condition_bandwidth = bandwidth * df[df.Condition == condition][parameters[0]].mean()\n",
    "        for parameter in parameters:\n",
    "            data = df[df.Condition == condition][parameter]\n",
    "            kws = {\"shade\": shaded, \"bw\": condition_bandwidth}\n",
    "            if clip_ends: \n",
    "                kws = assoc(kws,\"cut\",0)\n",
    "            sns.distplot(data, hist=False, kde_kws=kws,label=parameter)\n",
    "            plt.legend(loc = 0,fontsize=8)\n",
    "        if scale == 'linear':\n",
    "            plt.xlim(left=0)\n",
    "        else:\n",
    "            plt.xscale('log')\n",
    "        plt.ylabel('Frequency')\n",
    "        plt.xlabel(condition)"
   ]
  },
  {
   "cell_type": "code",
   "execution_count": null,
   "metadata": {
    "collapsed": false
   },
   "outputs": [],
   "source": [
    "interact(compare_parameter_dists,\n",
    "         df = fixed(raw_cell_data),\n",
    "         conditions = widgets.SelectMultiple(options = raw_cell_data.Condition.unique().tolist(),height = 300),\n",
    "         parameters = widgets.SelectMultiple(options = get_params(raw_cell_data),height = 300),\n",
    "         bandwidth = (0,0.2,0.01),\n",
    "         scale = widgets.ToggleButtons(options=['linear','log']));"
   ]
  }
 ],
 "metadata": {
  "kernelspec": {
   "display_name": "Python 2",
   "language": "python",
   "name": "python2"
  },
  "language_info": {
   "codemirror_mode": {
    "name": "ipython",
    "version": 2
   },
   "file_extension": ".py",
   "mimetype": "text/x-python",
   "name": "python",
   "nbconvert_exporter": "python",
   "pygments_lexer": "ipython2",
   "version": "2.7.6"
  }
 },
 "nbformat": 4,
 "nbformat_minor": 0
}
