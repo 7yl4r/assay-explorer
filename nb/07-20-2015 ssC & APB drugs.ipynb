{
 "cells": [
  {
   "cell_type": "code",
   "execution_count": 14,
   "metadata": {
    "collapsed": false
   },
   "outputs": [],
   "source": [
    "execfile('../src/utils.py')\n",
    "execfile('../src/cellslib.py')\n",
    "from toolz import assoc"
   ]
  },
  {
   "cell_type": "code",
   "execution_count": 1,
   "metadata": {
    "collapsed": true
   },
   "outputs": [],
   "source": [
    "configs = [{'path': '/notebooks/moldev-data/original/07-20-2015/APB HS JS 60X 07.22.2015 ML216 MMC HU TS.txt',\n",
    "            'savepath': '/notebooks/moldev-data/analyzed/07-20-2015/APB.csv',\n",
    "            'label': 'APB'},\n",
    "           {'path': '/notebooks/moldev-data/original/07-20-2015/ssC HS JS 60X 07.20.2015 ML216 MMC HU TS.txt',\n",
    "            'savepath': '/notebooks/moldev-data/analyzed/07-20-2015/ssC.csv',\n",
    "            'label': 'ssC'}]"
   ]
  },
  {
   "cell_type": "markdown",
   "metadata": {},
   "source": [
    "- Rows A-D: U2OS\n",
    "- Rows E-H: 143b\n",
    "\n",
    "- Column 1: media control (0.08% DMSO)\n",
    "- Column 2: DMSO control (0.5% DMSO)\n",
    "- Columns 3-6: ML216 (100 - 50 - 25 - 12.5 uM)\n",
    "- Columns 7-10: MMC (400 - 200 - 100 - 50 ng/mL)\n",
    "- Column 11: HU (1 mM)\n",
    "- Column 12: TS (5 uM)"
   ]
  },
  {
   "cell_type": "code",
   "execution_count": null,
   "metadata": {
    "collapsed": true
   },
   "outputs": [],
   "source": [
    "cell_types = [('U2OS','ABCD'),('143b','EFGH')]\n",
    "contents = \\\n",
    "    {'Media Control': [1],\n",
    "     'DMSO Control': [2],\n",
    "     'ML216': [3,4,5,6],\n",
    "     'MMC': [7,8,9,10],\n",
    "     'HU': [11],\n",
    "     'TS': [12]}"
   ]
  },
  {
   "cell_type": "code",
   "execution_count": 16,
   "metadata": {
    "collapsed": false
   },
   "outputs": [],
   "source": [
    "cell_dict = {\"U2OS\": ['A01','A02','A03','A04'],\n",
    "             \"143B\": ['B01','B02','B03','B04']}\n",
    "\n",
    "dilutions = ['50 nM','25 nM','12.5 nM','6.25 nM']\n",
    "\n",
    "date = '07-15-2015'"
   ]
  },
  {
   "cell_type": "code",
   "execution_count": 17,
   "metadata": {
    "collapsed": true
   },
   "outputs": [],
   "source": [
    "# {Plate Name: [String],Concentration:[String]} -> DataFrame[Plate Name, Plate ID, Well Name, Concentration]\n",
    "def create_dilution_df(c):\n",
    "    well_numbers = ['01','02','03','04']\n",
    "\n",
    "    x = pd.concat([df({'Concentration':c,\n",
    "                       '_Well Number': well_numbers,\n",
    "                       '_Well Letter': well_letter}) \\\n",
    "                    for well_letter in ['A','B']])\n",
    "    \n",
    "    x['Well Name'] = x['_Well Letter'] + x['_Well Number']\n",
    "    x = x.drop(['_Well Letter', '_Well Number'],axis=1)    \n",
    "    x['Plate ID'] = generate_sid()\n",
    "    return x"
   ]
  },
  {
   "cell_type": "code",
   "execution_count": 18,
   "metadata": {
    "collapsed": true
   },
   "outputs": [],
   "source": [
    "cell_types = create_well_df(cell_dict)"
   ]
  },
  {
   "cell_type": "code",
   "execution_count": 19,
   "metadata": {
    "collapsed": false
   },
   "outputs": [],
   "source": [
    "concentrations = create_dilution_df(dilutions)"
   ]
  },
  {
   "cell_type": "code",
   "execution_count": 20,
   "metadata": {
    "collapsed": false
   },
   "outputs": [],
   "source": [
    "condition_lookup = pd.merge(concentrations,cell_types,on=['Well Name'])\n",
    "condition_lookup['Date'] = date"
   ]
  },
  {
   "cell_type": "code",
   "execution_count": 21,
   "metadata": {
    "collapsed": false
   },
   "outputs": [],
   "source": [
    "# {path:String, savepath: String, label: String} -> SideEffects(SaveFile)\n",
    "def analyze_and_save(c):\n",
    "    \"\"\" Clean and save raw LNA and PNA data. \"\"\"\n",
    "    my_cell_config = assoc(cell_config,'path',c['path'])\n",
    "    data = pd.merge(get_cell_data(my_cell_config).rename(columns={\"Plate ID\":\"Plate Name\"}),\n",
    "                    condition_lookup,\n",
    "                    on = 'Well Name')\n",
    "    \n",
    "    data['Condition'] = 'ssC' + ' ' + c['label'] + ' ' + data['Concentration'] + ' ' + data['Cell Type']\n",
    "\n",
    "    # Write to file\n",
    "    data.to_csv(c['savepath'],index=False)\n",
    "    return data"
   ]
  },
  {
   "cell_type": "code",
   "execution_count": 22,
   "metadata": {
    "collapsed": false
   },
   "outputs": [],
   "source": [
    "# f = open(configs[0]['path']).read().replace('\\r','').split('\\n')\n",
    "# g = [map(rename_column,fi.split('\\t')) for fi in f]"
   ]
  },
  {
   "cell_type": "code",
   "execution_count": 23,
   "metadata": {
    "collapsed": false
   },
   "outputs": [],
   "source": [
    "# g[4]"
   ]
  },
  {
   "cell_type": "code",
   "execution_count": 24,
   "metadata": {
    "collapsed": false
   },
   "outputs": [],
   "source": [
    "# pd.read_csv(StringIO(open(configs[0]['path']).read().replace('\\r','')),skiprows=4,delimiter='\\t')"
   ]
  },
  {
   "cell_type": "code",
   "execution_count": 25,
   "metadata": {
    "collapsed": false
   },
   "outputs": [],
   "source": [
    "# String -> String\n",
    "def rename_column(col):\n",
    "    \"\"\" Rename column col to remove whitespace, backslashes, prefixes,\n",
    "        and suffixes (esp. large parenthetic suffix). \"\"\"\n",
    "    if col.startswith('Cell:'):\n",
    "        return col.split('(')[0].lstrip(\"Cell:\").rstrip('/').strip(' ')\n",
    "    else:\n",
    "        return col.split('(')[0].rstrip('/').strip(' ')\n",
    "\n",
    "cell_config = dict(\n",
    "    plate_delimiter = \"ATF\",\n",
    "    delimiter = '\\t',\n",
    "    skiprows = 4,\n",
    "    dropcols = ['Cell ID',\n",
    "                'Site ID',\n",
    "                'MEASUREMENT SET ID',\n",
    "                '.*ObjectID.*',\n",
    "                'Laser focus score',\n",
    "                '\\.[0-9]*\\Z'],\n",
    "    normcols = [['Normalized_ColocSpot_area_sum (coloc)',\n",
    "                  ['ColocSpots_area_sum'],\n",
    "                  ['FITC-TxRed_coloc_area_sum']],\n",
    "                ['Normalized_ColocSpot_area_sum (all)',\n",
    "                  ['ColocSpots_area_sum'],\n",
    "                  ['FITC-TxRed_all_area_sum']],\n",
    "        \n",
    "                ['Normalized coloc spots (by FITC & TxRed)',\n",
    "                  ['# of Coloc Spots'],\n",
    "                  ['# of FITC spots', '# of TxRed spots']],\n",
    "                ['Normalized coloc spots (by FITC)',\n",
    "                  ['# of Coloc Spots'],\n",
    "                  ['# of FITC spots']],\n",
    "                ['Normalized coloc spots (by TxRed)',\n",
    "                  ['# of Coloc Spots'],\n",
    "                  ['# of TxRed spots']],\n",
    "               \n",
    "                ['Normalized coloc spots (by FITC in coloc)',\n",
    "                  ['# of Coloc Spots'],\n",
    "                  ['# of FITC in ColocSpots']],\n",
    "                ['Normalized coloc spots (by TxRed in coloc)',\n",
    "                  ['# of Coloc Spots'],\n",
    "                  ['# of TxRed in ColocSpots']],\n",
    "                ['Normalized coloc spots (by FITC-TxRed in coloc)',\n",
    "                  ['# of Coloc Spots'],\n",
    "                  ['# of FITC-TxRed in ColocSpots']]],\n",
    "\n",
    "    \n",
    "    colrename = rename_column,\n",
    "    check = identity\n",
    "    )"
   ]
  },
  {
   "cell_type": "code",
   "execution_count": 26,
   "metadata": {
    "collapsed": false,
    "scrolled": false
   },
   "outputs": [],
   "source": [
    "# analyze_and_save(configs[0])\n",
    "dataframes = map(analyze_and_save,configs)"
   ]
  },
  {
   "cell_type": "code",
   "execution_count": 27,
   "metadata": {
    "collapsed": false
   },
   "outputs": [
    {
     "data": {
      "text/plain": [
       "['# of Coloc Spots',\n",
       " '# of FITC in ColocSpots',\n",
       " '# of FITC spots',\n",
       " '# of FITC-TxRed all spots',\n",
       " '# of FITC-TxRed in ColocSpots',\n",
       " '# of TxRed in ColocSpots',\n",
       " '# of TxRed spots',\n",
       " 'Cell Type',\n",
       " 'ColocSpots_area_avg',\n",
       " 'ColocSpots_area_sum',\n",
       " 'Concentration',\n",
       " 'Condition',\n",
       " 'Date',\n",
       " 'FITC-TxRed_all_area_avg',\n",
       " 'FITC-TxRed_all_area_sum',\n",
       " 'FITC-TxRed_coloc_area_avg',\n",
       " 'FITC-TxRed_coloc_area_sum',\n",
       " 'FITC_all_IntIntensity_avg',\n",
       " 'FITC_all_IntIntensity_sum',\n",
       " 'FITC_all_Intensity_avg',\n",
       " 'FITC_all_Intensity_sum',\n",
       " 'FITC_all_area_avg',\n",
       " 'FITC_all_area_sum',\n",
       " 'FITC_coloc_IntIntensity_avg',\n",
       " 'FITC_coloc_IntIntensity_sum',\n",
       " 'FITC_coloc_Intensity_avg',\n",
       " 'FITC_coloc_Intensity_sum',\n",
       " 'FITC_coloc_area_avg',\n",
       " 'FITC_coloc_area_sum',\n",
       " 'Normalized coloc spots (by FITC & TxRed)',\n",
       " 'Normalized coloc spots (by FITC in coloc)',\n",
       " 'Normalized coloc spots (by FITC)',\n",
       " 'Normalized coloc spots (by FITC-TxRed in coloc)',\n",
       " 'Normalized coloc spots (by TxRed in coloc)',\n",
       " 'Normalized coloc spots (by TxRed)',\n",
       " 'Normalized_ColocSpot_area_sum (all)',\n",
       " 'Normalized_ColocSpot_area_sum (coloc)',\n",
       " 'NucArea_Avg',\n",
       " 'NucIntegrated Intensity_Avg',\n",
       " 'NucIntensity_Avg',\n",
       " 'Plate ID',\n",
       " 'Plate Name',\n",
       " 'TxRed_all_IntIntensity_avg',\n",
       " 'TxRed_all_IntIntensity_sum',\n",
       " 'TxRed_all_Intensity_avg',\n",
       " 'TxRed_all_Intensity_sum',\n",
       " 'TxRed_all_area_avg',\n",
       " 'TxRed_all_area_sum',\n",
       " 'TxRed_coloc_IntIntensity_avg',\n",
       " 'TxRed_coloc_IntIntensity_sum',\n",
       " 'TxRed_coloc_Intensity_avg',\n",
       " 'TxRed_coloc_Intensity_sum',\n",
       " 'TxRed_coloc_area_avg',\n",
       " 'TxRed_coloc_area_sum',\n",
       " 'Well Name']"
      ]
     },
     "execution_count": 27,
     "metadata": {},
     "output_type": "execute_result"
    }
   ],
   "source": [
    "sorted(dataframes[1].columns.tolist())"
   ]
  },
  {
   "cell_type": "code",
   "execution_count": null,
   "metadata": {
    "collapsed": true
   },
   "outputs": [],
   "source": []
  }
 ],
 "metadata": {
  "kernelspec": {
   "display_name": "Python 2",
   "language": "python",
   "name": "python2"
  },
  "language_info": {
   "codemirror_mode": {
    "name": "ipython",
    "version": 2
   },
   "file_extension": ".py",
   "mimetype": "text/x-python",
   "name": "python",
   "nbconvert_exporter": "python",
   "pygments_lexer": "ipython2",
   "version": "2.7.6"
  }
 },
 "nbformat": 4,
 "nbformat_minor": 0
}
