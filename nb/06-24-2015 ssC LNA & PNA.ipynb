{
 "cells": [
  {
   "cell_type": "code",
   "execution_count": 34,
   "metadata": {
    "collapsed": false
   },
   "outputs": [],
   "source": [
    "execfile('../src/utils.py')\n",
    "execfile('../src/cellslib.py')\n",
    "from toolz import assoc"
   ]
  },
  {
   "cell_type": "code",
   "execution_count": 35,
   "metadata": {
    "collapsed": true
   },
   "outputs": [],
   "source": [
    "configs = [{'path': '/notebooks/moldev-data/original/06-24-2015/ssC HS JS 06.24.2015 LNA.txt',\n",
    "            'savepath': '/notebooks/moldev-data/analyzed/06-24-2015/ssC LNA.csv',\n",
    "            'label': 'LNA'},\n",
    "           {'path': '/notebooks/moldev-data/original/06-24-2015/ssC HS JS 06.24.2015 PNA.txt',\n",
    "            'savepath': '/notebooks/moldev-data/analyzed/06-24-2015/ssC PNA.csv',\n",
    "            'label': 'PNA'}]"
   ]
  },
  {
   "cell_type": "code",
   "execution_count": 36,
   "metadata": {
    "collapsed": false
   },
   "outputs": [],
   "source": [
    "cell_dict = {\"U2OS\": ['A01','A02','A03','A04'],\n",
    "             \"143B\": ['B01','B02','B03','B04']}\n",
    "\n",
    "dilutions = [{'Plate Name': [32,34],\n",
    "              'Concentration': ['2000 nM','1000 nM','500 nM','250 nM']},\n",
    "             {'Plate Name': [33,35],\n",
    "              'Concentration': ['125 nM','62.5 nM','31.25 nM','0 nM']}]\n",
    "\n",
    "date = '06-24-2015'"
   ]
  },
  {
   "cell_type": "code",
   "execution_count": 37,
   "metadata": {
    "collapsed": true
   },
   "outputs": [],
   "source": [
    "# {Plate Name: [String],Concentration:[String]} -> DataFrame[Plate Name, Plate ID, Well Name, Concentration]\n",
    "def create_dilution_df(c):\n",
    "    well_numbers = ['01','02','03','04']\n",
    "\n",
    "    x = pd.concat([df({'Concentration':c['Concentration'],\n",
    "                       '_Well Number': well_numbers,\n",
    "                       '_Well Letter': well_letter}) \\\n",
    "                    for well_letter in ['A','B']])\n",
    "    \n",
    "    x['Well Name'] = x['_Well Letter'] + x['_Well Number']\n",
    "    x = x.drop(['_Well Letter', '_Well Number'],axis=1)\n",
    "    def add_plate_info(plate_name):\n",
    "        y = x.copy()\n",
    "        y['Plate Name'] = plate_name\n",
    "        y['Plate ID'] = generate_sid()\n",
    "        return y\n",
    "    \n",
    "    return thread_last(c['Plate Name'],\n",
    "                       (map, add_plate_info),\n",
    "                       pd.concat)"
   ]
  },
  {
   "cell_type": "code",
   "execution_count": 38,
   "metadata": {
    "collapsed": true
   },
   "outputs": [],
   "source": [
    "cell_types = create_well_df(cell_dict)"
   ]
  },
  {
   "cell_type": "code",
   "execution_count": 39,
   "metadata": {
    "collapsed": false
   },
   "outputs": [],
   "source": [
    "concentrations = thread_last(dilutions,\n",
    "                             (map,create_dilution_df),\n",
    "                             pd.concat)"
   ]
  },
  {
   "cell_type": "code",
   "execution_count": 40,
   "metadata": {
    "collapsed": false
   },
   "outputs": [],
   "source": [
    "condition_lookup = pd.merge(concentrations,cell_types,on=['Well Name'])\n",
    "condition_lookup['Date'] = date"
   ]
  },
  {
   "cell_type": "code",
   "execution_count": 41,
   "metadata": {
    "collapsed": false
   },
   "outputs": [],
   "source": [
    "# {path:String, savepath: String, label: String} -> SideEffects(SaveFile)\n",
    "def analyze_and_save(c):\n",
    "    \"\"\" Clean and save raw LNA and PNA data. \"\"\"\n",
    "    my_cell_config = assoc(cell_config,'path',c['path'])\n",
    "    data = pd.merge(get_cell_data(my_cell_config).rename(columns={\"Plate ID\":\"Plate Name\"}),\n",
    "                    condition_lookup,\n",
    "                    on = ['Plate Name','Well Name'])\n",
    "    \n",
    "    data['Condition'] = 'ssC' + ' ' + c['label'] + ' ' + data['Concentration'] + ' ' + data['Cell Type']\n",
    "\n",
    "    # Write to file\n",
    "    data.to_csv(c['savepath'],index=False)\n",
    "    return len(data)"
   ]
  },
  {
   "cell_type": "code",
   "execution_count": 42,
   "metadata": {
    "collapsed": false
   },
   "outputs": [],
   "source": [
    "# String -> String\n",
    "def rename_column(col):\n",
    "    \"\"\" Rename column col to remove whitespace, backslashes, prefixes,\n",
    "        and suffixes (esp. large parenthetic suffix). \"\"\"\n",
    "    if col.startswith('Cell:'):\n",
    "        return col.split('(')[0].lstrip(\"Cell:\").rstrip('/').strip(' ')\n",
    "    else:\n",
    "        return col.split('(')[0].rstrip('/').strip(' ')\n",
    "\n",
    "cell_config = dict(\n",
    "    plate_delimiter = \"ATF\",\n",
    "    delimiter = '\\t',\n",
    "    skiprows = 4,\n",
    "    dropcols = ['Cell ID',\n",
    "                'Site ID',\n",
    "                'MEASUREMENT SET ID',\n",
    "                '.*ObjectID.*',\n",
    "                'Laser focus score',\n",
    "                '\\.[0-9]*\\Z'],\n",
    "    normcols = [['Normalized APB spots (by FITC & TxRed)',\n",
    "                  ['# of APBs'],\n",
    "                  ['# of FITC spots', '# of TxRed spots']],\n",
    "                ['Normalized APB spots (by TxRed)',\n",
    "                  ['# of APBs'],\n",
    "                  ['# of TxRed spots']],\n",
    "                ['Normalized APB spots (by FITC)',\n",
    "                  ['# of APBs'],\n",
    "                  ['# of FITC spots']],\n",
    "                \n",
    "                ['Normalized Coloc avg area (by FITC & TxRed)',\n",
    "                  ['Area_Coloc_Avg'],\n",
    "                  ['Area_FITC','Area_TxRed']],\n",
    "                ['Normalized Coloc avg area (by FITC)',\n",
    "                  ['Area_Coloc_Avg'],\n",
    "                  ['Area_FITC']],\n",
    "                ['Normalized Coloc avg area (by TxRed)',\n",
    "                  ['Area_Coloc_Avg'],\n",
    "                  ['Area_TxRed']],                \n",
    "                \n",
    "                ['Normalized Coloc spots (by FITC & TxRed)',\n",
    "                  ['# Coloc Spots'],\n",
    "                  ['# of FITC spots', '# of TxRed spots']],\n",
    "                ['Normalized Coloc spots (by FITC)',\n",
    "                  ['# Coloc Spots'],\n",
    "                  ['# of FITC spots']],\n",
    "                ['Normalized Coloc spots (by TxRed)',\n",
    "                  ['# Coloc Spots'],\n",
    "                  ['# of TxRed spots']],\n",
    "                \n",
    "                ['Normalized Coloc total area (by FITC & TxRed)',\n",
    "                  ['Total_Area_Coloc'],\n",
    "                  ['Total_Area_FITC','Total_Area_TxRed']],\n",
    "                ['Normalized Coloc total area (by FITC)',\n",
    "                  ['Total_Area_Coloc'],\n",
    "                  ['Total_Area_FITC']],\n",
    "                ['Normalized Coloc total area (by TxRed)',\n",
    "                  ['Total_Area_Coloc'],\n",
    "                  ['Total_Area_TxRed']],\n",
    "                \n",
    "                ['Normalized Coloc total area (by FITC-TxRed colocs)',\n",
    "                  ['Total_Area_Coloc'],\n",
    "                  ['FITC-TxRed_Area_Total']]],\n",
    "    colrename = rename_column,\n",
    "    check = identity\n",
    "    )"
   ]
  },
  {
   "cell_type": "code",
   "execution_count": 43,
   "metadata": {
    "collapsed": false,
    "scrolled": false
   },
   "outputs": [
    {
     "data": {
      "text/plain": [
       "[3158, 4290]"
      ]
     },
     "execution_count": 43,
     "metadata": {},
     "output_type": "execute_result"
    }
   ],
   "source": [
    "# analyze_and_save(configs[0])\n",
    "map(analyze_and_save,configs)"
   ]
  },
  {
   "cell_type": "code",
   "execution_count": null,
   "metadata": {
    "collapsed": true
   },
   "outputs": [],
   "source": []
  },
  {
   "cell_type": "code",
   "execution_count": null,
   "metadata": {
    "collapsed": true
   },
   "outputs": [],
   "source": []
  }
 ],
 "metadata": {
  "kernelspec": {
   "display_name": "Python 2",
   "language": "python",
   "name": "python2"
  },
  "language_info": {
   "codemirror_mode": {
    "name": "ipython",
    "version": 2
   },
   "file_extension": ".py",
   "mimetype": "text/x-python",
   "name": "python",
   "nbconvert_exporter": "python",
   "pygments_lexer": "ipython2",
   "version": "2.7.6"
  }
 },
 "nbformat": 4,
 "nbformat_minor": 0
}
