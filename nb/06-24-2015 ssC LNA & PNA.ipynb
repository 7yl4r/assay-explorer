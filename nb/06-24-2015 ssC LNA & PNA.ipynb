{
 "cells": [
  {
   "cell_type": "code",
   "execution_count": 9,
   "metadata": {
    "collapsed": false
   },
   "outputs": [],
   "source": [
    "execfile('../src/utils.py')\n",
    "execfile('../src/cellslib.py')"
   ]
  },
  {
   "cell_type": "code",
   "execution_count": 32,
   "metadata": {
    "collapsed": true
   },
   "outputs": [],
   "source": [
    "configs = [{'path': '/notebooks/moldev-data/original/06-24-2015/ssC HS JS 06.24.2015 LNA.txt',\n",
    "            'savepath': '/notebooks/moldev-data/analyzed/06-24-2015/ssC LNA.csv',\n",
    "            'label': 'LNA'},\n",
    "           {'path': '/notebooks/moldev-data/original/06-24-2015/ssC HS JS 06.24.2015 PNA.txt',\n",
    "            'savepath': '/notebooks/moldev-data/analyzed/06-24-2015/ssC PNA.csv',\n",
    "            'label': 'PNA'}]"
   ]
  },
  {
   "cell_type": "code",
   "execution_count": 34,
   "metadata": {
    "collapsed": false
   },
   "outputs": [],
   "source": [
    "cell_dict = {\"U2OS\": ['A01','A02','A03','A04'],\n",
    "             \"143B\": ['B01','B02','B03','B04']}\n",
    "\n",
    "dilutions = [{'Plate Name': [32,34],\n",
    "              'Concentration': ['2000 nM','1000 nM','500 nM','250 nM']},\n",
    "             {'Plate Name': [33,35],\n",
    "              'Concentration': ['125 nM','62.5 nM','31.25 nM','0nM']}]\n",
    "\n",
    "date = '06-24-2015'"
   ]
  },
  {
   "cell_type": "code",
   "execution_count": 36,
   "metadata": {
    "collapsed": false
   },
   "outputs": [],
   "source": [
    "# map(analyze_and_save,configs)"
   ]
  },
  {
   "cell_type": "code",
   "execution_count": 11,
   "metadata": {
    "collapsed": false
   },
   "outputs": [],
   "source": [
    "# {path:String, savepath: String, label: String} -> SideEffects(SaveFile)\n",
    "def analyze_and_save(c):\n",
    "    \"\"\" Clean and save raw data for LNA and PNA data. \"\"\"\n",
    "    \n",
    "\n"
   ]
  },
  {
   "cell_type": "code",
   "execution_count": 22,
   "metadata": {
    "collapsed": false
   },
   "outputs": [],
   "source": [
    "cell_types = create_well_df(cell_dict)"
   ]
  },
  {
   "cell_type": "code",
   "execution_count": null,
   "metadata": {
    "collapsed": true
   },
   "outputs": [],
   "source": [
    "def create_condition_lookup(concentrations):"
   ]
  },
  {
   "cell_type": "code",
   "execution_count": 19,
   "metadata": {
    "collapsed": false
   },
   "outputs": [],
   "source": [
    "concentrations_32_34 = ['2000 nM','1000 nM','500 nM','250 nM']\n",
    "well_numbers = ['01','02','03','04']\n",
    "\n",
    "conditions = pd.concat([df({'Concentration':concentrations_32_34,\n",
    "                            '_Well Number': well_numbers,\n",
    "                            '_Well Letter': well_letter}) \\\n",
    "                           for well_letter in ['A','B']])\n",
    "conditions['Well Name'] = conditions['_Well Letter'] + conditions['_Well Number']\n",
    "conditions = conditions.drop(['_Well Letter', '_Well Number'],axis=1)\n"
   ]
  },
  {
   "cell_type": "code",
   "execution_count": 24,
   "metadata": {
    "collapsed": false
   },
   "outputs": [],
   "source": [
    "conditions = pd.merge(conditions,cell_types,on='Well Name')"
   ]
  },
  {
   "cell_type": "code",
   "execution_count": 28,
   "metadata": {
    "collapsed": false
   },
   "outputs": [],
   "source": [
    "conditions['Condition'] = 'LNA' + ' ' + conditions['Concentration'] + ' ' + conditions['Cell Type']"
   ]
  },
  {
   "cell_type": "code",
   "execution_count": 9,
   "metadata": {
    "collapsed": false
   },
   "outputs": [],
   "source": [
    "well_df = create_well_df(cell_dict)\n",
    "condition_lookup = pd.concat([create_plate_df(well_df,a,b) for a,b in conditions])\n",
    "condition_lookup['Date'] = date"
   ]
  },
  {
   "cell_type": "code",
   "execution_count": 10,
   "metadata": {
    "collapsed": false
   },
   "outputs": [
    {
     "data": {
      "text/html": [
       "<div>\n",
       "<table border=\"1\" class=\"dataframe\">\n",
       "  <thead>\n",
       "    <tr style=\"text-align: right;\">\n",
       "      <th></th>\n",
       "      <th>Well Name</th>\n",
       "      <th>Plate Name</th>\n",
       "      <th>Condition</th>\n",
       "      <th>Plate ID</th>\n",
       "      <th>Date</th>\n",
       "    </tr>\n",
       "  </thead>\n",
       "  <tbody>\n",
       "    <tr>\n",
       "      <th>0</th>\n",
       "      <td>A03</td>\n",
       "      <td>24</td>\n",
       "      <td>PML ssC w RNase A 143B</td>\n",
       "      <td>d4cbc6e79459</td>\n",
       "      <td>06-18-2015</td>\n",
       "    </tr>\n",
       "    <tr>\n",
       "      <th>1</th>\n",
       "      <td>A04</td>\n",
       "      <td>24</td>\n",
       "      <td>PML ssC w RNase A 143B</td>\n",
       "      <td>d4cbc6e79459</td>\n",
       "      <td>06-18-2015</td>\n",
       "    </tr>\n",
       "    <tr>\n",
       "      <th>2</th>\n",
       "      <td>B03</td>\n",
       "      <td>24</td>\n",
       "      <td>PML ssC w RNase A 143B</td>\n",
       "      <td>d4cbc6e79459</td>\n",
       "      <td>06-18-2015</td>\n",
       "    </tr>\n",
       "    <tr>\n",
       "      <th>3</th>\n",
       "      <td>B04</td>\n",
       "      <td>24</td>\n",
       "      <td>PML ssC w RNase A 143B</td>\n",
       "      <td>d4cbc6e79459</td>\n",
       "      <td>06-18-2015</td>\n",
       "    </tr>\n",
       "    <tr>\n",
       "      <th>0</th>\n",
       "      <td>A01</td>\n",
       "      <td>24</td>\n",
       "      <td>PML ssC w RNase A U2OS</td>\n",
       "      <td>d4cbc6e79459</td>\n",
       "      <td>06-18-2015</td>\n",
       "    </tr>\n",
       "  </tbody>\n",
       "</table>\n",
       "</div>"
      ],
      "text/plain": [
       "  Well Name  Plate Name               Condition      Plate ID        Date\n",
       "0       A03          24  PML ssC w RNase A 143B  d4cbc6e79459  06-18-2015\n",
       "1       A04          24  PML ssC w RNase A 143B  d4cbc6e79459  06-18-2015\n",
       "2       B03          24  PML ssC w RNase A 143B  d4cbc6e79459  06-18-2015\n",
       "3       B04          24  PML ssC w RNase A 143B  d4cbc6e79459  06-18-2015\n",
       "0       A01          24  PML ssC w RNase A U2OS  d4cbc6e79459  06-18-2015"
      ]
     },
     "execution_count": 10,
     "metadata": {},
     "output_type": "execute_result"
    }
   ],
   "source": [
    "condition_lookup.head()"
   ]
  },
  {
   "cell_type": "code",
   "execution_count": 11,
   "metadata": {
    "collapsed": false
   },
   "outputs": [],
   "source": [
    "# String -> String\n",
    "def rename_column(col):\n",
    "    \"\"\" Rename column col to remove whitespace, backslashes, prefixes,\n",
    "        and suffixes (esp. large parenthetic suffix). \"\"\"\n",
    "    if col.startswith('Cell:'):\n",
    "        return col.split('(')[0].lstrip(\"Cell:\").rstrip('/').strip(' ')\n",
    "    else:\n",
    "        return col.split('(')[0].rstrip('/').strip(' ')\n",
    "\n",
    "cell_config = dict(\n",
    "    path = path,\n",
    "    plate_delimiter = \"ATF\",\n",
    "    delimiter = '\\t',\n",
    "    skiprows = 4,\n",
    "    dropcols = ['Cell ID',\n",
    "                'Site ID',\n",
    "                'MEASUREMENT SET ID',\n",
    "                '.*ObjectID.*',\n",
    "                'Laser focus score',\n",
    "                '\\.[0-9]*\\Z'],\n",
    "    normcols = [['Normalized APB spots (by FITC & TxRed)',\n",
    "                  ['# of APBs'],\n",
    "                  ['# of FITC spots', '# of TxRed spots']],\n",
    "                ['Normalized APB spots (by TxRed)',\n",
    "                  ['# of APBs'],\n",
    "                  ['# of TxRed spots']],\n",
    "                ['Normalized APB spots (by FITC)',\n",
    "                  ['# of APBs'],\n",
    "                  ['# of FITC spots']],\n",
    "                \n",
    "                ['Normalized Coloc avg area (by FITC & TxRed)',\n",
    "                  ['Area_Coloc_Avg'],\n",
    "                  ['Area_FITC','Area_TxRed']],\n",
    "                ['Normalized Coloc avg area (by FITC)',\n",
    "                  ['Area_Coloc_Avg'],\n",
    "                  ['Area_FITC']],\n",
    "                ['Normalized Coloc avg area (by TxRed)',\n",
    "                  ['Area_Coloc_Avg'],\n",
    "                  ['Area_TxRed']],                \n",
    "                \n",
    "                ['Normalized Coloc spots (by FITC & TxRed)',\n",
    "                  ['# Coloc Spots'],\n",
    "                  ['# of FITC spots', '# of TxRed spots']],\n",
    "                ['Normalized Coloc spots (by FITC)',\n",
    "                  ['# Coloc Spots'],\n",
    "                  ['# of FITC spots']],\n",
    "                ['Normalized Coloc spots (by TxRed)',\n",
    "                  ['# Coloc Spots'],\n",
    "                  ['# of TxRed spots']],\n",
    "                \n",
    "                ['Normalized Coloc total area (by FITC & TxRed)',\n",
    "                  ['Total_Area_Coloc'],\n",
    "                  ['Total_Area_FITC','Total_Area_TxRed']],\n",
    "                ['Normalized Coloc total area (by FITC)',\n",
    "                  ['Total_Area_Coloc'],\n",
    "                  ['Total_Area_FITC']],\n",
    "                ['Normalized Coloc total area (by TxRed)',\n",
    "                  ['Total_Area_Coloc'],\n",
    "                  ['Total_Area_TxRed']],\n",
    "                \n",
    "                ['Normalized Coloc total area (by FITC-TxRed colocs)',\n",
    "                  ['Total_Area_Coloc'],\n",
    "                  ['FITC-TxRed_Area_Total']]],\n",
    "    colrename = rename_column,\n",
    "    check = identity\n",
    "    )\n",
    "\n",
    "cell_data = get_cell_data(cell_config)"
   ]
  },
  {
   "cell_type": "code",
   "execution_count": 12,
   "metadata": {
    "collapsed": false
   },
   "outputs": [],
   "source": [
    "data = pd.merge(cell_data.rename(columns={\"Plate ID\":\"Plate Name\"}),\n",
    "                condition_lookup,\n",
    "                on = ['Plate Name','Well Name'])\n",
    "\n",
    "# Write to file\n",
    "data.to_csv(savepath,index=False)"
   ]
  }
 ],
 "metadata": {
  "kernelspec": {
   "display_name": "Python 2",
   "language": "python",
   "name": "python2"
  },
  "language_info": {
   "codemirror_mode": {
    "name": "ipython",
    "version": 2
   },
   "file_extension": ".py",
   "mimetype": "text/x-python",
   "name": "python",
   "nbconvert_exporter": "python",
   "pygments_lexer": "ipython2",
   "version": "2.7.6"
  }
 },
 "nbformat": 4,
 "nbformat_minor": 0
}
