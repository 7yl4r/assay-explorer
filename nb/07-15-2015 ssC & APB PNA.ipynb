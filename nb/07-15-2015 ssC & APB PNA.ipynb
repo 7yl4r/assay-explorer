{
 "cells": [
  {
   "cell_type": "code",
   "execution_count": 111,
   "metadata": {
    "collapsed": false
   },
   "outputs": [],
   "source": [
    "execfile('../src/utils.py')\n",
    "execfile('../src/cellslib.py')\n",
    "from toolz import assoc"
   ]
  },
  {
   "cell_type": "code",
   "execution_count": 112,
   "metadata": {
    "collapsed": true
   },
   "outputs": [],
   "source": [
    "configs = [{'path': '/notebooks/moldev-data/original/07-15-2015/[ ID_1 ] PNA probe 50-6 nM ssC HS JS (60X) 07.13.2015.txt',\n",
    "            'savepath': '/notebooks/moldev-data/analyzed/07-15-2015/ssC PNA.csv',\n",
    "            'label': 'PNA ssC'},\n",
    "           {'path': '/notebooks/moldev-data/original/07-15-2015/[ ID_2 ] PNA probe 50-6 nM APB HS JS (60X) 07.15.2015.txt',\n",
    "            'savepath': '/notebooks/moldev-data/analyzed/07-15-2015/APB PNA.csv',\n",
    "            'label': 'PNA APB'}]"
   ]
  },
  {
   "cell_type": "markdown",
   "metadata": {},
   "source": [
    "Here are the latest data files. One file per slide (one APB slide and one ssC). Row A = U2OS and Row B = 143B for all slides. Column 1 = 50 nM, Column 2 = 25 nM, Column 3 = 12.5 nM and Column 4 = 6.25 nM of PNA probe for all slides. Run these in the current DATAVIS version. I am very interested in seeing what the nuclear integrated intensity distributions look like in these data so that we can do cell cycle phase separation ASAP.\n",
    " \n",
    "Jonah, please correct any of the above if I’ve made a mistake but I think that is accurate in terms of labeling and orientation."
   ]
  },
  {
   "cell_type": "code",
   "execution_count": 113,
   "metadata": {
    "collapsed": false
   },
   "outputs": [],
   "source": [
    "cell_dict = {\"U2OS\": ['A01','A02','A03','A04'],\n",
    "             \"143B\": ['B01','B02','B03','B04']}\n",
    "\n",
    "dilutions = ['50 nM','25 nM','12.5 nM','6.25 nM']\n",
    "\n",
    "date = '07-15-2015'"
   ]
  },
  {
   "cell_type": "code",
   "execution_count": 114,
   "metadata": {
    "collapsed": true
   },
   "outputs": [],
   "source": [
    "# {Plate Name: [String],Concentration:[String]} -> DataFrame[Plate Name, Plate ID, Well Name, Concentration]\n",
    "def create_dilution_df(c):\n",
    "    well_numbers = ['01','02','03','04']\n",
    "\n",
    "    x = pd.concat([df({'Concentration':c,\n",
    "                       '_Well Number': well_numbers,\n",
    "                       '_Well Letter': well_letter}) \\\n",
    "                    for well_letter in ['A','B']])\n",
    "    \n",
    "    x['Well Name'] = x['_Well Letter'] + x['_Well Number']\n",
    "    x = x.drop(['_Well Letter', '_Well Number'],axis=1)    \n",
    "    x['Plate ID'] = generate_sid()\n",
    "    return x"
   ]
  },
  {
   "cell_type": "code",
   "execution_count": 115,
   "metadata": {
    "collapsed": true
   },
   "outputs": [],
   "source": [
    "cell_types = create_well_df(cell_dict)"
   ]
  },
  {
   "cell_type": "code",
   "execution_count": 116,
   "metadata": {
    "collapsed": false
   },
   "outputs": [],
   "source": [
    "concentrations = create_dilution_df(dilutions)"
   ]
  },
  {
   "cell_type": "code",
   "execution_count": 117,
   "metadata": {
    "collapsed": false
   },
   "outputs": [],
   "source": [
    "condition_lookup = pd.merge(concentrations,cell_types,on=['Well Name'])\n",
    "condition_lookup['Date'] = date"
   ]
  },
  {
   "cell_type": "code",
   "execution_count": 118,
   "metadata": {
    "collapsed": false
   },
   "outputs": [],
   "source": [
    "# {path:String, savepath: String, label: String} -> SideEffects(SaveFile)\n",
    "def analyze_and_save(c):\n",
    "    \"\"\" Clean and save raw LNA and PNA data. \"\"\"\n",
    "    my_cell_config = assoc(cell_config,'path',c['path'])\n",
    "    data = pd.merge(get_cell_data(my_cell_config).rename(columns={\"Plate ID\":\"Plate Name\"}),\n",
    "                    condition_lookup,\n",
    "                    on = 'Well Name')\n",
    "    \n",
    "    data['Condition'] = 'ssC' + ' ' + c['label'] + ' ' + data['Concentration'] + ' ' + data['Cell Type']\n",
    "\n",
    "    # Write to file\n",
    "    data.to_csv(c['savepath'],index=False)\n",
    "    return data"
   ]
  },
  {
   "cell_type": "code",
   "execution_count": 119,
   "metadata": {
    "collapsed": false
   },
   "outputs": [],
   "source": [
    "# f = open(configs[0]['path']).read().replace('\\r','').split('\\n')\n",
    "# g = [map(rename_column,fi.split('\\t')) for fi in f]"
   ]
  },
  {
   "cell_type": "code",
   "execution_count": 120,
   "metadata": {
    "collapsed": false
   },
   "outputs": [],
   "source": [
    "# g[4]"
   ]
  },
  {
   "cell_type": "code",
   "execution_count": 121,
   "metadata": {
    "collapsed": false
   },
   "outputs": [],
   "source": [
    "# pd.read_csv(StringIO(open(configs[0]['path']).read().replace('\\r','')),skiprows=4,delimiter='\\t')"
   ]
  },
  {
   "cell_type": "code",
   "execution_count": 122,
   "metadata": {
    "collapsed": false
   },
   "outputs": [],
   "source": [
    "# String -> String\n",
    "def rename_column(col):\n",
    "    \"\"\" Rename column col to remove whitespace, backslashes, prefixes,\n",
    "        and suffixes (esp. large parenthetic suffix). \"\"\"\n",
    "    if col.startswith('Cell:'):\n",
    "        return col.split('(')[0].lstrip(\"Cell:\").rstrip('/').strip(' ')\n",
    "    else:\n",
    "        return col.split('(')[0].rstrip('/').strip(' ')\n",
    "\n",
    "cell_config = dict(\n",
    "    plate_delimiter = \"ATF\",\n",
    "    delimiter = '\\t',\n",
    "    skiprows = 4,\n",
    "    dropcols = ['Cell ID',\n",
    "                'Site ID',\n",
    "                'MEASUREMENT SET ID',\n",
    "                '.*ObjectID.*',\n",
    "                'Laser focus score',\n",
    "                '\\.[0-9]*\\Z'],\n",
    "    normcols = [['Normalized_ColocSpot_area_sum (coloc)',\n",
    "                  ['ColocSpots_area_sum'],\n",
    "                  ['FITC-TxRed_coloc_area_sum']],\n",
    "                ['Normalized_ColocSpot_area_sum (all)',\n",
    "                  ['ColocSpots_area_sum'],\n",
    "                  ['FITC-TxRed_all_area_sum']],\n",
    "        \n",
    "                ['Normalized coloc spots (by FITC & TxRed)',\n",
    "                  ['# of Coloc Spots'],\n",
    "                  ['# of FITC spots', '# of TxRed spots']],\n",
    "                ['Normalized coloc spots (by FITC)',\n",
    "                  ['# of Coloc Spots'],\n",
    "                  ['# of FITC spots']],\n",
    "                ['Normalized coloc spots (by TxRed)',\n",
    "                  ['# of Coloc Spots'],\n",
    "                  ['# of TxRed spots']]],\n",
    "    colrename = rename_column,\n",
    "    check = identity\n",
    "    )"
   ]
  },
  {
   "cell_type": "code",
   "execution_count": 123,
   "metadata": {
    "collapsed": false,
    "scrolled": false
   },
   "outputs": [],
   "source": [
    "# analyze_and_save(configs[0])\n",
    "dataframes = map(analyze_and_save,configs)"
   ]
  },
  {
   "cell_type": "code",
   "execution_count": 124,
   "metadata": {
    "collapsed": false
   },
   "outputs": [
    {
     "data": {
      "text/plain": [
       "['# of Coloc Spots',\n",
       " '# of FITC in ColocSpots',\n",
       " '# of FITC spots',\n",
       " '# of FITC-TxRed all spots',\n",
       " '# of FITC-TxRed in ColocSpots',\n",
       " '# of TxRed in ColocSpots',\n",
       " '# of TxRed spots',\n",
       " 'Cell Type',\n",
       " 'ColocSpots_area_avg',\n",
       " 'ColocSpots_area_sum',\n",
       " 'Concentration',\n",
       " 'Condition',\n",
       " 'Date',\n",
       " 'FITC-TxRed_all_area_avg',\n",
       " 'FITC-TxRed_all_area_sum',\n",
       " 'FITC-TxRed_coloc_area_avg',\n",
       " 'FITC-TxRed_coloc_area_sum',\n",
       " 'FITC_all_IntIntensity_avg',\n",
       " 'FITC_all_IntIntensity_sum',\n",
       " 'FITC_all_Intensity_avg',\n",
       " 'FITC_all_Intensity_sum',\n",
       " 'FITC_all_area_avg',\n",
       " 'FITC_all_area_sum',\n",
       " 'FITC_coloc_IntIntensity_avg',\n",
       " 'FITC_coloc_IntIntensity_sum',\n",
       " 'FITC_coloc_Intensity_avg',\n",
       " 'FITC_coloc_Intensity_sum',\n",
       " 'FITC_coloc_area_avg',\n",
       " 'FITC_coloc_area_sum',\n",
       " 'Normalized coloc spots (by FITC & TxRed)',\n",
       " 'Normalized coloc spots (by FITC)',\n",
       " 'Normalized coloc spots (by TxRed)',\n",
       " 'Normalized_ColocSpot_area_sum (all)',\n",
       " 'Normalized_ColocSpot_area_sum (coloc)',\n",
       " 'NucArea_Avg',\n",
       " 'NucIntegrated Intensity_Avg',\n",
       " 'NucIntensity_Avg',\n",
       " 'Plate ID',\n",
       " 'Plate Name',\n",
       " 'TxRed_all_IntIntensity_avg',\n",
       " 'TxRed_all_IntIntensity_sum',\n",
       " 'TxRed_all_Intensity_avg',\n",
       " 'TxRed_all_Intensity_sum',\n",
       " 'TxRed_all_area_avg',\n",
       " 'TxRed_all_area_sum',\n",
       " 'TxRed_coloc_IntIntensity_avg',\n",
       " 'TxRed_coloc_IntIntensity_sum',\n",
       " 'TxRed_coloc_Intensity_avg',\n",
       " 'TxRed_coloc_Intensity_sum',\n",
       " 'TxRed_coloc_area_avg',\n",
       " 'TxRed_coloc_area_sum',\n",
       " 'Well Name']"
      ]
     },
     "execution_count": 124,
     "metadata": {},
     "output_type": "execute_result"
    }
   ],
   "source": [
    "sorted(dataframes[1].columns.tolist())"
   ]
  },
  {
   "cell_type": "code",
   "execution_count": null,
   "metadata": {
    "collapsed": true
   },
   "outputs": [],
   "source": []
  }
 ],
 "metadata": {
  "kernelspec": {
   "display_name": "Python 2",
   "language": "python",
   "name": "python2"
  },
  "language_info": {
   "codemirror_mode": {
    "name": "ipython",
    "version": 2
   },
   "file_extension": ".py",
   "mimetype": "text/x-python",
   "name": "python",
   "nbconvert_exporter": "python",
   "pygments_lexer": "ipython2",
   "version": "2.7.6"
  }
 },
 "nbformat": 4,
 "nbformat_minor": 0
}
