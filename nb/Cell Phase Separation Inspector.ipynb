{
 "cells": [
  {
   "cell_type": "code",
   "execution_count": 1,
   "metadata": {
    "collapsed": false
   },
   "outputs": [
    {
     "name": "stderr",
     "output_type": "stream",
     "text": [
      ":0: FutureWarning: IPython widgets are experimental and may change in the future.\n"
     ]
    }
   ],
   "source": [
    "import pandas as pd\n",
    "import numpy as np\n",
    "import matplotlib.pyplot as plt\n",
    "import seaborn.apionly as sns\n",
    "from scipy.stats.kde import gaussian_kde\n",
    "import scipy.signal as signal\n",
    "%matplotlib inline\n",
    "from IPython.html import widgets\n",
    "from IPython.html.widgets import interact,fixed"
   ]
  },
  {
   "cell_type": "code",
   "execution_count": 2,
   "metadata": {
    "collapsed": false
   },
   "outputs": [],
   "source": [
    "execfile('/notebooks/assay-explorer/src/display_utils.py')"
   ]
  },
  {
   "cell_type": "code",
   "execution_count": 3,
   "metadata": {
    "collapsed": true
   },
   "outputs": [],
   "source": [
    "filepath = '/notebooks/moldev-data/analyzed/07-20-2015/ssC-cells.csv'\n",
    "cells = pd.read_csv(filepath)"
   ]
  },
  {
   "cell_type": "code",
   "execution_count": 4,
   "metadata": {
    "collapsed": true
   },
   "outputs": [],
   "source": [
    "# [Float] -> Float\n",
    "def get_threshold(intensity,bw = 0.35):\n",
    "    \"\"\" Given an array of intensities, find the intensity \n",
    "        threshold separating the G1 peak from the S/G2 peak. \"\"\"\n",
    "    kde_fit = gaussian_kde(intensity,bw)\n",
    "    x = np.linspace(min(intensity),\n",
    "                    max(intensity),\n",
    "                    1000)\n",
    "    y = kde_fit(x)\n",
    "    ddx = np.diff(np.diff(y)) # second derivative of fit\n",
    "    peak = np.argmin(ddx) # most frequent intensity \n",
    "    index = min([yi for yi in signal.argrelmax(ddx)[0] if yi > peak])\n",
    "    threshold = x[index]\n",
    "    return threshold"
   ]
  },
  {
   "cell_type": "code",
   "execution_count": 5,
   "metadata": {
    "collapsed": true
   },
   "outputs": [],
   "source": [
    "# [Num] -> Float -> SideEffect[Plot]\n",
    "def plot_gaussian_kde(X,bw):\n",
    "    kde_fit = gaussian_kde(X,bw)\n",
    "    x = np.linspace(min(X),\n",
    "                    max(X),\n",
    "                    1000)\n",
    "    y = kde_fit(x)\n",
    "    plt.plot(x,y)"
   ]
  },
  {
   "cell_type": "code",
   "execution_count": 6,
   "metadata": {
    "collapsed": false
   },
   "outputs": [],
   "source": [
    "def determine_thresholding_parameters \\\n",
    "(data,condition_number,display_bw,threshold_bw):\n",
    "    condition = data['Condition'].unique().tolist()[condition_number]\n",
    "    intensities = data[data['Condition'] == condition]['NucIntegrated Intensity_Avg']\n",
    "    \n",
    "#     cell_type = condition.split()[-1]\n",
    "#     data['Cell Type'] = data['Condition'].map(lambda x: x.split()[-1])\n",
    "#     cell_type_threshold = get_threshold(data[data['Cell Type'] == cell_type]['NucIntegrated Intensity_Avg'],threshold_bw)\n",
    "    \n",
    "    threshold = get_threshold(intensities,threshold_bw)\n",
    "    plot_gaussian_kde(intensities,display_bw)\n",
    "    plt.title(condition)\n",
    "    plt.xlim(0,1.5e8)\n",
    "    plt.ylim(0,5.5e-8)\n",
    "    plt.xlabel('NucIntegrated Intensity_Avg')\n",
    "    plt.plot([threshold,threshold],plt.gca().get_ylim(),color='r')\n",
    "#     plt.plot([cell_type_threshold,cell_type_threshold],plt.gca().get_ylim(),color='k')\n",
    "#     print \"Threshold = {}\".format(threshold)"
   ]
  },
  {
   "cell_type": "markdown",
   "metadata": {},
   "source": [
    "# Cell Phase Separation\n",
    "To find the intensity value that separates G1 from S/G2 cells, I plot the distribution of `NucIntegrated Intensity_Avg`, then smooth it out. \n",
    "\n",
    "In the plot below, there are three sliders. \n",
    "1. Condition - check out different conditions \n",
    "2. Display_bw - smooth out the plot (doesn't affect the calculation of the threshold)\n",
    "3. Threshold_vw - smooth out the distribution for the calculation. \n",
    "\n",
    "Set the display_bw and threshold_bw to the same value to 'see what the computer sees' when it chooses a threshold."
   ]
  },
  {
   "cell_type": "code",
   "execution_count": 7,
   "metadata": {
    "collapsed": false
   },
   "outputs": [
    {
     "data": {
      "image/png": "[encoded data removed]",
      "text/plain": [
       "<matplotlib.figure.Figure at 0x7f12dbb564d0>"
      ]
     },
     "metadata": {},
     "output_type": "display_data"
    }
   ],
   "source": [
    "n_conditions = len(cells['Condition'].unique())\n",
    "bw = {'min':0.025, 'max': 0.8, 'step':0.025}\n",
    "\n",
    "interact(\n",
    "    determine_thresholding_parameters,\n",
    "    data = fixed(cells),\n",
    "    condition_number = widgets.IntSlider(min=0,max = n_conditions - 1),\n",
    "    display_bw = widgets.FloatSlider(min = bw['min'], max = bw['max'], step = bw['step']),\n",
    "    threshold_bw = widgets.FloatSlider(min = bw['min'], max = bw['max'], step = bw['step']));"
   ]
  },
  {
   "cell_type": "code",
   "execution_count": null,
   "metadata": {
    "collapsed": true
   },
   "outputs": [],
   "source": []
  },
  {
   "cell_type": "code",
   "execution_count": null,
   "metadata": {
    "collapsed": true
   },
   "outputs": [],
   "source": []
  }
 ],
 "metadata": {
  "kernelspec": {
   "display_name": "Python 2",
   "language": "python",
   "name": "python2"
  },
  "language_info": {
   "codemirror_mode": {
    "name": "ipython",
    "version": 2
   },
   "file_extension": ".py",
   "mimetype": "text/x-python",
   "name": "python",
   "nbconvert_exporter": "python",
   "pygments_lexer": "ipython2",
   "version": "2.7.6"
  }
 },
 "nbformat": 4,
 "nbformat_minor": 0
}
