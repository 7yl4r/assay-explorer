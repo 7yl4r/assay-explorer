{
 "cells": [
  {
   "cell_type": "code",
   "execution_count": 1,
   "metadata": {
    "collapsed": false
   },
   "outputs": [
    {
     "ename": "ValueError",
     "evalue": "All objects passed were None",
     "output_type": "error",
     "traceback": [
      "\u001b[1;31m---------------------------------------------------------------------------\u001b[0m",
      "\u001b[1;31mValueError\u001b[0m                                Traceback (most recent call last)",
      "\u001b[1;32m<ipython-input-1-cc40015d41e7>\u001b[0m in \u001b[0;36m<module>\u001b[1;34m()\u001b[0m\n\u001b[0;32m     67\u001b[0m \u001b[0mdata\u001b[0m \u001b[1;33m=\u001b[0m \u001b[0mpd\u001b[0m\u001b[1;33m.\u001b[0m\u001b[0mread_csv\u001b[0m\u001b[1;33m(\u001b[0m\u001b[0mpath\u001b[0m\u001b[1;33m)\u001b[0m\u001b[1;33m\u001b[0m\u001b[0m\n\u001b[0;32m     68\u001b[0m \u001b[1;33m\u001b[0m\u001b[0m\n\u001b[1;32m---> 69\u001b[1;33m \u001b[0mwell_summary\u001b[0m \u001b[1;33m=\u001b[0m \u001b[0msummarize_wells\u001b[0m\u001b[1;33m(\u001b[0m\u001b[0mdata\u001b[0m\u001b[1;33m,\u001b[0m\u001b[0mwell_config\u001b[0m\u001b[1;33m)\u001b[0m\u001b[1;33m\u001b[0m\u001b[0m\n\u001b[0m\u001b[0;32m     70\u001b[0m \u001b[0mcondition_summary\u001b[0m \u001b[1;33m=\u001b[0m \u001b[0msummarize_conditions\u001b[0m\u001b[1;33m(\u001b[0m\u001b[0mdata\u001b[0m\u001b[1;33m,\u001b[0m\u001b[0mcondition_config\u001b[0m\u001b[1;33m)\u001b[0m\u001b[1;33m\u001b[0m\u001b[0m\n\u001b[0;32m     71\u001b[0m \u001b[1;33m\u001b[0m\u001b[0m\n",
      "\u001b[1;32m<ipython-input-1-cc40015d41e7>\u001b[0m in \u001b[0;36msummarize_wells\u001b[1;34m(dataframe, c)\u001b[0m\n\u001b[0;32m     44\u001b[0m \u001b[1;31m# DataFrame -> WellSummaryConfig -> DataFrame\u001b[0m\u001b[1;33m\u001b[0m\u001b[1;33m\u001b[0m\u001b[0m\n\u001b[0;32m     45\u001b[0m \u001b[1;32mdef\u001b[0m \u001b[0msummarize_wells\u001b[0m\u001b[1;33m(\u001b[0m\u001b[0mdataframe\u001b[0m\u001b[1;33m,\u001b[0m\u001b[0mc\u001b[0m\u001b[1;33m)\u001b[0m\u001b[1;33m:\u001b[0m\u001b[1;33m\u001b[0m\u001b[0m\n\u001b[1;32m---> 46\u001b[1;33m     \u001b[0mparameters\u001b[0m \u001b[1;33m=\u001b[0m \u001b[0mgroupby_and_summarize\u001b[0m\u001b[1;33m(\u001b[0m\u001b[0mdataframe\u001b[0m\u001b[1;33m,\u001b[0m\u001b[0mc\u001b[0m\u001b[1;33m[\u001b[0m\u001b[1;34m'groupby'\u001b[0m\u001b[1;33m]\u001b[0m\u001b[1;33m,\u001b[0m\u001b[0mc\u001b[0m\u001b[1;33m[\u001b[0m\u001b[1;34m'funcs'\u001b[0m\u001b[1;33m]\u001b[0m\u001b[1;33m,\u001b[0m\u001b[0mc\u001b[0m\u001b[1;33m[\u001b[0m\u001b[1;34m'fnames'\u001b[0m\u001b[1;33m]\u001b[0m\u001b[1;33m)\u001b[0m\u001b[1;33m\u001b[0m\u001b[0m\n\u001b[0m\u001b[0;32m     47\u001b[0m     \u001b[0mcell_counts\u001b[0m \u001b[1;33m=\u001b[0m \u001b[0mget_well_cell_counts\u001b[0m\u001b[1;33m(\u001b[0m\u001b[0mdataframe\u001b[0m\u001b[1;33m)\u001b[0m\u001b[1;33m\u001b[0m\u001b[0m\n\u001b[0;32m     48\u001b[0m     \u001b[0mcell_counts\u001b[0m\u001b[1;33m[\u001b[0m\u001b[1;34m'Function'\u001b[0m\u001b[1;33m]\u001b[0m \u001b[1;33m=\u001b[0m \u001b[1;34m'avg'\u001b[0m\u001b[1;33m\u001b[0m\u001b[0m\n",
      "\u001b[1;32m/notebooks/assay-explorer/src/utils.py\u001b[0m in \u001b[0;36mgroupby_and_summarize\u001b[1;34m(dataframe, col, funcs, fnames)\u001b[0m\n\u001b[0;32m    161\u001b[0m                                       fnames = fnames)),\n\u001b[0;32m    162\u001b[0m                        \u001b[0mpd\u001b[0m\u001b[1;33m.\u001b[0m\u001b[0mconcat\u001b[0m\u001b[1;33m,\u001b[0m\u001b[1;33m\u001b[0m\u001b[0m\n\u001b[1;32m--> 163\u001b[1;33m                        reset_index)\n\u001b[0m",
      "\u001b[1;32m/usr/local/lib/python2.7/dist-packages/toolz/functoolz.pyc\u001b[0m in \u001b[0;36mthread_last\u001b[1;34m(val, *forms)\u001b[0m\n\u001b[0;32m     88\u001b[0m             \u001b[0margs\u001b[0m \u001b[1;33m=\u001b[0m \u001b[0margs\u001b[0m \u001b[1;33m+\u001b[0m \u001b[1;33m(\u001b[0m\u001b[0mval\u001b[0m\u001b[1;33m,\u001b[0m\u001b[1;33m)\u001b[0m\u001b[1;33m\u001b[0m\u001b[0m\n\u001b[0;32m     89\u001b[0m             \u001b[1;32mreturn\u001b[0m \u001b[0mfunc\u001b[0m\u001b[1;33m(\u001b[0m\u001b[1;33m*\u001b[0m\u001b[0margs\u001b[0m\u001b[1;33m)\u001b[0m\u001b[1;33m\u001b[0m\u001b[0m\n\u001b[1;32m---> 90\u001b[1;33m     \u001b[1;32mreturn\u001b[0m \u001b[0mreduce\u001b[0m\u001b[1;33m(\u001b[0m\u001b[0mevalform_back\u001b[0m\u001b[1;33m,\u001b[0m \u001b[0mforms\u001b[0m\u001b[1;33m,\u001b[0m \u001b[0mval\u001b[0m\u001b[1;33m)\u001b[0m\u001b[1;33m\u001b[0m\u001b[0m\n\u001b[0m\u001b[0;32m     91\u001b[0m \u001b[1;33m\u001b[0m\u001b[0m\n\u001b[0;32m     92\u001b[0m \u001b[1;33m\u001b[0m\u001b[0m\n",
      "\u001b[1;32m/usr/local/lib/python2.7/dist-packages/toolz/functoolz.pyc\u001b[0m in \u001b[0;36mevalform_back\u001b[1;34m(val, form)\u001b[0m\n\u001b[0;32m     83\u001b[0m     \u001b[1;32mdef\u001b[0m \u001b[0mevalform_back\u001b[0m\u001b[1;33m(\u001b[0m\u001b[0mval\u001b[0m\u001b[1;33m,\u001b[0m \u001b[0mform\u001b[0m\u001b[1;33m)\u001b[0m\u001b[1;33m:\u001b[0m\u001b[1;33m\u001b[0m\u001b[0m\n\u001b[0;32m     84\u001b[0m         \u001b[1;32mif\u001b[0m \u001b[0mcallable\u001b[0m\u001b[1;33m(\u001b[0m\u001b[0mform\u001b[0m\u001b[1;33m)\u001b[0m\u001b[1;33m:\u001b[0m\u001b[1;33m\u001b[0m\u001b[0m\n\u001b[1;32m---> 85\u001b[1;33m             \u001b[1;32mreturn\u001b[0m \u001b[0mform\u001b[0m\u001b[1;33m(\u001b[0m\u001b[0mval\u001b[0m\u001b[1;33m)\u001b[0m\u001b[1;33m\u001b[0m\u001b[0m\n\u001b[0m\u001b[0;32m     86\u001b[0m         \u001b[1;32mif\u001b[0m \u001b[0misinstance\u001b[0m\u001b[1;33m(\u001b[0m\u001b[0mform\u001b[0m\u001b[1;33m,\u001b[0m \u001b[0mtuple\u001b[0m\u001b[1;33m)\u001b[0m\u001b[1;33m:\u001b[0m\u001b[1;33m\u001b[0m\u001b[0m\n\u001b[0;32m     87\u001b[0m             \u001b[0mfunc\u001b[0m\u001b[1;33m,\u001b[0m \u001b[0margs\u001b[0m \u001b[1;33m=\u001b[0m \u001b[0mform\u001b[0m\u001b[1;33m[\u001b[0m\u001b[1;36m0\u001b[0m\u001b[1;33m]\u001b[0m\u001b[1;33m,\u001b[0m \u001b[0mform\u001b[0m\u001b[1;33m[\u001b[0m\u001b[1;36m1\u001b[0m\u001b[1;33m:\u001b[0m\u001b[1;33m]\u001b[0m\u001b[1;33m\u001b[0m\u001b[0m\n",
      "\u001b[1;32m/usr/local/lib/python2.7/dist-packages/pandas/tools/merge.pyc\u001b[0m in \u001b[0;36mconcat\u001b[1;34m(objs, axis, join, join_axes, ignore_index, keys, levels, names, verify_integrity, copy)\u001b[0m\n\u001b[0;32m    752\u001b[0m                        \u001b[0mkeys\u001b[0m\u001b[1;33m=\u001b[0m\u001b[0mkeys\u001b[0m\u001b[1;33m,\u001b[0m \u001b[0mlevels\u001b[0m\u001b[1;33m=\u001b[0m\u001b[0mlevels\u001b[0m\u001b[1;33m,\u001b[0m \u001b[0mnames\u001b[0m\u001b[1;33m=\u001b[0m\u001b[0mnames\u001b[0m\u001b[1;33m,\u001b[0m\u001b[1;33m\u001b[0m\u001b[0m\n\u001b[0;32m    753\u001b[0m                        \u001b[0mverify_integrity\u001b[0m\u001b[1;33m=\u001b[0m\u001b[0mverify_integrity\u001b[0m\u001b[1;33m,\u001b[0m\u001b[1;33m\u001b[0m\u001b[0m\n\u001b[1;32m--> 754\u001b[1;33m                        copy=copy)\n\u001b[0m\u001b[0;32m    755\u001b[0m     \u001b[1;32mreturn\u001b[0m \u001b[0mop\u001b[0m\u001b[1;33m.\u001b[0m\u001b[0mget_result\u001b[0m\u001b[1;33m(\u001b[0m\u001b[1;33m)\u001b[0m\u001b[1;33m\u001b[0m\u001b[0m\n\u001b[0;32m    756\u001b[0m \u001b[1;33m\u001b[0m\u001b[0m\n",
      "\u001b[1;32m/usr/local/lib/python2.7/dist-packages/pandas/tools/merge.pyc\u001b[0m in \u001b[0;36m__init__\u001b[1;34m(self, objs, axis, join, join_axes, keys, levels, names, ignore_index, verify_integrity, copy)\u001b[0m\n\u001b[0;32m    797\u001b[0m \u001b[1;33m\u001b[0m\u001b[0m\n\u001b[0;32m    798\u001b[0m         \u001b[1;32mif\u001b[0m \u001b[0mlen\u001b[0m\u001b[1;33m(\u001b[0m\u001b[0mobjs\u001b[0m\u001b[1;33m)\u001b[0m \u001b[1;33m==\u001b[0m \u001b[1;36m0\u001b[0m\u001b[1;33m:\u001b[0m\u001b[1;33m\u001b[0m\u001b[0m\n\u001b[1;32m--> 799\u001b[1;33m             \u001b[1;32mraise\u001b[0m \u001b[0mValueError\u001b[0m\u001b[1;33m(\u001b[0m\u001b[1;34m'All objects passed were None'\u001b[0m\u001b[1;33m)\u001b[0m\u001b[1;33m\u001b[0m\u001b[0m\n\u001b[0m\u001b[0;32m    800\u001b[0m \u001b[1;33m\u001b[0m\u001b[0m\n\u001b[0;32m    801\u001b[0m         \u001b[1;31m# consolidate data & figure out what our result ndim is going to be\u001b[0m\u001b[1;33m\u001b[0m\u001b[1;33m\u001b[0m\u001b[0m\n",
      "\u001b[1;31mValueError\u001b[0m: All objects passed were None"
     ]
    }
   ],
   "source": [
    "\n",
    "\n",
    "# path = \"../../moldev-data/analyzed/06-19-2015/ssC.csv\"\n",
    "# well_save_path = \"../../moldev-data/analyzed/06-19-2015/ssC-wells.csv\"\n",
    "# condition_save_path = \"../../moldev-data/analyzed/06-19-2015/ssC-conditions.csv\"\n",
    "\n",
    "# path = \"../../moldev-data/analyzed/06-19-2015/APB.csv\"\n",
    "# well_save_path = \"../../moldev-data/analyzed/06-19-2015/APB-wells.csv\"\n",
    "# condition_save_path = \"../../moldev-data/analyzed/06-19-2015/APB-conditions.csv\"\n",
    "\n",
    "path = '/notebooks/moldev-data/analyzed/06-24-2015/ssC LNA.csv'\n",
    "well_save_path = \"/notebooks/moldev-data/analyzed/06-24-2015/ssC LNA-wells.csv\"\n",
    "condition_save_path = \"/notebooks/moldev-data/analyzed/06-24-2015/ssC LNA-conditions.csv\"\n",
    "\n",
    "# path = '/notebooks/moldev-data/analyzed/06-24-2015/ssC PNA.csv'\n",
    "# well_save_path = \"/notebooks/moldev-data/analyzed/06-24-2015/ssC PNA-wells.csv\"\n",
    "# condition_save_path = \"/notebooks/moldev-data/analyzed/06-24-2015/ssC PNA-conditions.csv\"\n",
    "\n",
    "\n",
    "# execfile('../src/utils.py')\n",
    "execfile('../src/cellslib.py')\n",
    "\n",
    "# TODO groupby params ('Plate ID' and 'Well Name' are repeated many times, but should only be present in config.)\n",
    "# TODO import statements are disorganized and spread throughout scripts. Need to create proper import statements across the board\n",
    "# TODO need to create issues for these todos\n",
    "# TODO need to deal with the lazy evaluation (esp. of map) and either decide its good or bad (right now, I'm just putting in 'list' statements to force evaluation)\n",
    "# TODO might want to add column for 'Plate Notes' so I can show it in the well plate plots. right now I'll just have to rely on the condition view. \n",
    "\n",
    "funcs = [df.mean,df.std,df.sem,df.count,df.min,df.max]\n",
    "fnames = ['avg','std','sem','count','min','max']\n",
    "\n",
    "condition_config = dict(groupby = 'Condition', funcs = funcs, fnames = fnames)\n",
    "well_config = dict(groupby = ['Plate ID','Well Name'], funcs = funcs, fnames = fnames)\n",
    "\n",
    "def get_well_cell_counts(dataframe):\n",
    "    return thread_last(dataframe.groupby(['Plate ID','Well Name']),\n",
    "                      (map,lambda x: {\"Plate ID\": x[0][0],\n",
    "                                      \"Well Name\": x[0][1],\n",
    "                                      \"Cell Count\": len(x[1]),\n",
    "                                      \"Condition\": x[1]['Condition'].iloc[0]}),\n",
    "                      list,\n",
    "                      df)\n",
    "\n",
    "# DataFrame -> WellSummaryConfig -> DataFrame\n",
    "def summarize_wells(dataframe,c):\n",
    "    parameters = groupby_and_summarize(dataframe,c['groupby'],c['funcs'],c['fnames'])\n",
    "    cell_counts = get_well_cell_counts(dataframe)\n",
    "    cell_counts['Function'] = 'avg'\n",
    "    cell_counts = cell_counts.drop('Condition',axis=1)\n",
    "    return pd.merge(parameters,\n",
    "                    cell_counts,\n",
    "                    on=['Plate ID','Well Name','Function'],\n",
    "                    how='left')\n",
    "\n",
    "# DataFrame -> ConditionSummaryConfig -> DataFrame\n",
    "def summarize_conditions(dataframe,c):\n",
    "    return thread_last(dataframe,\n",
    "                       juxt(identity,get_well_cell_counts),\n",
    "                       lambda x: [x[0].drop(['Plate ID','Plate Name','Date'],axis=1),\n",
    "                                  x[1].drop('Plate ID',axis=1)],\n",
    "                       (map,lambda x: groupby_and_summarize(x,\n",
    "                                                            c['groupby'],\n",
    "                                                            c['funcs'],\n",
    "                                                            c['fnames'])),\n",
    "                       lambda x: pd.merge(*x,on=['Condition','Function']))\n",
    "\n",
    "data = pd.read_csv(path)\n",
    "\n",
    "well_summary = summarize_wells(data,well_config)\n",
    "condition_summary = summarize_conditions(data,condition_config)\n",
    "\n",
    "# Write to files\n",
    "well_summary.to_csv(well_save_path,index=False)\n",
    "condition_summary.to_csv(condition_save_path,index=False)"
   ]
  },
  {
   "cell_type": "code",
   "execution_count": null,
   "metadata": {
    "collapsed": true
   },
   "outputs": [],
   "source": []
  },
  {
   "cell_type": "code",
   "execution_count": null,
   "metadata": {
    "collapsed": true
   },
   "outputs": [],
   "source": []
  }
 ],
 "metadata": {
  "kernelspec": {
   "display_name": "Python 2",
   "language": "python",
   "name": "python2"
  },
  "language_info": {
   "codemirror_mode": {
    "name": "ipython",
    "version": 2
   },
   "file_extension": ".py",
   "mimetype": "text/x-python",
   "name": "python",
   "nbconvert_exporter": "python",
   "pygments_lexer": "ipython2",
   "version": "2.7.6"
  }
 },
 "nbformat": 4,
 "nbformat_minor": 0
}
