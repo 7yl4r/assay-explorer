{
 "cells": [
  {
   "cell_type": "code",
   "execution_count": 20,
   "metadata": {
    "collapsed": false
   },
   "outputs": [],
   "source": [
    "# Note: plate 31 is missing A04, and B04 wells for some reason.(and it's missing from original data.)\n",
    "path = \"../../moldev-data/analyzed/06-19-2015/ssC.csv\"\n",
    "well_save_path = \"../../moldev-data/analyzed/06-19-2015/ssC-wells.csv\"\n",
    "condition_save_path = \"../../moldev-data/analyzed/06-19-2015/ssC-conditions.csv\"\n",
    "\n",
    "\n",
    "# execfile('../src/utils.py')\n",
    "execfile('../src/cellslib.py')\n",
    "\n",
    "# TODO groupby params ('Plate ID' and 'Well Name' are repeated many times, but should only be present in config.)\n",
    "# TODO import statements are disorganized and spread throughout scripts. Need to create proper import statements across the board\n",
    "# TODO need to create issues for these todos\n",
    "# TODO need to deal with the lazy evaluation (esp. of map) and either decide its good or bad (right now, I'm just putting in 'list' statements to force evaluation)\n",
    "\n",
    "funcs = [df.mean,df.std,df.sem,df.count,df.min,df.max]\n",
    "fnames = ['avg','std','sem','count','min','max']\n",
    "\n",
    "condition_config = dict(groupby = 'Condition', funcs = funcs, fnames = fnames)\n",
    "well_config = dict(groupby = ['Plate ID','Well Name'], funcs = funcs, fnames = fnames)\n",
    "\n",
    "def get_well_cell_counts(dataframe):\n",
    "    return thread_last(dataframe.groupby(['Plate ID','Well Name']),\n",
    "                      (map,lambda x: {\"Plate ID\": x[0][0],\n",
    "                                      \"Well Name\": x[0][1],\n",
    "                                      \"Cell Count\": len(x[1]),\n",
    "                                      \"Condition\": x[1]['Condition'].iloc[0]}),\n",
    "                      list,\n",
    "                      df)\n",
    "\n",
    "# DataFrame -> WellSummaryConfig -> DataFrame\n",
    "def summarize_wells(dataframe,c):\n",
    "    parameters = groupby_and_summarize(dataframe,c['groupby'],c['funcs'],c['fnames'])\n",
    "    cell_counts = get_well_cell_counts(dataframe)\n",
    "    cell_counts['Function'] = 'avg'\n",
    "    cell_counts = cell_counts.drop('Condition',axis=1)\n",
    "    return pd.merge(parameters,\n",
    "                    cell_counts,\n",
    "                    on=['Plate ID','Well Name','Function'],\n",
    "                    how='left')\n",
    "\n",
    "# DataFrame -> ConditionSummaryConfig -> DataFrame\n",
    "def summarize_conditions(dataframe,c):\n",
    "    return thread_last(dataframe,\n",
    "                       juxt(identity,get_well_cell_counts),\n",
    "                       (map,lambda x: groupby_and_summarize(x,\n",
    "                                                            c['groupby'],\n",
    "                                                            c['funcs'],\n",
    "                                                            c['fnames'])),\n",
    "                       lambda x: pd.merge(*x,on=['Condition','Function']))\n",
    "\n",
    "data = pd.read_csv(path)\n",
    "\n",
    "well_summary = summarize_wells(data,well_config)\n",
    "condition_summary = summarize_conditions(data,condition_config)\n",
    "\n",
    "# Write to files\n",
    "well_summary.to_csv(well_save_path,index=False)\n",
    "condition_summary.to_csv(condition_save_path,index=False)"
   ]
  },
  {
   "cell_type": "code",
   "execution_count": null,
   "metadata": {
    "collapsed": true
   },
   "outputs": [],
   "source": []
  }
 ],
 "metadata": {
  "kernelspec": {
   "display_name": "Python 2",
   "language": "python",
   "name": "python2"
  },
  "language_info": {
   "codemirror_mode": {
    "name": "ipython",
    "version": 2
   },
   "file_extension": ".py",
   "mimetype": "text/x-python",
   "name": "python",
   "nbconvert_exporter": "python",
   "pygments_lexer": "ipython2",
   "version": "2.7.6"
  }
 },
 "nbformat": 4,
 "nbformat_minor": 0
}
