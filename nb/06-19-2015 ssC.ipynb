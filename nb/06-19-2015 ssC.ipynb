{
 "cells": [
  {
   "cell_type": "code",
   "execution_count": 7,
   "metadata": {
    "collapsed": false
   },
   "outputs": [],
   "source": [
    "execfile('../src/utils.py')\n",
    "execfile('../src/cellslib.py')"
   ]
  },
  {
   "cell_type": "code",
   "execution_count": 8,
   "metadata": {
    "collapsed": false
   },
   "outputs": [],
   "source": [
    "# # ssC Data\n",
    "# path = '/notebooks/moldev-data/original/06-19-2015/6.19.15 All ssC data - Jonah Simon.txt'\n",
    "# savepath = '/notebooks/moldev-data/analyzed/06-19-2015/ssC.csv'\n",
    "\n",
    "# APB Data\n",
    "path = '/notebooks/moldev-data/original/06-19-2015/6.19.15 All APB data - Jonah Simon.txt'\n",
    "savepath = '/notebooks/moldev-data/analyzed/06-19-2015/APB.csv'\n",
    "\n",
    "conditions = [('PML ssC w RNase A',24),\n",
    "              ('PML APB w RNase A',25),\n",
    "              ('PML ssC wo RNase A',26),\n",
    "              ('PML IF only control no EtOH dehydrat',27),\n",
    "              ('PML ssC control no FISH',28),\n",
    "              ('IgG APB w LNA probe before denature',29),\n",
    "              ('IgG APB w LNA probe after denature',30),\n",
    "              ('IgG ssC w LNA probe no denature',31)]\n",
    "\n",
    "cell_dict = {\"U2OS\": ['A01','A02','B01','B02'],\n",
    "             \"143B\": ['A03','A04','B03','B04']}\n",
    "\n",
    "date = '06-18-2015'"
   ]
  },
  {
   "cell_type": "code",
   "execution_count": 9,
   "metadata": {
    "collapsed": false
   },
   "outputs": [],
   "source": [
    "well_df = create_well_df(cell_dict)\n",
    "condition_lookup = pd.concat([create_plate_df(well_df,a,b) for a,b in conditions])\n",
    "condition_lookup['Date'] = date"
   ]
  },
  {
   "cell_type": "code",
   "execution_count": 10,
   "metadata": {
    "collapsed": false
   },
   "outputs": [
    {
     "data": {
      "text/html": [
       "<div>\n",
       "<table border=\"1\" class=\"dataframe\">\n",
       "  <thead>\n",
       "    <tr style=\"text-align: right;\">\n",
       "      <th></th>\n",
       "      <th>Well Name</th>\n",
       "      <th>Plate Name</th>\n",
       "      <th>Condition</th>\n",
       "      <th>Plate ID</th>\n",
       "      <th>Date</th>\n",
       "    </tr>\n",
       "  </thead>\n",
       "  <tbody>\n",
       "    <tr>\n",
       "      <th>0</th>\n",
       "      <td>A03</td>\n",
       "      <td>24</td>\n",
       "      <td>PML ssC w RNase A 143B</td>\n",
       "      <td>a54a2d0a0f37</td>\n",
       "      <td>06-18-2015</td>\n",
       "    </tr>\n",
       "    <tr>\n",
       "      <th>1</th>\n",
       "      <td>A04</td>\n",
       "      <td>24</td>\n",
       "      <td>PML ssC w RNase A 143B</td>\n",
       "      <td>a54a2d0a0f37</td>\n",
       "      <td>06-18-2015</td>\n",
       "    </tr>\n",
       "    <tr>\n",
       "      <th>2</th>\n",
       "      <td>B03</td>\n",
       "      <td>24</td>\n",
       "      <td>PML ssC w RNase A 143B</td>\n",
       "      <td>a54a2d0a0f37</td>\n",
       "      <td>06-18-2015</td>\n",
       "    </tr>\n",
       "    <tr>\n",
       "      <th>3</th>\n",
       "      <td>B04</td>\n",
       "      <td>24</td>\n",
       "      <td>PML ssC w RNase A 143B</td>\n",
       "      <td>a54a2d0a0f37</td>\n",
       "      <td>06-18-2015</td>\n",
       "    </tr>\n",
       "    <tr>\n",
       "      <th>0</th>\n",
       "      <td>A01</td>\n",
       "      <td>24</td>\n",
       "      <td>PML ssC w RNase A U2OS</td>\n",
       "      <td>a54a2d0a0f37</td>\n",
       "      <td>06-18-2015</td>\n",
       "    </tr>\n",
       "  </tbody>\n",
       "</table>\n",
       "</div>"
      ],
      "text/plain": [
       "  Well Name  Plate Name               Condition      Plate ID        Date\n",
       "0       A03          24  PML ssC w RNase A 143B  a54a2d0a0f37  06-18-2015\n",
       "1       A04          24  PML ssC w RNase A 143B  a54a2d0a0f37  06-18-2015\n",
       "2       B03          24  PML ssC w RNase A 143B  a54a2d0a0f37  06-18-2015\n",
       "3       B04          24  PML ssC w RNase A 143B  a54a2d0a0f37  06-18-2015\n",
       "0       A01          24  PML ssC w RNase A U2OS  a54a2d0a0f37  06-18-2015"
      ]
     },
     "execution_count": 10,
     "metadata": {},
     "output_type": "execute_result"
    }
   ],
   "source": [
    "condition_lookup.head()"
   ]
  },
  {
   "cell_type": "code",
   "execution_count": 11,
   "metadata": {
    "collapsed": false
   },
   "outputs": [],
   "source": [
    "# String -> String\n",
    "def rename_column(col):\n",
    "    \"\"\" Rename column col to remove whitespace, backslashes, prefixes,\n",
    "        and suffixes (esp. large parenthetic suffix). \"\"\"\n",
    "    if col.startswith('Cell:'):\n",
    "        return col.split('(')[0].lstrip(\"Cell:\").rstrip('/').strip(' ')\n",
    "    else:\n",
    "        return col.split('(')[0].rstrip('/').strip(' ')\n",
    "\n",
    "cell_config = dict(\n",
    "    path = path,\n",
    "    plate_delimiter = \"ATF\",\n",
    "    delimiter = '\\t',\n",
    "    skiprows = 4,\n",
    "    dropcols = ['Cell ID',\n",
    "                'Site ID',\n",
    "                'MEASUREMENT SET ID',\n",
    "                '.*ObjectID.*',\n",
    "                'Laser focus score',\n",
    "                '\\.[0-9]*\\Z'],\n",
    "    normcols = [['Normalized APB spots (by FITC & TxRed)',\n",
    "                  ['# of APBs'],\n",
    "                  ['# of FITC spots', '# of TxRed spots']],\n",
    "                ['Normalized APB spots (by TxRed)',\n",
    "                  ['# of APBs'],\n",
    "                  ['# of TxRed spots']],\n",
    "                ['Normalized APB spots (by FITC)',\n",
    "                  ['# of APBs'],\n",
    "                  ['# of FITC spots']],\n",
    "                \n",
    "                ['Normalized Coloc avg area (by FITC & TxRed)',\n",
    "                  ['Area_Coloc_Avg'],\n",
    "                  ['Area_FITC','Area_TxRed']],\n",
    "                ['Normalized Coloc avg area (by FITC)',\n",
    "                  ['Area_Coloc_Avg'],\n",
    "                  ['Area_FITC']],\n",
    "                ['Normalized Coloc avg area (by TxRed) ',\n",
    "                  ['Area_Coloc_Avg'],\n",
    "                  ['Area_TxRed']],                \n",
    "                \n",
    "                ['Normalized Coloc spots (by FITC & TxRed)',\n",
    "                  ['# Coloc Spots'],\n",
    "                  ['# of FITC spots', '# of TxRed spots']],\n",
    "                ['Normalized Coloc spots (by FITC)',\n",
    "                  ['# Coloc Spots'],\n",
    "                  ['# of FITC spots']],\n",
    "                ['Normalized Coloc spots (by TxRed)',\n",
    "                  ['# Coloc Spots'],\n",
    "                  ['# of TxRed spots']],\n",
    "                \n",
    "                ['Normalized Coloc total area (by FITC & TxRed)',\n",
    "                  ['Total_Area_Coloc'],\n",
    "                  ['Total_Area_FITC','Total_Area_TxRed']],\n",
    "                ['Normalized Coloc total area (by FITC)',\n",
    "                  ['Total_Area_Coloc'],\n",
    "                  ['Total_Area_FITC']],\n",
    "                ['Normalized Coloc total area (by TxRed) ',\n",
    "                  ['Total_Area_Coloc'],\n",
    "                  ['Total_Area_TxRed']],\n",
    "                \n",
    "                ['Normalized Coloc total area (by FITC-TxRed colocs) ',\n",
    "                  ['Total_Area_Coloc'],\n",
    "                  ['FITC-TxRed_Area_Total']]],\n",
    "    colrename = rename_column,\n",
    "    check = identity\n",
    "    )\n",
    "\n",
    "cell_data = get_cell_data(cell_config)"
   ]
  },
  {
   "cell_type": "code",
   "execution_count": 12,
   "metadata": {
    "collapsed": false
   },
   "outputs": [],
   "source": [
    "data = pd.merge(cell_data.rename(columns={\"Plate ID\":\"Plate Name\"}),\n",
    "                condition_lookup,\n",
    "                on = ['Plate Name','Well Name'])\n",
    "\n",
    "# Write to file\n",
    "data.to_csv(savepath,index=False)"
   ]
  },
  {
   "cell_type": "code",
   "execution_count": null,
   "metadata": {
    "collapsed": true
   },
   "outputs": [],
   "source": []
  }
 ],
 "metadata": {
  "kernelspec": {
   "display_name": "Python 2",
   "language": "python",
   "name": "python2"
  },
  "language_info": {
   "codemirror_mode": {
    "name": "ipython",
    "version": 2
   },
   "file_extension": ".py",
   "mimetype": "text/x-python",
   "name": "python",
   "nbconvert_exporter": "python",
   "pygments_lexer": "ipython2",
   "version": "2.7.6"
  }
 },
 "nbformat": 4,
 "nbformat_minor": 0
}
