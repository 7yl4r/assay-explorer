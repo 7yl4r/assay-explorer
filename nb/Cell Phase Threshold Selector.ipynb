{
 "cells": [
  {
   "cell_type": "code",
   "execution_count": 25,
   "metadata": {
    "collapsed": false
   },
   "outputs": [],
   "source": [
    "import pandas as pd\n",
    "import numpy as np\n",
    "import matplotlib.pyplot as plt\n",
    "import seaborn.apionly as sns\n",
    "from scipy.stats.kde import gaussian_kde\n",
    "import scipy.signal as signal\n",
    "%matplotlib inline\n",
    "from IPython.html import widgets\n",
    "from IPython.html.widgets import interact,fixed"
   ]
  },
  {
   "cell_type": "code",
   "execution_count": 26,
   "metadata": {
    "collapsed": false
   },
   "outputs": [],
   "source": [
    "execfile('/notebooks/assay-explorer/src/display_utils.py')"
   ]
  },
  {
   "cell_type": "code",
   "execution_count": 27,
   "metadata": {
    "collapsed": true
   },
   "outputs": [],
   "source": [
    "filepaths = {'ssC drug data': '/notebooks/moldev-data/analyzed/07-20-2015/ssC-cells.csv',\n",
    "             'APB drug data': '/notebooks/moldev-data/analyzed/07-20-2015/APB-cells.csv'}\n",
    "threshold_filepaths = {'ssC drug data': '/notebooks/moldev-data/analyzed/07-20-2015/ssC-thresholds.csv',\n",
    "                       'APB drug data': '/notebooks/moldev-data/analyzed/07-20-2015/APB-thresholds.csv'}"
   ]
  },
  {
   "cell_type": "code",
   "execution_count": 28,
   "metadata": {
    "collapsed": false
   },
   "outputs": [],
   "source": [
    "mydataset = widgets.Dropdown(options=['ssC drug data','APB drug data'])"
   ]
  },
  {
   "cell_type": "markdown",
   "metadata": {},
   "source": [
    "# Select dataset"
   ]
  },
  {
   "cell_type": "code",
   "execution_count": 40,
   "metadata": {
    "collapsed": true
   },
   "outputs": [],
   "source": [
    "mydataset"
   ]
  },
  {
   "cell_type": "code",
   "execution_count": 50,
   "metadata": {
    "collapsed": false
   },
   "outputs": [],
   "source": [
    "filepath = filepaths[mydataset.value]\n",
    "threshold_filepath = threshold_filepaths[mydataset.value]"
   ]
  },
  {
   "cell_type": "code",
   "execution_count": 51,
   "metadata": {
    "collapsed": true
   },
   "outputs": [],
   "source": [
    "cells = pd.read_csv(filepath)"
   ]
  },
  {
   "cell_type": "code",
   "execution_count": 43,
   "metadata": {
    "collapsed": true
   },
   "outputs": [],
   "source": [
    "# [Float] -> Float\n",
    "def get_threshold(intensity,bw = 0.35):\n",
    "    \"\"\" Given an array of intensities, find the intensity \n",
    "        threshold separating the G1 peak from the S/G2 peak. \"\"\"\n",
    "    kde_fit = gaussian_kde(intensity,bw)\n",
    "    x = np.linspace(min(intensity),\n",
    "                    max(intensity),\n",
    "                    1000)\n",
    "    y = kde_fit(x)\n",
    "    ddx = np.diff(np.diff(y)) # second derivative of fit\n",
    "    peak = np.argmin(ddx) # most frequent intensity \n",
    "    index = min([yi for yi in signal.argrelmax(ddx)[0] if yi > peak])\n",
    "    threshold = x[index]\n",
    "    return threshold"
   ]
  },
  {
   "cell_type": "code",
   "execution_count": 44,
   "metadata": {
    "collapsed": true
   },
   "outputs": [],
   "source": [
    "# # Create dummy file with thresholds\n",
    "# condition_groups = cells.groupby('Condition')\n",
    "\n",
    "# def get_threshold_from_group(group):\n",
    "#     groupname = group[0]\n",
    "#     groupdata = group[1]\n",
    "#     intensities = groupdata['NucIntegrated Intensity_Avg']\n",
    "#     return {'Condition': groupname,\n",
    "#             'Threshold': get_threshold(intensities,0.5)}\n",
    "\n",
    "# initial_thresholds = pd.DataFrame(map(get_threshold_from_group,condition_groups))"
   ]
  },
  {
   "cell_type": "code",
   "execution_count": 45,
   "metadata": {
    "collapsed": false
   },
   "outputs": [],
   "source": [
    "# initial_thresholds.to_csv(threshold_file_path,index=False)"
   ]
  },
  {
   "cell_type": "code",
   "execution_count": 84,
   "metadata": {
    "collapsed": true
   },
   "outputs": [],
   "source": [
    "# [Num] -> Float -> SideEffect[Plot]\n",
    "def plot_gaussian_kde(X,bw,color='k',alpha=1):\n",
    "    kde_fit = gaussian_kde(X,bw)\n",
    "    x = np.linspace(min(X),\n",
    "                    max(X),\n",
    "                    1000)\n",
    "    y = kde_fit(x)\n",
    "    plt.plot(x,y,color=color,alpha = alpha)"
   ]
  },
  {
   "cell_type": "code",
   "execution_count": 100,
   "metadata": {
    "collapsed": false
   },
   "outputs": [],
   "source": [
    "def determine_thresholding_parameters \\\n",
    "(data,condition,other_condition,bw,manually_set_threshold,show):\n",
    "    method = show\n",
    "    intensities = data[data['Condition'] == condition]['NucIntegrated Intensity_Avg']\n",
    "    \n",
    "    plot_gaussian_kde(intensities,bw,color='r')\n",
    "    plt.title(condition)\n",
    "    plt.xlim(0,1.5e8)\n",
    "    plt.ylim(0,5.5e-8)\n",
    "    plt.xlabel('NucIntegrated Intensity_Avg')\n",
    "    \n",
    "    # Plot thresholds\n",
    "    auto_threshold = get_threshold(intensities,bw)\n",
    "    threshold_data = pd.read_csv(threshold_filepath)\n",
    "    other_conditions_threshold = threshold_data[threshold_data['Condition'] == other_condition]['Threshold'].values.tolist()[0]\n",
    "    saved_threshold = threshold_data[threshold_data['Condition'] == condition]['Threshold'].values.tolist()[0]\n",
    "    \n",
    "    lw = 3\n",
    "    alpha = 0.3\n",
    "    \n",
    "    if method == 'Auto':\n",
    "        plt.plot([auto_threshold,auto_threshold],plt.gca().get_ylim(),color = 'r',linewidth = lw,alpha = alpha,label='Auto')\n",
    "    elif method == 'Manual':\n",
    "        plt.plot([manually_set_threshold,manually_set_threshold],plt.gca().get_ylim(),color='g',linewidth = lw,alpha = alpha,label='Manual')\n",
    "    elif method == 'Other Condition':\n",
    "        other_intensities = data[data['Condition'] == other_condition]['NucIntegrated Intensity_Avg']\n",
    "        plot_gaussian_kde(other_intensities,bw,color='b',alpha=0.5)\n",
    "        plt.plot([other_conditions_threshold,other_conditions_threshold],plt.gca().get_ylim(),color='b',linewidth = lw,alpha = alpha,label='Other Condition')\n",
    "    elif method == 'Saved Value':\n",
    "        plt.plot([saved_threshold,saved_threshold],plt.gca().get_ylim(),color='k',linewidth = lw,alpha = alpha,label='Saved Value')\n",
    "    \n",
    "    plt.legend()\n",
    "    \n",
    "#     threshs = {'Auto': auto_threshold,\n",
    "#                'Manual': manually_set_threshold,\n",
    "#                'Other Condition': other_conditions_threshold}\n",
    "#     colors = {'Auto': 'r',\n",
    "#                'Manual': 'g',\n",
    "#                'Other Condition': 'b'}\n",
    "#     plt.plot(threshs[method],0.5e-8,'ko',markersize=10,color=colors[method],alpha = alpha)\n",
    "        "
   ]
  },
  {
   "cell_type": "markdown",
   "metadata": {},
   "source": [
    "# Cell Phase Separation\n",
    "To find the intensity value that separates G1 from S/G2 cells, I plot the distribution of `NucIntegrated Intensity_Avg`, then smooth it out. \n",
    "\n",
    "In the plot below, there are three sliders. \n",
    "1. Condition - check out different conditions \n",
    "2. Display_bw - smooth out the plot (doesn't affect the calculation of the threshold)\n",
    "3. Threshold_vw - smooth out the distribution for the calculation. \n",
    "\n",
    "Set the display_bw and threshold_bw to the same value to 'see what the computer sees' when it chooses a threshold."
   ]
  },
  {
   "cell_type": "code",
   "execution_count": 101,
   "metadata": {
    "collapsed": false
   },
   "outputs": [
    {
     "data": {
      "image/png": "[encoded data removed]",
      "text/plain": [
       "<matplotlib.figure.Figure at 0x7f48faf24650>"
      ]
     },
     "metadata": {},
     "output_type": "display_data"
    }
   ],
   "source": [
    "n_conditions = len(cells['Condition'].unique())\n",
    "bw = {'min':0.025, 'max': 0.8, 'step':0.025}\n",
    "intensities = cells['NucIntegrated Intensity_Avg']\n",
    "thresh = {'min': intensities.min(),\n",
    "          'max': intensities.max(),\n",
    "          'step': (intensities.max() - intensities.min())/200,\n",
    "          'init': intensities.median()}\n",
    "\n",
    "interact(\n",
    "    determine_thresholding_parameters,\n",
    "    data = fixed(cells),\n",
    "    condition = widgets.Select(options = cells['Condition'].unique().tolist()),\n",
    "    other_condition = widgets.Select(options = cells['Condition'].unique().tolist()),\n",
    "    bw = widgets.FloatSlider(min = bw['min'], max = bw['max'], step = bw['step']),\n",
    "    manually_set_threshold = widgets.FloatSlider(min = thresh['min'], max = thresh['max'], step = thresh['step'],value=thresh['init']),\n",
    "    show = widgets.ToggleButtons(options=['Manual','Auto','Other Condition','Saved Value']));\n",
    "\n"
   ]
  },
  {
   "cell_type": "code",
   "execution_count": null,
   "metadata": {
    "collapsed": true
   },
   "outputs": [],
   "source": []
  },
  {
   "cell_type": "code",
   "execution_count": null,
   "metadata": {
    "collapsed": true
   },
   "outputs": [],
   "source": []
  },
  {
   "cell_type": "code",
   "execution_count": null,
   "metadata": {
    "collapsed": true
   },
   "outputs": [],
   "source": []
  }
 ],
 "metadata": {
  "kernelspec": {
   "display_name": "Python 2",
   "language": "python",
   "name": "python2"
  },
  "language_info": {
   "codemirror_mode": {
    "name": "ipython",
    "version": 2
   },
   "file_extension": ".py",
   "mimetype": "text/x-python",
   "name": "python",
   "nbconvert_exporter": "python",
   "pygments_lexer": "ipython2",
   "version": "2.7.6"
  }
 },
 "nbformat": 4,
 "nbformat_minor": 0
}
