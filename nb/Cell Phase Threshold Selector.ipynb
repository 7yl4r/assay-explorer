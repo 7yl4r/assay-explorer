{
 "cells": [
  {
   "cell_type": "code",
   "execution_count": 211,
   "metadata": {
    "collapsed": false
   },
   "outputs": [],
   "source": [
    "import json\n",
    "import pandas as pd\n",
    "import numpy as np\n",
    "import matplotlib.pyplot as plt\n",
    "import seaborn.apionly as sns\n",
    "from scipy.stats.kde import gaussian_kde\n",
    "import scipy.signal as signal\n",
    "%matplotlib inline\n",
    "from IPython.html import widgets\n",
    "from IPython.html.widgets import interact,fixed"
   ]
  },
  {
   "cell_type": "code",
   "execution_count": 226,
   "metadata": {
    "collapsed": true
   },
   "outputs": [],
   "source": [
    "# String -> String\n",
    "def from_file(filename):\n",
    "    \"\"\" Return contents of selected file. \"\"\"\n",
    "    f = open(filename)\n",
    "    data = f.read()\n",
    "    f.close()\n",
    "    return data\n",
    "\n",
    "# String -> String -> SideEffect[File]\n",
    "def to_file(filename,content):\n",
    "    f = open(filename,'w+')\n",
    "    f.write(content)\n",
    "    f.close()   \n",
    "    \n",
    "# String -> String -> Float -> SideEffect[File]\n",
    "def save_temp_threshold(condition,threshold):\n",
    "    \"\"\" Save threshold (for specific condition) to file.\n",
    "        This temp file will be read and merged with persistent file\n",
    "         when save button is clicked. \"\"\"\n",
    "    data = {'Condition': condition,\n",
    "            'Threshold': threshold}\n",
    "    to_file('/notebooks/tmp/temp_threshold.json',json.dumps(data))\n",
    "    \n",
    "# String -> SideEffect[File]\n",
    "@curry\n",
    "def save_threshold(threshold_file):\n",
    "    \"\"\" Given filepath to csv containing thresholds, \n",
    "        mutate the values based on the temporary threshold file. \"\"\"\n",
    "    temp_file = '/notebooks/tmp/temp_threshold.json'\n",
    "    temp_threshold = json.loads(from_file(temp_file))\n",
    "    thresholds = pd.read_csv(threshold_file)\n",
    "    thresholds = thresholds.set_index('Condition')\n",
    "    \n",
    "    condition = temp_threshold['Condition']\n",
    "    threshold = temp_threshold['Threshold']\n",
    "    \n",
    "    thresholds.loc[condition] = threshold\n",
    "    thresholds = thresholds.reset_index()\n",
    "    thresholds.to_csv(threshold_file,index=False)"
   ]
  },
  {
   "cell_type": "code",
   "execution_count": 213,
   "metadata": {
    "collapsed": false
   },
   "outputs": [],
   "source": [
    "execfile('/notebooks/assay-explorer/src/display_utils.py')"
   ]
  },
  {
   "cell_type": "code",
   "execution_count": 214,
   "metadata": {
    "collapsed": true
   },
   "outputs": [],
   "source": [
    "filepaths = {'ssC drug data': '/notebooks/moldev-data/analyzed/07-20-2015/ssC-cells.csv',\n",
    "             'APB drug data': '/notebooks/moldev-data/analyzed/07-20-2015/APB-cells.csv'}\n",
    "threshold_filepaths = {'ssC drug data': '/notebooks/moldev-data/analyzed/07-20-2015/ssC-thresholds.csv',\n",
    "                       'APB drug data': '/notebooks/moldev-data/analyzed/07-20-2015/APB-thresholds.csv'}"
   ]
  },
  {
   "cell_type": "code",
   "execution_count": 215,
   "metadata": {
    "collapsed": false
   },
   "outputs": [],
   "source": [
    "mydataset = widgets.Dropdown(options=['ssC drug data','APB drug data'])"
   ]
  },
  {
   "cell_type": "markdown",
   "metadata": {},
   "source": [
    "# Select dataset\n",
    "Click `Cell > Run All` in the menu above to update the dataset shown."
   ]
  },
  {
   "cell_type": "code",
   "execution_count": 216,
   "metadata": {
    "collapsed": true
   },
   "outputs": [],
   "source": [
    "mydataset"
   ]
  },
  {
   "cell_type": "code",
   "execution_count": 217,
   "metadata": {
    "collapsed": false
   },
   "outputs": [],
   "source": [
    "filepath = filepaths[mydataset.value]\n",
    "threshold_filepath = threshold_filepaths[mydataset.value]"
   ]
  },
  {
   "cell_type": "code",
   "execution_count": 218,
   "metadata": {
    "collapsed": true
   },
   "outputs": [],
   "source": [
    "cells = pd.read_csv(filepath)"
   ]
  },
  {
   "cell_type": "code",
   "execution_count": 219,
   "metadata": {
    "collapsed": true
   },
   "outputs": [],
   "source": [
    "# [Float] -> Float\n",
    "def get_threshold(intensity,bw = 0.35):\n",
    "    \"\"\" Given an array of intensities, find the intensity \n",
    "        threshold separating the G1 peak from the S/G2 peak. \"\"\"\n",
    "    kde_fit = gaussian_kde(intensity,bw)\n",
    "    x = np.linspace(min(intensity),\n",
    "                    max(intensity),\n",
    "                    1000)\n",
    "    y = kde_fit(x)\n",
    "    ddx = np.diff(np.diff(y)) # second derivative of fit\n",
    "    peak = np.argmin(ddx) # most frequent intensity \n",
    "    index = min([yi for yi in signal.argrelmax(ddx)[0] if yi > peak])\n",
    "    threshold = x[index]\n",
    "    return threshold"
   ]
  },
  {
   "cell_type": "code",
   "execution_count": 220,
   "metadata": {
    "collapsed": true
   },
   "outputs": [],
   "source": [
    "# Create dummy file with thresholds\n",
    "condition_groups = cells.groupby('Condition')\n",
    "\n",
    "def get_threshold_from_group(group):\n",
    "    groupname = group[0]\n",
    "    groupdata = group[1]\n",
    "    intensities = groupdata['NucIntegrated Intensity_Avg']\n",
    "    return {'Condition': groupname,\n",
    "            'Threshold': get_threshold(intensities,0.5)}\n",
    "\n",
    "initial_thresholds = pd.DataFrame(map(get_threshold_from_group,condition_groups))"
   ]
  },
  {
   "cell_type": "code",
   "execution_count": 221,
   "metadata": {
    "collapsed": false
   },
   "outputs": [],
   "source": [
    "initial_thresholds.to_csv(threshold_file_path,index=False)"
   ]
  },
  {
   "cell_type": "code",
   "execution_count": 222,
   "metadata": {
    "collapsed": true
   },
   "outputs": [],
   "source": [
    "# [Num] -> Float -> SideEffect[Plot]\n",
    "def plot_gaussian_kde(X,bw,color='k',alpha=1):\n",
    "    kde_fit = gaussian_kde(X,bw)\n",
    "    x = np.linspace(min(X),\n",
    "                    max(X),\n",
    "                    1000)\n",
    "    y = kde_fit(x)\n",
    "    plt.plot(x,y,color=color,alpha = alpha)"
   ]
  },
  {
   "cell_type": "code",
   "execution_count": 223,
   "metadata": {
    "collapsed": false
   },
   "outputs": [],
   "source": [
    "def determine_thresholding_parameters \\\n",
    "(data,condition,other_condition,smoothness,manually_set_threshold,show):\n",
    "    bw = smoothness\n",
    "    method = show\n",
    "    intensities = data[data['Condition'] == condition]['NucIntegrated Intensity_Avg']\n",
    "    \n",
    "    plot_gaussian_kde(intensities,bw,color='r')\n",
    "    plt.title(condition)\n",
    "    plt.xlim(0,1.5e8)\n",
    "    plt.ylim(0,5.5e-8)\n",
    "    plt.xlabel('NucIntegrated Intensity_Avg')\n",
    "    \n",
    "    # Plot thresholds\n",
    "    auto_threshold = get_threshold(intensities,bw)\n",
    "    threshold_data = pd.read_csv(threshold_filepath)\n",
    "    other_conditions_threshold = threshold_data[threshold_data['Condition'] == other_condition]['Threshold'].values.tolist()[0]\n",
    "    saved_threshold = threshold_data[threshold_data['Condition'] == condition]['Threshold'].values.tolist()[0]\n",
    "    \n",
    "    lw = 3\n",
    "    alpha = 0.3\n",
    "    \n",
    "    if method == 'Auto':\n",
    "        plt.plot([auto_threshold,auto_threshold],plt.gca().get_ylim(),color = 'r',linewidth = lw,alpha = alpha,label='Auto')\n",
    "        save_temp_threshold(condition,auto_threshold)\n",
    "    elif method == 'Manual':\n",
    "        plt.plot([manually_set_threshold,manually_set_threshold],plt.gca().get_ylim(),color='g',linewidth = lw,alpha = alpha,label='Manual')\n",
    "        save_temp_threshold(condition,manually_set_threshold)\n",
    "    elif method == 'Other Condition':\n",
    "        other_intensities = data[data['Condition'] == other_condition]['NucIntegrated Intensity_Avg']\n",
    "        plot_gaussian_kde(other_intensities,bw,color='b',alpha=0.5)\n",
    "        plt.plot([other_conditions_threshold,other_conditions_threshold],plt.gca().get_ylim(),color='b',linewidth = lw,alpha = alpha,label='Other Condition')\n",
    "        save_temp_threshold(condition,other_conditions_threshold)\n",
    "    elif method == 'Saved Value':\n",
    "        plt.plot([saved_threshold,saved_threshold],plt.gca().get_ylim(),color='k',linewidth = lw,alpha = alpha,label='Saved Value')\n",
    "        save_temp_threshold(condition,saved_threshold)\n",
    "    \n",
    "    plt.legend()   "
   ]
  },
  {
   "cell_type": "markdown",
   "metadata": {},
   "source": [
    "# Cell Phase Separation"
   ]
  },
  {
   "cell_type": "code",
   "execution_count": 224,
   "metadata": {
    "collapsed": false
   },
   "outputs": [
    {
     "ename": "NameError",
     "evalue": "global name 'tofile' is not defined",
     "output_type": "error",
     "traceback": [
      "\u001b[1;31m---------------------------------------------------------------------------\u001b[0m",
      "\u001b[1;31mNameError\u001b[0m                                 Traceback (most recent call last)",
      "\u001b[1;32m<ipython-input-223-412c84e0dcf3>\u001b[0m in \u001b[0;36mdetermine_thresholding_parameters\u001b[1;34m(data, condition, other_condition, smoothness, manually_set_threshold, show)\u001b[0m\n\u001b[0;32m     24\u001b[0m     \u001b[1;32melif\u001b[0m \u001b[0mmethod\u001b[0m \u001b[1;33m==\u001b[0m \u001b[1;34m'Manual'\u001b[0m\u001b[1;33m:\u001b[0m\u001b[1;33m\u001b[0m\u001b[0m\n\u001b[0;32m     25\u001b[0m         \u001b[0mplt\u001b[0m\u001b[1;33m.\u001b[0m\u001b[0mplot\u001b[0m\u001b[1;33m(\u001b[0m\u001b[1;33m[\u001b[0m\u001b[0mmanually_set_threshold\u001b[0m\u001b[1;33m,\u001b[0m\u001b[0mmanually_set_threshold\u001b[0m\u001b[1;33m]\u001b[0m\u001b[1;33m,\u001b[0m\u001b[0mplt\u001b[0m\u001b[1;33m.\u001b[0m\u001b[0mgca\u001b[0m\u001b[1;33m(\u001b[0m\u001b[1;33m)\u001b[0m\u001b[1;33m.\u001b[0m\u001b[0mget_ylim\u001b[0m\u001b[1;33m(\u001b[0m\u001b[1;33m)\u001b[0m\u001b[1;33m,\u001b[0m\u001b[0mcolor\u001b[0m\u001b[1;33m=\u001b[0m\u001b[1;34m'g'\u001b[0m\u001b[1;33m,\u001b[0m\u001b[0mlinewidth\u001b[0m \u001b[1;33m=\u001b[0m \u001b[0mlw\u001b[0m\u001b[1;33m,\u001b[0m\u001b[0malpha\u001b[0m \u001b[1;33m=\u001b[0m \u001b[0malpha\u001b[0m\u001b[1;33m,\u001b[0m\u001b[0mlabel\u001b[0m\u001b[1;33m=\u001b[0m\u001b[1;34m'Manual'\u001b[0m\u001b[1;33m)\u001b[0m\u001b[1;33m\u001b[0m\u001b[0m\n\u001b[1;32m---> 26\u001b[1;33m         \u001b[0msave_temp_threshold\u001b[0m\u001b[1;33m(\u001b[0m\u001b[0mcondition\u001b[0m\u001b[1;33m,\u001b[0m\u001b[0mmanually_set_threshold\u001b[0m\u001b[1;33m)\u001b[0m\u001b[1;33m\u001b[0m\u001b[0m\n\u001b[0m\u001b[0;32m     27\u001b[0m     \u001b[1;32melif\u001b[0m \u001b[0mmethod\u001b[0m \u001b[1;33m==\u001b[0m \u001b[1;34m'Other Condition'\u001b[0m\u001b[1;33m:\u001b[0m\u001b[1;33m\u001b[0m\u001b[0m\n\u001b[0;32m     28\u001b[0m         \u001b[0mother_intensities\u001b[0m \u001b[1;33m=\u001b[0m \u001b[0mdata\u001b[0m\u001b[1;33m[\u001b[0m\u001b[0mdata\u001b[0m\u001b[1;33m[\u001b[0m\u001b[1;34m'Condition'\u001b[0m\u001b[1;33m]\u001b[0m \u001b[1;33m==\u001b[0m \u001b[0mother_condition\u001b[0m\u001b[1;33m]\u001b[0m\u001b[1;33m[\u001b[0m\u001b[1;34m'NucIntegrated Intensity_Avg'\u001b[0m\u001b[1;33m]\u001b[0m\u001b[1;33m\u001b[0m\u001b[0m\n",
      "\u001b[1;32m<ipython-input-212-cd0beed129eb>\u001b[0m in \u001b[0;36msave_temp_threshold\u001b[1;34m(condition, threshold)\u001b[0m\n\u001b[0;32m     20\u001b[0m     data = {'Condition': condition,\n\u001b[0;32m     21\u001b[0m             'Threshold': threshold}\n\u001b[1;32m---> 22\u001b[1;33m     \u001b[0mtofile\u001b[0m\u001b[1;33m(\u001b[0m\u001b[1;34m'/notebooks/tmp/temp_threshold.json'\u001b[0m\u001b[1;33m,\u001b[0m\u001b[0mjson\u001b[0m\u001b[1;33m.\u001b[0m\u001b[0mdumps\u001b[0m\u001b[1;33m(\u001b[0m\u001b[0mdata\u001b[0m\u001b[1;33m)\u001b[0m\u001b[1;33m)\u001b[0m\u001b[1;33m\u001b[0m\u001b[0m\n\u001b[0m\u001b[0;32m     23\u001b[0m \u001b[1;33m\u001b[0m\u001b[0m\n\u001b[0;32m     24\u001b[0m \u001b[1;31m# String -> SideEffect[File]\u001b[0m\u001b[1;33m\u001b[0m\u001b[1;33m\u001b[0m\u001b[0m\n",
      "\u001b[1;31mNameError\u001b[0m: global name 'tofile' is not defined"
     ]
    },
    {
     "data": {
      "image/png": "[encoded data removed]",
      "text/plain": [
       "<matplotlib.figure.Figure at 0x7f48fb1d4490>"
      ]
     },
     "metadata": {},
     "output_type": "display_data"
    }
   ],
   "source": [
    "n_conditions = len(cells['Condition'].unique())\n",
    "bw = {'min':0.025, 'max': 0.8, 'step':0.025}\n",
    "intensities = cells['NucIntegrated Intensity_Avg']\n",
    "thresh = {'min': intensities.min(),\n",
    "          'max': intensities.max(),\n",
    "          'step': (intensities.max() - intensities.min())/200,\n",
    "          'init': intensities.median()}\n",
    "\n",
    "interact(\n",
    "    determine_thresholding_parameters,\n",
    "    data = fixed(cells),\n",
    "    condition = widgets.Select(options = cells['Condition'].unique().tolist()),\n",
    "    other_condition = widgets.Select(options = cells['Condition'].unique().tolist()),\n",
    "    smoothness = widgets.FloatSlider(min = bw['min'], max = bw['max'], step = bw['step']),\n",
    "    manually_set_threshold = widgets.FloatSlider(min = thresh['min'], max = thresh['max'], step = thresh['step'],value=thresh['init']),\n",
    "    show = widgets.ToggleButtons(options=['Manual','Auto','Other Condition','Saved Value']));\n",
    "\n"
   ]
  },
  {
   "cell_type": "code",
   "execution_count": null,
   "metadata": {
    "collapsed": false
   },
   "outputs": [],
   "source": [
    "save_button = widgets.Button(description='Save Threshold')\n",
    "save_button.on_click(save_threshold(threshold_filepath))"
   ]
  },
  {
   "cell_type": "code",
   "execution_count": null,
   "metadata": {
    "collapsed": false
   },
   "outputs": [],
   "source": [
    "save_button"
   ]
  }
 ],
 "metadata": {
  "kernelspec": {
   "display_name": "Python 2",
   "language": "python",
   "name": "python2"
  },
  "language_info": {
   "codemirror_mode": {
    "name": "ipython",
    "version": 2
   },
   "file_extension": ".py",
   "mimetype": "text/x-python",
   "name": "python",
   "nbconvert_exporter": "python",
   "pygments_lexer": "ipython2",
   "version": "2.7.6"
  }
 },
 "nbformat": 4,
 "nbformat_minor": 0
}
