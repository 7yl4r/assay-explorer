{
 "cells": [
  {
   "cell_type": "code",
   "execution_count": 1,
   "metadata": {
    "collapsed": false
   },
   "outputs": [],
   "source": [
    "# TODO: remove unused functions from library / combine/separate libraries into better modules\n",
    "# TODO: put zip file somewhere safe after its been used. \n",
    "# TODO: create regular backups to google docs or S3\n",
    "# TODO: profile code to reduce upload times (strongly suspect df.apply() statements are bad. As in SID creation)\n",
    "# TODO: add plate ID - one for each row in the provided metadata files. Should just be a randomly generated uuid.\n",
    "from AssayExplorer.upload_data import (rename_column, get_normalization_config,\n",
    "    get_plate_import_config, Uploader, computeMD5hash, generate_cell_sid, \n",
    "    find_uploads_with_duplicate_cells, generate_message\n",
    ")\n",
    "from utils import get_layout_data"
   ]
  },
  {
   "cell_type": "code",
   "execution_count": 2,
   "metadata": {
    "collapsed": false
   },
   "outputs": [
    {
     "data": {
      "text/html": [
       "<script>\n",
       "code_show=true; \n",
       "function code_toggle() {\n",
       " if (code_show){\n",
       " $('div.input').hide();\n",
       " } else {\n",
       " $('div.input').show();\n",
       " }\n",
       " code_show = !code_show\n",
       "} \n",
       "$( document ).ready(code_toggle);\n",
       "</script>\n",
       "<form action=\"javascript:code_toggle()\"><input type=\"submit\" value=\"Toggle Code On/Off.\"></form>"
      ],
      "text/plain": [
       "<IPython.core.display.HTML object>"
      ]
     },
     "execution_count": 2,
     "metadata": {},
     "output_type": "execute_result"
    }
   ],
   "source": [
    "from IPython.display import HTML\n",
    "from toggle import TOGGLE_CODE\n",
    "HTML(TOGGLE_CODE)"
   ]
  },
  {
   "cell_type": "code",
   "execution_count": 3,
   "metadata": {
    "collapsed": true
   },
   "outputs": [],
   "source": [
    "plate_import_config = get_plate_import_config(get_normalization_config())"
   ]
  },
  {
   "cell_type": "code",
   "execution_count": 4,
   "metadata": {
    "collapsed": true
   },
   "outputs": [],
   "source": [
    "from toolz import thread_last, thread_first\n",
    "import os\n",
    "from raw import get_plate_data\n",
    "from utils import add_dict_to_dataframe\n",
    "\n",
    "\n",
    "# Series -> DataFrame\n",
    "def gather_plate_data(plate_metadata):\n",
    "    \"\"\" Given Series containing filepaths for plate and layout,\n",
    "        import these files, join them, and add the series itself\n",
    "        to create a master table for all the info about the plate. \"\"\"\n",
    "\n",
    "    # String -> String -> String\n",
    "    def get_path(directory, column):\n",
    "        \"\"\" Return path with first folder at given directory,\n",
    "            and file at given column of metadata.csv file.\n",
    "\n",
    "            (i.e. go to folder X and get file found in column Y of metadata file.)\"\"\"\n",
    "\n",
    "        return os.path.join(\n",
    "            uploader.extract_path,\n",
    "            directory,\n",
    "            plate_metadata[column])\n",
    "\n",
    "    plate_data = thread_last(\n",
    "        ['Plates','Plate File'],\n",
    "        (apply, get_path),\n",
    "        lambda path: get_plate_data(path, plate_import_config)\n",
    "    )\n",
    "\n",
    "    # Add string ID for use as primary key\n",
    "    plate_data['Cell SID'] = plate_data.apply(generate_cell_sid,\n",
    "                                              axis = 1)\n",
    "\n",
    "#     plate_data['Plate SID'] = \"Plate_{}\".format(generate_sid())\n",
    "    layout_data = thread_last(\n",
    "        ['Layouts','Layout File'],\n",
    "        (apply, get_path),\n",
    "        lambda path: get_layout_data(path))\n",
    "\n",
    "    # Series -> String\n",
    "    def concatStrings(series):\n",
    "        \"\"\" Concatenate values in all but first column. \"\"\"\n",
    "        return ' '.join([str(x) for x in series.values[1:]])\n",
    "\n",
    "    layout_data['Condition'] = layout_data.apply(concatStrings, axis = 1)\n",
    "\n",
    "    return thread_first(\n",
    "        pd.merge(plate_data,layout_data,on = 'Well Name'),\n",
    "        (add_dict_to_dataframe,dict(plate_metadata)))\n"
   ]
  },
  {
   "cell_type": "code",
   "execution_count": 5,
   "metadata": {
    "collapsed": false
   },
   "outputs": [],
   "source": [
    "uploader = Uploader(plate_import_config, gather_plate_data)"
   ]
  },
  {
   "cell_type": "code",
   "execution_count": 6,
   "metadata": {
    "collapsed": false
   },
   "outputs": [
    {
     "name": "stderr",
     "output_type": "stream",
     "text": [
      "/home/tylar/assay-explorer/virtualEnv/local/lib/python2.7/site-packages/IPython/html.py:14: ShimWarning: The `IPython.html` package has been deprecated. You should import from `notebook` instead. `IPython.html.widgets` has moved to `ipywidgets`.\n",
      "  \"`IPython.html.widgets` has moved to `ipywidgets`.\", ShimWarning)\n"
     ]
    }
   ],
   "source": [
    "import IPython.html.widgets as widgets\n",
    "stage_button = widgets.Button(description = \"Check data\")\n",
    "stage_button.on_click(uploader.check)"
   ]
  },
  {
   "cell_type": "code",
   "execution_count": null,
   "metadata": {
    "collapsed": true
   },
   "outputs": [],
   "source": []
  },
  {
   "cell_type": "markdown",
   "metadata": {},
   "source": [
    "# Prepare and check data\n",
    "This step takes around 3 minutes."
   ]
  },
  {
   "cell_type": "code",
   "execution_count": 7,
   "metadata": {
    "collapsed": false
   },
   "outputs": [
    {
     "name": "stdout",
     "output_type": "stream",
     "text": [
      "It looks like you already uploaded some of this data on May 21, 2017, 10:10 am (13 days ago)\n",
      "If you'd like to overwrite this data, you'll need to remove the data for these dates first.\n"
     ]
    }
   ],
   "source": [
    "stage_button"
   ]
  },
  {
   "cell_type": "markdown",
   "metadata": {},
   "source": [
    "# Save data\n",
    "Once the data's been checked for correctness (all files are present, and none of the data has already been uploaded), save it!"
   ]
  },
  {
   "cell_type": "code",
   "execution_count": 8,
   "metadata": {
    "collapsed": false
   },
   "outputs": [],
   "source": [
    "save_button = widgets.Button(description = \"Save data\",background_color='Green',color = 'white')\n",
    "save_button.on_click(uploader.add_new_data)\n",
    "save_button"
   ]
  },
  {
   "cell_type": "markdown",
   "metadata": {},
   "source": [
    "# Delete past uploads\n",
    "If you've made any mistake, and need to delete something you've uploaded, this is the place to do it. Just select the upload that you'd like to remove, and click `delete`."
   ]
  },
  {
   "cell_type": "code",
   "execution_count": 9,
   "metadata": {
    "collapsed": false
   },
   "outputs": [
    {
     "ename": "NameError",
     "evalue": "name 'OrderedDict' is not defined",
     "output_type": "error",
     "traceback": [
      "\u001b[0;31m---------------------------------------------------------------------------\u001b[0m",
      "\u001b[0;31mNameError\u001b[0m                                 Traceback (most recent call last)",
      "\u001b[0;32m<ipython-input-9-43d587cd4a66>\u001b[0m in \u001b[0;36m<module>\u001b[0;34m()\u001b[0m\n\u001b[1;32m     10\u001b[0m     \u001b[0;34m(\u001b[0m\u001b[0mmap\u001b[0m\u001b[0;34m,\u001b[0m\u001b[0;32mlambda\u001b[0m \u001b[0mx\u001b[0m\u001b[0;34m:\u001b[0m \u001b[0;34m(\u001b[0m\u001b[0mx\u001b[0m\u001b[0;34m,\u001b[0m\u001b[0mx\u001b[0m\u001b[0;34m)\u001b[0m\u001b[0;34m)\u001b[0m\u001b[0;34m,\u001b[0m\u001b[0;34m\u001b[0m\u001b[0m\n\u001b[1;32m     11\u001b[0m     \u001b[0;34m(\u001b[0m\u001b[0mmap\u001b[0m\u001b[0;34m,\u001b[0m\u001b[0;32mlambda\u001b[0m \u001b[0mx\u001b[0m\u001b[0;34m:\u001b[0m \u001b[0;34m(\u001b[0m\u001b[0mformat_timestamp\u001b[0m\u001b[0;34m(\u001b[0m\u001b[0mx\u001b[0m\u001b[0;34m[\u001b[0m\u001b[0;36m0\u001b[0m\u001b[0;34m]\u001b[0m\u001b[0;34m)\u001b[0m\u001b[0;34m,\u001b[0m\u001b[0mx\u001b[0m\u001b[0;34m[\u001b[0m\u001b[0;36m1\u001b[0m\u001b[0;34m]\u001b[0m\u001b[0;34m)\u001b[0m\u001b[0;34m)\u001b[0m\u001b[0;34m,\u001b[0m\u001b[0;34m\u001b[0m\u001b[0m\n\u001b[0;32m---> 12\u001b[0;31m     OrderedDict)\n\u001b[0m\u001b[1;32m     13\u001b[0m \u001b[0;34m\u001b[0m\u001b[0m\n\u001b[1;32m     14\u001b[0m \u001b[0mdelete_dropdown\u001b[0m \u001b[0;34m=\u001b[0m \u001b[0mwidgets\u001b[0m\u001b[0;34m.\u001b[0m\u001b[0mDropdown\u001b[0m\u001b[0;34m(\u001b[0m\u001b[0moptions\u001b[0m \u001b[0;34m=\u001b[0m \u001b[0mdelete_options\u001b[0m\u001b[0;34m)\u001b[0m\u001b[0;34m\u001b[0m\u001b[0m\n",
      "\u001b[0;31mNameError\u001b[0m: name 'OrderedDict' is not defined"
     ]
    }
   ],
   "source": [
    "import pandas as pd\n",
    "\n",
    "db_data = pd.read_csv(uploader.db_path)\n",
    "timestamps = db_data['Upload Timestamp'].unique()\n",
    "\n",
    "delete_options = thread_last(\n",
    "    timestamps,\n",
    "    list,\n",
    "    lambda x: sorted(x,reverse=True),\n",
    "    (map,lambda x: (x,x)),\n",
    "    (map,lambda x: (format_timestamp(x[0]),x[1])),\n",
    "    OrderedDict)\n",
    "\n",
    "delete_dropdown = widgets.Dropdown(options = delete_options)\n",
    "\n",
    "def delete_handler(_):\n",
    "    \"\"\" Remove data uploaded at selected timestamp. \"\"\"\n",
    "    timestamp = delete_dropdown.value\n",
    "    trimmed_data = db_data[db_data['Upload Timestamp'] != timestamp]\n",
    "    trimmed_data.to_csv(uploader.db_path,index=False)\n",
    "    clear_output()\n",
    "    print \"Just deleted data.\"\n",
    "\n",
    "delete_button = widgets.Button(description = 'Delete',background_color='Red',color = 'white')\n",
    "delete_button.on_click(delete_handler)\n",
    "widgets.HBox(children = [delete_button,delete_dropdown])"
   ]
  },
  {
   "cell_type": "code",
   "execution_count": null,
   "metadata": {
    "collapsed": false
   },
   "outputs": [],
   "source": [
    "# testpath = '/notebooks/tmp/extracted-data/Plates/APB HS JS (60X) 08.06.2015 siRNA VE821.txt'\n",
    "# test = get_plate_data(testpath,uploader.plate_import_config)"
   ]
  },
  {
   "cell_type": "code",
   "execution_count": null,
   "metadata": {
    "collapsed": true
   },
   "outputs": [],
   "source": [
    "# layouttest = get_layout_data('/notebooks/tmp/extracted-data/Layouts/layout.csv')"
   ]
  },
  {
   "cell_type": "code",
   "execution_count": null,
   "metadata": {
    "collapsed": false
   },
   "outputs": [],
   "source": []
  },
  {
   "cell_type": "code",
   "execution_count": null,
   "metadata": {
    "collapsed": false
   },
   "outputs": [],
   "source": [
    "# test['Well Name'].unique()\n",
    "# test2 = pd.read_csv('/notebooks/tmp/imported-data/new_data.csv')"
   ]
  },
  {
   "cell_type": "code",
   "execution_count": null,
   "metadata": {
    "collapsed": true
   },
   "outputs": [],
   "source": [
    "# String -> [String]\n",
    "# def split_on_newlines(string):\n",
    "#     \"\"\" Given a string which may contain \\r, \\n, or both, \n",
    "#         split on newlines so neither character is present in output. \"\"\"\n",
    "    \n",
    "#     r = '\\r' in string\n",
    "#     n = '\\n' in string\n",
    "    \n",
    "#     if r and n: \n",
    "#         return string.replace('\\r','').split('\\n')\n",
    "#     elif r:\n",
    "#         return string.split('\\r')\n",
    "#     else:\n",
    "#         return string.split('\\n')"
   ]
  },
  {
   "cell_type": "code",
   "execution_count": null,
   "metadata": {
    "collapsed": false
   },
   "outputs": [],
   "source": [
    "# l2 = thread_last(\n",
    "#      '/notebooks/tmp/extracted-data/Layouts/layout.csv',\n",
    "#      from_file,\n",
    "#      lambda string: string.replace('\\r','').split('\\n'),\n",
    "#      (map,lambda line: line.rstrip(',')),\n",
    "#      (partitionby, lambda line: string_only_contains(line,',')),\n",
    "#      (filter,lambda group: not string_only_contains(group[0],',')),\n",
    "#      (map,lambda strings: str.join('\\n',strings)),\n",
    "#      (map,parse_label_group),\n",
    "#      (reduce,lambda left,right: pd.merge(left,right,on='Well Name')))"
   ]
  },
  {
   "cell_type": "code",
   "execution_count": null,
   "metadata": {
    "collapsed": true
   },
   "outputs": [],
   "source": [
    "# # String -> Boolean\n",
    "# def string_is_empty(string):\n",
    "#     \"\"\" Return True if string is empty. \"\"\"\n",
    "#     return string == ''"
   ]
  },
  {
   "cell_type": "code",
   "execution_count": null,
   "metadata": {
    "collapsed": false
   },
   "outputs": [],
   "source": [
    "# l2 = thread_last(\n",
    "#     os.path.join(PATH, 'data', 'Layouts', 'layout.csv'),\n",
    "#     from_file,\n",
    "#     split_on_newlines,\n",
    "#     (map,lambda line: line.rstrip(',')),\n",
    "#     (partitionby, string_is_empty),\n",
    "#     (filter,lambda group: not string_is_empty(group[0])),\n",
    "#     (map,lambda strings: str.join('\\n',strings)),\n",
    "#     (map,parse_label_group),\n",
    "#     (reduce,lambda left,right: pd.merge(left,right,on='Well Name')))"
   ]
  },
  {
   "cell_type": "code",
   "execution_count": null,
   "metadata": {
    "collapsed": false
   },
   "outputs": [],
   "source": [
    "# for x in l2['Units (concentration)'].unique():\n",
    "#     print x"
   ]
  },
  {
   "cell_type": "code",
   "execution_count": null,
   "metadata": {
    "collapsed": false
   },
   "outputs": [],
   "source": [
    "# list(l2)"
   ]
  },
  {
   "cell_type": "code",
   "execution_count": null,
   "metadata": {
    "collapsed": true
   },
   "outputs": [],
   "source": []
  }
 ],
 "metadata": {
  "kernelspec": {
   "display_name": "Python 2",
   "language": "python",
   "name": "python2"
  },
  "language_info": {
   "codemirror_mode": {
    "name": "ipython",
    "version": 2
   },
   "file_extension": ".py",
   "mimetype": "text/x-python",
   "name": "python",
   "nbconvert_exporter": "python",
   "pygments_lexer": "ipython2",
   "version": "2.7.12"
  },
  "widgets": {
   "state": {
    "768ce68bf6094d42bf748f6d85da385c": {
     "views": [
      {
       "cell_index": 8
      }
     ]
    },
    "f969d1b8a5654c418eedf4f598778717": {
     "views": [
      {
       "cell_index": 10
      }
     ]
    }
   },
   "version": "1.2.0"
  }
 },
 "nbformat": 4,
 "nbformat_minor": 0
}
