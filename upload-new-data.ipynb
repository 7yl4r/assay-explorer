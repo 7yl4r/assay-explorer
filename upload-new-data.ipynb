{
 "cells": [
  {
   "cell_type": "code",
   "execution_count": 100,
   "metadata": {
    "collapsed": true
   },
   "outputs": [],
   "source": [
    "# TODO: remove unused functions from library / combine/separate libraries into better modules\n",
    "# TODO: put zip file somewhere safe after its been used. \n",
    "# TODO: create regular backups to google docs or S3\n",
    "# TODO: profile code to reduce upload times (strongly suspect df.apply() statements are bad. As in SID creation)\n",
    "# TODO: add plate ID - one for each row in the provided metadata files. Should just be a randomly generated uuid."
   ]
  },
  {
   "cell_type": "code",
   "execution_count": 101,
   "metadata": {
    "collapsed": false
   },
   "outputs": [],
   "source": [
    "import os\n",
    "import shutil\n",
    "import zipfile\n",
    "import hashlib\n",
    "from collections import OrderedDict\n",
    "\n",
    "import arrow\n",
    "from numpy.random import random\n",
    "import pandas as pd\n",
    "import IPython.html.widgets as widgets\n",
    "from IPython.display import clear_output\n",
    "\n",
    "from toolz import partition, partitionby, thread_last, thread_first\n",
    "from utils import (snd, exists_at_path, get_layout_data, add_dict_to_dataframe,\n",
    "                   add_col, maprows, format_num, from_file, format_timestamp, \n",
    "                   parse_label_group, string_only_contains, generate_sid)\n",
    "    \n",
    "from raw import get_plate_data\n",
    "from conf import PATH"
   ]
  },
  {
   "cell_type": "code",
   "execution_count": 102,
   "metadata": {
    "collapsed": true
   },
   "outputs": [],
   "source": [
    "# String -> String\n",
    "def rename_column(col):\n",
    "    \"\"\" Rename column col to remove whitespace, backslashes, prefixes,\n",
    "        and suffixes (esp. large parenthetic suffix). \"\"\"\n",
    "    if col.startswith('Cell:'):\n",
    "        return col.split('(')[0].lstrip(\"Cell:\").rstrip('/').strip(' ')\n",
    "    else:\n",
    "        return col.split('(')[0].rstrip('/').strip(' ')"
   ]
  },
  {
   "cell_type": "code",
   "execution_count": 103,
   "metadata": {
    "collapsed": true
   },
   "outputs": [],
   "source": [
    "normalization_config = \\\n",
    "   [['Normalized_ColocSpot_area_sum (coloc)',\n",
    "      ['ColocSpots_area_sum'],\n",
    "      ['FITC-TxRed_coloc_area_sum']],\n",
    "    ['Normalized_ColocSpot_area_sum (all)',\n",
    "      ['ColocSpots_area_sum'],\n",
    "      ['FITC-TxRed_all_area_sum']],\n",
    "\n",
    "    ['Normalized coloc spots (by FITC & TxRed)',\n",
    "      ['# of Coloc Spots'],\n",
    "      ['# of FITC spots', '# of TxRed spots']],\n",
    "    ['Normalized coloc spots (by FITC)',\n",
    "      ['# of Coloc Spots'],\n",
    "      ['# of FITC spots']],\n",
    "    ['Normalized coloc spots (by TxRed)',\n",
    "      ['# of Coloc Spots'],\n",
    "      ['# of TxRed spots']],\n",
    "\n",
    "    ['Normalized coloc spots (by FITC in coloc)',\n",
    "      ['# of Coloc Spots'],\n",
    "      ['# of FITC in ColocSpots']],\n",
    "    ['Normalized coloc spots (by TxRed in coloc)',\n",
    "      ['# of Coloc Spots'],\n",
    "      ['# of TxRed in ColocSpots']],\n",
    "    ['Normalized coloc spots (by FITC-TxRed in coloc)',\n",
    "      ['# of Coloc Spots'],\n",
    "      ['# of FITC-TxRed in ColocSpots']]]"
   ]
  },
  {
   "cell_type": "code",
   "execution_count": 104,
   "metadata": {
    "collapsed": false
   },
   "outputs": [],
   "source": [
    "plate_import_config = dict(\n",
    "    delimiter = '\\t',\n",
    "    skiprows = 4,\n",
    "    dropcols = ['Laser focus score',\n",
    "                '\\.[0-9]*\\Z'],\n",
    "    colrename = rename_column,\n",
    "    normcols = normalization_config)"
   ]
  },
  {
   "cell_type": "code",
   "execution_count": 133,
   "metadata": {
    "collapsed": false
   },
   "outputs": [],
   "source": [
    "# Extract files into temporary working directory\n",
    "zipfile_path = os.path.join(PATH, 'raw', 'data.zip') #'/notebooks/add-data/data.zip'\n",
    "extract_path = os.path.join(PATH, 'data') #'/notebooks/tmp/extracted-data/'\n",
    "temp_save_path = os.path.join(PATH, 'data') # '/notebooks/tmp/imported-data/'\n",
    "db_path = os.path.join(PATH, 'db', 'db.csv') #'/notebooks/moldev-data/db/db.csv'\n",
    "\n",
    "folders = ['raw', 'data', 'db', 'tmp']\n",
    "for folder in folders:\n",
    "    folder_path = os.path.join(PATH, folder)\n",
    "    if not os.path.exists(folder_path):\n",
    "        print('Creating \"%s\".' % folder_path)\n",
    "        os.mkdir(folder_path)\n",
    "        \n"
   ]
  },
  {
   "cell_type": "code",
   "execution_count": 106,
   "metadata": {
    "collapsed": true
   },
   "outputs": [],
   "source": [
    "# String -> String\n",
    "def computeMD5hash(string):\n",
    "    m = hashlib.md5()\n",
    "    m.update(string.encode('utf-8'))\n",
    "    return m.hexdigest()"
   ]
  },
  {
   "cell_type": "code",
   "execution_count": 107,
   "metadata": {
    "collapsed": true
   },
   "outputs": [],
   "source": [
    "# Series -> String\n",
    "def generate_cell_sid(cell_data):\n",
    "    \"\"\" Given Series containing cell information,\n",
    "        generate hash string to use as string id. \"\"\"\n",
    "\n",
    "    columns_to_hash = ['Plate ID', 'Well Name', 'Site ID', 'Cell ID']\n",
    "    \n",
    "    return thread_last(\n",
    "        cell_data[columns_to_hash].tolist(),\n",
    "        (map,str),\n",
    "        (str.join,' '),\n",
    "        computeMD5hash, \n",
    "        lambda string: 'CELL_' + string)"
   ]
  },
  {
   "cell_type": "code",
   "execution_count": 108,
   "metadata": {
    "collapsed": true
   },
   "outputs": [],
   "source": [
    "# Series -> DataFrame\n",
    "def gather_plate_data(plate_metadata):\n",
    "    \"\"\" Given Series containing filepaths for plate and layout,\n",
    "        import these files, join them, and add the series itself \n",
    "        to create a master table for all the info about the plate. \"\"\"\n",
    "    \n",
    "    # String -> String -> String\n",
    "    def get_path(directory,column):\n",
    "        \"\"\" Return path with first folder at given directory, \n",
    "            and file at given column of metadata.csv file. \n",
    "            \n",
    "            (i.e. go to folder X and get file found in column Y of metadata file.)\"\"\"\n",
    "            \n",
    "        return os.path.join(\n",
    "            extract_path,\n",
    "            directory,\n",
    "            plate_metadata[column])\n",
    "        \n",
    "    plate_data = thread_last(\n",
    "        ['Plates','Plate File'],\n",
    "        (apply,get_path),\n",
    "        lambda path: get_plate_data(path,\n",
    "                                    plate_import_config))\n",
    "    \n",
    "    # Add string ID for use as primary key\n",
    "    plate_data['Cell SID'] = plate_data.apply(generate_cell_sid,\n",
    "                                              axis = 1)\n",
    "    \n",
    "#     plate_data['Plate SID'] = \"Plate_{}\".format(generate_sid())  \n",
    "    layout_data = thread_last(\n",
    "        ['Layouts','Layout File'],\n",
    "        (apply,get_path),\n",
    "        lambda path: get_layout_data(path))\n",
    "    \n",
    "    # Series -> String\n",
    "    def concatStrings(series):\n",
    "        \"\"\" Concatenate values in all but first column. \"\"\"\n",
    "        return ' '.join([str(x) for x in series.values[1:]])\n",
    "\n",
    "    layout_data['Condition'] = layout_data.apply(concatStrings, axis = 1)\n",
    "    \n",
    "    return thread_first(\n",
    "        pd.merge(plate_data,layout_data,on = 'Well Name'),\n",
    "        (add_dict_to_dataframe,dict(plate_metadata)))"
   ]
  },
  {
   "cell_type": "code",
   "execution_count": 109,
   "metadata": {
    "collapsed": true
   },
   "outputs": [],
   "source": [
    "# DataFrame -> DataFrame -> [Timestamp]\n",
    "def find_uploads_with_duplicate_cells(db_dataframe,new_dataframe):\n",
    "    \"\"\" Given a primary dataframe acting as central information store, \n",
    "        and a new dataframe containing data to be incorporated into the primary store, \n",
    "        check if there are any duplicated cells, and when they were added. \n",
    "        \n",
    "        Returns list of timestamps for days when duplicate cells were uploaded. \n",
    "        (Returns empty list if there are no duplicate cells.) \"\"\"\n",
    "    \n",
    "    new_cell_sids = new_dataframe['Cell SID']\n",
    "    duplicate_cells = db_dataframe['Cell SID'].isin(new_cell_sids)\n",
    "    return db_dataframe[duplicate_cells]['Upload Timestamp'].unique()"
   ]
  },
  {
   "cell_type": "code",
   "execution_count": 110,
   "metadata": {
    "collapsed": false
   },
   "outputs": [],
   "source": [
    "def generate_message(tests):\n",
    "    \"\"\" Print out statements for all tests that fail. \"\"\"\n",
    "    return thread_last(\n",
    "        tests,\n",
    "        (partition,2),\n",
    "        (filter,lambda pair: pair[0] == False),\n",
    "        (map,snd),\n",
    "        (str.join,'\\n'))"
   ]
  },
  {
   "cell_type": "code",
   "execution_count": 111,
   "metadata": {
    "collapsed": false
   },
   "outputs": [],
   "source": [
    "def check(_):\n",
    "    \"\"\" Extract zip and prepare for import into main dataset. \n",
    "        If data can be imported, then create a new csv in a temp directory. \n",
    "        Returns string of any warning or errors in this process. \"\"\"\n",
    "    \n",
    "    if os.path.exists(extract_path):\n",
    "        shutil.rmtree(extract_path) # clear out existing files\n",
    "\n",
    "    with zipfile.ZipFile(zipfile_path, \"r\") as z:\n",
    "        z.extractall(extract_path)    \n",
    "        \n",
    "    # Check files for correctness\n",
    "    exists = exists_at_path(extract_path) # curried function\n",
    "    nonempty = lambda entity: len(os.listdir(os.path.join(extract_path,entity))) > 0\n",
    "    initial_tests = \\\n",
    "        [exists('metadata.csv'), \"File missing: metadata.csv\",\n",
    "         exists('Plates/'), \"Folder missing: Plates\",\n",
    "         exists('Layouts/'), \"Folder missing: Layouts\",\n",
    "         nonempty('Plates/'), \"It looks like you haven't got any plates in your Plates folder.\",\n",
    "         nonempty('Layouts/'), \"It looks like you haven't got any layouts in your Layouts folder.\"]\n",
    "    \n",
    "    err = generate_message(initial_tests)\n",
    "    clear_output()\n",
    "    \n",
    "    if err != '':\n",
    "        print(\"### ERROR ###\")\n",
    "        print(err)\n",
    "    else: \n",
    "        # Read metadata\n",
    "        metadata_path = os.path.join(extract_path,'metadata.csv')\n",
    "        metadata = pd.read_csv(metadata_path).dropna(how='all',axis=0).dropna(how='all',axis=1)\n",
    "        \n",
    "        # Get all data\n",
    "        all_data = thread_last(\n",
    "            metadata,\n",
    "            (maprows,gather_plate_data),\n",
    "            pd.concat)\n",
    "        \n",
    "        all_data['Upload Timestamp'] = arrow.now().timestamp\n",
    "        \n",
    "        # Check for duplicated cells\n",
    "        try: \n",
    "            db_dataframe = pd.read_csv(db_path)\n",
    "            duplicate_timestamps = find_uploads_with_duplicate_cells(db_dataframe,all_data)\n",
    "            if len(duplicate_timestamps) > 0:\n",
    "                for ts in duplicate_timestamps:\n",
    "                    time = arrow.get(ts).to('US/Pacific').format('MMMM DD, YYYY, h:mm a')\n",
    "                    time_ago = arrow.get(ts).humanize()\n",
    "                    print(\"It looks like you already uploaded some of this data on {} ({})\".format(time,time_ago))\n",
    "                print(\"If you'd like to overwrite this data, you'll need to remove the data for these dates first.\")\n",
    "            else: \n",
    "                print(\"Ready to upload {} cells!\".format(format_num(len(all_data))))\n",
    "        except Exception as e:\n",
    "            print(e)\n",
    "        # Save data to temporary location\n",
    "        if os.path.exists(temp_save_path):\n",
    "            shutil.rmtree(temp_save_path)\n",
    "        os.makedirs(temp_save_path)\n",
    "        all_data.to_csv(os.path.join(temp_save_path,'new_data.csv'),\n",
    "                        index=False)\n",
    "    return\n",
    "        \n",
    "        "
   ]
  },
  {
   "cell_type": "code",
   "execution_count": 112,
   "metadata": {
    "collapsed": false
   },
   "outputs": [],
   "source": [
    "stage_button = widgets.Button(description = \"Check data\")\n",
    "stage_button.on_click(check)"
   ]
  },
  {
   "cell_type": "markdown",
   "metadata": {},
   "source": [
    "# Prepare and check data\n",
    "This step takes around 3 minutes."
   ]
  },
  {
   "cell_type": "code",
   "execution_count": 113,
   "metadata": {
    "collapsed": false
   },
   "outputs": [
    {
     "name": "stdout",
     "output_type": "stream",
     "text": [
      "It looks like you already uploaded some of this data on April 23, 2016, 5:56 pm (an hour ago)\n",
      "If you'd like to overwrite this data, you'll need to remove the data for these dates first.\n"
     ]
    }
   ],
   "source": [
    "stage_button"
   ]
  },
  {
   "cell_type": "code",
   "execution_count": 119,
   "metadata": {
    "collapsed": false
   },
   "outputs": [],
   "source": [
    "def add_new_data(_):\n",
    "    \"\"\" Add new data (from temp file) to db file.\n",
    "        Fails if there are duplicate cells.\"\"\"\n",
    "    try:\n",
    "        db_data = [pd.read_csv(db_path)]\n",
    "    except Exception as e:\n",
    "        print(e)\n",
    "        db_data = []\n",
    "    new_data = pd.read_csv(os.path.join(temp_save_path,'new_data.csv'))\n",
    "    all_data = pd.concat(db_data+[new_data])\n",
    "    contains_duplicated_cells = all_data.duplicated('Cell SID').any()\n",
    "    \n",
    "    clear_output()\n",
    "    \n",
    "    if contains_duplicated_cells:\n",
    "        print(\"It looks like the data's already been added.\")\n",
    "    else:\n",
    "        all_data.to_csv(db_path,index = False)\n",
    "        print(\"Just saved data!\")"
   ]
  },
  {
   "cell_type": "markdown",
   "metadata": {},
   "source": [
    "# Save data\n",
    "Once the data's been checked for correctness (all files are present, and none of the data has already been uploaded), save it!"
   ]
  },
  {
   "cell_type": "code",
   "execution_count": 120,
   "metadata": {
    "collapsed": false
   },
   "outputs": [
    {
     "name": "stdout",
     "output_type": "stream",
     "text": [
      "It looks like the data's already been added.\n"
     ]
    }
   ],
   "source": [
    "save_button = widgets.Button(description = \"Save data\",background_color='Green',color = 'white')\n",
    "save_button.on_click(add_new_data)\n",
    "save_button"
   ]
  },
  {
   "cell_type": "markdown",
   "metadata": {},
   "source": [
    "# Delete past uploads\n",
    "If you've made any mistake, and need to delete something you've uploaded, this is the place to do it. Just select the upload that you'd like to remove, and click `delete`."
   ]
  },
  {
   "cell_type": "code",
   "execution_count": 121,
   "metadata": {
    "collapsed": false
   },
   "outputs": [
    {
     "name": "stdout",
     "output_type": "stream",
     "text": [
      "Just deleted data.\n"
     ]
    }
   ],
   "source": [
    "db_data = pd.read_csv(db_path)\n",
    "timestamps = db_data['Upload Timestamp'].unique()\n",
    "\n",
    "delete_options = thread_last(\n",
    "    timestamps,\n",
    "    list,\n",
    "    lambda x: sorted(x,reverse=True),\n",
    "    (map,lambda x: (x,x)),\n",
    "    (map,lambda x: (format_timestamp(x[0]),x[1])),\n",
    "    OrderedDict)\n",
    "\n",
    "delete_dropdown = widgets.Dropdown(options = delete_options)\n",
    "\n",
    "def delete_handler(_):\n",
    "    \"\"\" Remove data uploaded at selected timestamp. \"\"\"\n",
    "    timestamp = delete_dropdown.value\n",
    "    trimmed_data = db_data[db_data['Upload Timestamp'] != timestamp]\n",
    "    trimmed_data.to_csv(db_path,index=False)\n",
    "    clear_output()\n",
    "    print \"Just deleted data.\"\n",
    "\n",
    "delete_button = widgets.Button(description = 'Delete',background_color='Red',color = 'white')\n",
    "delete_button.on_click(delete_handler)\n",
    "widgets.HBox(children = [delete_button,delete_dropdown])"
   ]
  },
  {
   "cell_type": "code",
   "execution_count": null,
   "metadata": {
    "collapsed": false
   },
   "outputs": [],
   "source": [
    "# testpath = '/notebooks/tmp/extracted-data/Plates/APB HS JS (60X) 08.06.2015 siRNA VE821.txt'\n",
    "# test = get_plate_data(testpath,plate_import_config)"
   ]
  },
  {
   "cell_type": "code",
   "execution_count": null,
   "metadata": {
    "collapsed": true
   },
   "outputs": [],
   "source": [
    "# layouttest = get_layout_data('/notebooks/tmp/extracted-data/Layouts/layout.csv')"
   ]
  },
  {
   "cell_type": "code",
   "execution_count": null,
   "metadata": {
    "collapsed": false
   },
   "outputs": [],
   "source": []
  },
  {
   "cell_type": "code",
   "execution_count": null,
   "metadata": {
    "collapsed": false
   },
   "outputs": [],
   "source": [
    "# test['Well Name'].unique()\n",
    "# test2 = pd.read_csv('/notebooks/tmp/imported-data/new_data.csv')"
   ]
  },
  {
   "cell_type": "code",
   "execution_count": 127,
   "metadata": {
    "collapsed": true
   },
   "outputs": [],
   "source": [
    "# String -> [String]\n",
    "# def split_on_newlines(string):\n",
    "#     \"\"\" Given a string which may contain \\r, \\n, or both, \n",
    "#         split on newlines so neither character is present in output. \"\"\"\n",
    "    \n",
    "#     r = '\\r' in string\n",
    "#     n = '\\n' in string\n",
    "    \n",
    "#     if r and n: \n",
    "#         return string.replace('\\r','').split('\\n')\n",
    "#     elif r:\n",
    "#         return string.split('\\r')\n",
    "#     else:\n",
    "#         return string.split('\\n')"
   ]
  },
  {
   "cell_type": "code",
   "execution_count": 124,
   "metadata": {
    "collapsed": false
   },
   "outputs": [
    {
     "ename": "TypeError",
     "evalue": "'tuple' object is not callable",
     "output_type": "error",
     "traceback": [
      "\u001b[1;31m---------------------------------------------------------------------------\u001b[0m",
      "\u001b[1;31mTypeError\u001b[0m                                 Traceback (most recent call last)",
      "\u001b[1;32m<ipython-input-124-757966585d61>\u001b[0m in \u001b[0;36m<module>\u001b[1;34m()\u001b[0m\n\u001b[0;32m      4\u001b[0m      \u001b[1;32mlambda\u001b[0m \u001b[0mstring\u001b[0m\u001b[1;33m:\u001b[0m \u001b[0mstring\u001b[0m\u001b[1;33m.\u001b[0m\u001b[0mreplace\u001b[0m\u001b[1;33m(\u001b[0m\u001b[1;34m'\\r'\u001b[0m\u001b[1;33m,\u001b[0m\u001b[1;34m''\u001b[0m\u001b[1;33m)\u001b[0m\u001b[1;33m.\u001b[0m\u001b[0msplit\u001b[0m\u001b[1;33m(\u001b[0m\u001b[1;34m'\\n'\u001b[0m\u001b[1;33m)\u001b[0m\u001b[1;33m,\u001b[0m\u001b[1;33m\u001b[0m\u001b[0m\n\u001b[0;32m      5\u001b[0m      \u001b[1;33m(\u001b[0m\u001b[0mmap\u001b[0m\u001b[1;33m,\u001b[0m\u001b[1;32mlambda\u001b[0m \u001b[0mline\u001b[0m\u001b[1;33m:\u001b[0m \u001b[0mline\u001b[0m\u001b[1;33m.\u001b[0m\u001b[0mrstrip\u001b[0m\u001b[1;33m(\u001b[0m\u001b[1;34m','\u001b[0m\u001b[1;33m)\u001b[0m\u001b[1;33m)\u001b[0m\u001b[1;33m\u001b[0m\u001b[0m\n\u001b[1;32m----> 6\u001b[1;33m      \u001b[1;33m(\u001b[0m\u001b[0mpartitionby\u001b[0m\u001b[1;33m,\u001b[0m \u001b[1;32mlambda\u001b[0m \u001b[0mline\u001b[0m\u001b[1;33m:\u001b[0m \u001b[0mstring_only_contains\u001b[0m\u001b[1;33m(\u001b[0m\u001b[0mline\u001b[0m\u001b[1;33m,\u001b[0m\u001b[1;34m','\u001b[0m\u001b[1;33m)\u001b[0m\u001b[1;33m)\u001b[0m\u001b[1;33m,\u001b[0m\u001b[1;33m\u001b[0m\u001b[0m\n\u001b[0m\u001b[0;32m      7\u001b[0m      \u001b[1;33m(\u001b[0m\u001b[0mfilter\u001b[0m\u001b[1;33m,\u001b[0m\u001b[1;32mlambda\u001b[0m \u001b[0mgroup\u001b[0m\u001b[1;33m:\u001b[0m \u001b[1;32mnot\u001b[0m \u001b[0mstring_only_contains\u001b[0m\u001b[1;33m(\u001b[0m\u001b[0mgroup\u001b[0m\u001b[1;33m[\u001b[0m\u001b[1;36m0\u001b[0m\u001b[1;33m]\u001b[0m\u001b[1;33m,\u001b[0m\u001b[1;34m','\u001b[0m\u001b[1;33m)\u001b[0m\u001b[1;33m)\u001b[0m\u001b[1;33m,\u001b[0m\u001b[1;33m\u001b[0m\u001b[0m\n\u001b[0;32m      8\u001b[0m      \u001b[1;33m(\u001b[0m\u001b[0mmap\u001b[0m\u001b[1;33m,\u001b[0m\u001b[1;32mlambda\u001b[0m \u001b[0mstrings\u001b[0m\u001b[1;33m:\u001b[0m \u001b[0mstr\u001b[0m\u001b[1;33m.\u001b[0m\u001b[0mjoin\u001b[0m\u001b[1;33m(\u001b[0m\u001b[1;34m'\\n'\u001b[0m\u001b[1;33m,\u001b[0m\u001b[0mstrings\u001b[0m\u001b[1;33m)\u001b[0m\u001b[1;33m)\u001b[0m\u001b[1;33m,\u001b[0m\u001b[1;33m\u001b[0m\u001b[0m\n",
      "\u001b[1;31mTypeError\u001b[0m: 'tuple' object is not callable"
     ]
    }
   ],
   "source": [
    "# l2 = thread_last(\n",
    "#      '/notebooks/tmp/extracted-data/Layouts/layout.csv',\n",
    "#      from_file,\n",
    "#      lambda string: string.replace('\\r','').split('\\n'),\n",
    "#      (map,lambda line: line.rstrip(',')),\n",
    "#      (partitionby, lambda line: string_only_contains(line,',')),\n",
    "#      (filter,lambda group: not string_only_contains(group[0],',')),\n",
    "#      (map,lambda strings: str.join('\\n',strings)),\n",
    "#      (map,parse_label_group),\n",
    "#      (reduce,lambda left,right: pd.merge(left,right,on='Well Name')))"
   ]
  },
  {
   "cell_type": "code",
   "execution_count": 129,
   "metadata": {
    "collapsed": true
   },
   "outputs": [],
   "source": [
    "# # String -> Boolean\n",
    "# def string_is_empty(string):\n",
    "#     \"\"\" Return True if string is empty. \"\"\"\n",
    "#     return string == ''"
   ]
  },
  {
   "cell_type": "code",
   "execution_count": 132,
   "metadata": {
    "collapsed": false
   },
   "outputs": [
    {
     "ename": "IOError",
     "evalue": "[Errno 2] No such file or directory: '/home/cabal/gits/assay-explorer/data/Layouts/layout.csv'",
     "output_type": "error",
     "traceback": [
      "\u001b[1;31m---------------------------------------------------------------------------\u001b[0m",
      "\u001b[1;31mIOError\u001b[0m                                   Traceback (most recent call last)",
      "\u001b[1;32m<ipython-input-132-85feb3b0547b>\u001b[0m in \u001b[0;36m<module>\u001b[1;34m()\u001b[0m\n\u001b[0;32m      8\u001b[0m     \u001b[1;33m(\u001b[0m\u001b[0mmap\u001b[0m\u001b[1;33m,\u001b[0m\u001b[1;32mlambda\u001b[0m \u001b[0mstrings\u001b[0m\u001b[1;33m:\u001b[0m \u001b[0mstr\u001b[0m\u001b[1;33m.\u001b[0m\u001b[0mjoin\u001b[0m\u001b[1;33m(\u001b[0m\u001b[1;34m'\\n'\u001b[0m\u001b[1;33m,\u001b[0m\u001b[0mstrings\u001b[0m\u001b[1;33m)\u001b[0m\u001b[1;33m)\u001b[0m\u001b[1;33m,\u001b[0m\u001b[1;33m\u001b[0m\u001b[0m\n\u001b[0;32m      9\u001b[0m     \u001b[1;33m(\u001b[0m\u001b[0mmap\u001b[0m\u001b[1;33m,\u001b[0m\u001b[0mparse_label_group\u001b[0m\u001b[1;33m)\u001b[0m\u001b[1;33m,\u001b[0m\u001b[1;33m\u001b[0m\u001b[0m\n\u001b[1;32m---> 10\u001b[1;33m     (reduce,lambda left,right: pd.merge(left,right,on='Well Name')))\n\u001b[0m",
      "\u001b[1;32m/home/cabal/env/local/lib/python2.7/site-packages/toolz/functoolz.pyc\u001b[0m in \u001b[0;36mthread_last\u001b[1;34m(val, *forms)\u001b[0m\n\u001b[0;32m     88\u001b[0m             \u001b[0margs\u001b[0m \u001b[1;33m=\u001b[0m \u001b[0margs\u001b[0m \u001b[1;33m+\u001b[0m \u001b[1;33m(\u001b[0m\u001b[0mval\u001b[0m\u001b[1;33m,\u001b[0m\u001b[1;33m)\u001b[0m\u001b[1;33m\u001b[0m\u001b[0m\n\u001b[0;32m     89\u001b[0m             \u001b[1;32mreturn\u001b[0m \u001b[0mfunc\u001b[0m\u001b[1;33m(\u001b[0m\u001b[1;33m*\u001b[0m\u001b[0margs\u001b[0m\u001b[1;33m)\u001b[0m\u001b[1;33m\u001b[0m\u001b[0m\n\u001b[1;32m---> 90\u001b[1;33m     \u001b[1;32mreturn\u001b[0m \u001b[0mreduce\u001b[0m\u001b[1;33m(\u001b[0m\u001b[0mevalform_back\u001b[0m\u001b[1;33m,\u001b[0m \u001b[0mforms\u001b[0m\u001b[1;33m,\u001b[0m \u001b[0mval\u001b[0m\u001b[1;33m)\u001b[0m\u001b[1;33m\u001b[0m\u001b[0m\n\u001b[0m\u001b[0;32m     91\u001b[0m \u001b[1;33m\u001b[0m\u001b[0m\n\u001b[0;32m     92\u001b[0m \u001b[1;33m\u001b[0m\u001b[0m\n",
      "\u001b[1;32m/home/cabal/env/local/lib/python2.7/site-packages/toolz/functoolz.pyc\u001b[0m in \u001b[0;36mevalform_back\u001b[1;34m(val, form)\u001b[0m\n\u001b[0;32m     83\u001b[0m     \u001b[1;32mdef\u001b[0m \u001b[0mevalform_back\u001b[0m\u001b[1;33m(\u001b[0m\u001b[0mval\u001b[0m\u001b[1;33m,\u001b[0m \u001b[0mform\u001b[0m\u001b[1;33m)\u001b[0m\u001b[1;33m:\u001b[0m\u001b[1;33m\u001b[0m\u001b[0m\n\u001b[0;32m     84\u001b[0m         \u001b[1;32mif\u001b[0m \u001b[0mcallable\u001b[0m\u001b[1;33m(\u001b[0m\u001b[0mform\u001b[0m\u001b[1;33m)\u001b[0m\u001b[1;33m:\u001b[0m\u001b[1;33m\u001b[0m\u001b[0m\n\u001b[1;32m---> 85\u001b[1;33m             \u001b[1;32mreturn\u001b[0m \u001b[0mform\u001b[0m\u001b[1;33m(\u001b[0m\u001b[0mval\u001b[0m\u001b[1;33m)\u001b[0m\u001b[1;33m\u001b[0m\u001b[0m\n\u001b[0m\u001b[0;32m     86\u001b[0m         \u001b[1;32mif\u001b[0m \u001b[0misinstance\u001b[0m\u001b[1;33m(\u001b[0m\u001b[0mform\u001b[0m\u001b[1;33m,\u001b[0m \u001b[0mtuple\u001b[0m\u001b[1;33m)\u001b[0m\u001b[1;33m:\u001b[0m\u001b[1;33m\u001b[0m\u001b[0m\n\u001b[0;32m     87\u001b[0m             \u001b[0mfunc\u001b[0m\u001b[1;33m,\u001b[0m \u001b[0margs\u001b[0m \u001b[1;33m=\u001b[0m \u001b[0mform\u001b[0m\u001b[1;33m[\u001b[0m\u001b[1;36m0\u001b[0m\u001b[1;33m]\u001b[0m\u001b[1;33m,\u001b[0m \u001b[0mform\u001b[0m\u001b[1;33m[\u001b[0m\u001b[1;36m1\u001b[0m\u001b[1;33m:\u001b[0m\u001b[1;33m]\u001b[0m\u001b[1;33m\u001b[0m\u001b[0m\n",
      "\u001b[1;32m/home/cabal/gits/assay-explorer/utils.py\u001b[0m in \u001b[0;36mfrom_file\u001b[1;34m(filename)\u001b[0m\n\u001b[0;32m    450\u001b[0m \u001b[1;32mdef\u001b[0m \u001b[0mfrom_file\u001b[0m\u001b[1;33m(\u001b[0m\u001b[0mfilename\u001b[0m\u001b[1;33m)\u001b[0m\u001b[1;33m:\u001b[0m\u001b[1;33m\u001b[0m\u001b[0m\n\u001b[0;32m    451\u001b[0m     \u001b[1;34m\"\"\" Return contents of selected file. \"\"\"\u001b[0m\u001b[1;33m\u001b[0m\u001b[0m\n\u001b[1;32m--> 452\u001b[1;33m     \u001b[0mf\u001b[0m \u001b[1;33m=\u001b[0m \u001b[0mopen\u001b[0m\u001b[1;33m(\u001b[0m\u001b[0mfilename\u001b[0m\u001b[1;33m)\u001b[0m\u001b[1;33m\u001b[0m\u001b[0m\n\u001b[0m\u001b[0;32m    453\u001b[0m     \u001b[0mdata\u001b[0m \u001b[1;33m=\u001b[0m \u001b[0mf\u001b[0m\u001b[1;33m.\u001b[0m\u001b[0mread\u001b[0m\u001b[1;33m(\u001b[0m\u001b[1;33m)\u001b[0m\u001b[1;33m\u001b[0m\u001b[0m\n\u001b[0;32m    454\u001b[0m     \u001b[0mf\u001b[0m\u001b[1;33m.\u001b[0m\u001b[0mclose\u001b[0m\u001b[1;33m(\u001b[0m\u001b[1;33m)\u001b[0m\u001b[1;33m\u001b[0m\u001b[0m\n",
      "\u001b[1;31mIOError\u001b[0m: [Errno 2] No such file or directory: '/home/cabal/gits/assay-explorer/data/Layouts/layout.csv'"
     ]
    }
   ],
   "source": [
    "# l2 = thread_last(\n",
    "#     os.path.join(PATH, 'data', 'Layouts', 'layout.csv'),\n",
    "#     from_file,\n",
    "#     split_on_newlines,\n",
    "#     (map,lambda line: line.rstrip(',')),\n",
    "#     (partitionby, string_is_empty),\n",
    "#     (filter,lambda group: not string_is_empty(group[0])),\n",
    "#     (map,lambda strings: str.join('\\n',strings)),\n",
    "#     (map,parse_label_group),\n",
    "#     (reduce,lambda left,right: pd.merge(left,right,on='Well Name')))"
   ]
  },
  {
   "cell_type": "code",
   "execution_count": null,
   "metadata": {
    "collapsed": false
   },
   "outputs": [],
   "source": [
    "# for x in l2['Units (concentration)'].unique():\n",
    "#     print x"
   ]
  },
  {
   "cell_type": "code",
   "execution_count": null,
   "metadata": {
    "collapsed": false
   },
   "outputs": [],
   "source": [
    "# list(l2)"
   ]
  },
  {
   "cell_type": "code",
   "execution_count": null,
   "metadata": {
    "collapsed": true
   },
   "outputs": [],
   "source": []
  }
 ],
 "metadata": {
  "kernelspec": {
   "display_name": "Python 2",
   "language": "python",
   "name": "python2"
  },
  "language_info": {
   "codemirror_mode": {
    "name": "ipython",
    "version": 2
   },
   "file_extension": ".py",
   "mimetype": "text/x-python",
   "name": "python",
   "nbconvert_exporter": "python",
   "pygments_lexer": "ipython2",
   "version": "2.7.8"
  }
 },
 "nbformat": 4,
 "nbformat_minor": 0
}
