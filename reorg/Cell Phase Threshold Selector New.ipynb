{
 "cells": [
  {
   "cell_type": "code",
   "execution_count": 86,
   "metadata": {
    "collapsed": false
   },
   "outputs": [],
   "source": [
    "import json\n",
    "import os.path\n",
    "import pandas as pd\n",
    "import numpy as np\n",
    "import matplotlib.pyplot as plt\n",
    "import seaborn.apionly as sns\n",
    "from scipy.stats.kde import gaussian_kde\n",
    "import scipy.signal as signal\n",
    "%matplotlib inline\n",
    "from IPython.html import widgets\n",
    "from IPython.html.widgets import interact,fixed\n",
    "\n",
    "from utils import \\\n",
    "    maybe_get_model,\\\n",
    "    persist_widget_value\n",
    "    \n",
    "from toolz import curry"
   ]
  },
  {
   "cell_type": "code",
   "execution_count": 87,
   "metadata": {
    "collapsed": true
   },
   "outputs": [],
   "source": [
    "model_filepath = '/notebooks/tmp/threshold-ui-model.json'\n",
    "uiget = maybe_get_model(model_filepath) # key -> value\n",
    "uiset = persist_widget_value(model_filepath) # widget -> key"
   ]
  },
  {
   "cell_type": "code",
   "execution_count": 102,
   "metadata": {
    "collapsed": false
   },
   "outputs": [],
   "source": [
    "# String -> String\n",
    "def from_file(filename):\n",
    "    \"\"\" Return contents of selected file. \"\"\"\n",
    "    f = open(filename)\n",
    "    data = f.read()\n",
    "    f.close()\n",
    "    return data\n",
    "\n",
    "# String -> String -> SideEffect[File]\n",
    "def to_file(filename,content):\n",
    "    f = open(filename,'w+')\n",
    "    f.write(content)\n",
    "    f.close()   \n",
    "    \n",
    "# String -> String -> Float -> SideEffect[File]\n",
    "def save_temp_threshold(condition,threshold):\n",
    "    \"\"\" Save threshold (for specific condition) to file.\n",
    "        This temp file will be read and merged with persistent file\n",
    "         when save button is clicked. \"\"\"\n",
    "    data = {'Condition': condition,\n",
    "            'Threshold': threshold}\n",
    "    to_file('/notebooks/tmp/temp_threshold.json',json.dumps(data))\n",
    "    \n",
    "# String -> SideEffect[File]\n",
    "def save_threshold(threshold_file):\n",
    "    \"\"\" Given filepath to csv containing thresholds, \n",
    "        mutate the values based on the temporary threshold file. \"\"\"\n",
    "    temp_file = '/notebooks/tmp/temp_threshold.json'\n",
    "    temp_threshold = json.loads(from_file(temp_file))\n",
    "    thresholds = pd.read_csv(threshold_file)\n",
    "    thresholds = thresholds.set_index('Condition')\n",
    "    \n",
    "    condition = temp_threshold['Condition']\n",
    "    threshold = temp_threshold['Threshold']\n",
    "    \n",
    "    thresholds.loc[condition] = threshold\n",
    "    thresholds = thresholds.reset_index()\n",
    "    thresholds.to_csv(threshold_file,index=False)"
   ]
  },
  {
   "cell_type": "code",
   "execution_count": 89,
   "metadata": {
    "collapsed": false
   },
   "outputs": [],
   "source": [
    "execfile('/notebooks/assay-explorer/src/display_utils.py')"
   ]
  },
  {
   "cell_type": "code",
   "execution_count": 90,
   "metadata": {
    "collapsed": true
   },
   "outputs": [],
   "source": [
    "filepaths = {'ssC drug data': '/notebooks/moldev-data/analyzed/07-20-2015/ssC-cells.csv',\n",
    "             'APB drug data': '/notebooks/moldev-data/analyzed/07-20-2015/APB-cells.csv'}\n",
    "threshold_filepaths = {'ssC drug data': '/notebooks/moldev-data/analyzed/07-20-2015/ssC-thresholds.csv',\n",
    "                       'APB drug data': '/notebooks/moldev-data/analyzed/07-20-2015/APB-thresholds.csv'}"
   ]
  },
  {
   "cell_type": "code",
   "execution_count": 91,
   "metadata": {
    "collapsed": false
   },
   "outputs": [],
   "source": [
    "mydataset = widgets.Dropdown(options=['ssC drug data','APB drug data'],\n",
    "                             value = uiget('filename','ssC drug data'))\n",
    "uiset(mydataset,'filename')"
   ]
  },
  {
   "cell_type": "markdown",
   "metadata": {},
   "source": [
    "# Select dataset\n",
    "Click `Cell > Run All` in the menu above to update the dataset shown."
   ]
  },
  {
   "cell_type": "code",
   "execution_count": 92,
   "metadata": {
    "collapsed": false,
    "scrolled": false
   },
   "outputs": [],
   "source": [
    "mydataset"
   ]
  },
  {
   "cell_type": "code",
   "execution_count": 93,
   "metadata": {
    "collapsed": false
   },
   "outputs": [],
   "source": [
    "filepath = filepaths[mydataset.value]\n",
    "threshold_filepath = threshold_filepaths[mydataset.value]"
   ]
  },
  {
   "cell_type": "code",
   "execution_count": 94,
   "metadata": {
    "collapsed": true
   },
   "outputs": [],
   "source": [
    "cells = pd.read_csv(filepath)"
   ]
  },
  {
   "cell_type": "code",
   "execution_count": 95,
   "metadata": {
    "collapsed": true
   },
   "outputs": [],
   "source": [
    "# [Float] -> Float\n",
    "def get_threshold(intensity,bw = 0.35):\n",
    "    \"\"\" Given an array of intensities, find the intensity \n",
    "        threshold separating the G1 peak from the S/G2 peak. \"\"\"\n",
    "    kde_fit = gaussian_kde(intensity,bw)\n",
    "    x = np.linspace(min(intensity),\n",
    "                    max(intensity),\n",
    "                    1000)\n",
    "    y = kde_fit(x)\n",
    "    ddx = np.diff(np.diff(y)) # second derivative of fit\n",
    "    peak = np.argmin(ddx) # most frequent intensity \n",
    "    index = min([yi for yi in signal.argrelmax(ddx)[0] if yi > peak])\n",
    "    threshold = x[index]\n",
    "    return threshold"
   ]
  },
  {
   "cell_type": "code",
   "execution_count": 96,
   "metadata": {
    "collapsed": true
   },
   "outputs": [],
   "source": [
    "# Create dummy file with thresholds\n",
    "def get_threshold_from_group(group):\n",
    "    groupname = group[0]\n",
    "    groupdata = group[1]\n",
    "    intensities = groupdata['NucIntegrated Intensity_Avg']\n",
    "    return {'Condition': groupname,\n",
    "            'Threshold': get_threshold(intensities,0.5)}\n",
    "\n",
    "if not os.path.isfile(threshold_filepath):\n",
    "    condition_groups = cells.groupby('Condition')\n",
    "    initial_thresholds = pd.DataFrame(map(get_threshold_from_group,condition_groups))\n",
    "    initial_thresholds.to_csv(threshold_filepath,index=False)"
   ]
  },
  {
   "cell_type": "code",
   "execution_count": 97,
   "metadata": {
    "collapsed": true
   },
   "outputs": [],
   "source": [
    "# [Num] -> Float -> SideEffect[Plot]\n",
    "def plot_gaussian_kde(X,bw,color='k',alpha=1):\n",
    "    kde_fit = gaussian_kde(X,bw)\n",
    "    x = np.linspace(min(X),\n",
    "                    max(X),\n",
    "                    1000)\n",
    "    y = kde_fit(x)\n",
    "    plt.plot(x,y,color=color,alpha = alpha)"
   ]
  },
  {
   "cell_type": "code",
   "execution_count": 98,
   "metadata": {
    "collapsed": false
   },
   "outputs": [],
   "source": [
    "def determine_thresholding_parameters \\\n",
    "(data,condition,other_condition,smoothness,manually_set_threshold,show):\n",
    "    bw = smoothness\n",
    "    method = show\n",
    "    intensities = data[data['Condition'] == condition]['NucIntegrated Intensity_Avg']\n",
    "    \n",
    "    plot_gaussian_kde(intensities,bw,color='r')\n",
    "    plt.title(condition)\n",
    "    plt.xlim(0,1.5e8)\n",
    "    plt.ylim(0,5.5e-8)\n",
    "    plt.xlabel('NucIntegrated Intensity_Avg')\n",
    "    \n",
    "    # Plot thresholds\n",
    "    auto_threshold = get_threshold(intensities,bw)\n",
    "    threshold_data = pd.read_csv(threshold_filepath)\n",
    "    other_conditions_threshold = threshold_data[threshold_data['Condition'] == other_condition]['Threshold'].values.tolist()[0]\n",
    "    saved_threshold = threshold_data[threshold_data['Condition'] == condition]['Threshold'].values.tolist()[0]\n",
    "    \n",
    "    lw = 3\n",
    "    alpha = 0.3\n",
    "    \n",
    "    if method == 'Auto':\n",
    "        plt.plot([auto_threshold,auto_threshold],plt.gca().get_ylim(),color = 'r',linewidth = lw,alpha = alpha,label='Auto')\n",
    "        save_temp_threshold(condition,auto_threshold)\n",
    "    elif method == 'Manual':\n",
    "        plt.plot([manually_set_threshold,manually_set_threshold],plt.gca().get_ylim(),color='g',linewidth = lw,alpha = alpha,label='Manual')\n",
    "        save_temp_threshold(condition,manually_set_threshold)\n",
    "    elif method == 'Other Condition':\n",
    "        other_intensities = data[data['Condition'] == other_condition]['NucIntegrated Intensity_Avg']\n",
    "        plot_gaussian_kde(other_intensities,bw,color='b',alpha=0.5)\n",
    "        plt.plot([other_conditions_threshold,other_conditions_threshold],plt.gca().get_ylim(),color='b',linewidth = lw,alpha = alpha,label='Other Condition')\n",
    "        save_temp_threshold(condition,other_conditions_threshold)\n",
    "    elif method == 'Saved Value':\n",
    "        plt.plot([saved_threshold,saved_threshold],plt.gca().get_ylim(),color='k',linewidth = lw,alpha = alpha,label='Saved Value')\n",
    "        save_temp_threshold(condition,saved_threshold)\n",
    "    \n",
    "    plt.legend()   "
   ]
  },
  {
   "cell_type": "markdown",
   "metadata": {},
   "source": [
    "# Cell Phase Separation"
   ]
  },
  {
   "cell_type": "code",
   "execution_count": 99,
   "metadata": {
    "collapsed": false
   },
   "outputs": [
    {
     "data": {
      "image/png": "[encoded data removed]",
      "text/plain": [
       "<matplotlib.figure.Figure at 0x7ff39d3faa10>"
      ]
     },
     "metadata": {},
     "output_type": "display_data"
    }
   ],
   "source": [
    "n_conditions = len(cells['Condition'].unique())\n",
    "bw = {'min':0.025, 'max': 0.8, 'step':0.025}\n",
    "intensities = cells['NucIntegrated Intensity_Avg']\n",
    "thresh = {'min': intensities.min(),\n",
    "          'max': intensities.max(),\n",
    "          'step': (intensities.max() - intensities.min())/200,\n",
    "          'init': intensities.median()}\n",
    "\n",
    "interact(\n",
    "    determine_thresholding_parameters,\n",
    "    data = fixed(cells),\n",
    "    condition = widgets.Dropdown(options = cells['Condition'].unique().tolist()),\n",
    "    other_condition = widgets.Dropdown(options = cells['Condition'].unique().tolist()),\n",
    "    smoothness = widgets.FloatSlider(min = bw['min'], max = bw['max'], step = bw['step']),\n",
    "    manually_set_threshold = widgets.FloatSlider(min = thresh['min'], max = thresh['max'], step = thresh['step'],value=thresh['init']),\n",
    "    show = widgets.ToggleButtons(options=['Manual','Auto','Other Condition','Saved Value']));\n"
   ]
  },
  {
   "cell_type": "code",
   "execution_count": 105,
   "metadata": {
    "collapsed": false
   },
   "outputs": [],
   "source": [
    "save_button = widgets.Button(description='Save Threshold')\n",
    "\n",
    "def save_my_threshold(_):\n",
    "    save_threshold(threshold_filepath)\n",
    "save_button.on_click(save_my_threshold)"
   ]
  },
  {
   "cell_type": "code",
   "execution_count": 106,
   "metadata": {
    "collapsed": false
   },
   "outputs": [],
   "source": [
    "save_button"
   ]
  },
  {
   "cell_type": "code",
   "execution_count": null,
   "metadata": {
    "collapsed": true
   },
   "outputs": [],
   "source": []
  }
 ],
 "metadata": {
  "kernelspec": {
   "display_name": "Python 2",
   "language": "python",
   "name": "python2"
  },
  "language_info": {
   "codemirror_mode": {
    "name": "ipython",
    "version": 2
   },
   "file_extension": ".py",
   "mimetype": "text/x-python",
   "name": "python",
   "nbconvert_exporter": "python",
   "pygments_lexer": "ipython2",
   "version": "2.7.6"
  }
 },
 "nbformat": 4,
 "nbformat_minor": 0
}
