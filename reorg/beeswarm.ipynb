{
 "cells": [
  {
   "cell_type": "code",
   "execution_count": 4,
   "metadata": {
    "collapsed": false
   },
   "outputs": [],
   "source": [
    "import matplotlib.pyplot as plt\n",
    "import beeswarm as bee\n",
    "import numpy as np\n",
    "d1 = np.random.uniform(low=-3, high=3, size=12)\n",
    "d2 = np.random.normal(size=100)\n",
    "\n",
    "# bs, ax = beeswarm([d1,d2], method=\"swarm\", labels=[\"sample 1\", \"sample 2\"], col=[\"blue\",\"red\"])\n",
    "\n",
    "# DataFrame -> String -> String -> [(String,[Float])]\n",
    "def my_beeswarm(dataframe, pivot_col, values_col):\n",
    "    \"\"\" Return list of tuples (group, values) where groups are unique values in pivot_col\n",
    "        in provided dataframe, and values are take from each group's values_col. \"\"\"\n",
    "    names, data = thread_last(\n",
    "        dataframe.groupby(pivot_col),\n",
    "        (map, lambda group: (group[0], group[1][values_col].values)),\n",
    "        lambda pair: sorted(pair, \n",
    "                            key = lambda x: ''.join(list(reversed(list(x[0]))))),\n",
    "        unzip)\n",
    "    \n",
    "    bee.beeswarm(data, method = \"center\", labels = names)"
   ]
  },
  {
   "cell_type": "code",
   "execution_count": null,
   "metadata": {
    "collapsed": true
   },
   "outputs": [],
   "source": []
  }
 ],
 "metadata": {
  "kernelspec": {
   "display_name": "Python 2",
   "language": "python",
   "name": "python2"
  },
  "language_info": {
   "codemirror_mode": {
    "name": "ipython",
    "version": 2
   },
   "file_extension": ".py",
   "mimetype": "text/x-python",
   "name": "python",
   "nbconvert_exporter": "python",
   "pygments_lexer": "ipython2",
   "version": "2.7.6"
  }
 },
 "nbformat": 4,
 "nbformat_minor": 0
}
