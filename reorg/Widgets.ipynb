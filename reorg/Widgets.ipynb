{
 "cells": [
  {
   "cell_type": "code",
   "execution_count": 26,
   "metadata": {
    "collapsed": false
   },
   "outputs": [],
   "source": [
    "%matplotlib inline\n",
    "import matplotlib.pyplot as plt\n",
    "import matplotlib.gridspec as gridspec\n",
    "import seaborn.apionly as sns\n",
    "import numpy as np\n",
    "from pandas.tools.plotting import scatter_matrix\n",
    "from pandas import \\\n",
    "    DataFrame as df\n",
    "import pandas as pd\n",
    "from IPython.html.widgets import \\\n",
    "    interact,\\\n",
    "    fixed,\\\n",
    "    interactive\n",
    "from IPython.display import display\n",
    "import IPython.html.widgets as widgets\n",
    "from view import \\\n",
    "    plot_plates,\\\n",
    "    matrix_tree\n",
    "from toolz import \\\n",
    "    pipe,\\\n",
    "    thread_first\n",
    "from utils import \\\n",
    "    normalize_columns,\\\n",
    "    filter_and_drop,\\\n",
    "    filter_rows,\\\n",
    "    snd,\\\n",
    "    add_col,\\\n",
    "    persist_widget_value,\\\n",
    "    maybe_get_model"
   ]
  },
  {
   "cell_type": "code",
   "execution_count": 27,
   "metadata": {
    "collapsed": true
   },
   "outputs": [],
   "source": [
    "filepaths = ['A.csv','B.csv','C.csv']"
   ]
  },
  {
   "cell_type": "markdown",
   "metadata": {},
   "source": [
    "# Sequential"
   ]
  },
  {
   "cell_type": "code",
   "execution_count": 28,
   "metadata": {
    "collapsed": false
   },
   "outputs": [],
   "source": [
    "mypath = '/notebooks/assay-explorer/reorg/ui_model.json'\n",
    "uiget = maybe_get_model(mypath)\n",
    "uiset = persist_widget_value(mypath)"
   ]
  },
  {
   "cell_type": "code",
   "execution_count": 29,
   "metadata": {
    "collapsed": false
   },
   "outputs": [],
   "source": [
    "a = widgets.Dropdown(options = filepaths, value = uiget('filepath',filepaths[-1]))\n",
    "gen_b = lambda a_val: widgets.Dropdown(options = map(lambda x: \"{}: {}\".format(a_val,x),range(10)))\n",
    "def c(x):\n",
    "    print x"
   ]
  },
  {
   "cell_type": "markdown",
   "metadata": {},
   "source": [
    "### Select dataset"
   ]
  },
  {
   "cell_type": "code",
   "execution_count": 30,
   "metadata": {
    "collapsed": false
   },
   "outputs": [],
   "source": [
    "display(a)\n",
    "uiset(a,'filepath')\n",
    "# a.on_trait_change(lambda name,value: uiset('filepath',value),'value')\n",
    "# # uiset('filepath',a.value)"
   ]
  },
  {
   "cell_type": "code",
   "execution_count": 31,
   "metadata": {
    "collapsed": false
   },
   "outputs": [],
   "source": [
    "b1 = gen_b(a.value)\n",
    "display(b1)"
   ]
  },
  {
   "cell_type": "code",
   "execution_count": 32,
   "metadata": {
    "collapsed": false
   },
   "outputs": [
    {
     "name": "stdout",
     "output_type": "stream",
     "text": [
      "C.csv: 0\n"
     ]
    }
   ],
   "source": [
    "c(b1.value)"
   ]
  },
  {
   "cell_type": "markdown",
   "metadata": {},
   "source": [
    "# Nested"
   ]
  },
  {
   "cell_type": "code",
   "execution_count": 33,
   "metadata": {
    "collapsed": true
   },
   "outputs": [],
   "source": [
    "file_selector = widgets.Dropdown(options = filepaths, value = filepaths[-1])"
   ]
  },
  {
   "cell_type": "code",
   "execution_count": 34,
   "metadata": {
    "collapsed": true
   },
   "outputs": [],
   "source": [
    "def show_grandchild(x):\n",
    "    print x"
   ]
  },
  {
   "cell_type": "code",
   "execution_count": 35,
   "metadata": {
    "collapsed": true
   },
   "outputs": [],
   "source": [
    "def show_children(my_file):\n",
    "    child = widgets.Dropdown(options = map(lambda x: \"{}: {}\".format(my_file,x),range(10)))\n",
    "    child_ui = interactive(\n",
    "        show_grandchild,\n",
    "        x = child)\n",
    "    display(child_ui)"
   ]
  },
  {
   "cell_type": "code",
   "execution_count": 36,
   "metadata": {
    "collapsed": false
   },
   "outputs": [],
   "source": [
    "parent = interactive(\n",
    "    show_children,\n",
    "    my_file = file_selector)"
   ]
  },
  {
   "cell_type": "code",
   "execution_count": 37,
   "metadata": {
    "collapsed": false
   },
   "outputs": [
    {
     "name": "stdout",
     "output_type": "stream",
     "text": [
      "C.csv: 0\n"
     ]
    }
   ],
   "source": [
    "display(parent)"
   ]
  },
  {
   "cell_type": "code",
   "execution_count": 38,
   "metadata": {
    "collapsed": true
   },
   "outputs": [],
   "source": [
    "close_widget = widgets.Dropdown(options = filepaths, value = filepaths[-1])"
   ]
  },
  {
   "cell_type": "code",
   "execution_count": 39,
   "metadata": {
    "collapsed": false
   },
   "outputs": [],
   "source": [
    "# display(close_widget)"
   ]
  },
  {
   "cell_type": "markdown",
   "metadata": {},
   "source": [
    "# Mutate options (rather than regenerate)"
   ]
  },
  {
   "cell_type": "code",
   "execution_count": 40,
   "metadata": {
    "collapsed": false
   },
   "outputs": [],
   "source": [
    "mutable_options_selector = widgets.Dropdown()"
   ]
  },
  {
   "cell_type": "code",
   "execution_count": 41,
   "metadata": {
    "collapsed": true
   },
   "outputs": [],
   "source": [
    "def mutable_show_children(my_file):\n",
    "    idisp.clear_output()\n",
    "    mutable_options_selector.options = map(lambda x: \"{}: {}\".format(my_file,x),range(10))\n",
    "    child_ui = interactive(\n",
    "        show_grandchild,\n",
    "        x = mutable_options_selector)\n",
    "    display(child_ui)"
   ]
  },
  {
   "cell_type": "code",
   "execution_count": 42,
   "metadata": {
    "collapsed": false
   },
   "outputs": [],
   "source": [
    "mutable_parent = interactive(\n",
    "    mutable_show_children,\n",
    "    my_file = file_selector)"
   ]
  },
  {
   "cell_type": "code",
   "execution_count": 43,
   "metadata": {
    "collapsed": false
   },
   "outputs": [
    {
     "name": "stdout",
     "output_type": "stream",
     "text": [
      "C.csv: 0\n"
     ]
    }
   ],
   "source": [
    "import IPython.display as idisp\n",
    "display(mutable_parent)"
   ]
  },
  {
   "cell_type": "markdown",
   "metadata": {},
   "source": [
    "# Mutate 2"
   ]
  },
  {
   "cell_type": "code",
   "execution_count": null,
   "metadata": {
    "collapsed": true
   },
   "outputs": [],
   "source": []
  }
 ],
 "metadata": {
  "kernelspec": {
   "display_name": "Python 2",
   "language": "python",
   "name": "python2"
  },
  "language_info": {
   "codemirror_mode": {
    "name": "ipython",
    "version": 2
   },
   "file_extension": ".py",
   "mimetype": "text/x-python",
   "name": "python",
   "nbconvert_exporter": "python",
   "pygments_lexer": "ipython2",
   "version": "2.7.6"
  }
 },
 "nbformat": 4,
 "nbformat_minor": 0
}
