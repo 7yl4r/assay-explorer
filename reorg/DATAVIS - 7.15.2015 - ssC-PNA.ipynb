{
 "cells": [
  {
   "cell_type": "code",
   "execution_count": 22,
   "metadata": {
    "collapsed": true
   },
   "outputs": [],
   "source": [
    "# TODO: replace df with dataframe\n",
    "# TODO: investigate presence of multiple 'Plate ID' columns in condition_summary\n",
    "# TODO: add dataset selector (or make new notebooks for analyzing different datasets - this might be better, think about it.)"
   ]
  },
  {
   "cell_type": "code",
   "execution_count": 23,
   "metadata": {
    "collapsed": false
   },
   "outputs": [],
   "source": [
    "%matplotlib inline\n",
    "\n",
    "import matplotlib.pyplot as plt\n",
    "import matplotlib.gridspec as gridspec\n",
    "import seaborn.apionly as sns\n",
    "import numpy as np\n",
    "import pandas as pd\n",
    "import IPython.html.widgets as widgets\n",
    "\n",
    "from IPython.html.widgets import \\\n",
    "    interact,\\\n",
    "    fixed\n",
    "\n",
    "from IPython.display import \\\n",
    "    display\n",
    "\n",
    "from pandas.tools.plotting import \\\n",
    "    scatter_matrix\n",
    "\n",
    "from pandas import \\\n",
    "    DataFrame as df\n",
    "\n",
    "from view import \\\n",
    "    plot_plates,\\\n",
    "    matrix_tree\n",
    "    \n",
    "from toolz import \\\n",
    "    pipe,\\\n",
    "    thread_first\n",
    "    \n",
    "from utils import \\\n",
    "    normalize_columns,\\\n",
    "    filter_and_drop,\\\n",
    "    filter_rows,\\\n",
    "    snd,\\\n",
    "    add_col,\\\n",
    "    get_files,\\\n",
    "    gen_filenames,\\\n",
    "    maybe_get_model,\\\n",
    "    persist_widget_value"
   ]
  },
  {
   "cell_type": "code",
   "execution_count": 24,
   "metadata": {
    "collapsed": true
   },
   "outputs": [],
   "source": [
    "colors = {'Blue & Red':'bwr','Blue':'Blues'}"
   ]
  },
  {
   "cell_type": "code",
   "execution_count": 25,
   "metadata": {
    "collapsed": false
   },
   "outputs": [],
   "source": [
    "model_filepath = '/notebooks/assay-explorer/reorg/ui_model.json'\n",
    "uiget = maybe_get_model(model_filepath) # key -> value\n",
    "uiset = persist_widget_value(model_filepath) # widget -> key"
   ]
  },
  {
   "cell_type": "markdown",
   "metadata": {},
   "source": [
    "# Select dataset"
   ]
  },
  {
   "cell_type": "code",
   "execution_count": 26,
   "metadata": {
    "collapsed": false
   },
   "outputs": [],
   "source": [
    "path = '/notebooks/moldev-data/analyzed/'\n",
    "data_files = get_files(path)\n",
    "file_selector = widgets.Dropdown(options=data_files,\n",
    "                                 value = tuple(\n",
    "                                            uiget( 'data_file',\n",
    "                                                  list( data_files.iteritems())[0][1] )));\n",
    "uiset(file_selector,'data_file')\n",
    "display(file_selector)"
   ]
  },
  {
   "cell_type": "code",
   "execution_count": 27,
   "metadata": {
    "collapsed": false
   },
   "outputs": [],
   "source": [
    "# Import data\n",
    "filepaths = gen_filenames(*file_selector.value)\n",
    "\n",
    "try:\n",
    "    well_data = pd.read_csv(filepaths['wells'])\n",
    "    condition_data = pd.read_csv(filepaths['conditions'])\n",
    "    raw_cell_data = pd.read_csv(filepaths['cells'])\n",
    "except IOError as e:\n",
    "    print e\n",
    "    print \"Perhaps you can try running the aggregation notebook on the raw cell file.\""
   ]
  },
  {
   "cell_type": "code",
   "execution_count": 28,
   "metadata": {
    "collapsed": false
   },
   "outputs": [],
   "source": [
    "ignore_cols = ['Plate ID','Plate Name','Date','Well Name', 'Condition', 'Base', 'Dose', 'Unit', 'Drug','Function','Concentration','Cell Type']\n",
    "agg_functions = well_data['Function'].unique().tolist()\n",
    "raw_params = filter(lambda x: x not in ignore_cols, raw_cell_data.columns.tolist())\n",
    "summary_params = filter(lambda x: x not in ignore_cols, well_data.columns.tolist())\n",
    "conditions = pipe(raw_cell_data['Condition'].unique().tolist(),\n",
    "                  lambda d: sorted(d,key = lambda x: x.split(' ')[-1]))\n",
    "\n",
    "def get_parameter_widget(init_val = 'Cell Count'):\n",
    "    return widgets.Select(\n",
    "        value = init_val,\n",
    "        options = summary_params,\n",
    "        height=250)\n",
    "\n",
    "def get_parameter_widget_multiple(init_val = summary_params, options = summary_params):\n",
    "    return widgets.SelectMultiple(\n",
    "        value = init_val,\n",
    "        options = options,\n",
    "        height=250)\n",
    "\n",
    "def get_condition_widget_multiple(init_val = conditions):\n",
    "    return widgets.SelectMultiple(\n",
    "        value = init_val,\n",
    "        options = conditions, \n",
    "        height = 300)\n",
    "\n",
    "def get_function_widget(init_val = 'avg'):\n",
    "    return widgets.ToggleButtons(\n",
    "        value = init_val,\n",
    "        options = agg_functions)\n",
    "\n",
    "def get_color_widget(init_val = colors['Blue & Red']):\n",
    "    return widgets.ToggleButtons(\n",
    "        value = init_val,\n",
    "        options = colors)"
   ]
  },
  {
   "cell_type": "markdown",
   "metadata": {},
   "source": [
    "---\n",
    "# Well Plate Results"
   ]
  },
  {
   "cell_type": "code",
   "execution_count": 29,
   "metadata": {
    "collapsed": false
   },
   "outputs": [
    {
     "data": {
      "image/png": "[encoded data removed]",
      "text/plain": [
       "<matplotlib.figure.Figure at 0x7f34e3c9e050>"
      ]
     },
     "metadata": {},
     "output_type": "display_data"
    }
   ],
   "source": [
    "interact(plot_plates, \n",
    "         dataframe = fixed(well_data),\n",
    "         parameter = get_parameter_widget(),\n",
    "         function = get_function_widget(),\n",
    "         color = get_color_widget(),\n",
    "         show = widgets.ToggleButtons(options=['Values','Conditions','None']));"
   ]
  },
  {
   "cell_type": "markdown",
   "metadata": {},
   "source": [
    "---\n",
    "# How do conditions cluster together?"
   ]
  },
  {
   "cell_type": "code",
   "execution_count": 30,
   "metadata": {
    "collapsed": false
   },
   "outputs": [
    {
     "ename": "ValueError",
     "evalue": "labels ['Cell Type' 'Concentration'] not contained in axis",
     "output_type": "error",
     "traceback": [
      "\u001b[1;31m---------------------------------------------------------------------------\u001b[0m",
      "\u001b[1;31mValueError\u001b[0m                                Traceback (most recent call last)",
      "\u001b[1;32m<ipython-input-30-5516375f7652>\u001b[0m in \u001b[0;36m<module>\u001b[1;34m()\u001b[0m\n\u001b[0;32m      3\u001b[0m     \u001b[1;32mlambda\u001b[0m \u001b[0mx\u001b[0m\u001b[1;33m:\u001b[0m \u001b[0mx\u001b[0m\u001b[1;33m.\u001b[0m\u001b[0mset_index\u001b[0m\u001b[1;33m(\u001b[0m\u001b[1;34m'Condition'\u001b[0m\u001b[1;33m)\u001b[0m\u001b[1;33m,\u001b[0m\u001b[1;33m\u001b[0m\u001b[0m\n\u001b[0;32m      4\u001b[0m     \u001b[1;32mlambda\u001b[0m \u001b[0mx\u001b[0m\u001b[1;33m:\u001b[0m \u001b[0mpd\u001b[0m\u001b[1;33m.\u001b[0m\u001b[0mDataFrame\u001b[0m\u001b[1;33m.\u001b[0m\u001b[0mdrop\u001b[0m\u001b[1;33m(\u001b[0m\u001b[0mx\u001b[0m\u001b[1;33m,\u001b[0m\u001b[1;33m[\u001b[0m\u001b[1;34m'Cell Type'\u001b[0m\u001b[1;33m,\u001b[0m\u001b[1;34m'Concentration'\u001b[0m\u001b[1;33m]\u001b[0m\u001b[1;33m,\u001b[0m\u001b[0maxis\u001b[0m\u001b[1;33m=\u001b[0m\u001b[1;36m1\u001b[0m\u001b[1;33m)\u001b[0m\u001b[1;33m,\u001b[0m\u001b[1;33m\u001b[0m\u001b[0m\n\u001b[1;32m----> 5\u001b[1;33m     normalize_columns(fillna=True))\n\u001b[0m\u001b[0;32m      6\u001b[0m \u001b[0mdata_without_empty_params\u001b[0m \u001b[1;33m=\u001b[0m \u001b[0mnormalized_condition_data\u001b[0m\u001b[1;33m.\u001b[0m\u001b[0mdropna\u001b[0m\u001b[1;33m(\u001b[0m\u001b[0maxis\u001b[0m\u001b[1;33m=\u001b[0m\u001b[1;36m1\u001b[0m\u001b[1;33m,\u001b[0m\u001b[0mhow\u001b[0m\u001b[1;33m=\u001b[0m\u001b[1;34m'all'\u001b[0m\u001b[1;33m)\u001b[0m\u001b[1;33m\u001b[0m\u001b[0m\n",
      "\u001b[1;32m/usr/local/lib/python2.7/dist-packages/toolz/functoolz.pyc\u001b[0m in \u001b[0;36mpipe\u001b[1;34m(data, *funcs)\u001b[0m\n\u001b[0;32m    433\u001b[0m     \"\"\"\n\u001b[0;32m    434\u001b[0m     \u001b[1;32mfor\u001b[0m \u001b[0mfunc\u001b[0m \u001b[1;32min\u001b[0m \u001b[0mfuncs\u001b[0m\u001b[1;33m:\u001b[0m\u001b[1;33m\u001b[0m\u001b[0m\n\u001b[1;32m--> 435\u001b[1;33m         \u001b[0mdata\u001b[0m \u001b[1;33m=\u001b[0m \u001b[0mfunc\u001b[0m\u001b[1;33m(\u001b[0m\u001b[0mdata\u001b[0m\u001b[1;33m)\u001b[0m\u001b[1;33m\u001b[0m\u001b[0m\n\u001b[0m\u001b[0;32m    436\u001b[0m     \u001b[1;32mreturn\u001b[0m \u001b[0mdata\u001b[0m\u001b[1;33m\u001b[0m\u001b[0m\n\u001b[0;32m    437\u001b[0m \u001b[1;33m\u001b[0m\u001b[0m\n",
      "\u001b[1;32m<ipython-input-30-5516375f7652>\u001b[0m in \u001b[0;36m<lambda>\u001b[1;34m(x)\u001b[0m\n\u001b[0;32m      2\u001b[0m     \u001b[1;32mlambda\u001b[0m \u001b[0mx\u001b[0m\u001b[1;33m:\u001b[0m \u001b[0mfilter_and_drop\u001b[0m\u001b[1;33m(\u001b[0m\u001b[0mx\u001b[0m\u001b[1;33m,\u001b[0m\u001b[1;34m'Function'\u001b[0m\u001b[1;33m,\u001b[0m\u001b[1;34m'avg'\u001b[0m\u001b[1;33m)\u001b[0m\u001b[1;33m,\u001b[0m\u001b[1;33m\u001b[0m\u001b[0m\n\u001b[0;32m      3\u001b[0m     \u001b[1;32mlambda\u001b[0m \u001b[0mx\u001b[0m\u001b[1;33m:\u001b[0m \u001b[0mx\u001b[0m\u001b[1;33m.\u001b[0m\u001b[0mset_index\u001b[0m\u001b[1;33m(\u001b[0m\u001b[1;34m'Condition'\u001b[0m\u001b[1;33m)\u001b[0m\u001b[1;33m,\u001b[0m\u001b[1;33m\u001b[0m\u001b[0m\n\u001b[1;32m----> 4\u001b[1;33m     \u001b[1;32mlambda\u001b[0m \u001b[0mx\u001b[0m\u001b[1;33m:\u001b[0m \u001b[0mpd\u001b[0m\u001b[1;33m.\u001b[0m\u001b[0mDataFrame\u001b[0m\u001b[1;33m.\u001b[0m\u001b[0mdrop\u001b[0m\u001b[1;33m(\u001b[0m\u001b[0mx\u001b[0m\u001b[1;33m,\u001b[0m\u001b[1;33m[\u001b[0m\u001b[1;34m'Cell Type'\u001b[0m\u001b[1;33m,\u001b[0m\u001b[1;34m'Concentration'\u001b[0m\u001b[1;33m]\u001b[0m\u001b[1;33m,\u001b[0m\u001b[0maxis\u001b[0m\u001b[1;33m=\u001b[0m\u001b[1;36m1\u001b[0m\u001b[1;33m)\u001b[0m\u001b[1;33m,\u001b[0m\u001b[1;33m\u001b[0m\u001b[0m\n\u001b[0m\u001b[0;32m      5\u001b[0m     normalize_columns(fillna=True))\n\u001b[0;32m      6\u001b[0m \u001b[0mdata_without_empty_params\u001b[0m \u001b[1;33m=\u001b[0m \u001b[0mnormalized_condition_data\u001b[0m\u001b[1;33m.\u001b[0m\u001b[0mdropna\u001b[0m\u001b[1;33m(\u001b[0m\u001b[0maxis\u001b[0m\u001b[1;33m=\u001b[0m\u001b[1;36m1\u001b[0m\u001b[1;33m,\u001b[0m\u001b[0mhow\u001b[0m\u001b[1;33m=\u001b[0m\u001b[1;34m'all'\u001b[0m\u001b[1;33m)\u001b[0m\u001b[1;33m\u001b[0m\u001b[0m\n",
      "\u001b[1;32m/usr/local/lib/python2.7/dist-packages/pandas/core/generic.pyc\u001b[0m in \u001b[0;36mdrop\u001b[1;34m(self, labels, axis, level, inplace, errors)\u001b[0m\n\u001b[0;32m   1595\u001b[0m                 \u001b[0mnew_axis\u001b[0m \u001b[1;33m=\u001b[0m \u001b[0maxis\u001b[0m\u001b[1;33m.\u001b[0m\u001b[0mdrop\u001b[0m\u001b[1;33m(\u001b[0m\u001b[0mlabels\u001b[0m\u001b[1;33m,\u001b[0m \u001b[0mlevel\u001b[0m\u001b[1;33m=\u001b[0m\u001b[0mlevel\u001b[0m\u001b[1;33m,\u001b[0m \u001b[0merrors\u001b[0m\u001b[1;33m=\u001b[0m\u001b[0merrors\u001b[0m\u001b[1;33m)\u001b[0m\u001b[1;33m\u001b[0m\u001b[0m\n\u001b[0;32m   1596\u001b[0m             \u001b[1;32melse\u001b[0m\u001b[1;33m:\u001b[0m\u001b[1;33m\u001b[0m\u001b[0m\n\u001b[1;32m-> 1597\u001b[1;33m                 \u001b[0mnew_axis\u001b[0m \u001b[1;33m=\u001b[0m \u001b[0maxis\u001b[0m\u001b[1;33m.\u001b[0m\u001b[0mdrop\u001b[0m\u001b[1;33m(\u001b[0m\u001b[0mlabels\u001b[0m\u001b[1;33m,\u001b[0m \u001b[0merrors\u001b[0m\u001b[1;33m=\u001b[0m\u001b[0merrors\u001b[0m\u001b[1;33m)\u001b[0m\u001b[1;33m\u001b[0m\u001b[0m\n\u001b[0m\u001b[0;32m   1598\u001b[0m             \u001b[0mdropped\u001b[0m \u001b[1;33m=\u001b[0m \u001b[0mself\u001b[0m\u001b[1;33m.\u001b[0m\u001b[0mreindex\u001b[0m\u001b[1;33m(\u001b[0m\u001b[1;33m**\u001b[0m\u001b[1;33m{\u001b[0m\u001b[0maxis_name\u001b[0m\u001b[1;33m:\u001b[0m \u001b[0mnew_axis\u001b[0m\u001b[1;33m}\u001b[0m\u001b[1;33m)\u001b[0m\u001b[1;33m\u001b[0m\u001b[0m\n\u001b[0;32m   1599\u001b[0m             \u001b[1;32mtry\u001b[0m\u001b[1;33m:\u001b[0m\u001b[1;33m\u001b[0m\u001b[0m\n",
      "\u001b[1;32m/usr/local/lib/python2.7/dist-packages/pandas/core/index.pyc\u001b[0m in \u001b[0;36mdrop\u001b[1;34m(self, labels, errors)\u001b[0m\n\u001b[0;32m   2568\u001b[0m         \u001b[1;32mif\u001b[0m \u001b[0mmask\u001b[0m\u001b[1;33m.\u001b[0m\u001b[0many\u001b[0m\u001b[1;33m(\u001b[0m\u001b[1;33m)\u001b[0m\u001b[1;33m:\u001b[0m\u001b[1;33m\u001b[0m\u001b[0m\n\u001b[0;32m   2569\u001b[0m             \u001b[1;32mif\u001b[0m \u001b[0merrors\u001b[0m \u001b[1;33m!=\u001b[0m \u001b[1;34m'ignore'\u001b[0m\u001b[1;33m:\u001b[0m\u001b[1;33m\u001b[0m\u001b[0m\n\u001b[1;32m-> 2570\u001b[1;33m                 \u001b[1;32mraise\u001b[0m \u001b[0mValueError\u001b[0m\u001b[1;33m(\u001b[0m\u001b[1;34m'labels %s not contained in axis'\u001b[0m \u001b[1;33m%\u001b[0m \u001b[0mlabels\u001b[0m\u001b[1;33m[\u001b[0m\u001b[0mmask\u001b[0m\u001b[1;33m]\u001b[0m\u001b[1;33m)\u001b[0m\u001b[1;33m\u001b[0m\u001b[0m\n\u001b[0m\u001b[0;32m   2571\u001b[0m             \u001b[0mindexer\u001b[0m \u001b[1;33m=\u001b[0m \u001b[0mindexer\u001b[0m\u001b[1;33m[\u001b[0m\u001b[1;33m~\u001b[0m\u001b[0mmask\u001b[0m\u001b[1;33m]\u001b[0m\u001b[1;33m\u001b[0m\u001b[0m\n\u001b[0;32m   2572\u001b[0m         \u001b[1;32mreturn\u001b[0m \u001b[0mself\u001b[0m\u001b[1;33m.\u001b[0m\u001b[0mdelete\u001b[0m\u001b[1;33m(\u001b[0m\u001b[0mindexer\u001b[0m\u001b[1;33m)\u001b[0m\u001b[1;33m\u001b[0m\u001b[0m\n",
      "\u001b[1;31mValueError\u001b[0m: labels ['Cell Type' 'Concentration'] not contained in axis"
     ]
    }
   ],
   "source": [
    "normalized_condition_data = \\\n",
    "    pipe(condition_data,\n",
    "    lambda x: filter_and_drop(x,'Function','avg'),\n",
    "    lambda x: x.set_index('Condition'),\n",
    "    lambda x: pd.DataFrame.drop(x,['Cell Type','Concentration'],axis=1),\n",
    "    normalize_columns(fillna=True))\n",
    "data_without_empty_params = normalized_condition_data.dropna(axis=1,how='all')"
   ]
  },
  {
   "cell_type": "code",
   "execution_count": null,
   "metadata": {
    "collapsed": false
   },
   "outputs": [],
   "source": [
    "params_without_data = sorted(set(normalized_condition_data.columns).difference(data_without_empty_params.columns))"
   ]
  },
  {
   "cell_type": "code",
   "execution_count": null,
   "metadata": {
    "collapsed": false
   },
   "outputs": [],
   "source": [
    "interact(matrix_tree, data = fixed(normalized_condition_data), color = get_color_widget());"
   ]
  },
  {
   "cell_type": "markdown",
   "metadata": {},
   "source": [
    "---\n",
    "# Heatmap subsets\n",
    "The last selection box allows you to show parameters that are missing data. They shouldn't really affect clustering."
   ]
  },
  {
   "cell_type": "code",
   "execution_count": null,
   "metadata": {
    "collapsed": false
   },
   "outputs": [],
   "source": [
    "def wrapper(conditions,features,color):\n",
    "    dataframe = normalized_condition_data.loc[list(conditions)][list(features)]\n",
    "    try: \n",
    "        matrix_tree(dataframe,color)\n",
    "    except:\n",
    "        print \"\\n\".join([\"-\"*50, \"Please select multiple features and conditions.\",\"-\"*50])\n",
    "\n",
    "interact(wrapper,\n",
    "         conditions = get_condition_widget_multiple(),\n",
    "         features = get_parameter_widget_multiple(),\n",
    "         color = get_color_widget());"
   ]
  },
  {
   "cell_type": "markdown",
   "metadata": {},
   "source": [
    "---\n",
    "# Parameter vs. Conditions"
   ]
  },
  {
   "cell_type": "code",
   "execution_count": null,
   "metadata": {
    "collapsed": false
   },
   "outputs": [],
   "source": [
    "def plot_dist(data,parameters):        \n",
    "    fig = plt.figure(num=None, figsize=(15, 7), dpi=100, facecolor='w', edgecolor='k')\n",
    "    \n",
    "    reshaped_data = pd.concat([add_col(data[['Condition',parameter]].rename(columns={parameter: 'Value'}),'Parameter',parameter) for parameter in parameters])\n",
    "    \n",
    "    sns.boxplot(x = 'Condition',\n",
    "                y = 'Value',\n",
    "                hue = 'Parameter',\n",
    "                data = reshaped_data,\n",
    "                order = sorted(data.Condition.unique()))    \n",
    "    \n",
    "#     plt.ylabel(parameter,fontsize=20)\n",
    "    plt.xlabel('Condition',fontsize=20)\n",
    "    plt.title('Distribution: ' + parameter,fontsize=20)\n",
    "    plt.tick_params(labelsize=10)\n",
    "    plt.xticks(rotation=30,ha='right')\n",
    "    mean = data[parameter].mean()\n",
    "    plt.gca().set_ylim(bottom=data[parameter].mean() * -0.5)"
   ]
  },
  {
   "cell_type": "code",
   "execution_count": null,
   "metadata": {
    "collapsed": true
   },
   "outputs": [],
   "source": [
    "def dist_wrapper(parameters,conditions):\n",
    "    conditions = list(conditions)\n",
    "    if list(parameters) == ['Cell Count']:\n",
    "        dataframe = thread_first(well_data,\n",
    "                                 (filter_rows,'Function','avg'),\n",
    "                                 (filter_rows,'Condition',conditions))\n",
    "        plot_dist(dataframe,parameters)\n",
    "    else: \n",
    "        if 'Cell Count' in parameters:\n",
    "            print \"Ignoring cell count. Select it by itself if you want to see it.\"\n",
    "        dataframe = filter_rows(raw_cell_data,'Condition',conditions)\n",
    "        plot_dist(dataframe,filter(lambda x: x != 'Cell Count',parameters))"
   ]
  },
  {
   "cell_type": "code",
   "execution_count": null,
   "metadata": {
    "collapsed": false
   },
   "outputs": [],
   "source": [
    "def my_beeswarm(dataframe,method = \"center\"):\n",
    "    cols = dataframe.columns.tolist()\n",
    "    positions = np.array(range(len(cols)))\n",
    "    beeswarm(dataframe.values.T,method=method,labels = cols,positions = positions)\n",
    "    fig = plt.gcf()\n",
    "    fig.set_size_inches(5,1)\n",
    "    \n",
    "interact()"
   ]
  },
  {
   "cell_type": "code",
   "execution_count": null,
   "metadata": {
    "collapsed": false
   },
   "outputs": [],
   "source": [
    "interact(dist_wrapper,\n",
    "         parameters = get_parameter_widget_multiple(summary_params[:1]),\n",
    "         conditions = get_condition_widget_multiple());"
   ]
  },
  {
   "cell_type": "markdown",
   "metadata": {},
   "source": [
    "---\n",
    "# Compare conditions"
   ]
  },
  {
   "cell_type": "code",
   "execution_count": null,
   "metadata": {
    "collapsed": false
   },
   "outputs": [],
   "source": [
    "def compare_condition_dists(dataframe, conditions, parameters, bandwidth=0.1, shaded = True, clip_ends = False, scale='linear'):\n",
    "    n_rows = int(np.ceil(len(parameters)/3.0))\n",
    "    plt.figure(figsize=(20,4 * n_rows))\n",
    "    subs = gridspec.GridSpec(n_rows, 3) \n",
    "    plt.subplots_adjust(hspace=0.54,wspace=0.27)\n",
    "\n",
    "    for parameter,sub in zip(parameters,subs):\n",
    "        plt.subplot(sub)\n",
    "        param_bandwidth = bandwidth * dataframe[dataframe.Condition == conditions[0]][parameter].mean()\n",
    "        for condition in conditions:\n",
    "            data = dataframe[dataframe.Condition == condition][parameter]\n",
    "            kws = {\"shade\": shaded, \"bw\": param_bandwidth}\n",
    "            if clip_ends: \n",
    "                kws = assoc(kws,\"cut\",0)\n",
    "            sns.distplot(data, hist=False, kde_kws=kws,label=condition)\n",
    "            plt.legend(loc = 0,fontsize=8)\n",
    "        if scale == 'linear':\n",
    "            plt.xlim(left=0)\n",
    "        else:\n",
    "            plt.xscale('log')\n",
    "        plt.ylabel('Frequency')"
   ]
  },
  {
   "cell_type": "code",
   "execution_count": null,
   "metadata": {
    "collapsed": false
   },
   "outputs": [],
   "source": [
    "try:    \n",
    "    interact(compare_condition_dists,\n",
    "             dataframe = fixed(raw_cell_data),\n",
    "             conditions = widgets.SelectMultiple(options = conditions,height = 300),\n",
    "             parameters = widgets.SelectMultiple(options = raw_params,height = 300),\n",
    "             bandwidth = (0,0.2,0.01),\n",
    "             scale = widgets.ToggleButtons(options=['linear','log']));\n",
    "except ValueError: \n",
    "    raise Exception(\"Hmm. That didn't work. Maybe one of the conditions or parameters you selected doesn't have any data.\")"
   ]
  },
  {
   "cell_type": "markdown",
   "metadata": {},
   "source": [
    "---\n",
    "# Compare parameters"
   ]
  },
  {
   "cell_type": "code",
   "execution_count": null,
   "metadata": {
    "collapsed": true
   },
   "outputs": [],
   "source": [
    "def compare_parameter_dists(dataframe, conditions, parameters, bandwidth=0.1, shaded = True, clip_ends = False, scale='linear'):\n",
    "    n_rows = int(np.ceil(len(conditions)/3.0))\n",
    "    plt.figure(figsize=(20,4 * n_rows))\n",
    "    subs = gridspec.GridSpec(n_rows, 3) \n",
    "    plt.subplots_adjust(hspace=0.54,wspace=0.27)\n",
    "\n",
    "    for condition,sub in zip(conditions,subs):\n",
    "        plt.subplot(sub)\n",
    "        condition_bandwidth = bandwidth * dataframe[dataframe.Condition == condition][parameters[0]].mean()\n",
    "        for parameter in parameters:\n",
    "            data = dataframe[dataframe.Condition == condition][parameter]\n",
    "            kws = {\"shade\": shaded, \"bw\": condition_bandwidth}\n",
    "            if clip_ends: \n",
    "                kws = assoc(kws,\"cut\",0)\n",
    "            sns.distplot(data, hist=False, kde_kws=kws,label=parameter)\n",
    "            plt.legend(loc = 0,fontsize=8)\n",
    "        if scale == 'linear':\n",
    "            plt.xlim(left=0)\n",
    "        else:\n",
    "            plt.xscale('log')\n",
    "        plt.ylabel('Frequency')\n",
    "        plt.xlabel(condition)"
   ]
  },
  {
   "cell_type": "code",
   "execution_count": null,
   "metadata": {
    "collapsed": false
   },
   "outputs": [],
   "source": [
    "interact(compare_parameter_dists,\n",
    "         dataframe = fixed(raw_cell_data),\n",
    "         conditions = widgets.SelectMultiple(options = conditions,height = 300),\n",
    "         parameters = widgets.SelectMultiple(options = raw_params,height = 300),\n",
    "         bandwidth = (0,0.2,0.01),\n",
    "         scale = widgets.ToggleButtons(options=['linear','log']));"
   ]
  },
  {
   "cell_type": "markdown",
   "metadata": {},
   "source": [
    "---\n",
    "#How are different parameters related?"
   ]
  },
  {
   "cell_type": "code",
   "execution_count": null,
   "metadata": {
    "collapsed": false
   },
   "outputs": [],
   "source": [
    "def scatter(dataframe,cols):\n",
    "    scatter_matrix(dataframe[list(cols)], alpha=1, figsize=(20, 20), diagonal='kde');\n",
    "    \n",
    "interact(scatter, \n",
    "         dataframe = fixed(normalized_condition_data),\n",
    "         cols = widgets.SelectMultiple(\n",
    "            value = ['Cell Count'],\n",
    "            options= summary_params,\n",
    "            height=250));"
   ]
  },
  {
   "cell_type": "code",
   "execution_count": null,
   "metadata": {
    "collapsed": true
   },
   "outputs": [],
   "source": []
  }
 ],
 "metadata": {
  "kernelspec": {
   "display_name": "Python 2",
   "language": "python",
   "name": "python2"
  },
  "language_info": {
   "codemirror_mode": {
    "name": "ipython",
    "version": 2
   },
   "file_extension": ".py",
   "mimetype": "text/x-python",
   "name": "python",
   "nbconvert_exporter": "python",
   "pygments_lexer": "ipython2",
   "version": "2.7.6"
  }
 },
 "nbformat": 4,
 "nbformat_minor": 0
}
