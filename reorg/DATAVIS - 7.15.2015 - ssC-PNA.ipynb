{
 "cells": [
  {
   "cell_type": "code",
   "execution_count": 1,
   "metadata": {
    "collapsed": true
   },
   "outputs": [],
   "source": [
    "# TODO: replace df with dataframe\n",
    "# TODO: investigate presence of multiple 'Plate ID' columns in condition_summary\n",
    "# TODO: add dataset selector (or make new notebooks for analyzing different datasets - this might be better, think about it.)"
   ]
  },
  {
   "cell_type": "code",
   "execution_count": 2,
   "metadata": {
    "collapsed": false
   },
   "outputs": [
    {
     "name": "stderr",
     "output_type": "stream",
     "text": [
      ":0: FutureWarning: IPython widgets are experimental and may change in the future.\n"
     ]
    }
   ],
   "source": [
    "%matplotlib inline\n",
    "import matplotlib.pyplot as plt\n",
    "import matplotlib.gridspec as gridspec\n",
    "import seaborn.apionly as sns\n",
    "import numpy as np\n",
    "from pandas.tools.plotting import scatter_matrix\n",
    "from pandas import \\\n",
    "    DataFrame as df\n",
    "import pandas as pd\n",
    "from IPython.html.widgets import \\\n",
    "    interact,\\\n",
    "    fixed\n",
    "import IPython.html.widgets as widgets\n",
    "from view import \\\n",
    "    plot_plates,\\\n",
    "    matrix_tree\n",
    "from toolz import \\\n",
    "    pipe,\\\n",
    "    thread_first\n",
    "from utils import \\\n",
    "    normalize_columns,\\\n",
    "    filter_and_drop,\\\n",
    "    filter_rows,\\\n",
    "    snd,\\\n",
    "    add_col,\\\n",
    "    get_files,\\\n",
    "    gen_filenames"
   ]
  },
  {
   "cell_type": "code",
   "execution_count": 4,
   "metadata": {
    "collapsed": false
   },
   "outputs": [],
   "source": [
    "path = '/notebooks/moldev-data/analyzed/'\n",
    "file_selector = widgets.Dropdown(options=get_files(path));"
   ]
  },
  {
   "cell_type": "code",
   "execution_count": 5,
   "metadata": {
    "collapsed": false
   },
   "outputs": [
    {
     "name": "stdout",
     "output_type": "stream",
     "text": [
      "['/notebooks/moldev-data/analyzed/07-15-2015/ssC PNA-Refactor-wells.csv', '/notebooks/moldev-data/analyzed/07-15-2015/ssC PNA-Refactor-conditions.csv', '/notebooks/moldev-data/analyzed/07-15-2015/ssC PNA-Refactor.csv']\n"
     ]
    }
   ],
   "source": [
    "print gen_filenames(*file_selector.value)\n"
   ]
  },
  {
   "cell_type": "code",
   "execution_count": null,
   "metadata": {
    "collapsed": true
   },
   "outputs": [],
   "source": [
    "cell_path = '/notebooks/moldev-data/analyzed/07-15-2015/ssC PNA.csv'\n",
    "well_path = '/notebooks/moldev-data/analyzed/07-15-2015/ssC PNA-wells.csv'\n",
    "condition_path = '/notebooks/moldev-data/analyzed/07-15-2015/ssC PNA-conditions.csv'\n",
    "\n",
    "# cell_path = '../moldev-data/analyzed/07-15-2015/APB PNA.csv'\n",
    "# well_path = '../moldev-data/analyzed/07-15-2015/APB PNA-wells.csv'\n",
    "# condition_path = '../moldev-data/analyzed/07-15-2015/APB PNA-conditions.csv'\n",
    "\n",
    "colors = {'Blue & Red':'bwr','Blue':'Blues'}"
   ]
  },
  {
   "cell_type": "code",
   "execution_count": null,
   "metadata": {
    "collapsed": false
   },
   "outputs": [],
   "source": [
    "well_data = pd.read_csv(well_path)\n",
    "\n",
    "condition_data = pd.read_csv(condition_path)\n",
    "\n",
    "raw_cell_data = pd.read_csv(cell_path)"
   ]
  },
  {
   "cell_type": "code",
   "execution_count": null,
   "metadata": {
    "collapsed": false
   },
   "outputs": [],
   "source": [
    "# Widgets\n",
    "# TODO: change this function - add new variable, and maybe have a look at the summary code.\n",
    "\n",
    "ignore_cols = ['Plate ID','Plate Name','Date','Well Name', 'Condition', 'Base', 'Dose', 'Unit', 'Drug','Function','Concentration','Cell Type']\n",
    "agg_functions = well_data['Function'].unique().tolist()\n",
    "raw_params = filter(lambda x: x not in ignore_cols, raw_cell_data.columns.tolist())\n",
    "summary_params = filter(lambda x: x not in ignore_cols, well_data.columns.tolist())\n",
    "conditions = pipe(raw_cell_data['Condition'].unique().tolist(),\n",
    "                  lambda d: sorted(d,key = lambda x: x.split(' ')[-1]))\n",
    "\n",
    "def get_parameter_widget(init_val = 'Cell Count'):\n",
    "    return widgets.Select(\n",
    "        value = init_val,\n",
    "        options = summary_params,\n",
    "        height=250)\n",
    "\n",
    "def get_parameter_widget_multiple(init_val = summary_params, options = summary_params):\n",
    "    return widgets.SelectMultiple(\n",
    "        value = init_val,\n",
    "        options = options,\n",
    "        height=250)\n",
    "\n",
    "\n",
    "def get_condition_widget_multiple(init_val = conditions):\n",
    "    return widgets.SelectMultiple(\n",
    "        value = init_val,\n",
    "        options = conditions, \n",
    "        height = 300)\n",
    "\n",
    "def get_function_widget(init_val = 'avg'):\n",
    "    return widgets.ToggleButtons(\n",
    "        value = init_val,\n",
    "        options = agg_functions)\n",
    "\n",
    "def get_color_widget(init_val = colors['Blue & Red']):\n",
    "    return widgets.ToggleButtons(\n",
    "        value = init_val,\n",
    "        options = colors)"
   ]
  },
  {
   "cell_type": "markdown",
   "metadata": {},
   "source": [
    "---\n",
    "# Well Plate Results"
   ]
  },
  {
   "cell_type": "code",
   "execution_count": null,
   "metadata": {
    "collapsed": false
   },
   "outputs": [],
   "source": [
    "interact(plot_plates, \n",
    "         dataframe = fixed(well_data),\n",
    "         parameter = get_parameter_widget(),\n",
    "         function = get_function_widget(),\n",
    "         color = get_color_widget(),\n",
    "         show = widgets.ToggleButtons(options=['Values','Conditions','None']));"
   ]
  },
  {
   "cell_type": "markdown",
   "metadata": {},
   "source": [
    "---\n",
    "# How do conditions cluster together?"
   ]
  },
  {
   "cell_type": "code",
   "execution_count": null,
   "metadata": {
    "collapsed": false
   },
   "outputs": [],
   "source": [
    "normalized_condition_data = \\\n",
    "    pipe(condition_data,\n",
    "    lambda x: filter_and_drop(x,'Function','avg'),\n",
    "    lambda x: x.set_index('Condition'),\n",
    "    lambda x: pd.DataFrame.drop(x,['Cell Type','Concentration'],axis=1),\n",
    "    normalize_columns(fillna=True))\n",
    "data_without_empty_params = normalized_condition_data.dropna(axis=1,how='all')"
   ]
  },
  {
   "cell_type": "code",
   "execution_count": null,
   "metadata": {
    "collapsed": false
   },
   "outputs": [],
   "source": [
    "params_without_data = sorted(set(normalized_condition_data.columns).difference(data_without_empty_params.columns))"
   ]
  },
  {
   "cell_type": "code",
   "execution_count": null,
   "metadata": {
    "collapsed": false
   },
   "outputs": [],
   "source": [
    "interact(matrix_tree, data = fixed(normalized_condition_data), color = get_color_widget());"
   ]
  },
  {
   "cell_type": "markdown",
   "metadata": {},
   "source": [
    "---\n",
    "# Heatmap subsets\n",
    "The last selection box allows you to show parameters that are missing data. They shouldn't really affect clustering."
   ]
  },
  {
   "cell_type": "code",
   "execution_count": null,
   "metadata": {
    "collapsed": false
   },
   "outputs": [],
   "source": [
    "def wrapper(conditions,features,color):\n",
    "    dataframe = normalized_condition_data.loc[list(conditions)][list(features)]\n",
    "    try: \n",
    "        matrix_tree(dataframe,color)\n",
    "    except:\n",
    "        print \"\\n\".join([\"-\"*50, \"Please select multiple features and conditions.\",\"-\"*50])\n",
    "\n",
    "interact(wrapper,\n",
    "         conditions = get_condition_widget_multiple(),\n",
    "         features = get_parameter_widget_multiple(),\n",
    "         color = get_color_widget());"
   ]
  },
  {
   "cell_type": "markdown",
   "metadata": {},
   "source": [
    "---\n",
    "# Parameter vs. Conditions"
   ]
  },
  {
   "cell_type": "code",
   "execution_count": null,
   "metadata": {
    "collapsed": false
   },
   "outputs": [],
   "source": [
    "def plot_dist(data,parameters):        \n",
    "    fig = plt.figure(num=None, figsize=(15, 7), dpi=100, facecolor='w', edgecolor='k')\n",
    "    \n",
    "    reshaped_data = pd.concat([add_col(data[['Condition',parameter]].rename(columns={parameter: 'Value'}),'Parameter',parameter) for parameter in parameters])\n",
    "    \n",
    "    sns.boxplot(x = 'Condition',\n",
    "                y = 'Value',\n",
    "                hue = 'Parameter',\n",
    "                data = reshaped_data,\n",
    "                order = sorted(data.Condition.unique()))    \n",
    "    \n",
    "#     plt.ylabel(parameter,fontsize=20)\n",
    "    plt.xlabel('Condition',fontsize=20)\n",
    "    plt.title('Distribution: ' + parameter,fontsize=20)\n",
    "    plt.tick_params(labelsize=10)\n",
    "    plt.xticks(rotation=30,ha='right')\n",
    "    mean = data[parameter].mean()\n",
    "    plt.gca().set_ylim(bottom=data[parameter].mean() * -0.5)"
   ]
  },
  {
   "cell_type": "code",
   "execution_count": null,
   "metadata": {
    "collapsed": true
   },
   "outputs": [],
   "source": [
    "def dist_wrapper(parameters,conditions):\n",
    "    conditions = list(conditions)\n",
    "    if list(parameters) == ['Cell Count']:\n",
    "        dataframe = thread_first(well_data,\n",
    "                                 (filter_rows,'Function','avg'),\n",
    "                                 (filter_rows,'Condition',conditions))\n",
    "        plot_dist(dataframe,parameters)\n",
    "    else: \n",
    "        if 'Cell Count' in parameters:\n",
    "            print \"Ignoring cell count. Select it by itself if you want to see it.\"\n",
    "        dataframe = filter_rows(raw_cell_data,'Condition',conditions)\n",
    "        plot_dist(dataframe,filter(lambda x: x != 'Cell Count',parameters))"
   ]
  },
  {
   "cell_type": "code",
   "execution_count": null,
   "metadata": {
    "collapsed": true
   },
   "outputs": [],
   "source": [
    "def my_beeswarm(dataframe,method = \"center\"):\n",
    "    cols = dataframe.columns.tolist()\n",
    "    positions = np.array(range(len(cols)))\n",
    "    beeswarm(dataframe.values.T,method=method,labels = cols,positions = positions)\n",
    "    fig = plt.gcf()\n",
    "    fig.set_size_inches(5,1)\n",
    "    \n",
    "interact()"
   ]
  },
  {
   "cell_type": "code",
   "execution_count": null,
   "metadata": {
    "collapsed": false
   },
   "outputs": [],
   "source": [
    "interact(dist_wrapper,\n",
    "         parameters = get_parameter_widget_multiple(summary_params[:1]),\n",
    "         conditions = get_condition_widget_multiple());"
   ]
  },
  {
   "cell_type": "markdown",
   "metadata": {},
   "source": [
    "---\n",
    "# Compare conditions"
   ]
  },
  {
   "cell_type": "code",
   "execution_count": null,
   "metadata": {
    "collapsed": false
   },
   "outputs": [],
   "source": [
    "def compare_condition_dists(dataframe, conditions, parameters, bandwidth=0.1, shaded = True, clip_ends = False, scale='linear'):\n",
    "    n_rows = int(np.ceil(len(parameters)/3.0))\n",
    "    plt.figure(figsize=(20,4 * n_rows))\n",
    "    subs = gridspec.GridSpec(n_rows, 3) \n",
    "    plt.subplots_adjust(hspace=0.54,wspace=0.27)\n",
    "\n",
    "    for parameter,sub in zip(parameters,subs):\n",
    "        plt.subplot(sub)\n",
    "        param_bandwidth = bandwidth * dataframe[dataframe.Condition == conditions[0]][parameter].mean()\n",
    "        for condition in conditions:\n",
    "            data = dataframe[dataframe.Condition == condition][parameter]\n",
    "            kws = {\"shade\": shaded, \"bw\": param_bandwidth}\n",
    "            if clip_ends: \n",
    "                kws = assoc(kws,\"cut\",0)\n",
    "            sns.distplot(data, hist=False, kde_kws=kws,label=condition)\n",
    "            plt.legend(loc = 0,fontsize=8)\n",
    "        if scale == 'linear':\n",
    "            plt.xlim(left=0)\n",
    "        else:\n",
    "            plt.xscale('log')\n",
    "        plt.ylabel('Frequency')"
   ]
  },
  {
   "cell_type": "code",
   "execution_count": null,
   "metadata": {
    "collapsed": false
   },
   "outputs": [],
   "source": [
    "try:    \n",
    "    interact(compare_condition_dists,\n",
    "             dataframe = fixed(raw_cell_data),\n",
    "             conditions = widgets.SelectMultiple(options = conditions,height = 300),\n",
    "             parameters = widgets.SelectMultiple(options = raw_params,height = 300),\n",
    "             bandwidth = (0,0.2,0.01),\n",
    "             scale = widgets.ToggleButtons(options=['linear','log']));\n",
    "except ValueError: \n",
    "    raise Exception(\"Hmm. That didn't work. Maybe one of the conditions or parameters you selected doesn't have any data.\")"
   ]
  },
  {
   "cell_type": "markdown",
   "metadata": {},
   "source": [
    "---\n",
    "# Compare parameters"
   ]
  },
  {
   "cell_type": "code",
   "execution_count": null,
   "metadata": {
    "collapsed": true
   },
   "outputs": [],
   "source": [
    "def compare_parameter_dists(dataframe, conditions, parameters, bandwidth=0.1, shaded = True, clip_ends = False, scale='linear'):\n",
    "    n_rows = int(np.ceil(len(conditions)/3.0))\n",
    "    plt.figure(figsize=(20,4 * n_rows))\n",
    "    subs = gridspec.GridSpec(n_rows, 3) \n",
    "    plt.subplots_adjust(hspace=0.54,wspace=0.27)\n",
    "\n",
    "    for condition,sub in zip(conditions,subs):\n",
    "        plt.subplot(sub)\n",
    "        condition_bandwidth = bandwidth * dataframe[dataframe.Condition == condition][parameters[0]].mean()\n",
    "        for parameter in parameters:\n",
    "            data = dataframe[dataframe.Condition == condition][parameter]\n",
    "            kws = {\"shade\": shaded, \"bw\": condition_bandwidth}\n",
    "            if clip_ends: \n",
    "                kws = assoc(kws,\"cut\",0)\n",
    "            sns.distplot(data, hist=False, kde_kws=kws,label=parameter)\n",
    "            plt.legend(loc = 0,fontsize=8)\n",
    "        if scale == 'linear':\n",
    "            plt.xlim(left=0)\n",
    "        else:\n",
    "            plt.xscale('log')\n",
    "        plt.ylabel('Frequency')\n",
    "        plt.xlabel(condition)"
   ]
  },
  {
   "cell_type": "code",
   "execution_count": null,
   "metadata": {
    "collapsed": false
   },
   "outputs": [],
   "source": [
    "interact(compare_parameter_dists,\n",
    "         dataframe = fixed(raw_cell_data),\n",
    "         conditions = widgets.SelectMultiple(options = conditions,height = 300),\n",
    "         parameters = widgets.SelectMultiple(options = raw_params,height = 300),\n",
    "         bandwidth = (0,0.2,0.01),\n",
    "         scale = widgets.ToggleButtons(options=['linear','log']));"
   ]
  },
  {
   "cell_type": "markdown",
   "metadata": {},
   "source": [
    "---\n",
    "#How are different parameters related?"
   ]
  },
  {
   "cell_type": "code",
   "execution_count": null,
   "metadata": {
    "collapsed": false
   },
   "outputs": [],
   "source": [
    "def scatter(dataframe,cols):\n",
    "    scatter_matrix(dataframe[list(cols)], alpha=1, figsize=(20, 20), diagonal='kde');\n",
    "    \n",
    "interact(scatter, \n",
    "         dataframe = fixed(normalized_condition_data),\n",
    "         cols = widgets.SelectMultiple(\n",
    "            value = ['Cell Count'],\n",
    "            options= summary_params,\n",
    "            height=250));"
   ]
  },
  {
   "cell_type": "code",
   "execution_count": null,
   "metadata": {
    "collapsed": true
   },
   "outputs": [],
   "source": []
  }
 ],
 "metadata": {
  "kernelspec": {
   "display_name": "Python 2",
   "language": "python",
   "name": "python2"
  },
  "language_info": {
   "codemirror_mode": {
    "name": "ipython",
    "version": 2
   },
   "file_extension": ".py",
   "mimetype": "text/x-python",
   "name": "python",
   "nbconvert_exporter": "python",
   "pygments_lexer": "ipython2",
   "version": "2.7.6"
  }
 },
 "nbformat": 4,
 "nbformat_minor": 0
}
