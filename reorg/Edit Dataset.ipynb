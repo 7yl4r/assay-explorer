{
 "cells": [
  {
   "cell_type": "markdown",
   "metadata": {},
   "source": [
    "# Add normalized columns"
   ]
  },
  {
   "cell_type": "code",
   "execution_count": 1,
   "metadata": {
    "collapsed": true
   },
   "outputs": [],
   "source": [
    "normalization_config = \\\n",
    "   [['Normalized_ColocSpot_area_sum (coloc)',\n",
    "      ['ColocSpots_area_sum'],\n",
    "      ['FITC-TxRed_coloc_area_sum']],\n",
    "    ['Normalized_ColocSpot_area_sum (all)',\n",
    "      ['ColocSpots_area_sum'],\n",
    "      ['FITC-TxRed_all_area_sum']],\n",
    "\n",
    "    ['Normalized coloc spots (by FITC & TxRed)',\n",
    "      ['# of Coloc Spots'],\n",
    "      ['# of FITC spots', '# of TxRed spots']],\n",
    "    ['Normalized coloc spots (by FITC)',\n",
    "      ['# of Coloc Spots'],\n",
    "      ['# of FITC spots']],\n",
    "    ['Normalized coloc spots (by TxRed)',\n",
    "      ['# of Coloc Spots'],\n",
    "      ['# of TxRed spots']],\n",
    "\n",
    "    ['Normalized coloc spots (by FITC in coloc)',\n",
    "      ['# of Coloc Spots'],\n",
    "      ['# of FITC in ColocSpots']],\n",
    "    ['Normalized coloc spots (by TxRed in coloc)',\n",
    "      ['# of Coloc Spots'],\n",
    "      ['# of TxRed in ColocSpots']],\n",
    "    ['Normalized coloc spots (by FITC-TxRed in coloc)',\n",
    "      ['# of Coloc Spots'],\n",
    "      ['# of FITC-TxRed in ColocSpots']]]"
   ]
  },
  {
   "cell_type": "code",
   "execution_count": null,
   "metadata": {
    "collapsed": true
   },
   "outputs": [],
   "source": []
  }
 ],
 "metadata": {
  "kernelspec": {
   "display_name": "Python 2",
   "language": "python",
   "name": "python2"
  },
  "language_info": {
   "codemirror_mode": {
    "name": "ipython",
    "version": 2
   },
   "file_extension": ".py",
   "mimetype": "text/x-python",
   "name": "python",
   "nbconvert_exporter": "python",
   "pygments_lexer": "ipython2",
   "version": "2.7.6"
  }
 },
 "nbformat": 4,
 "nbformat_minor": 0
}
