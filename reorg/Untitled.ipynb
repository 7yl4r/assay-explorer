{
 "cells": [
  {
   "cell_type": "code",
   "execution_count": 4,
   "metadata": {
    "collapsed": false
   },
   "outputs": [],
   "source": [
    "apb_path = '/notebooks/moldev-data/original/07-20-2015/APB HS JS 60X 07.22.2015 ML216 MMC HU TS.txt'\n",
    "ssc_path = '/notebooks/moldev-data/original/07-20-2015/ssC HS JS 60X 07.20.2015 ML216 MMC HU TS.txt'\n",
    "f = open(apb_path)\n",
    "#names = []\n",
    "#for _ in range(1000000):\n",
    "#    try:\n",
    "#        names.append(f.readline().split('\\t')[0])\n",
    "#    except:\n",
    "#        break\n",
    "#set(names)"
   ]
  },
  {
   "cell_type": "code",
   "execution_count": 121,
   "metadata": {
    "collapsed": false
   },
   "outputs": [
    {
     "data": {
      "text/plain": [
       "['\"A01\"',\n",
       " '4',\n",
       " '\"22_18599_18623_20\"',\n",
       " '22',\n",
       " '9',\n",
       " '20.0',\n",
       " '38.0',\n",
       " '0.40745300000000001',\n",
       " '125.48365',\n",
       " '10788684.0',\n",
       " '0.94045299999999998',\n",
       " '10.0',\n",
       " '0.496977',\n",
       " '13.0',\n",
       " '15.483207999999999',\n",
       " '9.4045319999999997',\n",
       " '0.57609999999999995',\n",
       " '6.3371040000000001',\n",
       " '11.0',\n",
       " '0.30308400000000002',\n",
       " '11.820271999999999',\n",
       " '76379.101563000004',\n",
       " '39.0',\n",
       " '0.50561999999999996',\n",
       " '129217.070313',\n",
       " '14.0',\n",
       " '7.0786800000000003',\n",
       " '2978785.0',\n",
       " '1809039.0',\n",
       " '0.261021',\n",
       " '3.3932720000000001',\n",
       " '13.0',\n",
       " '966.03546100000005',\n",
       " '6.4607000000000001',\n",
       " '171392.46875',\n",
       " '2228102.0',\n",
       " '3582.439453',\n",
       " '46571.714844000002',\n",
       " '149883.453125',\n",
       " '1648718.0',\n",
       " '2720.5383299999999',\n",
       " '29925.921875',\n",
       " '2228.2233890000002',\n",
       " '86900.710938000004',\n",
       " '2639.5390630000002',\n",
       " '36953.546875',\n",
       " '37.429935',\n",
       " '',\n",
       " '',\n",
       " '',\n",
       " '',\n",
       " '',\n",
       " '',\n",
       " '',\n",
       " '\\r\\n']"
      ]
     },
     "execution_count": 121,
     "metadata": {},
     "output_type": "execute_result"
    }
   ],
   "source": [
    "f.readline().split('\\t')"
   ]
  }
 ],
 "metadata": {
  "kernelspec": {
   "display_name": "Python 2",
   "language": "python",
   "name": "python2"
  },
  "language_info": {
   "codemirror_mode": {
    "name": "ipython",
    "version": 2
   },
   "file_extension": ".py",
   "mimetype": "text/x-python",
   "name": "python",
   "nbconvert_exporter": "python",
   "pygments_lexer": "ipython2",
   "version": "2.7.6"
  }
 },
 "nbformat": 4,
 "nbformat_minor": 0
}
