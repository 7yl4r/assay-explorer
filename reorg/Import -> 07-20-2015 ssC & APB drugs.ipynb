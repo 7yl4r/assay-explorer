{
 "cells": [
  {
   "cell_type": "code",
   "execution_count": 34,
   "metadata": {
    "collapsed": false
   },
   "outputs": [],
   "source": [
    "from utils import \\\n",
    "    get_layout_info,\\\n",
    "    to_file,\\\n",
    "    from_file,\\\n",
    "    map\n",
    "    \n",
    "import pandas as pd\n",
    "from pandas import DataFrame as df\n",
    "from toolz import assoc\n",
    "from raw import create_well_df,\\\n",
    "                generate_sid,\\\n",
    "                get_cell_data,\\\n",
    "                cell_config\n",
    "from toolz import \\\n",
    "    thread_first,\\\n",
    "    frequencies"
   ]
  },
  {
   "cell_type": "code",
   "execution_count": 35,
   "metadata": {
    "collapsed": true
   },
   "outputs": [],
   "source": [
    "layout_path = '/notebooks/moldev-data/original/07-20-2015/plate-layout.csv'\n",
    "apb_path = '/notebooks/moldev-data/original/07-20-2015/APB HS JS 60X 07.22.2015 ML216 MMC HU TS.txt'\n",
    "ssc_path = '/notebooks/moldev-data/original/07-20-2015/ssC HS JS 07.20.2015 ML216 MMC HU TS.txt'"
   ]
  },
  {
   "cell_type": "code",
   "execution_count": 36,
   "metadata": {
    "collapsed": true
   },
   "outputs": [],
   "source": [
    "layout_info = get_layout_info(layout_path)"
   ]
  },
  {
   "cell_type": "code",
   "execution_count": 9,
   "metadata": {
    "collapsed": true
   },
   "outputs": [],
   "source": [
    "path = ssc_path"
   ]
  },
  {
   "cell_type": "code",
   "execution_count": 17,
   "metadata": {
    "collapsed": true
   },
   "outputs": [],
   "source": [
    "# [a] -> Int -> [a]\n",
    "def take(x,n):\n",
    "    \"\"\" Return first n elements of x. \"\"\"\n",
    "    return x[:n]\n",
    "\n",
    "def drop(x,n):\n",
    "    \"\"\" Drop first n elements of x, and return rest. \"\"\"\n",
    "    return x[n:]"
   ]
  },
  {
   "cell_type": "code",
   "execution_count": 22,
   "metadata": {
    "collapsed": true
   },
   "outputs": [],
   "source": [
    "# [a] -> Int -> ([a],[a])\n",
    "def bisect_list(xs,i):\n",
    "    \"\"\" Split xs into a pair of lists at element i, and return pair as tuple. \"\"\"\n",
    "    return (take(xs,i),drop(xs,i))"
   ]
  },
  {
   "cell_type": "code",
   "execution_count": 31,
   "metadata": {
    "collapsed": false
   },
   "outputs": [],
   "source": [
    "header_lines = thread_first(\n",
    "    path,\n",
    "    from_file,\n",
    "    lambda s: s.replace('\\r',''),\n",
    "    lambda s: s.split('\\n'),\n",
    "    lambda lines: take(lines,5))"
   ]
  },
  {
   "cell_type": "code",
   "execution_count": 32,
   "metadata": {
    "collapsed": false
   },
   "outputs": [
    {
     "data": {
      "text/plain": [
       "[['ATF', '1.0'],\n",
       " ['1', '55'],\n",
       " ['Calculation applied: None'],\n",
       " ['\"Name [Measurement Set Info]=ssC HS JS (60X) 07.20.2015\"'],\n",
       " ['\"Well Name\"',\n",
       "  '\"Site ID\"',\n",
       "  '\"Cell ID\"',\n",
       "  '\"Plate ID\"',\n",
       "  '\"MEASUREMENT SET ID\"',\n",
       "  '\"Cell: ObjectID (ssC HS JS (60X) 07.20.2015)\"',\n",
       "  '\"Cell: # of FITC-TxRed all spots (ssC HS JS (60X) 07.20.2015)\"',\n",
       "  '\"Cell: FITC-TxRed_all_area_avg (ssC HS JS (60X) 07.20.2015)\"',\n",
       "  '\"Cell: NucArea_Avg (ssC HS JS (60X) 07.20.2015)\"',\n",
       "  '\"Cell: NucIntegrated Intensity_Avg (ssC HS JS (60X) 07.20.2015)\"',\n",
       "  '\"Cell: FITC-TxRed_coloc_area_avg (ssC HS JS (60X) 07.20.2015)\"',\n",
       "  '\"Cell: # of FITC-TxRed in ColocSpots (ssC HS JS (60X) 07.20.2015)\"',\n",
       "  '\"Cell: FITC_coloc_area_avg (ssC HS JS (60X) 07.20.2015)\"',\n",
       "  '\"Cell: # of FITC in ColocSpots (ssC HS JS (60X) 07.20.2015)\"',\n",
       "  '\"Cell: FITC-TxRed_all_area_sum (ssC HS JS (60X) 07.20.2015)\"',\n",
       "  '\"Cell: FITC-TxRed_coloc_area_sum (ssC HS JS (60X) 07.20.2015)\"',\n",
       "  '\"Cell: TxRed_coloc_area_avg (ssC HS JS (60X) 07.20.2015)\"',\n",
       "  '\"Cell: TxRed_coloc_area_sum (ssC HS JS (60X) 07.20.2015)\"',\n",
       "  '\"Cell: # of TxRed in ColocSpots (ssC HS JS (60X) 07.20.2015)\"',\n",
       "  '\"Cell: FITC_all_area_avg (ssC HS JS (60X) 07.20.2015)\"',\n",
       "  '\"Cell: FITC_all_area_sum (ssC HS JS (60X) 07.20.2015)\"',\n",
       "  '\"Cell: FITC_all_IntIntensity_avg (ssC HS JS (60X) 07.20.2015)\"',\n",
       "  '\"Cell: # of FITC spots (ssC HS JS (60X) 07.20.2015)\"',\n",
       "  '\"Cell: TxRed_all_area_avg (ssC HS JS (60X) 07.20.2015)\"',\n",
       "  '\"Cell: TxRed_all_IntIntensity_avg (ssC HS JS (60X) 07.20.2015)\"',\n",
       "  '\"Cell: # of TxRed spots (ssC HS JS (60X) 07.20.2015)\"',\n",
       "  '\"Cell: TxRed_all_area_sum (ssC HS JS (60X) 07.20.2015)\"',\n",
       "  '\"Cell: FITC_all_IntIntensity_sum (ssC HS JS (60X) 07.20.2015)\"',\n",
       "  '\"Cell: TxRed_all_IntIntensity_sum (ssC HS JS (60X) 07.20.2015)\"',\n",
       "  '\"Cell: ColocSpots_area_avg (ssC HS JS (60X) 07.20.2015)\"',\n",
       "  '\"Cell: ColocSpots_area_sum (ssC HS JS (60X) 07.20.2015)\"',\n",
       "  '\"Cell: # of Coloc Spots (ssC HS JS (60X) 07.20.2015)\"',\n",
       "  '\"Cell: NucIntensity_Avg (ssC HS JS (60X) 07.20.2015)\"',\n",
       "  '\"Cell: FITC_coloc_area_sum (ssC HS JS (60X) 07.20.2015)\"',\n",
       "  '\"Cell: FITC_coloc_IntIntensity_avg (ssC HS JS (60X) 07.20.2015)\"',\n",
       "  '\"Cell: FITC_coloc_IntIntensity_sum (ssC HS JS (60X) 07.20.2015)\"',\n",
       "  '\"Cell: FITC_coloc_Intensity_avg (ssC HS JS (60X) 07.20.2015)\"',\n",
       "  '\"Cell: FITC_coloc_Intensity_sum (ssC HS JS (60X) 07.20.2015)\"',\n",
       "  '\"Cell: TxRed_coloc_IntIntensity_avg (ssC HS JS (60X) 07.20.2015)\"',\n",
       "  '\"Cell: TxRed_coloc_IntIntensity_sum (ssC HS JS (60X) 07.20.2015)\"',\n",
       "  '\"Cell: TxRed_coloc_Intensity_avg (ssC HS JS (60X) 07.20.2015)\"',\n",
       "  '\"Cell: TxRed_coloc_Intensity_sum (ssC HS JS (60X) 07.20.2015)\"',\n",
       "  '\"Cell: FITC_all_Intensity_avg (ssC HS JS (60X) 07.20.2015)\"',\n",
       "  '\"Cell: FITC_all_Intensity_sum (ssC HS JS (60X) 07.20.2015)\"',\n",
       "  '\"Cell: TxRed_all_Intensity_avg (ssC HS JS (60X) 07.20.2015)\"',\n",
       "  '\"Cell: TxRed_all_Intensity_sum (ssC HS JS (60X) 07.20.2015)\"',\n",
       "  '\"Laser focus score (ssC HS JS (60X) 07.20.2015)\"',\n",
       "  '\"Cell Count (ssC HS JS (60X) 07.20.2015)\"',\n",
       "  '\"# of FITC-TxRed all spots.Total (ssC HS JS (60X) 07.20.2015)\"',\n",
       "  '\"# of FITC-TxRed in ColocSpots.Total (ssC HS JS (60X) 07.20.2015)\"',\n",
       "  '\"# of FITC in ColocSpots.Total (ssC HS JS (60X) 07.20.2015)\"',\n",
       "  '\"# of TxRed in ColocSpots.Total (ssC HS JS (60X) 07.20.2015)\"',\n",
       "  '\"# of FITC spots.Total (ssC HS JS (60X) 07.20.2015)\"',\n",
       "  '\"# of TxRed spots.Total (ssC HS JS (60X) 07.20.2015)\"',\n",
       "  '\"# of Coloc Spots.Total (ssC HS JS (60X) 07.20.2015)\"']]"
      ]
     },
     "execution_count": 32,
     "metadata": {},
     "output_type": "execute_result"
    }
   ],
   "source": [
    "map(lambda line: line.split('\\t'), header_lines)"
   ]
  },
  {
   "cell_type": "code",
   "execution_count": null,
   "metadata": {
    "collapsed": true
   },
   "outputs": [],
   "source": [
    "# String -> (DataFrame,DataFrame)\n",
    "def get_header_and_data(path):\n",
    "    \"\"\" Given path to data, return a tuple of dataframes.\n",
    "        The first contains header information and the second holds rest of data. \"\"\"\n",
    "    \n",
    "    \n",
    "    "
   ]
  },
  {
   "cell_type": "code",
   "execution_count": 41,
   "metadata": {
    "collapsed": false
   },
   "outputs": [],
   "source": [
    "my_ssc_data = pd.read_csv(ssc_path,delimiter='\\t',skiprows = 4)"
   ]
  },
  {
   "cell_type": "code",
   "execution_count": 5,
   "metadata": {
    "collapsed": false
   },
   "outputs": [],
   "source": [
    "ssc_data = get_cell_data(assoc(cell_config,'path',ssc_path))"
   ]
  },
  {
   "cell_type": "code",
   "execution_count": 40,
   "metadata": {
    "collapsed": false
   },
   "outputs": [
    {
     "ename": "NameError",
     "evalue": "name 'ssc_data' is not defined",
     "output_type": "error",
     "traceback": [
      "\u001b[1;31m---------------------------------------------------------------------------\u001b[0m",
      "\u001b[1;31mNameError\u001b[0m                                 Traceback (most recent call last)",
      "\u001b[1;32m<ipython-input-40-19ee9c63bb2e>\u001b[0m in \u001b[0;36m<module>\u001b[1;34m()\u001b[0m\n\u001b[0;32m      1\u001b[0m \u001b[1;31m# apb_data.head()\u001b[0m\u001b[1;33m\u001b[0m\u001b[1;33m\u001b[0m\u001b[0m\n\u001b[1;32m----> 2\u001b[1;33m \u001b[0mssc_data\u001b[0m\u001b[1;33m.\u001b[0m\u001b[0mhead\u001b[0m\u001b[1;33m(\u001b[0m\u001b[1;33m)\u001b[0m\u001b[1;33m.\u001b[0m\u001b[0mcolumns\u001b[0m\u001b[1;33m\u001b[0m\u001b[0m\n\u001b[0m",
      "\u001b[1;31mNameError\u001b[0m: name 'ssc_data' is not defined"
     ]
    }
   ],
   "source": [
    "# apb_data.head()\n",
    "ssc_data.head().columns"
   ]
  },
  {
   "cell_type": "code",
   "execution_count": 6,
   "metadata": {
    "collapsed": true
   },
   "outputs": [],
   "source": [
    "# apb_conditions = pd.DataFrame()\n",
    "ssc_conditions = pd.DataFrame()"
   ]
  },
  {
   "cell_type": "code",
   "execution_count": 7,
   "metadata": {
    "collapsed": false
   },
   "outputs": [],
   "source": [
    "# apb_conditions['Condition'] = \\\n",
    "#     'APB' + ' ' + \\\n",
    "#     layout_info['Concentration'].map(str) + ' ' + \\\n",
    "#     layout_info['Units (concentration)'] + ' ' + \\\n",
    "#     layout_info['Contents'] + ' ' + \\\n",
    "#     layout_info['Cell Type']\n",
    "# apb_conditions['Well Name'] = layout_info['Well Name']\n",
    "ssc_conditions['Condition'] = \\\n",
    "    'ssC' + ' ' + \\\n",
    "    layout_info['Concentration'].map(str) + ' ' + \\\n",
    "    layout_info['Units (concentration)'] + ' ' + \\\n",
    "    layout_info['Contents'] + ' ' + \\\n",
    "    layout_info['Cell Type']\n",
    "ssc_conditions['Well Name'] = layout_info['Well Name']"
   ]
  },
  {
   "cell_type": "code",
   "execution_count": 8,
   "metadata": {
    "collapsed": false
   },
   "outputs": [],
   "source": [
    "# final_apb_data = pd.merge(apb_data,apb_conditions,on='Well Name')\n",
    "final_ssc_data = pd.merge(ssc_data,ssc_conditions,on='Well Name')"
   ]
  },
  {
   "cell_type": "code",
   "execution_count": 9,
   "metadata": {
    "collapsed": false
   },
   "outputs": [],
   "source": [
    "# final_apb_data['Plate ID'] = generate_sid()\n",
    "final_ssc_data['Plate ID'] = generate_sid()\n",
    "# final_apb_data.head()"
   ]
  },
  {
   "cell_type": "code",
   "execution_count": 10,
   "metadata": {
    "collapsed": true
   },
   "outputs": [],
   "source": [
    "# final_apb_data.to_csv(apb_save_path,index=False)\n",
    "final_ssc_data.to_csv(ssc_save_path,index=False)"
   ]
  },
  {
   "cell_type": "code",
   "execution_count": null,
   "metadata": {
    "collapsed": true
   },
   "outputs": [],
   "source": []
  }
 ],
 "metadata": {
  "kernelspec": {
   "display_name": "Python 2",
   "language": "python",
   "name": "python2"
  },
  "language_info": {
   "codemirror_mode": {
    "name": "ipython",
    "version": 2
   },
   "file_extension": ".py",
   "mimetype": "text/x-python",
   "name": "python",
   "nbconvert_exporter": "python",
   "pygments_lexer": "ipython2",
   "version": "2.7.6"
  }
 },
 "nbformat": 4,
 "nbformat_minor": 0
}
