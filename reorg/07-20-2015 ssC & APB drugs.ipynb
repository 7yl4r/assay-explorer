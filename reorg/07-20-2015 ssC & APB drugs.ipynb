{
 "cells": [
  {
   "cell_type": "code",
   "execution_count": 1,
   "metadata": {
    "collapsed": true
   },
   "outputs": [],
   "source": [
    "from utils import \\\n",
    "    get_layout_info\n",
    "    \n",
    "import pandas as pd\n",
    "from pandas import DataFrame as df\n",
    "from toolz import assoc\n",
    "from raw import create_well_df,\\\n",
    "                generate_sid,\\\n",
    "                get_cell_data,\\\n",
    "                cell_config"
   ]
  },
  {
   "cell_type": "code",
   "execution_count": 2,
   "metadata": {
    "collapsed": true
   },
   "outputs": [],
   "source": [
    "layout_path = '/notebooks/moldev-data/original/07-20-2015/plate-layout.csv'\n",
    "apb_path = '/notebooks/moldev-data/original/07-20-2015/APB HS JS 60X 07.22.2015 ML216 MMC HU TS.txt'\n",
    "ssc_path = '/notebooks/moldev-data/original/07-20-2015/ssC HS JS 07.20.2015 ML216 MMC HU TS.txt'"
   ]
  },
  {
   "cell_type": "code",
   "execution_count": 3,
   "metadata": {
    "collapsed": true
   },
   "outputs": [],
   "source": [
    "apb_save_path = '/notebooks/moldev-data/analyzed/07-20-2015/APB-cells.csv'\n",
    "ssc_save_path = '/notebooks/moldev-data/analyzed/07-20-2015/ssC-cells.csv'"
   ]
  },
  {
   "cell_type": "code",
   "execution_count": 4,
   "metadata": {
    "collapsed": true
   },
   "outputs": [],
   "source": [
    "layout_info = get_layout_info(layout_path)"
   ]
  },
  {
   "cell_type": "code",
   "execution_count": 5,
   "metadata": {
    "collapsed": false
   },
   "outputs": [],
   "source": [
    "\n",
    "# apb_data = get_cell_data(assoc(cell_config,'path',apb_path))\n",
    "ssc_data = get_cell_data(assoc(cell_config,'path',ssc_path))"
   ]
  },
  {
   "cell_type": "code",
   "execution_count": null,
   "metadata": {
    "collapsed": false
   },
   "outputs": [],
   "source": [
    "# apb_data.head()\n",
    "ssc_data.head().columns"
   ]
  },
  {
   "cell_type": "code",
   "execution_count": 6,
   "metadata": {
    "collapsed": true
   },
   "outputs": [],
   "source": [
    "# apb_conditions = pd.DataFrame()\n",
    "ssc_conditions = pd.DataFrame()"
   ]
  },
  {
   "cell_type": "code",
   "execution_count": 7,
   "metadata": {
    "collapsed": false
   },
   "outputs": [],
   "source": [
    "# apb_conditions['Condition'] = \\\n",
    "#     'APB' + ' ' + \\\n",
    "#     layout_info['Concentration'].map(str) + ' ' + \\\n",
    "#     layout_info['Units (concentration)'] + ' ' + \\\n",
    "#     layout_info['Contents'] + ' ' + \\\n",
    "#     layout_info['Cell Type']\n",
    "# apb_conditions['Well Name'] = layout_info['Well Name']\n",
    "ssc_conditions['Condition'] = \\\n",
    "    'ssC' + ' ' + \\\n",
    "    layout_info['Concentration'].map(str) + ' ' + \\\n",
    "    layout_info['Units (concentration)'] + ' ' + \\\n",
    "    layout_info['Contents'] + ' ' + \\\n",
    "    layout_info['Cell Type']\n",
    "ssc_conditions['Well Name'] = layout_info['Well Name']"
   ]
  },
  {
   "cell_type": "code",
   "execution_count": 8,
   "metadata": {
    "collapsed": false
   },
   "outputs": [],
   "source": [
    "# final_apb_data = pd.merge(apb_data,apb_conditions,on='Well Name')\n",
    "final_ssc_data = pd.merge(ssc_data,ssc_conditions,on='Well Name')"
   ]
  },
  {
   "cell_type": "code",
   "execution_count": 9,
   "metadata": {
    "collapsed": false
   },
   "outputs": [],
   "source": [
    "# final_apb_data['Plate ID'] = generate_sid()\n",
    "final_ssc_data['Plate ID'] = generate_sid()\n",
    "# final_apb_data.head()"
   ]
  },
  {
   "cell_type": "code",
   "execution_count": 10,
   "metadata": {
    "collapsed": true
   },
   "outputs": [],
   "source": [
    "# final_apb_data.to_csv(apb_save_path,index=False)\n",
    "final_ssc_data.to_csv(ssc_save_path,index=False)"
   ]
  },
  {
   "cell_type": "code",
   "execution_count": null,
   "metadata": {
    "collapsed": true
   },
   "outputs": [],
   "source": []
  }
 ],
 "metadata": {
  "kernelspec": {
   "display_name": "Python 2",
   "language": "python",
   "name": "python2"
  },
  "language_info": {
   "codemirror_mode": {
    "name": "ipython",
    "version": 2
   },
   "file_extension": ".py",
   "mimetype": "text/x-python",
   "name": "python",
   "nbconvert_exporter": "python",
   "pygments_lexer": "ipython2",
   "version": "2.7.6"
  }
 },
 "nbformat": 4,
 "nbformat_minor": 0
}
