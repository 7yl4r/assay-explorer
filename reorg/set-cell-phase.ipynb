{
 "cells": [
  {
   "cell_type": "code",
   "execution_count": 27,
   "metadata": {
    "collapsed": true
   },
   "outputs": [],
   "source": [
    "# TODO: investigate Unnamed column!"
   ]
  },
  {
   "cell_type": "code",
   "execution_count": 28,
   "metadata": {
    "collapsed": false
   },
   "outputs": [],
   "source": [
    "import json\n",
    "import os.path\n",
    "import pandas as pd\n",
    "import numpy as np\n",
    "import matplotlib.pyplot as plt\n",
    "import seaborn.apionly as sns\n",
    "from scipy.stats.kde import gaussian_kde\n",
    "import scipy.signal as signal\n",
    "%matplotlib inline\n",
    "from IPython.html import widgets\n",
    "from IPython.html.widgets import interact,fixed\n",
    "from IPython.display import clear_output\n",
    "\n",
    "from utils import \\\n",
    "    maybe_get_model,\\\n",
    "    persist_widget_value,\\\n",
    "    snd,\\\n",
    "    from_file,\\\n",
    "    to_file,\\\n",
    "    format_timestamp\n",
    "    \n",
    "from scipy.optimize import \\\n",
    "    curve_fit    \n",
    "    \n",
    "from toolz import \\\n",
    "    curry,\\\n",
    "    thread_last\n",
    "    \n",
    "from collections import \\\n",
    "    OrderedDict"
   ]
  },
  {
   "cell_type": "code",
   "execution_count": 29,
   "metadata": {
    "collapsed": true
   },
   "outputs": [],
   "source": [
    "threshold_filepath = '/notebooks/tmp/temp_thresholds.json'\n",
    "all_thresholds_filepath = '/notebooks/tmp/cell_phase_thresholds.csv'\n",
    "model_filepath = '/notebooks/tmp/threshold-ui-model.json'\n",
    "uiget = maybe_get_model(model_filepath) # key -> value\n",
    "uiset = persist_widget_value(model_filepath) # widget -> key"
   ]
  },
  {
   "cell_type": "code",
   "execution_count": 30,
   "metadata": {
    "collapsed": false
   },
   "outputs": [],
   "source": [
    "# String -> String -> Float -> SideEffect[File]\n",
    "def save_temp_threshold(condition,threshold):\n",
    "    \"\"\" Save threshold (for specific groups) to file.\n",
    "        This temp file will be updated as the user uses the widgets below. \n",
    "        \n",
    "        This file will then be used to join against the main data and saved. \"\"\"\n",
    "    \n",
    "    data = {'Condition': condition,\n",
    "            'Threshold': threshold}\n",
    "    to_file(threshold_filepath,json.dumps(data))"
   ]
  },
  {
   "cell_type": "code",
   "execution_count": 31,
   "metadata": {
    "collapsed": false
   },
   "outputs": [],
   "source": [
    "execfile('/notebooks/assay-explorer/src/display_utils.py')"
   ]
  },
  {
   "cell_type": "code",
   "execution_count": 32,
   "metadata": {
    "collapsed": false
   },
   "outputs": [],
   "source": [
    "# Read data from primary datastore\n",
    "data = pd.read_csv('/notebooks/moldev-data/db/db.csv')"
   ]
  },
  {
   "cell_type": "code",
   "execution_count": 33,
   "metadata": {
    "collapsed": false
   },
   "outputs": [],
   "source": [
    "# Prepare upload time options to select from\n",
    "upload_timestamps = sorted(data['Upload Timestamp'].unique().tolist(), reverse = True)\n",
    "formatted_upload_timestamps = map(format_timestamp,upload_timestamps)\n",
    "upload_ts_dict = thread_last(\n",
    "    [formatted_upload_timestamps,upload_timestamps],\n",
    "    (apply,zip),\n",
    "    OrderedDict)"
   ]
  },
  {
   "cell_type": "code",
   "execution_count": 34,
   "metadata": {
    "collapsed": false
   },
   "outputs": [],
   "source": [
    "selected_upload = widgets.Dropdown(\n",
    "    options=upload_ts_dict,\n",
    "    value = uiget('CellPhaseThresholds:UploadTimestamp',upload_timestamps[0]))\n",
    "uiset(selected_upload,'CellPhaseThresholds:UploadTimestamp')"
   ]
  },
  {
   "cell_type": "markdown",
   "metadata": {},
   "source": [
    "# Select dataset\n",
    "Click `Cell > Run All` in the menu above to update the dataset shown."
   ]
  },
  {
   "cell_type": "code",
   "execution_count": 35,
   "metadata": {
    "collapsed": false,
    "scrolled": false
   },
   "outputs": [],
   "source": [
    "selected_upload"
   ]
  },
  {
   "cell_type": "code",
   "execution_count": 36,
   "metadata": {
    "collapsed": true
   },
   "outputs": [],
   "source": [
    "cells = data[data['Upload Timestamp'] == selected_upload.value]\n",
    "unselected_data = data[data['Upload Timestamp'] != selected_upload.value]"
   ]
  },
  {
   "cell_type": "code",
   "execution_count": 37,
   "metadata": {
    "collapsed": true
   },
   "outputs": [],
   "source": [
    "# [Float] -> Float\n",
    "def get_threshold(intensity,bw = 0.35):\n",
    "    \"\"\" Given an array of intensities, find the intensity \n",
    "        threshold separating the G1 peak from the S/G2 peak. \"\"\"\n",
    "    kde_fit = gaussian_kde(intensity,bw)\n",
    "    x = np.linspace(min(intensity),\n",
    "                    max(intensity),\n",
    "                    1000)\n",
    "    y = kde_fit(x)\n",
    "    ddx = np.diff(np.diff(y)) # second derivative of fit\n",
    "    peak = np.argmin(ddx) # most frequent intensity \n",
    "    index = min([yi for yi in signal.argrelmax(ddx)[0] if yi > peak])\n",
    "    threshold = x[index]\n",
    "    return threshold"
   ]
  },
  {
   "cell_type": "code",
   "execution_count": 38,
   "metadata": {
    "collapsed": true
   },
   "outputs": [],
   "source": [
    "# Float -> Float -> Float -> Float -> Float\n",
    "def gaussian(x,a,m,sd):\n",
    "    \"\"\" Return value of gaussian at value x for \n",
    "        given amplitude, mean, and standard deviation. \"\"\"\n",
    "    return a * np.exp(-((x-m)**2.0)/(2.0*sd**2.0))"
   ]
  },
  {
   "cell_type": "code",
   "execution_count": 39,
   "metadata": {
    "collapsed": true
   },
   "outputs": [],
   "source": [
    "def constrained_double_gaussian(x,a1,m1,sd1,a2,sd2):\n",
    "    \"\"\" Return value of x at for two summed gaussians. \n",
    "        The second gaussian has a mean twice that of the first. \"\"\"\n",
    "    g1 = gaussian(x,a1,m1,sd1)\n",
    "    g2 = gaussian(x,a2,2.0*m1,sd2)\n",
    "    return g1 + g2"
   ]
  },
  {
   "cell_type": "code",
   "execution_count": 40,
   "metadata": {
    "collapsed": true
   },
   "outputs": [],
   "source": [
    "# x = np.arange(-10,10,0.05)\n",
    "# y = (lambda xi: gaussian(0.5,-5,np.sqrt(0.3),xi))(x)\n",
    "# y2 = (lambda xi: constrained_double_gaussian(xi,0.5,1,0.3,0.3,0.3))(x)\n",
    "# popt = curve_fit(constrained_double_gaussian,x,y2,[0.5,1,0.3,0.35,0.3])\n",
    "# popt[0]\n",
    "# yfit = (lambda xi: constrained_double_gaussian(xi,*popt[0]))(x)\n",
    "# plt.plot(x,y2)\n",
    "# plt.plot(x,yfit)"
   ]
  },
  {
   "cell_type": "code",
   "execution_count": 41,
   "metadata": {
    "collapsed": true
   },
   "outputs": [],
   "source": [
    "# [Num] -> Float -> SideEffect[Plot]\n",
    "def plot_gaussian_kde(X,bw,color='k',alpha=1):\n",
    "    kde_fit = gaussian_kde(X,bw)\n",
    "    x = np.linspace(min(X),\n",
    "                    max(X),\n",
    "                    1000)\n",
    "    y = kde_fit(x)\n",
    "    \n",
    "    # Try fitting double gaussian\n",
    "#     popt,_ = curve_fit(constrained_double_gaussian,x,y,[4.2e-8,0.2e8,1.0e7,2e-8,1.0e7])\n",
    "# #     popt,_ = curve_fit(gaussian,x,y,[4.2e-8,0.2e8,1.0e7])\n",
    "#     yfit = (lambda xi: constrained_double_gaussian(xi,*popt))(x)\n",
    "#     yfit = (lambda xi: gaussian(xi,*popt))(x)\n",
    "    \n",
    "#     print popt\n",
    "    plt.plot(x,y,color=color,alpha = alpha)\n",
    "#     plt.plot(x,yfit)"
   ]
  },
  {
   "cell_type": "code",
   "execution_count": 42,
   "metadata": {
    "collapsed": false
   },
   "outputs": [],
   "source": [
    "def determine_thresholding_parameters \\\n",
    "(data,display_group,edit_groups,smoothness,manually_set_threshold,show):\n",
    "    bw = smoothness\n",
    "    method = show\n",
    "    intensities = data[data['Condition'] == display_group]['NucIntegrated Intensity_Avg']\n",
    "    \n",
    "    plot_gaussian_kde(intensities,bw,color='r')\n",
    "    plt.title(display_group)\n",
    "    plt.xlim(0,0.8e8)\n",
    "    plt.ylim(0,1.5e-7)\n",
    "    \n",
    "    # Plot thresholds\n",
    "    auto_threshold = get_threshold(intensities,bw)\n",
    "#     threshold_data = pd.read_csv(threshold_filepath)\n",
    "#     saved_threshold = threshold_data[threshold_data['Condition'] == condition]['Threshold'].values.tolist()[0]\n",
    "    \n",
    "    lw = 3\n",
    "    alpha = 0.3\n",
    "    \n",
    "    if method == 'Auto':\n",
    "        plt.plot(\n",
    "            [auto_threshold,auto_threshold],\n",
    "            plt.gca().get_ylim(),\n",
    "            color = 'r',\n",
    "            linewidth = lw,\n",
    "            alpha = alpha,\n",
    "            label='Auto')\n",
    "        \n",
    "        save_temp_threshold(\n",
    "            edit_groups,\n",
    "            auto_threshold)\n",
    "        \n",
    "        plt.xlabel('NucIntegrated Intensity_Avg (threshold = {})'.format(auto_threshold))\n",
    "        \n",
    "    elif method == 'Manual':\n",
    "        plt.plot(\n",
    "            [manually_set_threshold,manually_set_threshold],\n",
    "            plt.gca().get_ylim(),\n",
    "            color='g',\n",
    "            linewidth = lw,\n",
    "            alpha = alpha,\n",
    "            label='Manual')\n",
    "        \n",
    "        save_temp_threshold(\n",
    "            edit_groups,\n",
    "            manually_set_threshold)\n",
    "        \n",
    "        plt.xlabel('NucIntegrated Intensity_Avg (threshold = {})'.format(manually_set_threshold))\n",
    "        \n",
    "    plt.legend()   "
   ]
  },
  {
   "cell_type": "markdown",
   "metadata": {},
   "source": [
    "# Cell Phase Separation"
   ]
  },
  {
   "cell_type": "code",
   "execution_count": 43,
   "metadata": {
    "collapsed": false
   },
   "outputs": [
    {
     "data": {
      "image/png": "[encoded data removed]",
      "text/plain": [
       "<matplotlib.figure.Figure at 0x7f1790b88ad0>"
      ]
     },
     "metadata": {},
     "output_type": "display_data"
    }
   ],
   "source": [
    "bw = {'min':0.025, 'max': 0.8, 'step':0.025}\n",
    "intensities = cells['NucIntegrated Intensity_Avg']\n",
    "thresh = {'min': intensities.min(),\n",
    "          'max': intensities.max(),\n",
    "          'step': (intensities.max() - intensities.min())/200,\n",
    "          'init': intensities.median()}\n",
    "\n",
    "conditions = cells.sort(['Assay','Cell Type','Contents','Concentration'])['Condition'].unique().tolist()\n",
    "\n",
    "# Initialize save file with zeros\n",
    "init_thresholds = pd.DataFrame({'Condition': conditions, 'Threshold': 0})\n",
    "init_thresholds.to_csv(all_thresholds_filepath, index = False)\n",
    "\n",
    "interact(\n",
    "    determine_thresholding_parameters,\n",
    "    \n",
    "    data = fixed(cells),\n",
    "    \n",
    "    display_group = widgets.Dropdown(\n",
    "        options = conditions),\n",
    "    \n",
    "    edit_groups = widgets.SelectMultiple(\n",
    "        options = conditions),\n",
    "    \n",
    "    smoothness = widgets.FloatSlider(\n",
    "        min = bw['min'], \n",
    "        max = bw['max'], \n",
    "        step = bw['step']),\n",
    "    \n",
    "    manually_set_threshold = widgets.FloatSlider(\n",
    "        min = thresh['min'], \n",
    "        max = thresh['max'], \n",
    "        step = thresh['step'],\n",
    "        value = thresh['init']),\n",
    "    \n",
    "    show = widgets.ToggleButtons(\n",
    "        options=['Manual','Auto']));\n"
   ]
  },
  {
   "cell_type": "code",
   "execution_count": 44,
   "metadata": {
    "collapsed": false
   },
   "outputs": [],
   "source": [
    "def apply_changes_handler(_):\n",
    "    \"\"\" Grab data from intermediate JSON file. Update CSV with thresholds for all groups. \"\"\"\n",
    "    temp_threshold = json.loads(from_file(threshold_filepath))\n",
    "    all_thresholds = pd.read_csv(all_thresholds_filepath)\n",
    "    all_thresholds = all_thresholds.set_index('Condition')\n",
    "    \n",
    "    conditions = temp_threshold['Condition']\n",
    "    threshold = temp_threshold['Threshold']\n",
    "    \n",
    "    all_thresholds.loc[conditions] = threshold\n",
    "    all_thresholds = all_thresholds.reset_index()\n",
    "    all_thresholds.to_csv(all_thresholds_filepath, index=False)\n",
    "    \n",
    "    # plot current thresholds\n",
    "    clear_output()\n",
    "    all_thresholds.plot(kind = 'bar', x = 'Condition', y = 'Threshold')\n",
    "    plt.xticks(rotation = 45, ha = 'right')\n",
    "    plt.gcf().set_size_inches(14, 3)\n",
    "    plt.title('Current Thresholds')\n",
    "    \n",
    "apply_changes_button = widgets.Button(description = 'Apply Changes')    \n",
    "apply_changes_button.on_click(apply_changes_handler)"
   ]
  },
  {
   "cell_type": "markdown",
   "metadata": {},
   "source": [
    "Every time you set a threshold for some conditions above, you can apply your changes here. When you're done with everything, click `Save Changes to Database`. (Saving to database takes around 15 seconds...)"
   ]
  },
  {
   "cell_type": "code",
   "execution_count": 45,
   "metadata": {
    "collapsed": false
   },
   "outputs": [],
   "source": [
    "apply_changes_button"
   ]
  },
  {
   "cell_type": "code",
   "execution_count": 46,
   "metadata": {
    "collapsed": true
   },
   "outputs": [],
   "source": [
    "def save_to_db_handler(_):\n",
    "    \"\"\" Join thresholds onto data, set phase, and resave database. \"\"\"\n",
    "    all_thresholds = pd.read_csv(all_thresholds_filepath)\n",
    "    \n",
    "    if 'Threshold' in cells.columns.tolist():\n",
    "        mycells = cells.drop('Threshold', axis = 1)\n",
    "    else:\n",
    "        mycells = cells\n",
    "    \n",
    "    if 'Cell Phase' in cells.columns.tolist():\n",
    "        mycells = mycells.drop('Cell Phase', axis = 1)    \n",
    "    \n",
    "    \n",
    "    updated_cells = pd.merge(mycells, all_thresholds, on = 'Condition')\n",
    "    \n",
    "    updated_cells['Cell Phase'] = updated_cells.apply(\n",
    "        lambda d: 'G1' if d['NucIntegrated Intensity_Avg'] < d['Threshold'] else 'S/G2',\n",
    "        axis = 1)\n",
    "    \n",
    "    whole_db = pd.concat([updated_cells, unselected_data])\n",
    "    whole_db.to_csv('/notebooks/moldev-data/db/db.csv', index = False)\n",
    "    \n",
    "    print \"Just saved to database!\"\n",
    "\n",
    "save_to_db_button = widgets.Button(description='Save Changes to Database')    \n",
    "save_to_db_button.on_click(save_to_db_handler)"
   ]
  },
  {
   "cell_type": "code",
   "execution_count": 47,
   "metadata": {
    "collapsed": false
   },
   "outputs": [],
   "source": [
    "save_to_db_button"
   ]
  },
  {
   "cell_type": "code",
   "execution_count": 48,
   "metadata": {
    "collapsed": true
   },
   "outputs": [],
   "source": [
    "# def save_my_threshold(_):\n",
    "#     clear_output()\n",
    "#     save_threshold(threshold_filepath)\n",
    "#     threshold_data = pd.read_csv(threshold_filepath)\n",
    "#     threshold_data['Cell Type'] = threshold_data['Condition'].map(lambda x: x.split(' ')[-1]) \n",
    "#     threshold_data.sort('Cell Type').plot(kind='bar',x='Condition',y='Threshold')\n",
    "# #     display(threshold_data.sort('Cell Type')[['Condition','Threshold']])\n",
    "#     plt.xticks(rotation=45,ha='right')\n",
    "#     plt.gcf().set_size_inches(8, 3)\n",
    "#     plt.title('Thresholds for all conditions')\n",
    "# save_button.on_click(save_my_threshold)\n"
   ]
  },
  {
   "cell_type": "code",
   "execution_count": 49,
   "metadata": {
    "collapsed": false
   },
   "outputs": [],
   "source": [
    "def get_get_cell_phase_counts(data):\n",
    "    condition = data['Condition'].tolist()[0]\n",
    "    n_G1 = len(data[data['Cell Phase'] == 'G1'])\n",
    "    n_G2 = len(data[data['Cell Phase'] == 'S/G2'])\n",
    "    return {'Condition': condition,\n",
    "            'Cell Type': condition.split(' ')[-1],\n",
    "            '# G1 Cells': n_G1,\n",
    "            '# S/G2 Cells': n_G2,\n",
    "            'Fraction G1 Cells': float(n_G1) / (n_G1 + n_G2)}"
   ]
  },
  {
   "cell_type": "code",
   "execution_count": 50,
   "metadata": {
    "collapsed": false
   },
   "outputs": [],
   "source": [
    "def get_cell_phase_fractions(threshold_filepath,data):\n",
    "    threshold_data = pd.read_csv(threshold_filepath)\n",
    "    threshold_data['Cell Type'] = threshold_data['Condition'].map(lambda x: x.split(' ')[-1]) \n",
    "    threshold_data = threshold_data.sort('Cell Type')\n",
    "    new_data = pd.merge(data,threshold_data,on='Condition')\n",
    "    new_data['Cell Phase'] = new_data.apply(\n",
    "        lambda d: 'G1' if d['NucIntegrated Intensity_Avg'] < d['Threshold'] else 'S/G2',\n",
    "        axis = 1)\n",
    "    condition_groups = new_data.groupby('Condition')\n",
    "    return thread_first(\n",
    "        new_data.groupby('Condition'),\n",
    "        map(snd),\n",
    "        map(get_get_cell_phase_counts),\n",
    "        pd.DataFrame)"
   ]
  },
  {
   "cell_type": "code",
   "execution_count": 51,
   "metadata": {
    "collapsed": true
   },
   "outputs": [],
   "source": [
    "def plot_cell_phase_fractions(threshold_filepath,data):\n",
    "    fractions = get_cell_phase_fractions(threshold_filepath,data)\n",
    "    fractions.sort('Cell Type').plot(kind = 'bar', x = 'Condition', y = 'Fraction G1 Cells')\n",
    "    plt.xticks(rotation=45,ha='right')\n",
    "    plt.gcf().set_size_inches(8, 3)\n",
    "    plt.title('Cell Phase Fractions')"
   ]
  },
  {
   "cell_type": "code",
   "execution_count": 52,
   "metadata": {
    "collapsed": false
   },
   "outputs": [],
   "source": [
    "# plot_cell_phase_fractions(threshold_filepath,cells);"
   ]
  },
  {
   "cell_type": "code",
   "execution_count": null,
   "metadata": {
    "collapsed": true
   },
   "outputs": [],
   "source": []
  }
 ],
 "metadata": {
  "kernelspec": {
   "display_name": "Python 2",
   "language": "python",
   "name": "python2"
  },
  "language_info": {
   "codemirror_mode": {
    "name": "ipython",
    "version": 2
   },
   "file_extension": ".py",
   "mimetype": "text/x-python",
   "name": "python",
   "nbconvert_exporter": "python",
   "pygments_lexer": "ipython2",
   "version": "2.7.6"
  }
 },
 "nbformat": 4,
 "nbformat_minor": 0
}
