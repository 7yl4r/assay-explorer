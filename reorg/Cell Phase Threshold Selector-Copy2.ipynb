{
 "cells": [
  {
   "cell_type": "code",
   "execution_count": 1,
   "metadata": {
    "collapsed": false
   },
   "outputs": [
    {
     "name": "stderr",
     "output_type": "stream",
     "text": [
      ":0: FutureWarning: IPython widgets are experimental and may change in the future.\n"
     ]
    }
   ],
   "source": [
    "import json\n",
    "import os.path\n",
    "import pandas as pd\n",
    "import numpy as np\n",
    "import matplotlib.pyplot as plt\n",
    "import seaborn.apionly as sns\n",
    "from scipy.stats.kde import gaussian_kde\n",
    "import scipy.signal as signal\n",
    "%matplotlib inline\n",
    "from IPython.html import widgets\n",
    "from IPython.html.widgets import interact,fixed\n",
    "from IPython.display import clear_output\n",
    "\n",
    "from utils import \\\n",
    "    maybe_get_model,\\\n",
    "    persist_widget_value,\\\n",
    "    snd,\\\n",
    "    from_file,\\\n",
    "    to_file\n",
    "    \n",
    "from scipy.optimize import \\\n",
    "    curve_fit    \n",
    "    \n",
    "from toolz import \\\n",
    "    curry"
   ]
  },
  {
   "cell_type": "code",
   "execution_count": 2,
   "metadata": {
    "collapsed": true
   },
   "outputs": [],
   "source": [
    "model_filepath = '/notebooks/tmp/threshold-ui-model.json'\n",
    "uiget = maybe_get_model(model_filepath) # key -> value\n",
    "uiset = persist_widget_value(model_filepath) # widget -> key"
   ]
  },
  {
   "cell_type": "code",
   "execution_count": 3,
   "metadata": {
    "collapsed": false
   },
   "outputs": [],
   "source": [
    "# String -> String -> Float -> SideEffect[File]\n",
    "def save_temp_threshold(condition,threshold):\n",
    "    \"\"\" Save threshold (for specific condition) to file.\n",
    "        This temp file will be read and merged with persistent file\n",
    "         when save button is clicked. \"\"\"\n",
    "    data = {'Condition': condition,\n",
    "            'Threshold': threshold}\n",
    "    to_file('/notebooks/tmp/temp_threshold.json',json.dumps(data))\n",
    "    \n",
    "# String -> SideEffect[File]\n",
    "def save_threshold(threshold_file):\n",
    "    \"\"\" Given filepath to csv containing thresholds, \n",
    "        mutate the values based on the temporary threshold file. \"\"\"\n",
    "    temp_file = '/notebooks/tmp/temp_threshold.json'\n",
    "    temp_threshold = json.loads(from_file(temp_file))\n",
    "    thresholds = pd.read_csv(threshold_file)\n",
    "    thresholds = thresholds.set_index('Condition')\n",
    "    \n",
    "    condition = temp_threshold['Condition']\n",
    "    threshold = temp_threshold['Threshold']\n",
    "    \n",
    "    thresholds.loc[condition] = threshold\n",
    "    thresholds = thresholds.reset_index()\n",
    "    thresholds.to_csv(threshold_file,index=False)"
   ]
  },
  {
   "cell_type": "code",
   "execution_count": 4,
   "metadata": {
    "collapsed": false
   },
   "outputs": [],
   "source": [
    "execfile('/notebooks/assay-explorer/src/display_utils.py')"
   ]
  },
  {
   "cell_type": "code",
   "execution_count": 5,
   "metadata": {
    "collapsed": true
   },
   "outputs": [],
   "source": [
    "filepaths = {'ssC drug data': '/notebooks/moldev-data/analyzed/07-20-2015/ssC-cells.csv',\n",
    "             'APB drug data': '/notebooks/moldev-data/analyzed/07-20-2015/APB-cells.csv'}\n",
    "threshold_filepaths = {'ssC drug data': '/notebooks/moldev-data/analyzed/07-20-2015/ssC-thresholds.csv',\n",
    "                       'APB drug data': '/notebooks/moldev-data/analyzed/07-20-2015/APB-thresholds.csv'}"
   ]
  },
  {
   "cell_type": "code",
   "execution_count": 6,
   "metadata": {
    "collapsed": false
   },
   "outputs": [],
   "source": [
    "mydataset = widgets.Dropdown(options=['ssC drug data','APB drug data'],\n",
    "                             value = uiget('filename','ssC drug data'))\n",
    "uiset(mydataset,'filename')"
   ]
  },
  {
   "cell_type": "markdown",
   "metadata": {},
   "source": [
    "# Select dataset\n",
    "Click `Cell > Run All` in the menu above to update the dataset shown."
   ]
  },
  {
   "cell_type": "code",
   "execution_count": 7,
   "metadata": {
    "collapsed": false,
    "scrolled": false
   },
   "outputs": [],
   "source": [
    "mydataset"
   ]
  },
  {
   "cell_type": "code",
   "execution_count": 8,
   "metadata": {
    "collapsed": false
   },
   "outputs": [],
   "source": [
    "filepath = filepaths[mydataset.value]\n",
    "threshold_filepath = threshold_filepaths[mydataset.value]"
   ]
  },
  {
   "cell_type": "code",
   "execution_count": 9,
   "metadata": {
    "collapsed": true
   },
   "outputs": [],
   "source": [
    "cells = pd.read_csv(filepath)"
   ]
  },
  {
   "cell_type": "code",
   "execution_count": 10,
   "metadata": {
    "collapsed": true
   },
   "outputs": [],
   "source": [
    "# [Float] -> Float\n",
    "def get_threshold(intensity,bw = 0.35):\n",
    "    \"\"\" Given an array of intensities, find the intensity \n",
    "        threshold separating the G1 peak from the S/G2 peak. \"\"\"\n",
    "    kde_fit = gaussian_kde(intensity,bw)\n",
    "    x = np.linspace(min(intensity),\n",
    "                    max(intensity),\n",
    "                    1000)\n",
    "    y = kde_fit(x)\n",
    "    ddx = np.diff(np.diff(y)) # second derivative of fit\n",
    "    peak = np.argmin(ddx) # most frequent intensity \n",
    "    index = min([yi for yi in signal.argrelmax(ddx)[0] if yi > peak])\n",
    "    threshold = x[index]\n",
    "    return threshold"
   ]
  },
  {
   "cell_type": "code",
   "execution_count": 11,
   "metadata": {
    "collapsed": true
   },
   "outputs": [],
   "source": [
    "# Create dummy file with thresholds\n",
    "def get_threshold_from_group(group):\n",
    "    groupname = group[0]\n",
    "    groupdata = group[1]\n",
    "    intensities = groupdata['NucIntegrated Intensity_Avg']\n",
    "    return {'Condition': groupname,\n",
    "            'Threshold': get_threshold(intensities,0.5)}\n",
    "\n",
    "if not os.path.isfile(threshold_filepath):\n",
    "    condition_groups = cells.groupby('Condition')\n",
    "    initial_thresholds = pd.DataFrame(map(get_threshold_from_group,condition_groups))\n",
    "    initial_thresholds.to_csv(threshold_filepath,index=False)"
   ]
  },
  {
   "cell_type": "code",
   "execution_count": null,
   "metadata": {
    "collapsed": true
   },
   "outputs": [],
   "source": []
  },
  {
   "cell_type": "code",
   "execution_count": 28,
   "metadata": {
    "collapsed": true
   },
   "outputs": [],
   "source": [
    "# Float -> Float -> Float -> Float -> Float\n",
    "def gaussian(x,a,m,sd):\n",
    "    \"\"\" Return value of gaussian at value x for \n",
    "        given amplitude, mean, and standard deviation. \"\"\"\n",
    "    return a * np.exp(-((x-m)**2.0)/(2.0*sd**2.0))"
   ]
  },
  {
   "cell_type": "code",
   "execution_count": 29,
   "metadata": {
    "collapsed": true
   },
   "outputs": [],
   "source": [
    "def constrained_double_gaussian(x,a1,m1,sd1,a2,sd2):\n",
    "    \"\"\" Return value of x at for two summed gaussians. \n",
    "        The second gaussian has a mean twice that of the first. \"\"\"\n",
    "    g1 = gaussian(x,a1,m1,sd1)\n",
    "    g2 = gaussian(x,a2,2.0*m1,sd2)\n",
    "    return g1 + g2"
   ]
  },
  {
   "cell_type": "code",
   "execution_count": 30,
   "metadata": {
    "collapsed": true
   },
   "outputs": [],
   "source": [
    "x = np.arange(-10,10,0.05)"
   ]
  },
  {
   "cell_type": "code",
   "execution_count": 32,
   "metadata": {
    "collapsed": false
   },
   "outputs": [],
   "source": [
    "y = (lambda xi: gaussian(0.5,-5,np.sqrt(0.3),xi))(x)\n",
    "y2 = (lambda xi: constrained_double_gaussian(xi,0.5,1,0.3,0.3,0.3))(x)"
   ]
  },
  {
   "cell_type": "code",
   "execution_count": 33,
   "metadata": {
    "collapsed": false
   },
   "outputs": [],
   "source": [
    "popt = curve_fit(constrained_double_gaussian,x,y2,[0.5,1,0.3,0.35,0.3])"
   ]
  },
  {
   "cell_type": "code",
   "execution_count": 34,
   "metadata": {
    "collapsed": false
   },
   "outputs": [],
   "source": [
    "popt[0]\n",
    "yfit = (lambda xi: constrained_double_gaussian(xi,*popt[0]))(x)"
   ]
  },
  {
   "cell_type": "code",
   "execution_count": 35,
   "metadata": {
    "collapsed": false
   },
   "outputs": [
    {
     "data": {
      "text/plain": [
       "[<matplotlib.lines.Line2D at 0x7f7809d1ae50>]"
      ]
     },
     "execution_count": 35,
     "metadata": {},
     "output_type": "execute_result"
    },
    {
     "data": {
      "image/png": "[encoded data removed]",
      "text/plain": [
       "<matplotlib.figure.Figure at 0x7f7809d1ab50>"
      ]
     },
     "metadata": {},
     "output_type": "display_data"
    }
   ],
   "source": [
    "plt.plot(x,y2)\n",
    "plt.plot(x,yfit)"
   ]
  },
  {
   "cell_type": "code",
   "execution_count": 47,
   "metadata": {
    "collapsed": true
   },
   "outputs": [],
   "source": [
    "# [Num] -> Float -> SideEffect[Plot]\n",
    "def plot_gaussian_kde(X,bw,color='k',alpha=1):\n",
    "    kde_fit = gaussian_kde(X,bw)\n",
    "    x = np.linspace(min(X),\n",
    "                    max(X),\n",
    "                    1000)\n",
    "    y = kde_fit(x)\n",
    "    \n",
    "    # Try fitting double gaussian\n",
    "    popt,_ = curve_fit(constrained_double_gaussian,x,y,[4.2e-8,0.2e8,1.0e7,2e-8,1.0e7])\n",
    "#     popt,_ = curve_fit(gaussian,x,y,[4.2e-8,0.2e8,1.0e7])\n",
    "    yfit = (lambda xi: constrained_double_gaussian(xi,*popt))(x)\n",
    "#     yfit = (lambda xi: gaussian(xi,*popt))(x)\n",
    "    \n",
    "    print popt\n",
    "    plt.plot(x,y,color=color,alpha = alpha)\n",
    "    plt.plot(x,yfit)"
   ]
  },
  {
   "cell_type": "code",
   "execution_count": 48,
   "metadata": {
    "collapsed": false
   },
   "outputs": [],
   "source": [
    "def determine_thresholding_parameters \\\n",
    "(data,condition,conditions,smoothness,manually_set_threshold,show):\n",
    "    bw = smoothness\n",
    "    method = show\n",
    "    intensities = data[data['Condition'] == condition]['NucIntegrated Intensity_Avg']\n",
    "    \n",
    "    plot_gaussian_kde(intensities,bw,color='r')\n",
    "    plt.title(condition)\n",
    "    plt.xlim(0,1.5e8)\n",
    "    plt.ylim(0,7e-8)\n",
    "    \n",
    "    # Plot thresholds\n",
    "    auto_threshold = get_threshold(intensities,bw)\n",
    "    threshold_data = pd.read_csv(threshold_filepath)\n",
    "#     saved_threshold = threshold_data[threshold_data['Condition'] == condition]['Threshold'].values.tolist()[0]\n",
    "    \n",
    "    lw = 3\n",
    "    alpha = 0.3\n",
    "    \n",
    "    if method == 'Auto':\n",
    "        plt.plot([auto_threshold,auto_threshold],plt.gca().get_ylim(),color = 'r',linewidth = lw,alpha = alpha,label='Auto')\n",
    "        save_temp_threshold(conditions,auto_threshold)\n",
    "        plt.xlabel('NucIntegrated Intensity_Avg (threshold = {})'.format(auto_threshold))\n",
    "    elif method == 'Manual':\n",
    "        plt.plot([manually_set_threshold,manually_set_threshold],plt.gca().get_ylim(),color='g',linewidth = lw,alpha = alpha,label='Manual')\n",
    "        save_temp_threshold(conditions,manually_set_threshold)\n",
    "        plt.xlabel('NucIntegrated Intensity_Avg (threshold = {})'.format(manually_set_threshold))\n",
    "        \n",
    "    plt.legend()   "
   ]
  },
  {
   "cell_type": "markdown",
   "metadata": {},
   "source": [
    "# Cell Phase Separation"
   ]
  },
  {
   "cell_type": "code",
   "execution_count": 49,
   "metadata": {
    "collapsed": false
   },
   "outputs": [
    {
     "name": "stdout",
     "output_type": "stream",
     "text": [
      "[  3.58354658e-08   1.73102345e+07   8.12191852e+06   9.66573487e-09\n",
      "   1.13569130e+07]\n"
     ]
    },
    {
     "data": {
      "image/png": "[encoded data removed]",
      "text/plain": [
       "<matplotlib.figure.Figure at 0x7f7809f2de90>"
      ]
     },
     "metadata": {},
     "output_type": "display_data"
    }
   ],
   "source": [
    "n_conditions = len(cells['Condition'].unique())\n",
    "bw = {'min':0.025, 'max': 0.8, 'step':0.025}\n",
    "intensities = cells['NucIntegrated Intensity_Avg']\n",
    "thresh = {'min': intensities.min(),\n",
    "          'max': intensities.max(),\n",
    "          'step': (intensities.max() - intensities.min())/200,\n",
    "          'init': intensities.median()}\n",
    "# (data,condition,conditions,smoothness,manually_set_threshold,show):\n",
    "interact(\n",
    "    determine_thresholding_parameters,\n",
    "    data = fixed(cells),\n",
    "    condition = widgets.Dropdown(options = cells['Condition'].unique().tolist()),\n",
    "    conditions = widgets.SelectMultiple(options = cells['Condition'].unique().tolist()),\n",
    "    smoothness = widgets.FloatSlider(min = bw['min'], max = bw['max'], step = bw['step']),\n",
    "    manually_set_threshold = widgets.FloatSlider(min = thresh['min'], max = thresh['max'], step = thresh['step'],value=thresh['init']),\n",
    "    show = widgets.ToggleButtons(options=['Manual','Auto']));\n"
   ]
  },
  {
   "cell_type": "code",
   "execution_count": 44,
   "metadata": {
    "collapsed": false
   },
   "outputs": [],
   "source": [
    "save_button = widgets.Button(description='Save Threshold')\n",
    "\n",
    "def save_my_threshold(_):\n",
    "    clear_output()\n",
    "    save_threshold(threshold_filepath)\n",
    "    threshold_data = pd.read_csv(threshold_filepath)\n",
    "    threshold_data['Cell Type'] = threshold_data['Condition'].map(lambda x: x.split(' ')[-1]) \n",
    "    threshold_data.sort('Cell Type').plot(kind='bar',x='Condition',y='Threshold')\n",
    "#     display(threshold_data.sort('Cell Type')[['Condition','Threshold']])\n",
    "    plt.xticks(rotation=45,ha='right')\n",
    "    plt.gcf().set_size_inches(8, 3)\n",
    "    plt.title('Thresholds for all conditions')\n",
    "save_button.on_click(save_my_threshold)"
   ]
  },
  {
   "cell_type": "code",
   "execution_count": 45,
   "metadata": {
    "collapsed": false
   },
   "outputs": [],
   "source": [
    "save_button"
   ]
  },
  {
   "cell_type": "code",
   "execution_count": null,
   "metadata": {
    "collapsed": true
   },
   "outputs": [],
   "source": []
  },
  {
   "cell_type": "code",
   "execution_count": 152,
   "metadata": {
    "collapsed": false
   },
   "outputs": [],
   "source": [
    "def get_get_cell_phase_counts(data):\n",
    "    condition = data['Condition'].tolist()[0]\n",
    "    n_G1 = len(data[data['Cell Phase'] == 'G1'])\n",
    "    n_G2 = len(data[data['Cell Phase'] == 'S/G2'])\n",
    "    return {'Condition': condition,\n",
    "            'Cell Type': condition.split(' ')[-1],\n",
    "            '# G1 Cells': n_G1,\n",
    "            '# S/G2 Cells': n_G2,\n",
    "            'Fraction G1 Cells': float(n_G1) / (n_G1 + n_G2)}"
   ]
  },
  {
   "cell_type": "code",
   "execution_count": 153,
   "metadata": {
    "collapsed": false
   },
   "outputs": [],
   "source": [
    "def get_cell_phase_fractions(threshold_filepath,data):\n",
    "    threshold_data = pd.read_csv(threshold_filepath)\n",
    "    threshold_data['Cell Type'] = threshold_data['Condition'].map(lambda x: x.split(' ')[-1]) \n",
    "    threshold_data = threshold_data.sort('Cell Type')\n",
    "    new_data = pd.merge(data,threshold_data,on='Condition')\n",
    "    new_data['Cell Phase'] = new_data.apply(\n",
    "        lambda d: 'G1' if d['NucIntegrated Intensity_Avg'] < d['Threshold'] else 'S/G2',\n",
    "        axis = 1)\n",
    "    condition_groups = new_data.groupby('Condition')\n",
    "    return thread_first(\n",
    "        new_data.groupby('Condition'),\n",
    "        map(snd),\n",
    "        map(get_get_cell_phase_counts),\n",
    "        pd.DataFrame)"
   ]
  },
  {
   "cell_type": "code",
   "execution_count": 154,
   "metadata": {
    "collapsed": true
   },
   "outputs": [],
   "source": [
    "def plot_cell_phase_fractions(threshold_filepath,data):\n",
    "    fractions = get_cell_phase_fractions(threshold_filepath,data)\n",
    "    fractions.sort('Cell Type').plot(kind = 'bar', x = 'Condition', y = 'Fraction G1 Cells')\n",
    "    plt.xticks(rotation=45,ha='right')\n",
    "    plt.gcf().set_size_inches(8, 3)\n",
    "    plt.title('Cell Phase Fractions')"
   ]
  },
  {
   "cell_type": "code",
   "execution_count": 20,
   "metadata": {
    "collapsed": false
   },
   "outputs": [
    {
     "data": {
      "image/png": "[encoded data removed]",
      "text/plain": [
       "<matplotlib.figure.Figure at 0x7f7cba74c0d0>"
      ]
     },
     "metadata": {},
     "output_type": "display_data"
    }
   ],
   "source": [
    "plot_cell_phase_fractions(threshold_filepath,cells);"
   ]
  },
  {
   "cell_type": "code",
   "execution_count": 21,
   "metadata": {
    "collapsed": true
   },
   "outputs": [],
   "source": [
    "d = pd.read_csv('/notebooks/moldev-data/db/db.csv')"
   ]
  },
  {
   "cell_type": "code",
   "execution_count": 23,
   "metadata": {
    "collapsed": true
   },
   "outputs": [],
   "source": [
    "# TODO: investigate Unnamed column!"
   ]
  },
  {
   "cell_type": "code",
   "execution_count": 24,
   "metadata": {
    "collapsed": true
   },
   "outputs": [],
   "source": [
    "groups = d.groupby(['Assay','Cell Type','Concentration','Contents'])"
   ]
  },
  {
   "cell_type": "code",
   "execution_count": 25,
   "metadata": {
    "collapsed": false
   },
   "outputs": [],
   "source": [
    "group_tuples = [(name,data) for name,data in groups]"
   ]
  },
  {
   "cell_type": "code",
   "execution_count": null,
   "metadata": {
    "collapsed": true
   },
   "outputs": [],
   "source": []
  },
  {
   "cell_type": "code",
   "execution_count": 56,
   "metadata": {
    "collapsed": false
   },
   "outputs": [],
   "source": [
    "g0 = group_tuples[25]"
   ]
  },
  {
   "cell_type": "code",
   "execution_count": 57,
   "metadata": {
    "collapsed": false
   },
   "outputs": [
    {
     "name": "stdout",
     "output_type": "stream",
     "text": [
      "0 ('APB', '143b', 0.080000000000000002, 'Media Control')\n",
      "1 ('APB', '143b', 0.5, 'DMSO Control')\n",
      "2 ('APB', '143b', 1.0, 'HU')\n",
      "3 ('APB', '143b', 5.0, 'TS')\n",
      "4 ('APB', '143b', 12.5, 'ML216')\n",
      "5 ('APB', '143b', 25.0, 'ML216')\n",
      "6 ('APB', '143b', 50.0, 'ML216')\n",
      "7 ('APB', '143b', 50.0, 'MMC')\n",
      "8 ('APB', '143b', 100.0, 'ML216')\n",
      "9 ('APB', '143b', 100.0, 'MMC')\n",
      "10 ('APB', '143b', 200.0, 'MMC')\n",
      "11 ('APB', '143b', 400.0, 'MMC')\n",
      "12 ('APB', 'U2OS', 0.080000000000000002, 'Media Control')\n",
      "13 ('APB', 'U2OS', 0.5, 'DMSO Control')\n",
      "14 ('APB', 'U2OS', 1.0, 'HU')\n",
      "15 ('APB', 'U2OS', 5.0, 'TS')\n",
      "16 ('APB', 'U2OS', 12.5, 'ML216')\n",
      "17 ('APB', 'U2OS', 25.0, 'ML216')\n",
      "18 ('APB', 'U2OS', 50.0, 'ML216')\n",
      "19 ('APB', 'U2OS', 50.0, 'MMC')\n",
      "20 ('APB', 'U2OS', 100.0, 'ML216')\n",
      "21 ('APB', 'U2OS', 100.0, 'MMC')\n",
      "22 ('APB', 'U2OS', 200.0, 'MMC')\n",
      "23 ('APB', 'U2OS', 400.0, 'MMC')\n",
      "24 ('ssC', '143b', 0.080000000000000002, 'Media Control')\n",
      "25 ('ssC', '143b', 0.5, 'DMSO Control')\n",
      "26 ('ssC', '143b', 1.0, 'HU')\n",
      "27 ('ssC', '143b', 5.0, 'TS')\n",
      "28 ('ssC', '143b', 12.5, 'ML216')\n",
      "29 ('ssC', '143b', 25.0, 'ML216')\n",
      "30 ('ssC', '143b', 50.0, 'ML216')\n",
      "31 ('ssC', '143b', 50.0, 'MMC')\n",
      "32 ('ssC', '143b', 100.0, 'ML216')\n",
      "33 ('ssC', '143b', 100.0, 'MMC')\n",
      "34 ('ssC', '143b', 200.0, 'MMC')\n",
      "35 ('ssC', '143b', 400.0, 'MMC')\n",
      "36 ('ssC', 'U2OS', 0.080000000000000002, 'Media Control')\n",
      "37 ('ssC', 'U2OS', 0.5, 'DMSO Control')\n",
      "38 ('ssC', 'U2OS', 1.0, 'HU')\n",
      "39 ('ssC', 'U2OS', 5.0, 'TS')\n",
      "40 ('ssC', 'U2OS', 12.5, 'ML216')\n",
      "41 ('ssC', 'U2OS', 25.0, 'ML216')\n",
      "42 ('ssC', 'U2OS', 50.0, 'ML216')\n",
      "43 ('ssC', 'U2OS', 50.0, 'MMC')\n",
      "44 ('ssC', 'U2OS', 100.0, 'ML216')\n",
      "45 ('ssC', 'U2OS', 100.0, 'MMC')\n",
      "46 ('ssC', 'U2OS', 200.0, 'MMC')\n",
      "47 ('ssC', 'U2OS', 400.0, 'MMC')\n"
     ]
    }
   ],
   "source": [
    "for i,g in enumerate(group_tuples):\n",
    "    print i,g[0]\n",
    "    "
   ]
  },
  {
   "cell_type": "code",
   "execution_count": 60,
   "metadata": {
    "collapsed": false
   },
   "outputs": [],
   "source": [
    "g0_intensity = g0[1]['NucIntegrated Intensity_Avg']"
   ]
  },
  {
   "cell_type": "code",
   "execution_count": 62,
   "metadata": {
    "collapsed": false
   },
   "outputs": [
    {
     "data": {
      "image/png": "[encoded data removed]",
      "text/plain": [
       "<matplotlib.figure.Figure at 0x7f7caec0db10>"
      ]
     },
     "metadata": {},
     "output_type": "display_data"
    }
   ],
   "source": [
    "plot_gaussian_kde(g0_intensity,0.4)"
   ]
  },
  {
   "cell_type": "code",
   "execution_count": null,
   "metadata": {
    "collapsed": true
   },
   "outputs": [],
   "source": []
  }
 ],
 "metadata": {
  "kernelspec": {
   "display_name": "Python 2",
   "language": "python",
   "name": "python2"
  },
  "language_info": {
   "codemirror_mode": {
    "name": "ipython",
    "version": 2
   },
   "file_extension": ".py",
   "mimetype": "text/x-python",
   "name": "python",
   "nbconvert_exporter": "python",
   "pygments_lexer": "ipython2",
   "version": "2.7.6"
  }
 },
 "nbformat": 4,
 "nbformat_minor": 0
}
