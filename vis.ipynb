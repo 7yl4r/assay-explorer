{
 "cells": [
  {
   "cell_type": "code",
   "execution_count": 2,
   "metadata": {
    "collapsed": true
   },
   "outputs": [],
   "source": [
    "# TODO: replace df with dataframe\n",
    "# TODO: investigate presence of multiple 'Plate ID' columns in condition_summary\n",
    "# TODO: add dataset selector (or make new notebooks for analyzing different datasets - this might be better, think about it.)"
   ]
  },
  {
   "cell_type": "code",
   "execution_count": 3,
   "metadata": {
    "collapsed": false
   },
   "outputs": [
    {
     "data": {
      "text/html": [
       "<script>\n",
       "code_show=true; \n",
       "function code_toggle() {\n",
       " if (code_show){\n",
       " $('div.input').hide();\n",
       " } else {\n",
       " $('div.input').show();\n",
       " }\n",
       " code_show = !code_show\n",
       "} \n",
       "$( document ).ready(code_toggle);\n",
       "</script>\n",
       "<form action=\"javascript:code_toggle()\"><input type=\"submit\" value=\"Toggle Code On/Off.\"></form>"
      ],
      "text/plain": [
       "<IPython.core.display.HTML object>"
      ]
     },
     "execution_count": 3,
     "metadata": {},
     "output_type": "execute_result"
    }
   ],
   "source": [
    "%matplotlib inline\n",
    "\n",
    "import matplotlib.pyplot as plt\n",
    "import matplotlib.gridspec as gridspec\n",
    "import seaborn.apionly as sns\n",
    "import numpy as np\n",
    "import pandas as pd\n",
    "import IPython.html.widgets as widgets\n",
    "\n",
    "from scipy.stats import \\\n",
    "    ks_2samp,\\\n",
    "    ranksums\n",
    "    \n",
    "from IPython.html.widgets import \\\n",
    "    interact,\\\n",
    "    fixed\n",
    "\n",
    "from IPython.display import \\\n",
    "    display, HTML\n",
    "\n",
    "from pandas.tools.plotting import \\\n",
    "    scatter_matrix\n",
    "\n",
    "from pandas import \\\n",
    "    DataFrame as df\n",
    "\n",
    "from view import \\\n",
    "    plot_plates,\\\n",
    "    matrix_tree\n",
    "    \n",
    "from toolz import \\\n",
    "    pipe,\\\n",
    "    thread_first,\\\n",
    "    thread_last\n",
    "    \n",
    "from utils import \\\n",
    "    normalize_columns,\\\n",
    "    filter_and_drop,\\\n",
    "    filter_rows,\\\n",
    "    fst,\\\n",
    "    snd,\\\n",
    "    add_col,\\\n",
    "    get_files,\\\n",
    "    gen_filenames,\\\n",
    "    maybe_get_model,\\\n",
    "    persist_widget_value,\\\n",
    "    format_timestamp,\\\n",
    "    concatenate,\\\n",
    "    unzip\n",
    "\n",
    "from collections import OrderedDict\n",
    "\n",
    "from conf import MODEL_FILEPATH, DB_PATH, uiget, uiset\n",
    "from toggle import TOGGLE_CODE\n",
    "\n",
    "\n",
    "HTML(TOGGLE_CODE)"
   ]
  },
  {
   "cell_type": "code",
   "execution_count": 4,
   "metadata": {
    "collapsed": true
   },
   "outputs": [],
   "source": [
    "colors = {'Blue & Red':'bwr','Blue':'Blues','None': None}"
   ]
  },
  {
   "cell_type": "code",
   "execution_count": null,
   "metadata": {
    "collapsed": false
   },
   "outputs": [],
   "source": []
  },
  {
   "cell_type": "markdown",
   "metadata": {},
   "source": [
    "# Select Plate\n",
    "Select plate below, then click `Cell -> Run All` in the menu above to update all the charts. "
   ]
  },
  {
   "cell_type": "code",
   "execution_count": 5,
   "metadata": {
    "collapsed": true
   },
   "outputs": [],
   "source": [
    "# DataFrame -> String -> Int -> DataFrame\n",
    "def get_selected_data(d,recipe,timestamp):\n",
    "    \"\"\" Return dataframe where recipe and timestamp take given value. \"\"\"\n",
    "    return d[(d['Image Analysis Recipe'] == recipe) & \n",
    "             (d['Upload Timestamp'] == timestamp)]"
   ]
  },
  {
   "cell_type": "code",
   "execution_count": 6,
   "metadata": {
    "collapsed": false
   },
   "outputs": [],
   "source": [
    "all_cells = pd.read_csv(DB_PATH)"
   ]
  },
  {
   "cell_type": "code",
   "execution_count": 7,
   "metadata": {
    "collapsed": false
   },
   "outputs": [],
   "source": [
    "plate_groups = thread_last(\n",
    "    all_cells.groupby(['Image Analysis Recipe', 'Upload Timestamp']),\n",
    "    (map, fst),\n",
    "    lambda xs: sorted(xs, key = snd, reverse = True))\n",
    "\n",
    "plate_labels = [\"{} | {}\".format(recipe,format_timestamp(timestamp)) \\\n",
    "                   for recipe, timestamp in plate_groups]\n",
    "\n",
    "plate_selection_dict = OrderedDict(zip(plate_labels, plate_groups))"
   ]
  },
  {
   "cell_type": "code",
   "execution_count": 8,
   "metadata": {
    "collapsed": false
   },
   "outputs": [],
   "source": [
    "init_plate_value = tuple(uiget('plate_selection_groups', plate_groups[0]))\n",
    "if init_plate_value not in plate_selection_dict.values():\n",
    "    init_plate_value = plate_selection_dict.values()[0]\n",
    "\n",
    "plate_selector = widgets.Dropdown(\n",
    "    options = plate_selection_dict,\n",
    "    value = init_plate_value)\n",
    "\n",
    "uiset(plate_selector,'plate_selection_groups')\n",
    "display(plate_selector)"
   ]
  },
  {
   "cell_type": "code",
   "execution_count": 9,
   "metadata": {
    "collapsed": false
   },
   "outputs": [],
   "source": [
    "# Import data\n",
    "cells = get_selected_data(all_cells,*plate_selector.value)"
   ]
  },
  {
   "cell_type": "code",
   "execution_count": 10,
   "metadata": {
    "collapsed": false
   },
   "outputs": [
    {
     "ename": "KeyError",
     "evalue": "'Cell Phase'",
     "output_type": "error",
     "traceback": [
      "\u001b[1;31m---------------------------------------------------------------------------\u001b[0m",
      "\u001b[1;31mKeyError\u001b[0m                                  Traceback (most recent call last)",
      "\u001b[1;32m<ipython-input-10-cd5c17ff8826>\u001b[0m in \u001b[0;36m<module>\u001b[1;34m()\u001b[0m\n\u001b[0;32m     14\u001b[0m         \u001b[1;32mreturn\u001b[0m \u001b[0mpd\u001b[0m\u001b[1;33m.\u001b[0m\u001b[0mconcat\u001b[0m\u001b[1;33m(\u001b[0m\u001b[1;33m[\u001b[0m\u001b[0moriginal\u001b[0m\u001b[1;33m,\u001b[0m\u001b[0mwith_phases\u001b[0m\u001b[1;33m]\u001b[0m\u001b[1;33m)\u001b[0m\u001b[1;33m\u001b[0m\u001b[0m\n\u001b[0;32m     15\u001b[0m \u001b[1;33m\u001b[0m\u001b[0m\n\u001b[1;32m---> 16\u001b[1;33m \u001b[0mcells_with_phase\u001b[0m \u001b[1;33m=\u001b[0m \u001b[0mget_cells_with_phase\u001b[0m\u001b[1;33m(\u001b[0m\u001b[0mcells\u001b[0m\u001b[1;33m)\u001b[0m\u001b[1;33m\u001b[0m\u001b[0m\n\u001b[0m",
      "\u001b[1;32m<ipython-input-10-cd5c17ff8826>\u001b[0m in \u001b[0;36mget_cells_with_phase\u001b[1;34m(dataframe)\u001b[0m\n\u001b[0;32m      8\u001b[0m     \u001b[0mwith_phases\u001b[0m \u001b[1;33m=\u001b[0m \u001b[0mdataframe\u001b[0m\u001b[1;33m.\u001b[0m\u001b[0mcopy\u001b[0m\u001b[1;33m(\u001b[0m\u001b[1;33m)\u001b[0m\u001b[1;33m\u001b[0m\u001b[0m\n\u001b[0;32m      9\u001b[0m \u001b[1;33m\u001b[0m\u001b[0m\n\u001b[1;32m---> 10\u001b[1;33m     \u001b[1;32mif\u001b[0m \u001b[0mwith_phases\u001b[0m\u001b[1;33m[\u001b[0m\u001b[1;34m'Cell Phase'\u001b[0m\u001b[1;33m]\u001b[0m\u001b[1;33m.\u001b[0m\u001b[0misnull\u001b[0m\u001b[1;33m(\u001b[0m\u001b[1;33m)\u001b[0m\u001b[1;33m.\u001b[0m\u001b[0mall\u001b[0m\u001b[1;33m(\u001b[0m\u001b[1;33m)\u001b[0m\u001b[1;33m:\u001b[0m\u001b[1;33m\u001b[0m\u001b[0m\n\u001b[0m\u001b[0;32m     11\u001b[0m         \u001b[1;32mreturn\u001b[0m \u001b[0moriginal\u001b[0m\u001b[1;33m\u001b[0m\u001b[0m\n\u001b[0;32m     12\u001b[0m     \u001b[1;32melse\u001b[0m\u001b[1;33m:\u001b[0m\u001b[1;33m\u001b[0m\u001b[0m\n",
      "\u001b[1;32m/home/cabal/env/local/lib/python2.7/site-packages/pandas/core/frame.pyc\u001b[0m in \u001b[0;36m__getitem__\u001b[1;34m(self, key)\u001b[0m\n\u001b[0;32m   1990\u001b[0m             \u001b[1;32mreturn\u001b[0m \u001b[0mself\u001b[0m\u001b[1;33m.\u001b[0m\u001b[0m_getitem_multilevel\u001b[0m\u001b[1;33m(\u001b[0m\u001b[0mkey\u001b[0m\u001b[1;33m)\u001b[0m\u001b[1;33m\u001b[0m\u001b[0m\n\u001b[0;32m   1991\u001b[0m         \u001b[1;32melse\u001b[0m\u001b[1;33m:\u001b[0m\u001b[1;33m\u001b[0m\u001b[0m\n\u001b[1;32m-> 1992\u001b[1;33m             \u001b[1;32mreturn\u001b[0m \u001b[0mself\u001b[0m\u001b[1;33m.\u001b[0m\u001b[0m_getitem_column\u001b[0m\u001b[1;33m(\u001b[0m\u001b[0mkey\u001b[0m\u001b[1;33m)\u001b[0m\u001b[1;33m\u001b[0m\u001b[0m\n\u001b[0m\u001b[0;32m   1993\u001b[0m \u001b[1;33m\u001b[0m\u001b[0m\n\u001b[0;32m   1994\u001b[0m     \u001b[1;32mdef\u001b[0m \u001b[0m_getitem_column\u001b[0m\u001b[1;33m(\u001b[0m\u001b[0mself\u001b[0m\u001b[1;33m,\u001b[0m \u001b[0mkey\u001b[0m\u001b[1;33m)\u001b[0m\u001b[1;33m:\u001b[0m\u001b[1;33m\u001b[0m\u001b[0m\n",
      "\u001b[1;32m/home/cabal/env/local/lib/python2.7/site-packages/pandas/core/frame.pyc\u001b[0m in \u001b[0;36m_getitem_column\u001b[1;34m(self, key)\u001b[0m\n\u001b[0;32m   1997\u001b[0m         \u001b[1;31m# get column\u001b[0m\u001b[1;33m\u001b[0m\u001b[1;33m\u001b[0m\u001b[0m\n\u001b[0;32m   1998\u001b[0m         \u001b[1;32mif\u001b[0m \u001b[0mself\u001b[0m\u001b[1;33m.\u001b[0m\u001b[0mcolumns\u001b[0m\u001b[1;33m.\u001b[0m\u001b[0mis_unique\u001b[0m\u001b[1;33m:\u001b[0m\u001b[1;33m\u001b[0m\u001b[0m\n\u001b[1;32m-> 1999\u001b[1;33m             \u001b[1;32mreturn\u001b[0m \u001b[0mself\u001b[0m\u001b[1;33m.\u001b[0m\u001b[0m_get_item_cache\u001b[0m\u001b[1;33m(\u001b[0m\u001b[0mkey\u001b[0m\u001b[1;33m)\u001b[0m\u001b[1;33m\u001b[0m\u001b[0m\n\u001b[0m\u001b[0;32m   2000\u001b[0m \u001b[1;33m\u001b[0m\u001b[0m\n\u001b[0;32m   2001\u001b[0m         \u001b[1;31m# duplicate columns & possible reduce dimensionality\u001b[0m\u001b[1;33m\u001b[0m\u001b[1;33m\u001b[0m\u001b[0m\n",
      "\u001b[1;32m/home/cabal/env/local/lib/python2.7/site-packages/pandas/core/generic.pyc\u001b[0m in \u001b[0;36m_get_item_cache\u001b[1;34m(self, item)\u001b[0m\n\u001b[0;32m   1343\u001b[0m         \u001b[0mres\u001b[0m \u001b[1;33m=\u001b[0m \u001b[0mcache\u001b[0m\u001b[1;33m.\u001b[0m\u001b[0mget\u001b[0m\u001b[1;33m(\u001b[0m\u001b[0mitem\u001b[0m\u001b[1;33m)\u001b[0m\u001b[1;33m\u001b[0m\u001b[0m\n\u001b[0;32m   1344\u001b[0m         \u001b[1;32mif\u001b[0m \u001b[0mres\u001b[0m \u001b[1;32mis\u001b[0m \u001b[0mNone\u001b[0m\u001b[1;33m:\u001b[0m\u001b[1;33m\u001b[0m\u001b[0m\n\u001b[1;32m-> 1345\u001b[1;33m             \u001b[0mvalues\u001b[0m \u001b[1;33m=\u001b[0m \u001b[0mself\u001b[0m\u001b[1;33m.\u001b[0m\u001b[0m_data\u001b[0m\u001b[1;33m.\u001b[0m\u001b[0mget\u001b[0m\u001b[1;33m(\u001b[0m\u001b[0mitem\u001b[0m\u001b[1;33m)\u001b[0m\u001b[1;33m\u001b[0m\u001b[0m\n\u001b[0m\u001b[0;32m   1346\u001b[0m             \u001b[0mres\u001b[0m \u001b[1;33m=\u001b[0m \u001b[0mself\u001b[0m\u001b[1;33m.\u001b[0m\u001b[0m_box_item_values\u001b[0m\u001b[1;33m(\u001b[0m\u001b[0mitem\u001b[0m\u001b[1;33m,\u001b[0m \u001b[0mvalues\u001b[0m\u001b[1;33m)\u001b[0m\u001b[1;33m\u001b[0m\u001b[0m\n\u001b[0;32m   1347\u001b[0m             \u001b[0mcache\u001b[0m\u001b[1;33m[\u001b[0m\u001b[0mitem\u001b[0m\u001b[1;33m]\u001b[0m \u001b[1;33m=\u001b[0m \u001b[0mres\u001b[0m\u001b[1;33m\u001b[0m\u001b[0m\n",
      "\u001b[1;32m/home/cabal/env/local/lib/python2.7/site-packages/pandas/core/internals.pyc\u001b[0m in \u001b[0;36mget\u001b[1;34m(self, item, fastpath)\u001b[0m\n\u001b[0;32m   3223\u001b[0m \u001b[1;33m\u001b[0m\u001b[0m\n\u001b[0;32m   3224\u001b[0m             \u001b[1;32mif\u001b[0m \u001b[1;32mnot\u001b[0m \u001b[0misnull\u001b[0m\u001b[1;33m(\u001b[0m\u001b[0mitem\u001b[0m\u001b[1;33m)\u001b[0m\u001b[1;33m:\u001b[0m\u001b[1;33m\u001b[0m\u001b[0m\n\u001b[1;32m-> 3225\u001b[1;33m                 \u001b[0mloc\u001b[0m \u001b[1;33m=\u001b[0m \u001b[0mself\u001b[0m\u001b[1;33m.\u001b[0m\u001b[0mitems\u001b[0m\u001b[1;33m.\u001b[0m\u001b[0mget_loc\u001b[0m\u001b[1;33m(\u001b[0m\u001b[0mitem\u001b[0m\u001b[1;33m)\u001b[0m\u001b[1;33m\u001b[0m\u001b[0m\n\u001b[0m\u001b[0;32m   3226\u001b[0m             \u001b[1;32melse\u001b[0m\u001b[1;33m:\u001b[0m\u001b[1;33m\u001b[0m\u001b[0m\n\u001b[0;32m   3227\u001b[0m                 \u001b[0mindexer\u001b[0m \u001b[1;33m=\u001b[0m \u001b[0mnp\u001b[0m\u001b[1;33m.\u001b[0m\u001b[0marange\u001b[0m\u001b[1;33m(\u001b[0m\u001b[0mlen\u001b[0m\u001b[1;33m(\u001b[0m\u001b[0mself\u001b[0m\u001b[1;33m.\u001b[0m\u001b[0mitems\u001b[0m\u001b[1;33m)\u001b[0m\u001b[1;33m)\u001b[0m\u001b[1;33m[\u001b[0m\u001b[0misnull\u001b[0m\u001b[1;33m(\u001b[0m\u001b[0mself\u001b[0m\u001b[1;33m.\u001b[0m\u001b[0mitems\u001b[0m\u001b[1;33m)\u001b[0m\u001b[1;33m]\u001b[0m\u001b[1;33m\u001b[0m\u001b[0m\n",
      "\u001b[1;32m/home/cabal/env/local/lib/python2.7/site-packages/pandas/indexes/base.pyc\u001b[0m in \u001b[0;36mget_loc\u001b[1;34m(self, key, method, tolerance)\u001b[0m\n\u001b[0;32m   1876\u001b[0m                 \u001b[1;32mreturn\u001b[0m \u001b[0mself\u001b[0m\u001b[1;33m.\u001b[0m\u001b[0m_engine\u001b[0m\u001b[1;33m.\u001b[0m\u001b[0mget_loc\u001b[0m\u001b[1;33m(\u001b[0m\u001b[0mkey\u001b[0m\u001b[1;33m)\u001b[0m\u001b[1;33m\u001b[0m\u001b[0m\n\u001b[0;32m   1877\u001b[0m             \u001b[1;32mexcept\u001b[0m \u001b[0mKeyError\u001b[0m\u001b[1;33m:\u001b[0m\u001b[1;33m\u001b[0m\u001b[0m\n\u001b[1;32m-> 1878\u001b[1;33m                 \u001b[1;32mreturn\u001b[0m \u001b[0mself\u001b[0m\u001b[1;33m.\u001b[0m\u001b[0m_engine\u001b[0m\u001b[1;33m.\u001b[0m\u001b[0mget_loc\u001b[0m\u001b[1;33m(\u001b[0m\u001b[0mself\u001b[0m\u001b[1;33m.\u001b[0m\u001b[0m_maybe_cast_indexer\u001b[0m\u001b[1;33m(\u001b[0m\u001b[0mkey\u001b[0m\u001b[1;33m)\u001b[0m\u001b[1;33m)\u001b[0m\u001b[1;33m\u001b[0m\u001b[0m\n\u001b[0m\u001b[0;32m   1879\u001b[0m \u001b[1;33m\u001b[0m\u001b[0m\n\u001b[0;32m   1880\u001b[0m         \u001b[0mindexer\u001b[0m \u001b[1;33m=\u001b[0m \u001b[0mself\u001b[0m\u001b[1;33m.\u001b[0m\u001b[0mget_indexer\u001b[0m\u001b[1;33m(\u001b[0m\u001b[1;33m[\u001b[0m\u001b[0mkey\u001b[0m\u001b[1;33m]\u001b[0m\u001b[1;33m,\u001b[0m \u001b[0mmethod\u001b[0m\u001b[1;33m=\u001b[0m\u001b[0mmethod\u001b[0m\u001b[1;33m,\u001b[0m \u001b[0mtolerance\u001b[0m\u001b[1;33m=\u001b[0m\u001b[0mtolerance\u001b[0m\u001b[1;33m)\u001b[0m\u001b[1;33m\u001b[0m\u001b[0m\n",
      "\u001b[1;32mpandas/index.pyx\u001b[0m in \u001b[0;36mpandas.index.IndexEngine.get_loc (pandas/index.c:4027)\u001b[1;34m()\u001b[0m\n",
      "\u001b[1;32mpandas/index.pyx\u001b[0m in \u001b[0;36mpandas.index.IndexEngine.get_loc (pandas/index.c:3891)\u001b[1;34m()\u001b[0m\n",
      "\u001b[1;32mpandas/hashtable.pyx\u001b[0m in \u001b[0;36mpandas.hashtable.PyObjectHashTable.get_item (pandas/hashtable.c:12408)\u001b[1;34m()\u001b[0m\n",
      "\u001b[1;32mpandas/hashtable.pyx\u001b[0m in \u001b[0;36mpandas.hashtable.PyObjectHashTable.get_item (pandas/hashtable.c:12359)\u001b[1;34m()\u001b[0m\n",
      "\u001b[1;31mKeyError\u001b[0m: 'Cell Phase'"
     ]
    }
   ],
   "source": [
    "# Create dataframe to compare cells with different phases\n",
    "\n",
    "# DataFrame -> DataFrame\n",
    "def get_cells_with_phase(dataframe):\n",
    "    \"\"\" Concatenate original dataframe with new dataframe \n",
    "        generated by adding cell phase to Condition to column. \"\"\"\n",
    "    original = dataframe\n",
    "    with_phases = dataframe.copy()\n",
    "    \n",
    "    if with_phases['Cell Phase'].isnull().all():\n",
    "        return original\n",
    "    else: \n",
    "        with_phases['Condition'] = with_phases['Condition'] + ' ' + with_phases['Cell Phase']\n",
    "        return pd.concat([original,with_phases])\n",
    "    \n",
    "cells_with_phase = get_cells_with_phase(cells)"
   ]
  },
  {
   "cell_type": "code",
   "execution_count": null,
   "metadata": {
    "collapsed": true
   },
   "outputs": [],
   "source": [
    "# Group columns into separate categories\n",
    "cell_cols = ['Cell ID', 'Cell SID', 'Cell Type', 'Cell Phase', 'MEASUREMENT SET ID', 'ObjectID', 'Site ID','Threshold']\n",
    "well_cols = ['Contents', 'Units (concentration)', 'Condition', 'Well Name', 'time', 'Units (time)'] # 'Concentration',\n",
    "plate_cols = ['Assay', 'Experiment Name', 'Image Analysis Date', 'Image Analysis Recipe', 'Image Collection Date', 'Investigator', 'Layout File', 'Magnification', 'Plate File', 'Plate ID', 'Upload Timestamp']\n",
    "non_param_cols = concatenate([cell_cols, well_cols, plate_cols])\n",
    "param_cols_without_cell_count = sorted(list(set(cells.columns.tolist()).difference(set(non_param_cols))))\n",
    "param_cols = ['Cell Count'] + param_cols_without_cell_count "
   ]
  },
  {
   "cell_type": "code",
   "execution_count": null,
   "metadata": {
    "collapsed": false
   },
   "outputs": [],
   "source": [
    "# Generate well summary data\n",
    "well_means = cells[param_cols_without_cell_count + ['Well Name']].groupby('Well Name').mean().reset_index()\n",
    "\n",
    "well_cell_counts = thread_last(\n",
    "    cells.groupby('Well Name'),\n",
    "    (map, lambda x: {'Well Name': x[0],\n",
    "                     'Cell Count': len(x[1]),\n",
    "                     'Condition': x[1].iloc[0]['Condition'],\n",
    "                     'Plate ID': x[1].iloc[0]['Plate ID']}),\n",
    "    pd.DataFrame)\n",
    "\n",
    "wells = pd.merge(well_means, well_cell_counts, on = 'Well Name')"
   ]
  },
  {
   "cell_type": "code",
   "execution_count": null,
   "metadata": {
    "collapsed": false
   },
   "outputs": [],
   "source": [
    "# Generate condition summary data\n",
    "condition_means = cells[param_cols_without_cell_count + ['Condition']].groupby('Condition').mean().reset_index()\n",
    "\n",
    "condition_cell_counts = thread_last(\n",
    "    cells.groupby('Condition'),\n",
    "    (map, lambda x: {'Condition': x[0],\n",
    "                     'Cell Count': len(x[1])}),\n",
    "    pd.DataFrame)\n",
    "\n",
    "conditions = pd.merge(condition_means, condition_cell_counts, on = 'Condition')"
   ]
  },
  {
   "cell_type": "code",
   "execution_count": null,
   "metadata": {
    "collapsed": false
   },
   "outputs": [],
   "source": [
    "condition_names = cells.sort(['Assay','Cell Type','Contents',])['Condition'].unique().tolist() #'Concentration'\n",
    "condition_names_with_phase = cells_with_phase.sort(['Assay','Cell Type','Contents',])['Condition'].unique().tolist() #'Concentration'\n",
    "\n",
    "def get_parameter_widget(init_val = 'Cell Count'):\n",
    "    return widgets.Select(\n",
    "        value = init_val,\n",
    "        options = param_cols,\n",
    "        height = 250)\n",
    "\n",
    "def get_parameter_widget_multiple(init_val = param_cols, options = param_cols):\n",
    "    return widgets.SelectMultiple(\n",
    "        value = init_val,\n",
    "        options = param_cols,\n",
    "        height = 250)\n",
    "\n",
    "def get_condition_widget_multiple(init_val = condition_names):\n",
    "    return widgets.SelectMultiple(\n",
    "        value = init_val,\n",
    "        options = condition_names, \n",
    "        height = 300)\n",
    "\n",
    "def get_color_widget(init_val = colors['Blue & Red']):\n",
    "    return widgets.ToggleButtons(\n",
    "        value = init_val,\n",
    "        options = colors)"
   ]
  },
  {
   "cell_type": "markdown",
   "metadata": {},
   "source": [
    "---\n",
    "# Well Plate Results"
   ]
  },
  {
   "cell_type": "code",
   "execution_count": null,
   "metadata": {
    "collapsed": false
   },
   "outputs": [],
   "source": [
    "%matplotlib inline\n",
    "interact(plot_plates, \n",
    "         dataframe = fixed(wells),\n",
    "         parameter = get_parameter_widget(),\n",
    "         color = get_color_widget(),\n",
    "         show = widgets.ToggleButtons(options=['Values','Conditions','None']));"
   ]
  },
  {
   "cell_type": "markdown",
   "metadata": {},
   "source": [
    "---\n",
    "# How do conditions cluster together?"
   ]
  },
  {
   "cell_type": "code",
   "execution_count": null,
   "metadata": {
    "collapsed": false
   },
   "outputs": [],
   "source": [
    "normalized_condition_data = \\\n",
    "    pipe(conditions.set_index('Condition'),\n",
    "    normalize_columns(fillna=True))\n",
    "\n",
    "#normalized_condition_data = normalized_condition_data.drop('Threshold',axis=1)\n",
    "    \n",
    "data_without_empty_params = normalized_condition_data.dropna(axis=1,how='all')"
   ]
  },
  {
   "cell_type": "code",
   "execution_count": null,
   "metadata": {
    "collapsed": false
   },
   "outputs": [],
   "source": [
    "params_without_data = sorted(set(normalized_condition_data.columns).difference(data_without_empty_params.columns))"
   ]
  },
  {
   "cell_type": "code",
   "execution_count": null,
   "metadata": {
    "collapsed": false,
    "scrolled": false
   },
   "outputs": [],
   "source": [
    "interact(matrix_tree, data = fixed(normalized_condition_data), color = get_color_widget());"
   ]
  },
  {
   "cell_type": "markdown",
   "metadata": {},
   "source": [
    "---\n",
    "# Heatmap subsets\n",
    "The last selection box allows you to show parameters that are missing data. They shouldn't really affect clustering."
   ]
  },
  {
   "cell_type": "code",
   "execution_count": null,
   "metadata": {
    "collapsed": false
   },
   "outputs": [],
   "source": [
    "def wrapper(conditions,features,color):\n",
    "    dataframe = normalized_condition_data.loc[list(conditions)][list(features)]\n",
    "    try: \n",
    "        matrix_tree(dataframe,color)\n",
    "    except:\n",
    "        print \"\\n\".join([\"-\"*50, \"Please select multiple features and conditions.\",\"-\"*50])\n",
    "\n",
    "interact(wrapper,\n",
    "         conditions = get_condition_widget_multiple(),\n",
    "         features = get_parameter_widget_multiple(),\n",
    "         color = get_color_widget());"
   ]
  },
  {
   "cell_type": "markdown",
   "metadata": {},
   "source": [
    "---\n",
    "# Parameter vs. Conditions"
   ]
  },
  {
   "cell_type": "code",
   "execution_count": null,
   "metadata": {
    "collapsed": false
   },
   "outputs": [],
   "source": [
    "def plot_dist(data,parameters):        \n",
    "    fig = plt.figure(num=None, figsize=(15, 7), dpi=100, facecolor='w', edgecolor='k')\n",
    "    \n",
    "    reshaped_data = pd.concat([add_col(data[['Condition',parameter]].rename(columns={parameter: 'Value'}),'Parameter',parameter) for parameter in parameters])\n",
    "    \n",
    "    sns.boxplot(x = 'Condition',\n",
    "                y = 'Value',\n",
    "                hue = 'Parameter',\n",
    "                data = reshaped_data,\n",
    "                order = sorted(data.Condition.unique()))    \n",
    "    \n",
    "#     plt.ylabel(parameter,fontsize=20)\n",
    "    plt.xlabel('Condition',fontsize=20)\n",
    "    plt.title('Distribution: ' + parameter,fontsize=20)\n",
    "    plt.tick_params(labelsize=10)\n",
    "    plt.xticks(rotation=30,ha='right')\n",
    "    mean = data[parameter].mean()\n",
    "    plt.gca().set_ylim(bottom=data[parameter].mean() * -0.5)"
   ]
  },
  {
   "cell_type": "code",
   "execution_count": null,
   "metadata": {
    "collapsed": true
   },
   "outputs": [],
   "source": [
    "def dist_wrapper(parameters,conditions):\n",
    "    conditions = list(conditions)\n",
    "    if list(parameters) == ['Cell Count']:\n",
    "        dataframe = thread_first(wells,\n",
    "                                 (filter_rows,'Condition',conditions))\n",
    "        plot_dist(dataframe,parameters)\n",
    "    else: \n",
    "        if 'Cell Count' in parameters:\n",
    "            print \"Ignoring cell count. Select it by itself if you want to see it.\"\n",
    "        dataframe = filter_rows(cells,'Condition',conditions)\n",
    "        plot_dist(dataframe,filter(lambda x: x != 'Cell Count',parameters))"
   ]
  },
  {
   "cell_type": "code",
   "execution_count": null,
   "metadata": {
    "collapsed": false
   },
   "outputs": [],
   "source": [
    "# def my_beeswarm(dataframe,method = \"center\"):\n",
    "#     cols = dataframe.columns.tolist()\n",
    "#     positions = np.array(range(len(cols)))\n",
    "#     beeswarm(dataframe.values.T,method=method,labels = cols,positions = positions)\n",
    "#     fig = plt.gcf()\n",
    "#     fig.set_size_inches(5,1)\n",
    "    \n",
    "# interact()"
   ]
  },
  {
   "cell_type": "code",
   "execution_count": null,
   "metadata": {
    "collapsed": false
   },
   "outputs": [],
   "source": [
    "interact(dist_wrapper,\n",
    "         parameters = get_parameter_widget_multiple(param_cols[:1]),\n",
    "         conditions = get_condition_widget_multiple());"
   ]
  },
  {
   "cell_type": "markdown",
   "metadata": {},
   "source": [
    "---\n",
    "# Compare conditions"
   ]
  },
  {
   "cell_type": "code",
   "execution_count": null,
   "metadata": {
    "collapsed": false
   },
   "outputs": [],
   "source": [
    "def compare_condition_dists(dataframe, conditions, parameters, bandwidth=0.1, shaded = True, clip_ends = False, scale='linear'):\n",
    "    n_rows = int(np.ceil(len(parameters)/3.0))\n",
    "    plt.figure(figsize=(20,4 * n_rows))\n",
    "    subs = gridspec.GridSpec(n_rows, 3) \n",
    "    plt.subplots_adjust(hspace=0.54,wspace=0.27)\n",
    "\n",
    "    for parameter,sub in zip(parameters,subs):\n",
    "        plt.subplot(sub)\n",
    "        param_bandwidth = bandwidth * dataframe[dataframe.Condition == conditions[0]][parameter].mean()\n",
    "        for condition in conditions:\n",
    "            data = dataframe[dataframe.Condition == condition][parameter]\n",
    "            kws = {\"shade\": shaded, \"bw\": param_bandwidth}\n",
    "            if clip_ends: \n",
    "                kws = assoc(kws,\"cut\",0)\n",
    "            sns.distplot(data, hist=False, kde_kws=kws,label=condition)\n",
    "            plt.legend(loc = 0,fontsize=8)\n",
    "        if scale == 'linear':\n",
    "            plt.xlim(left=0)\n",
    "        else:\n",
    "            plt.xscale('log')\n",
    "        plt.ylabel('Frequency')"
   ]
  },
  {
   "cell_type": "code",
   "execution_count": null,
   "metadata": {
    "collapsed": false
   },
   "outputs": [],
   "source": [
    "try:    \n",
    "    interact(compare_condition_dists,\n",
    "             dataframe = fixed(cells_with_phase),\n",
    "             conditions = widgets.SelectMultiple(options = condition_names_with_phase,height = 300),\n",
    "             parameters = widgets.SelectMultiple(options = param_cols,height = 300),\n",
    "             bandwidth = (0,0.2,0.01),\n",
    "             scale = widgets.ToggleButtons(options=['linear','log']));\n",
    "except ValueError: \n",
    "    raise Exception(\"Hmm. That didn't work. Maybe one of the conditions or parameters you selected doesn't have any data.\")"
   ]
  },
  {
   "cell_type": "markdown",
   "metadata": {},
   "source": [
    "---\n",
    "# Compare parameters"
   ]
  },
  {
   "cell_type": "code",
   "execution_count": null,
   "metadata": {
    "collapsed": true
   },
   "outputs": [],
   "source": [
    "def compare_parameter_dists(dataframe, conditions, parameters, bandwidth=0.1, shaded = True, clip_ends = False, scale='linear'):\n",
    "    n_rows = int(np.ceil(len(conditions)/3.0))\n",
    "    plt.figure(figsize=(20,4 * n_rows))\n",
    "    subs = gridspec.GridSpec(n_rows, 3) \n",
    "    plt.subplots_adjust(hspace=0.54,wspace=0.27)\n",
    "\n",
    "    for condition,sub in zip(conditions,subs):\n",
    "        plt.subplot(sub)\n",
    "        condition_bandwidth = bandwidth * dataframe[dataframe.Condition == condition][parameters[0]].mean()\n",
    "        for parameter in parameters:\n",
    "            data = dataframe[dataframe.Condition == condition][parameter]\n",
    "            kws = {\"shade\": shaded, \"bw\": condition_bandwidth}\n",
    "            if clip_ends: \n",
    "                kws = assoc(kws,\"cut\",0)\n",
    "            sns.distplot(data, hist=False, kde_kws=kws,label=parameter)\n",
    "            plt.legend(loc = 0,fontsize=8)\n",
    "        if scale == 'linear':\n",
    "            plt.xlim(left=0)\n",
    "        else:\n",
    "            plt.xscale('log')\n",
    "        plt.ylabel('Frequency')\n",
    "        plt.xlabel(condition)"
   ]
  },
  {
   "cell_type": "code",
   "execution_count": null,
   "metadata": {
    "collapsed": false
   },
   "outputs": [],
   "source": [
    "interact(compare_parameter_dists,\n",
    "         dataframe = fixed(cells_with_phase),\n",
    "         conditions = widgets.SelectMultiple(options = condition_names_with_phase,height = 300),\n",
    "         parameters = widgets.SelectMultiple(options = param_cols,height = 300),\n",
    "         bandwidth = (0,0.2,0.01),\n",
    "         scale = widgets.ToggleButtons(options=['linear','log']));"
   ]
  },
  {
   "cell_type": "code",
   "execution_count": null,
   "metadata": {
    "collapsed": true
   },
   "outputs": [],
   "source": [
    "def check_significance(data,control,comparisons,parameter):\n",
    "    conditions = thread_last(\n",
    "        data[['Condition',parameter]].groupby('Condition'),\n",
    "        (map,lambda group: (group[0],group[1][parameter].values)),\n",
    "        dict)\n",
    "    control_data = conditions[control]\n",
    "    results = [{'Condition':comparison,\n",
    "                'D (KS test)':ks_2samp(control_data,conditions[comparison])[0],\n",
    "                'P-value (KS test)': ks_2samp(control_data,conditions[comparison])[1],                \n",
    "                'P-value (Wilcoxon rank-sum)': ranksums(control_data,conditions[comparison])[1]} \\\n",
    "               for comparison in comparisons]\n",
    "    df = pd.DataFrame(results)\n",
    "    print \"Control: {}\".format(control)\n",
    "    display(df)\n",
    "    df.set_index('Condition').plot(kind = 'bar')\n",
    "    plt.title(\"Parameter: {}\".format(parameter))"
   ]
  },
  {
   "cell_type": "code",
   "execution_count": null,
   "metadata": {
    "collapsed": false
   },
   "outputs": [],
   "source": [
    "interact(\n",
    "    check_significance,\n",
    "    data = fixed(cells_with_phase),\n",
    "    control = widgets.Select(options = condition_names_with_phase, height = 300),\n",
    "    comparisons = widgets.SelectMultiple(options = condition_names_with_phase, height = 300),\n",
    "    parameter = widgets.Select(options = param_cols_without_cell_count, height = 300));"
   ]
  },
  {
   "cell_type": "markdown",
   "metadata": {},
   "source": [
    "---\n",
    "#How are different parameters related?"
   ]
  },
  {
   "cell_type": "code",
   "execution_count": null,
   "metadata": {
    "collapsed": false
   },
   "outputs": [],
   "source": [
    "def scatter(dataframe,cols):\n",
    "    scatter_matrix(dataframe[list(cols)], alpha=1, figsize=(20, 20), diagonal='kde');\n",
    "    \n",
    "interact(scatter, \n",
    "         dataframe = fixed(normalized_condition_data),\n",
    "         cols = widgets.SelectMultiple(\n",
    "            value = ['Cell Count'],\n",
    "            options = param_cols,\n",
    "            height=250));"
   ]
  },
  {
   "cell_type": "code",
   "execution_count": null,
   "metadata": {
    "collapsed": true
   },
   "outputs": [],
   "source": []
  },
  {
   "cell_type": "code",
   "execution_count": null,
   "metadata": {
    "collapsed": true
   },
   "outputs": [],
   "source": []
  },
  {
   "cell_type": "code",
   "execution_count": null,
   "metadata": {
    "collapsed": true
   },
   "outputs": [],
   "source": []
  },
  {
   "cell_type": "code",
   "execution_count": null,
   "metadata": {
    "collapsed": true
   },
   "outputs": [],
   "source": []
  }
 ],
 "metadata": {
  "kernelspec": {
   "display_name": "Python 2",
   "language": "python",
   "name": "python2"
  },
  "language_info": {
   "codemirror_mode": {
    "name": "ipython",
    "version": 2
   },
   "file_extension": ".py",
   "mimetype": "text/x-python",
   "name": "python",
   "nbconvert_exporter": "python",
   "pygments_lexer": "ipython2",
   "version": "2.7.8"
  }
 },
 "nbformat": 4,
 "nbformat_minor": 0
}
