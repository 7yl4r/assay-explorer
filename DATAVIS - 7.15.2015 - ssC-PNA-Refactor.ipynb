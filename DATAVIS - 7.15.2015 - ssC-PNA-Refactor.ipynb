{
 "cells": [
  {
   "cell_type": "code",
   "execution_count": 11,
   "metadata": {
    "collapsed": true
   },
   "outputs": [],
   "source": [
    "import pandas as pd\n",
    "from IPython.html.widgets import interact,fixed\n",
    "import IPython.html.widgets as widgets"
   ]
  },
  {
   "cell_type": "code",
   "execution_count": 17,
   "metadata": {
    "collapsed": true
   },
   "outputs": [],
   "source": [
    "filepath = '/notebooks/moldev-data/analyzed/07-15-2015/ssC PNA-Refactor.csv'\n",
    "raw = pd.read_csv(filepath)\n",
    "groups = ['Cell Type','Concentration']"
   ]
  },
  {
   "cell_type": "code",
   "execution_count": 59,
   "metadata": {
    "collapsed": true
   },
   "outputs": [],
   "source": [
    "# [Float] -> Float\n",
    "def get_threshold(intensity,bw = 0.35):\n",
    "    \"\"\" Given an array of intensities, find the intensity \n",
    "        threshold separating the G1 peak from the S/G2 peak. \"\"\"\n",
    "    kde_fit = gaussian_kde(intensity,bw)\n",
    "    x = np.linspace(min(intensity),\n",
    "                    max(intensity),\n",
    "                    1000)\n",
    "    y = kde_fit(x)\n",
    "    ddx = np.diff(np.diff(y)) # second derivative of fit\n",
    "    peak = np.argmin(ddx) # most frequent intensity \n",
    "    index = min([yi for yi in signal.argrelmax(ddx)[0] if yi > peak])\n",
    "    threshold = x[index]\n",
    "    return threshold"
   ]
  },
  {
   "cell_type": "code",
   "execution_count": 60,
   "metadata": {
    "collapsed": false
   },
   "outputs": [],
   "source": [
    "def f(data,params,intensity = 'NucIntegrated Intensity_Avg'):\n",
    "#     return thread_first(data,\n",
    "#                         (pd.groupby,list(params),\n",
    "#                         map(snd),\n",
    "#                         add_intensity_column)\n",
    "    \n",
    "#     [add_intensity_column(dataframe) for _,dataframe in data.groupby(list(params))]\n",
    "    return 1"
   ]
  },
  {
   "cell_type": "code",
   "execution_count": 61,
   "metadata": {
    "collapsed": false,
    "scrolled": false
   },
   "outputs": [],
   "source": [
    "x = interact(f,data = fixed(raw), params = widgets.SelectMultiple(options=groups,value=groups),intensity = fixed('NucIntegrated Intensity_Avg'));"
   ]
  },
  {
   "cell_type": "code",
   "execution_count": 35,
   "metadata": {
    "collapsed": false
   },
   "outputs": [],
   "source": [
    "test = pd.DataFrame(dict(a=[1,2,3,3],b=[10,20,30,30],c=[100,200,300,400]))"
   ]
  },
  {
   "cell_type": "code",
   "execution_count": 36,
   "metadata": {
    "collapsed": false
   },
   "outputs": [
    {
     "data": {
      "text/plain": [
       "[(1, 10, 100), (2, 20, 200), (3, 30, 300), (3, 30, 400)]"
      ]
     },
     "execution_count": 36,
     "metadata": {},
     "output_type": "execute_result"
    }
   ],
   "source": [
    "map(lambda x: x[0],test.groupby(['a','b','c']))"
   ]
  },
  {
   "cell_type": "code",
   "execution_count": null,
   "metadata": {
    "collapsed": true
   },
   "outputs": [],
   "source": []
  }
 ],
 "metadata": {
  "kernelspec": {
   "display_name": "Python 2",
   "language": "python",
   "name": "python2"
  },
  "language_info": {
   "codemirror_mode": {
    "name": "ipython",
    "version": 2
   },
   "file_extension": ".py",
   "mimetype": "text/x-python",
   "name": "python",
   "nbconvert_exporter": "python",
   "pygments_lexer": "ipython2",
   "version": "2.7.6"
  }
 },
 "nbformat": 4,
 "nbformat_minor": 0
}
