{
 "cells": [
  {
   "cell_type": "code",
   "execution_count": 7,
   "metadata": {
    "collapsed": true
   },
   "outputs": [],
   "source": [
    "from scipy.stats import ks_2samp"
   ]
  },
  {
   "cell_type": "code",
   "execution_count": 19,
   "metadata": {
    "collapsed": true
   },
   "outputs": [],
   "source": [
    "import numpy as np\n",
    "import pandas as pd"
   ]
  },
  {
   "cell_type": "code",
   "execution_count": 13,
   "metadata": {
    "collapsed": false
   },
   "outputs": [],
   "source": [
    "a = np.random.randn(100)\n",
    "b = np.random.randn(100)"
   ]
  },
  {
   "cell_type": "code",
   "execution_count": 14,
   "metadata": {
    "collapsed": false
   },
   "outputs": [
    {
     "data": {
      "text/plain": [
       "(0.09000000000000008, 0.79418377128477213)"
      ]
     },
     "execution_count": 14,
     "metadata": {},
     "output_type": "execute_result"
    }
   ],
   "source": [
    "ks_2samp(a,b)"
   ]
  },
  {
   "cell_type": "code",
   "execution_count": 15,
   "metadata": {
    "collapsed": true
   },
   "outputs": [],
   "source": [
    "from toolz import thread_last"
   ]
  },
  {
   "cell_type": "code",
   "execution_count": 25,
   "metadata": {
    "collapsed": true
   },
   "outputs": [],
   "source": [
    "def check_significance(data,control,comparisons,parameter):\n",
    "    conditions = thread_last(\n",
    "        data[['Condition',parameter]].groupby('Condition'),\n",
    "        (map,lambda group: (group[0],group[1][parameter].values)),\n",
    "        dict)\n",
    "    control_data = conditions[control]\n",
    "    results = [{'Condition':comparison,\n",
    "                'KS-value':comparison:ks_2samp(control_data,conditions[comparison])[0],\n",
    "                'P-value': ks_2samp(control_data,conditions[comparison])[1]} for comparison in comparisons]\n",
    "    return results"
   ]
  },
  {
   "cell_type": "code",
   "execution_count": 26,
   "metadata": {
    "collapsed": true
   },
   "outputs": [],
   "source": [
    "def f(m):\n",
    "    return np.random.randn(100) + m"
   ]
  },
  {
   "cell_type": "code",
   "execution_count": 27,
   "metadata": {
    "collapsed": true
   },
   "outputs": [],
   "source": [
    "groups = [('a',0),('b',0),('c',1),('d',2)]"
   ]
  },
  {
   "cell_type": "code",
   "execution_count": 28,
   "metadata": {
    "collapsed": true
   },
   "outputs": [],
   "source": [
    "test = pd.concat([pd.DataFrame({'Condition': name,'val':f(center)}) for name,center in groups])"
   ]
  },
  {
   "cell_type": "code",
   "execution_count": 29,
   "metadata": {
    "collapsed": false
   },
   "outputs": [
    {
     "data": {
      "text/plain": [
       "{'b': (0.099999999999999978, 0.67662014970024609),\n",
       " 'c': (0.33999999999999997, 1.2196949831581915e-05),\n",
       " 'd': (0.66000000000000003, 4.4758704977888082e-20)}"
      ]
     },
     "execution_count": 29,
     "metadata": {},
     "output_type": "execute_result"
    }
   ],
   "source": [
    "check_significance(test,'a',['b','c','d'],'val')"
   ]
  },
  {
   "cell_type": "code",
   "execution_count": null,
   "metadata": {
    "collapsed": true
   },
   "outputs": [],
   "source": [
    "def check_significance(data,control,comparisons,parameter):\n",
    "    conditions = thread_last(\n",
    "        data[['Condition',parameter]].groupby('Condition'),\n",
    "        (map,lambda group: (group[0],group[1][parameter].values)),\n",
    "        dict)\n",
    "    control_data = conditions[control]\n",
    "    results = {comparison:ks_2samp(control_data,conditions[comparison]) for comparison in comparisons}\n",
    "    return results\n",
    "\n",
    "interact(\n",
    "    check_significance,\n",
    "    data = fixed(),\n",
    "    control = conditions,\n",
    "    comparisons = multiselect conditions,\n",
    "    parameter = parameter)"
   ]
  }
 ],
 "metadata": {
  "kernelspec": {
   "display_name": "Python 2",
   "language": "python",
   "name": "python2"
  },
  "language_info": {
   "codemirror_mode": {
    "name": "ipython",
    "version": 2
   },
   "file_extension": ".py",
   "mimetype": "text/x-python",
   "name": "python",
   "nbconvert_exporter": "python",
   "pygments_lexer": "ipython2",
   "version": "2.7.6"
  }
 },
 "nbformat": 4,
 "nbformat_minor": 0
}
